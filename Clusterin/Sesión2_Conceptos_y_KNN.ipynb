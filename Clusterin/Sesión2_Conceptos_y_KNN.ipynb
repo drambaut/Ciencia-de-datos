{
  "cells": [
    {
      "cell_type": "markdown",
      "metadata": {
        "id": "Ltcxu19TC-Vx"
      },
      "source": [
        "# <FONT SIZE=4 COLOR=\"blue\"> 1. Objetivos de la sesión: </FONT>\n",
        "\n",
        "✔  En esta sesión revisaremos algunos conceptos fundamentales de Machine Learning como por ejemplo, conjunto de entrenamiento, conjunto de prueba, métrica de evaluación, validación cruzada (cross-validation),  hiperparámetros, entre otros.\n",
        "\n",
        "✔ Por otro lado, estudiaremos en qué consisten los problemas de clasificación y estudiaremos el primer modelo clásico de este tipo: los *k-vecinos más cercanos*. Además, estudiaremos la matriz de confusión y las diferentes métricas como el *recall* , *accuracy*, *precision*, etc.\n"
      ]
    },
    {
      "cell_type": "markdown",
      "metadata": {
        "id": "M0hu572uGmEi"
      },
      "source": [
        "# <FONT SIZE=4 COLOR=\"blue\"> 2. Conceptos básicos de Machine Learning 1 </FONT>\n",
        "\n",
        "En está sección revisaremos algunos conceptos básicos de machine learning en los cuales se profundizará en lo que sigue el script.\n",
        "\n",
        "<FONT SIZE=3 COLOR=\"green\"> a. Algoritmos de clasificación: </FONT> son conjuntos de técnicas de aprendizaje supervisado, en el cual el resultado que queremos predecir, es decir, las \"etiquetas\" (variable $\\mathbf{y}$), es discreto.\n",
        "\n",
        "<br>\n",
        "\n",
        "<FONT SIZE=3 COLOR=\"green\"> b. Variable Objetivo: </FONT> también denominada **variable de respuesta**. En un algoritmo de aprendizaje de máquina supervisado, es la variable que queremos predecir (por lo general, denotada como $\\mathbf{y}$). Esta puede ser discreta o continua. En el primer caso, da lugar a algoritmos de ***clasificación*** y en el segundo caso a algoritmos de ***regresión***.\n",
        "\n",
        "<br>\n",
        "\n",
        "<FONT SIZE=3 COLOR=\"green\"> c. Variable Predictora: </FONT> también denominada **features**, son las variables que se usarán para predecir la variable objetivo. Estas se denotan como\n",
        "\n",
        "$$\\mathbf{X}=\\{X_1,X_2, \\dots, X_n \\}$$\n",
        "\n",
        "<br>\n",
        "\n",
        "<FONT SIZE=3 COLOR=\"green\"> d. Conjunto de Entrenamiento: </FONT> es el subconjunto de registros que se selecciona para entrenar el modelo. Este conjunto consta de dos partes:\n",
        "\n",
        "- $X_{train}$ : conjunto de entrenamiento de los predictores o *features*.\n",
        "\n",
        "- $y_{train}$: conjunto de entrenamiento de la variable objetivo asociada al conjunto $X_{train}$.\n",
        "\n",
        "El conjunto de entrenamiento se selecciona de manera aleatoria y por lo general se toma el $70\\%$ , $75\\%$ y $80 \\%$.\n",
        "\n",
        "<br>\n",
        "\n",
        "<FONT SIZE=3 COLOR=\"green\"> e. Conjunto de Prueba o Validación: </FONT>: Es el subconjunto de registros que se selecciona para validar el modelo. Consta de dos partes:\n",
        "\n",
        "- $X_{test}$ : conjunto de validación de los predictores o *features*.\n",
        "\n",
        "- $y_{test}$: conjunto de validación de la variable objetivo asociada al conjunto $X_{test}$.\n",
        "\n",
        "El tamaño de este conjunto es el complemento de los conjuntos de entrenamiento.\n",
        "\n",
        "<br>\n",
        "\n",
        "<FONT SIZE=3 COLOR=\"green\"> f. Matriz de Confusión:</FONT> Herramienta usada para evaluar el rendimiento del modelo. (se ampliará más adelante las métricas y conceptos).\n",
        "\n",
        "<br>\n",
        "\n",
        "<FONT SIZE=3 COLOR=\"green\"> g. Hiperparámetro: </FONT> son variables de configuración externa al modelo original (general) que se pueden ajustar para entrenar el modelo. (revisaremos este concepto en cada modelo que se aborde en el curso)"
      ]
    },
    {
      "cell_type": "markdown",
      "metadata": {
        "id": "xiRS809_Wddp"
      },
      "source": [
        "\n",
        "<center><FONT SIZE=4 COLOR=\"BLUE\"> ESQUEMA GENERAL DE CLASIFICACIÓN EN MACHINE LEARNING </FONT></center>\n",
        "<br>\n",
        "<center><img src=\"https://github.com/Fabian830348/cursos/blob/master/Intro-knn/ESQUEMA%20DE%20CLASIFICACI%C3%93N.png?raw=true\" alt=\"centered image\" width=\"600\" height=\"350\"></center> <center><figcaption> <FONT SIZE=1 COLOR=\"black\"> Fuente: Elaboración propia  </FONT> <figcaption></center>\n",
        "<br>\n"
      ]
    },
    {
      "cell_type": "markdown",
      "metadata": {
        "id": "vH3ZDunlBbEg"
      },
      "source": [
        "Para el trabajo de esta sesión y las próximas usaremos\n",
        "\n",
        "***Python:***\n",
        "\n",
        "- Lenguaje de programación de alto nivel.\n",
        "\n",
        "- Tiene una curva de aprendizaje rápida. Es ideal para las personas que se están viculando al mundo del Machine Learning.\n",
        "\n",
        "- Es un lenguaje de propósito general y colaborativo, ya que es open source.\n",
        "\n",
        "- Python tiene módulos para carga de datos, visualización, estadísticas, procesamiento de lenguaje natural, procesamiento de imágenes, entre muchas más herramientas.  \n",
        "\n",
        "**[scikit-learn](https://scikit-learn.org/stable/)**\n",
        "\n",
        "- Es un proyecto de código abierto.\n",
        "\n",
        "- Contiene una serie de algoritmos de machine learning, así como documentación completa sobre cada algoritmo."
      ]
    },
    {
      "cell_type": "markdown",
      "metadata": {
        "id": "1DHSbIZWqkmw"
      },
      "source": [
        "Vamos a revisar la versión que tenemos en colab."
      ]
    },
    {
      "cell_type": "code",
      "execution_count": 1,
      "metadata": {
        "id": "1DU6T8DbF6p6"
      },
      "outputs": [
        {
          "name": "stdout",
          "output_type": "stream",
          "text": [
            "Python 3.10.6\n"
          ]
        }
      ],
      "source": [
        "## Version de python en Colab\n",
        "!python --version"
      ]
    },
    {
      "cell_type": "markdown",
      "metadata": {
        "id": "n4aA33OnqnwH"
      },
      "source": [
        "También revisamos la versión de *scikit-learn*"
      ]
    },
    {
      "cell_type": "code",
      "execution_count": 2,
      "metadata": {
        "id": "g82BqIAzIiuM"
      },
      "outputs": [
        {
          "name": "stdout",
          "output_type": "stream",
          "text": [
            "Name: scikit-learn\n",
            "Version: 1.4.2\n",
            "Summary: A set of python modules for machine learning and data mining\n",
            "Home-page: https://scikit-learn.org\n",
            "Author: \n",
            "Author-email: \n",
            "License: new BSD\n",
            "Location: c:\\users\\usuario\\appdata\\local\\programs\\python\\python310\\lib\\site-packages\n",
            "Requires: joblib, numpy, scipy, threadpoolctl\n",
            "Required-by: \n"
          ]
        }
      ],
      "source": [
        "## Version scikit-learn\n",
        "!pip show scikit-learn"
      ]
    },
    {
      "cell_type": "markdown",
      "metadata": {
        "id": "AYn5w5oBqtzP"
      },
      "source": [
        "A continuación, revisaremos en detalle uno de los primeros algoritmos de machine learning y con este ilustraremos algunos conceptos y herramientas que aplican también para otros algortimos de clasificación."
      ]
    },
    {
      "cell_type": "markdown",
      "metadata": {
        "id": "0TnsrU_7kbgR"
      },
      "source": [
        "# <FONT SIZE=4 COLOR=\"blue\"> 3. Algoritmo de clasificación KNN : K-vecinos más cercanos </FONT>\n",
        "\n",
        "En esta sección revisaremos el algoritmo de clasificación ***KNN: k-nearest neigbors*** : K-vecinos más cercanos. A continuación, algunas observaciones del modelo.\n",
        "\n",
        "- Es uno de los algoritmos más sencillos de Machine Learning (a veces denominado de aprendizaje flojo).\n",
        "\n",
        "- Es un algoritmo de tipo supervisado\n",
        "\n",
        "- Utiliza todo el conjunto de datos para entrenar \"cada punto\" y requiere mucha memoria y recursos de cómputo.\n",
        "\n",
        "- Funciona bien para conjuntos de datos no tan grandes y sin tantas variables.\n"
      ]
    },
    {
      "cell_type": "markdown",
      "metadata": {
        "id": "z6UUUh63lb0P"
      },
      "source": [
        "## <FONT SIZE=4 COLOR=\"blue\"> 3.1 ¿En qué consiste? </FONT>\n",
        "\n",
        "Este algoritmo consiste en consiste en clasificar los valores de una variable categórica de acuerdo con los vecinos más cercanos. A continuación explicaremos el funcionamiento"
      ]
    },
    {
      "cell_type": "markdown",
      "metadata": {
        "id": "vcCknbLpmz51"
      },
      "source": [
        "1. Supongamos que queremos clasificar el cuadrado amarillo en las dos posibles clases.\n",
        "\n",
        "<br>\n",
        "<center><img src=\"https://github.com/Fabian830348/cursos/blob/master/Intro-knn/knn1.png?raw=true?\" alt=\"centered image\" width=\"600\" height=\"450\"></center> <center><figcaption> <FONT SIZE=1 COLOR=\"black\"> Fuente: Libro Guía  </FONT> <figcaption></center>\n",
        "\n",
        "\n"
      ]
    },
    {
      "cell_type": "markdown",
      "metadata": {
        "id": "Wa22mH3xnPJf"
      },
      "source": [
        "2. Por ejemplo, si tenemos otro valor de $k$ la clasificación puede cambiar.\n",
        "\n",
        "<br>\n",
        "<center><img src=\"https://github.com/Fabian830348/cursos/blob/master/Intro-knn/knn2.png?raw=true?\" alt=\"centered image\" width=\"600\" height=\"450\"></center> <center><figcaption> <FONT SIZE=1 COLOR=\"black\"> Fuente: Libro Guía  </FONT> <figcaption></center>\n",
        "\n"
      ]
    },
    {
      "cell_type": "markdown",
      "metadata": {
        "id": "Rr63K3NRoDx9"
      },
      "source": [
        "## <FONT SIZE=4 COLOR=\"blue\"> 3.2 Descripción del algoritmo: pseudocódigo </FONT>\n",
        "\n",
        "- Determinar el valor de $k$.\n",
        "\n",
        "- Calcular la distancia del punto a clasificar a todos los otros puntos.\n",
        "\n",
        "- Ordenar de manera ascendente las distancias.\n",
        "\n",
        "- Tomar los puntos más cercanos al punto a clasificar de acuerdo con el valor que le asignemos a $k$.\n",
        "\n",
        "- Contar cuántos puntos de cada clase están en la vecindad y definimos por mayoría.\n",
        "\n",
        "- Por ejemplo: Si k es 3 y tenemos\n",
        "\n",
        "   + Distancia 1 : 2.5 : clase a\n",
        "\n",
        "   + Distancia 2 : 2.51 : clase b\n",
        "\n",
        "   + Distancia 3 : 2.53 : clase a\n",
        "\n",
        "  Conclusión: El punto se clasifica en la clase a.\n",
        "\n",
        "En caso de que haya empate se pueden definir algunos criterios de desempate. Por ejemplo:\n",
        "\n",
        "  - la clase que contenga al vecino más cercano.\n",
        "  - la clase con la distancia media más pequeña."
      ]
    },
    {
      "cell_type": "markdown",
      "metadata": {
        "id": "uJOahxNMW7mZ"
      },
      "source": [
        "## <FONT SIZE=4 COLOR=\"blue\"> 3.3 Sobre el algoritmo </FONT>\n",
        "\n",
        "A continuación, algunos puntos importantes que se deben tener en cuenta sobre el algoritmo *knn*\n",
        "\n",
        "1. Observe que no se genera un modelo que sea consecuencia de un entrenamiento previo, sino que el aprendizaje se da en el mismo momento en el que se prueban los datos de validación. A este tipo de algoritmos se les denomina ***lazy learning methods***.\n",
        "\n",
        "2. Como utiliza todo el set de entrenamiento para calcular las distancias, se tiene un costo computacional alto.\n",
        "\n",
        "3. Es un algoritmo que da buenos resultados, pero es recomendable para conjuntos de datos no tan grandes.\n",
        "\n",
        "4. Es muy sensible al valor de $k$ y a la distancia seleccionada.\n",
        "\n",
        "5. Es importante escalar los datos."
      ]
    },
    {
      "cell_type": "markdown",
      "metadata": {
        "id": "E2oMMh1Goqyr"
      },
      "source": [
        "## <FONT SIZE=4 COLOR=\"blue\"> 3.4 Sobre las distancias </FONT>\n",
        "\n",
        "El algoritmo $knn$ está fundamentado en la distancia entre dos puntos. Si bien, una de las distancias más conocida es la distancia euclideana, existen otras distancias que se pueden usar para el algoritmo.\n",
        "\n",
        "## <FONT SIZE=3 COLOR=\"magenta\"> Distancia Euclideana </FONT>\n",
        "\n",
        "$$ \\left (\\sum \\limits_{i=1}^m (x_i-y_i)^2 \\right)^{1/2}$$\n",
        "\n",
        "Esta métrica se puede usar para variables con valores discretos o continuos en general.\n",
        "\n",
        "## <FONT SIZE=3 COLOR=\"magenta\"> Distancia de Manhattan</FONT>\n",
        "\n",
        "$$ \\sum \\limits_{i=1}^{m} |x_i-y_i|$$\n",
        "\n",
        "Observe que es más sencilla que la euclideana (tiene menos cálculos)\n",
        "\n",
        "<br>\n",
        "<center><img src=\"https://github.com/Fabian830348/cursos/blob/master/Intro-knn/knn3.png?raw=true?\" alt=\"centered image\" width=\"600\" height=\"450\"></center> <center><figcaption> <FONT SIZE=1 COLOR=\"black\"> Fuente: Elaboración propia  </FONT> <figcaption></center>\n",
        "\n",
        "La métrica euclideana y de Manhattan tienen una generalización que se denomina.\n",
        "\n",
        "## <FONT SIZE=3 COLOR=\"magenta\"> Distancia de Minkowski</FONT>\n",
        "\n",
        "$$ \\left (\\sum \\limits_{i=1}^m (x_i-y_i)^p \\right)^{1/p}$$\n",
        "\n",
        "## <FONT SIZE=3 COLOR=\"magenta\"> Distancia de Hamming</FONT>\n",
        "\n",
        "$$Distancia \\,\\, Hamming : \\begin{cases} 0 & \\text{si $x=y$} \\\\ 1 & \\text{si $x \\neq y$}   \\end{cases}$$\n",
        "\n",
        "Esta distancia es equivalente a la de Manhattan para variables binarias, es decir, que solo tienen ceros y unos\n",
        "\n",
        "$$ a = \\begin{pmatrix} 1 \\\\ 0 \\\\ 1 \\\\ 1 \\end{pmatrix}  \\qquad b = \\begin{pmatrix} 0 \\\\ 1 \\\\ 1 \\\\ 1 \\end{pmatrix}$$\n",
        "\n",
        "## <FONT SIZE=3 COLOR=\"magenta\"> Distancia Euclideana con pesos </FONT>\n",
        "\n",
        "$$ \\left (\\sum \\limits_{i=1}^m w_i(x_i-y_i)^2 \\right)^{1/2}$$\n",
        "\n",
        "donde los pesos resultan, por ejemplo, del escalamiento de los datos.\n",
        "\n"
      ]
    },
    {
      "cell_type": "markdown",
      "metadata": {
        "id": "Lypilljgelwo"
      },
      "source": [
        "## <FONT SIZE=4 COLOR=\"blue\"> 3.5 Sobre los valores de $k$ </FONT>\n",
        "\n",
        "Un parámetro muy importante en el algoritmo de *knn* es el valor de $k$.  Inicialmente, no hay una forma general de escogerlo, sin embargo\n",
        "\n",
        "- Si se toma un valor de $k$ muy pequeño se puede sobreajustar (overfitting).\n",
        "\n",
        "- Si el valor de $k$ es muy grande sucede lo contrario. Será más dificil clasificar.\n",
        "\n",
        "- Se recomienda **Tunear** (optimizar) el hiperparámetro $k$. Se dice hiperparámetro ya que es un parámetro que se utiliza para entrenar el modelo."
      ]
    },
    {
      "cell_type": "markdown",
      "metadata": {
        "id": "yKuq0-jjgcgl"
      },
      "source": [
        "## <FONT SIZE=4 COLOR=\"blue\"> 3.6 Sobre el escalamiento </FONT>\n",
        "\n",
        "El algoritmo *knn* está fundamentado en seleccionar mínimas distancias, en ese orden de ideas, observe lo siguiente.\n",
        "\n",
        "- Si se tiene una variable $X_1$ que varía en $[1,2]$ y otra variable $X_2$ que varía en $[1000, 2000]$. Al calcular distancias con los valores de estas variables $X_2$ dominará a $X_1$ que tiene valores más pequeños y como la algoritmo utiliza la distancia para clasificar entonces queda sesgado el resultado.\n",
        "\n",
        "Por lo anterior, se deben escalar las variables predictoras y en general se usan las siguientes dos funciones.\n",
        "\n",
        "## <FONT SIZE=3 COLOR=\"blue\"> StandardScaler </FONT>\n",
        "\n",
        "$$\\dfrac{X-\\mu}{\\sigma}$$\n",
        "\n",
        "\n",
        "## <FONT SIZE=3 COLOR=\"blue\"> MaxminScaler </FONT>\n",
        "\n",
        "$$\\dfrac{X-X_{min}}{X_{max}-X_{min}}$$\n",
        "\n",
        "\n",
        "\n"
      ]
    },
    {
      "cell_type": "markdown",
      "metadata": {
        "id": "dmBWtchOkxMQ"
      },
      "source": [
        "A continuación, revisaremos un ejemplo donde ilustraremos los conceptos, el código de programación y otros elementos importantes."
      ]
    },
    {
      "cell_type": "markdown",
      "metadata": {
        "id": "jU2O_Ocdk-MD"
      },
      "source": [
        "# <FONT SIZE=5 COLOR=\"blue\"> 4. Ejemplo Práctico </FONT>\n",
        "\n",
        "- En esta sección haremos un ejemplo práctico.\n",
        "\n",
        "- Iniciaremos indicando las librerías que debemos usar."
      ]
    },
    {
      "cell_type": "markdown",
      "metadata": {
        "id": "LQk9kTV1lZw0"
      },
      "source": [
        "## <FONT SIZE=4 COLOR=\"blue\"> 4.1 Librerías de trabajo </FONT>"
      ]
    },
    {
      "cell_type": "code",
      "execution_count": 1,
      "metadata": {
        "id": "fmJaik-Alf_S"
      },
      "outputs": [],
      "source": [
        "# Manipulación de data.frames\n",
        "import pandas as pd\n",
        "import numpy as np\n",
        "\n",
        "# Librerías para Gráficos\n",
        "import matplotlib.pyplot as plt\n",
        "import seaborn as sns\n",
        "import plotly.express as px\n",
        "%matplotlib inline\n",
        "plt.style.use(\"ggplot\")\n",
        "plt.rcParams[\"figure.figsize\"] = (15,6)\n",
        "\n",
        "# Librerías para datos de entrenamiento y prueba\n",
        "from sklearn.model_selection    import train_test_split\n",
        "\n",
        "# Para preprocesamiento\n",
        "from sklearn.preprocessing      import StandardScaler, MinMaxScaler\n",
        "\n",
        "# Para aplicar k-nearest neiborg\n",
        "from sklearn.neighbors          import KNeighborsClassifier\n",
        "\n",
        "# Métricas de evaluación\n",
        "from sklearn.metrics            import confusion_matrix, ConfusionMatrixDisplay, classification_report\n",
        "from sklearn.metrics            import accuracy_score, precision_score, recall_score, f1_score\n",
        "\n",
        "# Optimización de hiperparámetros\n",
        "from sklearn.model_selection    import GridSearchCV, RandomizedSearchCV\n",
        "\n",
        "# Para ignorar los warnings\n",
        "import warnings\n",
        "warnings.filterwarnings(\"ignore\")"
      ]
    },
    {
      "cell_type": "markdown",
      "metadata": {
        "id": "HkINXW4WmU5O"
      },
      "source": [
        "## <FONT SIZE=4 COLOR=\"blue\"> 4.2 Contexto del problema </FONT>\n",
        "\n",
        "Vamos a considerar un conjunto de datos de *kaggle* que se pueden encontrar en este link:  [DATOS 📰](https://www.kaggle.com/datasets/uciml/breast-cancer-wisconsin-data?resource=download)\n",
        "\n",
        "**Acerca del conjunto de datos**\n",
        "\n",
        "Las características se calculan a partir de una imagen digitalizada de una aspiración con aguja fina (FNA) de una masa mamaria. Describen características de los núcleos celulares presentes en la imagen.\n",
        "\n",
        "<br>\n",
        "<center><img src=\"https://healthdataminer.com/wp-content/uploads/2019/11/celulas-palomas.png?raw=true\" alt=\"centered image\" width=\"600\" height=\"450\"></center> <center><figcaption> <FONT SIZE=1 COLOR=\"black\"> Fuente: https://healthdataminer.com/analitica-en-accion/modelos-no-supervisados-en-salud-clusterizando-celulas/ </FONT> <figcaption></center>\n",
        "\n",
        "En el espacio tridimensional es el descrito en: [KP Bennett y OL Mangasarian: \"Robust Linear Programming Discrimination of Two Linearly Inseparable Sets\", Optimization Methods and Software 1, 1992, 23-34].\n",
        "\n",
        "Información de atributos:\n",
        "\n",
        "1) Número de identificación\n",
        "\n",
        "2) Diagnóstico (M = maligno, B = benigno)\n",
        "\n",
        "3-32). Se calculan diez características de valor real para cada núcleo celular:\n",
        "\n",
        "   - a) radio (media de las distancias desde el centro a los puntos del perímetro)\n",
        "   - b) textura (desviación estándar de los valores de la escala de grises)\n",
        "   - c) perímetro\n",
        "   - d) área\n",
        "   - e) uniformidad (variación local en las longitudes del radio)\n",
        "   - f) compacidad (perímetro^2 / área - 1.0)\n",
        "   - g) concavidad (severidad de las porciones cóncavas del contorno)\n",
        "   - h) puntos cóncavos (número de porciones cóncavas del contorno)\n",
        "   - i) simetría\n",
        "   - j) dimensión fractal (\"aproximación de la línea de costa\" - 1)\n",
        "\n",
        "La media, el error estándar y el \"peor\" o mayor (media de los tres\n",
        "valores más grandes) de estas características se calcularon para cada imagen, lo que resultó en 30 características. Por ejemplo, el campo 3 es *Mean Radius*, el campo 13 es *Radius SE*, el campo 23 es *Worst Radius*.\n",
        "\n",
        "- Todos los valores de características se recodifican con cuatro dígitos significativos.\n",
        "\n",
        "- Faltan valores de atributo: ninguno\n",
        "\n",
        "- Distribución de clases: 357 benignos, 212 malignos\n",
        "\n",
        "**Objetivo del ejercicio:** Determinar si una mujer tiene un diagnóstico de tumor maligno o benigno de acuerdo con una serie de valores de las características presentes en las imágenes celulares.\n"
      ]
    },
    {
      "cell_type": "markdown",
      "metadata": {
        "id": "gvKTG0D5pHv9"
      },
      "source": [
        "## <FONT SIZE=4 COLOR=\"blue\"> 4.4 Importar los datos </FONT>\n",
        "\n",
        "Vamos a traer los datos del GitHub de la siguiente manera."
      ]
    },
    {
      "cell_type": "markdown",
      "metadata": {
        "id": "59MSJIyYolvs"
      },
      "source": [
        "Lo primero que haremos es importar los datos que están en el siguiente link o pueden ser descargados de la página de Kaggle."
      ]
    },
    {
      "cell_type": "code",
      "execution_count": 2,
      "metadata": {
        "id": "QzitPzU3ossX"
      },
      "outputs": [],
      "source": [
        "url =\"https://raw.githubusercontent.com/Fabian830348/Bases_Datos/master/cancer_clasificacion.csv\""
      ]
    },
    {
      "cell_type": "code",
      "execution_count": 3,
      "metadata": {
        "id": "nD9jTcmSox7S"
      },
      "outputs": [],
      "source": [
        "cancer = pd.read_csv(url, sep = \";\")"
      ]
    },
    {
      "cell_type": "code",
      "execution_count": 4,
      "metadata": {
        "colab": {
          "base_uri": "https://localhost:8080/",
          "height": 336
        },
        "id": "_XQezyG4-cpY",
        "outputId": "c4feff0d-1fc5-44c3-8ea4-fe2051f2dc0a"
      },
      "outputs": [
        {
          "data": {
            "text/html": [
              "<div>\n",
              "<style scoped>\n",
              "    .dataframe tbody tr th:only-of-type {\n",
              "        vertical-align: middle;\n",
              "    }\n",
              "\n",
              "    .dataframe tbody tr th {\n",
              "        vertical-align: top;\n",
              "    }\n",
              "\n",
              "    .dataframe thead th {\n",
              "        text-align: right;\n",
              "    }\n",
              "</style>\n",
              "<table border=\"1\" class=\"dataframe\">\n",
              "  <thead>\n",
              "    <tr style=\"text-align: right;\">\n",
              "      <th></th>\n",
              "      <th>id</th>\n",
              "      <th>diagnosis</th>\n",
              "      <th>radius_mean</th>\n",
              "      <th>texture_mean</th>\n",
              "      <th>perimeter_mean</th>\n",
              "      <th>area_mean</th>\n",
              "      <th>smoothness_mean</th>\n",
              "      <th>compactness_mean</th>\n",
              "      <th>concavity_mean</th>\n",
              "      <th>concave points_mean</th>\n",
              "      <th>...</th>\n",
              "      <th>radius_worst</th>\n",
              "      <th>texture_worst</th>\n",
              "      <th>perimeter_worst</th>\n",
              "      <th>area_worst</th>\n",
              "      <th>smoothness_worst</th>\n",
              "      <th>compactness_worst</th>\n",
              "      <th>concavity_worst</th>\n",
              "      <th>concave points_worst</th>\n",
              "      <th>symmetry_worst</th>\n",
              "      <th>fractal_dimension_worst</th>\n",
              "    </tr>\n",
              "  </thead>\n",
              "  <tbody>\n",
              "    <tr>\n",
              "      <th>0</th>\n",
              "      <td>842302</td>\n",
              "      <td>M</td>\n",
              "      <td>17.99</td>\n",
              "      <td>10.38</td>\n",
              "      <td>122.80</td>\n",
              "      <td>1001.0</td>\n",
              "      <td>1.184</td>\n",
              "      <td>2.776</td>\n",
              "      <td>3.001</td>\n",
              "      <td>1.471</td>\n",
              "      <td>...</td>\n",
              "      <td>25.38</td>\n",
              "      <td>17.33</td>\n",
              "      <td>184.60</td>\n",
              "      <td>2019.0</td>\n",
              "      <td>1.622</td>\n",
              "      <td>6.656</td>\n",
              "      <td>7.119</td>\n",
              "      <td>2.654</td>\n",
              "      <td>4.601</td>\n",
              "      <td>1.189</td>\n",
              "    </tr>\n",
              "    <tr>\n",
              "      <th>1</th>\n",
              "      <td>842517</td>\n",
              "      <td>M</td>\n",
              "      <td>20.57</td>\n",
              "      <td>17.77</td>\n",
              "      <td>132.90</td>\n",
              "      <td>1326.0</td>\n",
              "      <td>8.474</td>\n",
              "      <td>7.864</td>\n",
              "      <td>869.000</td>\n",
              "      <td>7.017</td>\n",
              "      <td>...</td>\n",
              "      <td>24.99</td>\n",
              "      <td>23.41</td>\n",
              "      <td>158.80</td>\n",
              "      <td>1956.0</td>\n",
              "      <td>1.238</td>\n",
              "      <td>1.866</td>\n",
              "      <td>2.416</td>\n",
              "      <td>186.000</td>\n",
              "      <td>275.000</td>\n",
              "      <td>8.902</td>\n",
              "    </tr>\n",
              "    <tr>\n",
              "      <th>2</th>\n",
              "      <td>84300903</td>\n",
              "      <td>M</td>\n",
              "      <td>19.69</td>\n",
              "      <td>21.25</td>\n",
              "      <td>130.00</td>\n",
              "      <td>1203.0</td>\n",
              "      <td>1.096</td>\n",
              "      <td>1.599</td>\n",
              "      <td>1.974</td>\n",
              "      <td>1.279</td>\n",
              "      <td>...</td>\n",
              "      <td>23.57</td>\n",
              "      <td>25.53</td>\n",
              "      <td>152.50</td>\n",
              "      <td>1709.0</td>\n",
              "      <td>1.444</td>\n",
              "      <td>4.245</td>\n",
              "      <td>4.504</td>\n",
              "      <td>243.000</td>\n",
              "      <td>3.613</td>\n",
              "      <td>8.758</td>\n",
              "    </tr>\n",
              "    <tr>\n",
              "      <th>3</th>\n",
              "      <td>84348301</td>\n",
              "      <td>M</td>\n",
              "      <td>11.42</td>\n",
              "      <td>20.38</td>\n",
              "      <td>77.58</td>\n",
              "      <td>386.1</td>\n",
              "      <td>1.425</td>\n",
              "      <td>2.839</td>\n",
              "      <td>2.414</td>\n",
              "      <td>1.052</td>\n",
              "      <td>...</td>\n",
              "      <td>14.91</td>\n",
              "      <td>26.50</td>\n",
              "      <td>98.87</td>\n",
              "      <td>567.7</td>\n",
              "      <td>2.098</td>\n",
              "      <td>8.663</td>\n",
              "      <td>6.869</td>\n",
              "      <td>2.575</td>\n",
              "      <td>6.638</td>\n",
              "      <td>173.000</td>\n",
              "    </tr>\n",
              "    <tr>\n",
              "      <th>4</th>\n",
              "      <td>84358402</td>\n",
              "      <td>M</td>\n",
              "      <td>20.29</td>\n",
              "      <td>14.34</td>\n",
              "      <td>135.10</td>\n",
              "      <td>1297.0</td>\n",
              "      <td>1.003</td>\n",
              "      <td>1.328</td>\n",
              "      <td>198.000</td>\n",
              "      <td>1.043</td>\n",
              "      <td>...</td>\n",
              "      <td>22.54</td>\n",
              "      <td>16.67</td>\n",
              "      <td>152.20</td>\n",
              "      <td>1575.0</td>\n",
              "      <td>1.374</td>\n",
              "      <td>205.000</td>\n",
              "      <td>0.400</td>\n",
              "      <td>1.625</td>\n",
              "      <td>2.364</td>\n",
              "      <td>7.678</td>\n",
              "    </tr>\n",
              "    <tr>\n",
              "      <th>5</th>\n",
              "      <td>843786</td>\n",
              "      <td>M</td>\n",
              "      <td>12.45</td>\n",
              "      <td>15.70</td>\n",
              "      <td>82.57</td>\n",
              "      <td>477.1</td>\n",
              "      <td>1.278</td>\n",
              "      <td>0.170</td>\n",
              "      <td>1.578</td>\n",
              "      <td>8.089</td>\n",
              "      <td>...</td>\n",
              "      <td>15.47</td>\n",
              "      <td>23.75</td>\n",
              "      <td>103.40</td>\n",
              "      <td>741.6</td>\n",
              "      <td>1.791</td>\n",
              "      <td>5.249</td>\n",
              "      <td>5.355</td>\n",
              "      <td>1.741</td>\n",
              "      <td>3.985</td>\n",
              "      <td>1.244</td>\n",
              "    </tr>\n",
              "    <tr>\n",
              "      <th>6</th>\n",
              "      <td>844359</td>\n",
              "      <td>M</td>\n",
              "      <td>18.25</td>\n",
              "      <td>19.98</td>\n",
              "      <td>119.60</td>\n",
              "      <td>1040.0</td>\n",
              "      <td>9.463</td>\n",
              "      <td>109.000</td>\n",
              "      <td>1.127</td>\n",
              "      <td>74.000</td>\n",
              "      <td>...</td>\n",
              "      <td>22.88</td>\n",
              "      <td>27.66</td>\n",
              "      <td>153.20</td>\n",
              "      <td>1606.0</td>\n",
              "      <td>1.442</td>\n",
              "      <td>2.576</td>\n",
              "      <td>3.784</td>\n",
              "      <td>1.932</td>\n",
              "      <td>3.063</td>\n",
              "      <td>8.368</td>\n",
              "    </tr>\n",
              "  </tbody>\n",
              "</table>\n",
              "<p>7 rows × 32 columns</p>\n",
              "</div>"
            ],
            "text/plain": [
              "         id diagnosis  radius_mean  texture_mean  perimeter_mean  area_mean  \\\n",
              "0    842302         M        17.99         10.38          122.80     1001.0   \n",
              "1    842517         M        20.57         17.77          132.90     1326.0   \n",
              "2  84300903         M        19.69         21.25          130.00     1203.0   \n",
              "3  84348301         M        11.42         20.38           77.58      386.1   \n",
              "4  84358402         M        20.29         14.34          135.10     1297.0   \n",
              "5    843786         M        12.45         15.70           82.57      477.1   \n",
              "6    844359         M        18.25         19.98          119.60     1040.0   \n",
              "\n",
              "   smoothness_mean  compactness_mean  concavity_mean  concave points_mean  \\\n",
              "0            1.184             2.776           3.001                1.471   \n",
              "1            8.474             7.864         869.000                7.017   \n",
              "2            1.096             1.599           1.974                1.279   \n",
              "3            1.425             2.839           2.414                1.052   \n",
              "4            1.003             1.328         198.000                1.043   \n",
              "5            1.278             0.170           1.578                8.089   \n",
              "6            9.463           109.000           1.127               74.000   \n",
              "\n",
              "   ...  radius_worst  texture_worst  perimeter_worst  area_worst  \\\n",
              "0  ...         25.38          17.33           184.60      2019.0   \n",
              "1  ...         24.99          23.41           158.80      1956.0   \n",
              "2  ...         23.57          25.53           152.50      1709.0   \n",
              "3  ...         14.91          26.50            98.87       567.7   \n",
              "4  ...         22.54          16.67           152.20      1575.0   \n",
              "5  ...         15.47          23.75           103.40       741.6   \n",
              "6  ...         22.88          27.66           153.20      1606.0   \n",
              "\n",
              "   smoothness_worst  compactness_worst  concavity_worst  concave points_worst  \\\n",
              "0             1.622              6.656            7.119                 2.654   \n",
              "1             1.238              1.866            2.416               186.000   \n",
              "2             1.444              4.245            4.504               243.000   \n",
              "3             2.098              8.663            6.869                 2.575   \n",
              "4             1.374            205.000            0.400                 1.625   \n",
              "5             1.791              5.249            5.355                 1.741   \n",
              "6             1.442              2.576            3.784                 1.932   \n",
              "\n",
              "   symmetry_worst  fractal_dimension_worst  \n",
              "0           4.601                    1.189  \n",
              "1         275.000                    8.902  \n",
              "2           3.613                    8.758  \n",
              "3           6.638                  173.000  \n",
              "4           2.364                    7.678  \n",
              "5           3.985                    1.244  \n",
              "6           3.063                    8.368  \n",
              "\n",
              "[7 rows x 32 columns]"
            ]
          },
          "execution_count": 4,
          "metadata": {},
          "output_type": "execute_result"
        }
      ],
      "source": [
        "cancer.head(7)"
      ]
    },
    {
      "cell_type": "markdown",
      "metadata": {
        "id": "wlgRkB50rYvW"
      },
      "source": [
        "## <FONT SIZE=4 COLOR=\"blue\"> 4.5 Exploración de los datos </FONT>\n",
        "\n",
        "En esta sección exploraremos un poco los datos para entenderlos mejor"
      ]
    },
    {
      "cell_type": "code",
      "execution_count": null,
      "metadata": {
        "colab": {
          "base_uri": "https://localhost:8080/",
          "height": 304
        },
        "id": "WsazJFYir9_c",
        "outputId": "b2463003-8731-4fe1-b753-b958f3de0aae"
      },
      "outputs": [
        {
          "data": {
            "text/html": [
              "\n",
              "  <div id=\"df-6ace6e23-f049-49f0-a871-a7d28f437045\" class=\"colab-df-container\">\n",
              "    <div>\n",
              "<style scoped>\n",
              "    .dataframe tbody tr th:only-of-type {\n",
              "        vertical-align: middle;\n",
              "    }\n",
              "\n",
              "    .dataframe tbody tr th {\n",
              "        vertical-align: top;\n",
              "    }\n",
              "\n",
              "    .dataframe thead th {\n",
              "        text-align: right;\n",
              "    }\n",
              "</style>\n",
              "<table border=\"1\" class=\"dataframe\">\n",
              "  <thead>\n",
              "    <tr style=\"text-align: right;\">\n",
              "      <th></th>\n",
              "      <th>id</th>\n",
              "      <th>diagnosis</th>\n",
              "      <th>radius_mean</th>\n",
              "      <th>texture_mean</th>\n",
              "      <th>perimeter_mean</th>\n",
              "      <th>area_mean</th>\n",
              "      <th>smoothness_mean</th>\n",
              "      <th>compactness_mean</th>\n",
              "      <th>concavity_mean</th>\n",
              "      <th>concave points_mean</th>\n",
              "      <th>...</th>\n",
              "      <th>radius_worst</th>\n",
              "      <th>texture_worst</th>\n",
              "      <th>perimeter_worst</th>\n",
              "      <th>area_worst</th>\n",
              "      <th>smoothness_worst</th>\n",
              "      <th>compactness_worst</th>\n",
              "      <th>concavity_worst</th>\n",
              "      <th>concave points_worst</th>\n",
              "      <th>symmetry_worst</th>\n",
              "      <th>fractal_dimension_worst</th>\n",
              "    </tr>\n",
              "  </thead>\n",
              "  <tbody>\n",
              "    <tr>\n",
              "      <th>0</th>\n",
              "      <td>842302</td>\n",
              "      <td>M</td>\n",
              "      <td>17.99</td>\n",
              "      <td>10.38</td>\n",
              "      <td>122.80</td>\n",
              "      <td>1001.0</td>\n",
              "      <td>1.184</td>\n",
              "      <td>2.776</td>\n",
              "      <td>3.001</td>\n",
              "      <td>1.471</td>\n",
              "      <td>...</td>\n",
              "      <td>25.38</td>\n",
              "      <td>17.33</td>\n",
              "      <td>184.60</td>\n",
              "      <td>2019.0</td>\n",
              "      <td>1.622</td>\n",
              "      <td>6.656</td>\n",
              "      <td>7.119</td>\n",
              "      <td>2.654</td>\n",
              "      <td>4.601</td>\n",
              "      <td>1.189</td>\n",
              "    </tr>\n",
              "    <tr>\n",
              "      <th>1</th>\n",
              "      <td>842517</td>\n",
              "      <td>M</td>\n",
              "      <td>20.57</td>\n",
              "      <td>17.77</td>\n",
              "      <td>132.90</td>\n",
              "      <td>1326.0</td>\n",
              "      <td>8.474</td>\n",
              "      <td>7.864</td>\n",
              "      <td>869.000</td>\n",
              "      <td>7.017</td>\n",
              "      <td>...</td>\n",
              "      <td>24.99</td>\n",
              "      <td>23.41</td>\n",
              "      <td>158.80</td>\n",
              "      <td>1956.0</td>\n",
              "      <td>1.238</td>\n",
              "      <td>1.866</td>\n",
              "      <td>2.416</td>\n",
              "      <td>186.000</td>\n",
              "      <td>275.000</td>\n",
              "      <td>8.902</td>\n",
              "    </tr>\n",
              "    <tr>\n",
              "      <th>2</th>\n",
              "      <td>84300903</td>\n",
              "      <td>M</td>\n",
              "      <td>19.69</td>\n",
              "      <td>21.25</td>\n",
              "      <td>130.00</td>\n",
              "      <td>1203.0</td>\n",
              "      <td>1.096</td>\n",
              "      <td>1.599</td>\n",
              "      <td>1.974</td>\n",
              "      <td>1.279</td>\n",
              "      <td>...</td>\n",
              "      <td>23.57</td>\n",
              "      <td>25.53</td>\n",
              "      <td>152.50</td>\n",
              "      <td>1709.0</td>\n",
              "      <td>1.444</td>\n",
              "      <td>4.245</td>\n",
              "      <td>4.504</td>\n",
              "      <td>243.000</td>\n",
              "      <td>3.613</td>\n",
              "      <td>8.758</td>\n",
              "    </tr>\n",
              "    <tr>\n",
              "      <th>3</th>\n",
              "      <td>84348301</td>\n",
              "      <td>M</td>\n",
              "      <td>11.42</td>\n",
              "      <td>20.38</td>\n",
              "      <td>77.58</td>\n",
              "      <td>386.1</td>\n",
              "      <td>1.425</td>\n",
              "      <td>2.839</td>\n",
              "      <td>2.414</td>\n",
              "      <td>1.052</td>\n",
              "      <td>...</td>\n",
              "      <td>14.91</td>\n",
              "      <td>26.50</td>\n",
              "      <td>98.87</td>\n",
              "      <td>567.7</td>\n",
              "      <td>2.098</td>\n",
              "      <td>8.663</td>\n",
              "      <td>6.869</td>\n",
              "      <td>2.575</td>\n",
              "      <td>6.638</td>\n",
              "      <td>173.000</td>\n",
              "    </tr>\n",
              "    <tr>\n",
              "      <th>4</th>\n",
              "      <td>84358402</td>\n",
              "      <td>M</td>\n",
              "      <td>20.29</td>\n",
              "      <td>14.34</td>\n",
              "      <td>135.10</td>\n",
              "      <td>1297.0</td>\n",
              "      <td>1.003</td>\n",
              "      <td>1.328</td>\n",
              "      <td>198.000</td>\n",
              "      <td>1.043</td>\n",
              "      <td>...</td>\n",
              "      <td>22.54</td>\n",
              "      <td>16.67</td>\n",
              "      <td>152.20</td>\n",
              "      <td>1575.0</td>\n",
              "      <td>1.374</td>\n",
              "      <td>205.000</td>\n",
              "      <td>0.400</td>\n",
              "      <td>1.625</td>\n",
              "      <td>2.364</td>\n",
              "      <td>7.678</td>\n",
              "    </tr>\n",
              "    <tr>\n",
              "      <th>5</th>\n",
              "      <td>843786</td>\n",
              "      <td>M</td>\n",
              "      <td>12.45</td>\n",
              "      <td>15.70</td>\n",
              "      <td>82.57</td>\n",
              "      <td>477.1</td>\n",
              "      <td>1.278</td>\n",
              "      <td>0.170</td>\n",
              "      <td>1.578</td>\n",
              "      <td>8.089</td>\n",
              "      <td>...</td>\n",
              "      <td>15.47</td>\n",
              "      <td>23.75</td>\n",
              "      <td>103.40</td>\n",
              "      <td>741.6</td>\n",
              "      <td>1.791</td>\n",
              "      <td>5.249</td>\n",
              "      <td>5.355</td>\n",
              "      <td>1.741</td>\n",
              "      <td>3.985</td>\n",
              "      <td>1.244</td>\n",
              "    </tr>\n",
              "  </tbody>\n",
              "</table>\n",
              "<p>6 rows × 32 columns</p>\n",
              "</div>\n",
              "    <div class=\"colab-df-buttons\">\n",
              "\n",
              "  <div class=\"colab-df-container\">\n",
              "    <button class=\"colab-df-convert\" onclick=\"convertToInteractive('df-6ace6e23-f049-49f0-a871-a7d28f437045')\"\n",
              "            title=\"Convert this dataframe to an interactive table.\"\n",
              "            style=\"display:none;\">\n",
              "\n",
              "  <svg xmlns=\"http://www.w3.org/2000/svg\" height=\"24px\" viewBox=\"0 -960 960 960\">\n",
              "    <path d=\"M120-120v-720h720v720H120Zm60-500h600v-160H180v160Zm220 220h160v-160H400v160Zm0 220h160v-160H400v160ZM180-400h160v-160H180v160Zm440 0h160v-160H620v160ZM180-180h160v-160H180v160Zm440 0h160v-160H620v160Z\"/>\n",
              "  </svg>\n",
              "    </button>\n",
              "\n",
              "  <style>\n",
              "    .colab-df-container {\n",
              "      display:flex;\n",
              "      gap: 12px;\n",
              "    }\n",
              "\n",
              "    .colab-df-convert {\n",
              "      background-color: #E8F0FE;\n",
              "      border: none;\n",
              "      border-radius: 50%;\n",
              "      cursor: pointer;\n",
              "      display: none;\n",
              "      fill: #1967D2;\n",
              "      height: 32px;\n",
              "      padding: 0 0 0 0;\n",
              "      width: 32px;\n",
              "    }\n",
              "\n",
              "    .colab-df-convert:hover {\n",
              "      background-color: #E2EBFA;\n",
              "      box-shadow: 0px 1px 2px rgba(60, 64, 67, 0.3), 0px 1px 3px 1px rgba(60, 64, 67, 0.15);\n",
              "      fill: #174EA6;\n",
              "    }\n",
              "\n",
              "    .colab-df-buttons div {\n",
              "      margin-bottom: 4px;\n",
              "    }\n",
              "\n",
              "    [theme=dark] .colab-df-convert {\n",
              "      background-color: #3B4455;\n",
              "      fill: #D2E3FC;\n",
              "    }\n",
              "\n",
              "    [theme=dark] .colab-df-convert:hover {\n",
              "      background-color: #434B5C;\n",
              "      box-shadow: 0px 1px 3px 1px rgba(0, 0, 0, 0.15);\n",
              "      filter: drop-shadow(0px 1px 2px rgba(0, 0, 0, 0.3));\n",
              "      fill: #FFFFFF;\n",
              "    }\n",
              "  </style>\n",
              "\n",
              "    <script>\n",
              "      const buttonEl =\n",
              "        document.querySelector('#df-6ace6e23-f049-49f0-a871-a7d28f437045 button.colab-df-convert');\n",
              "      buttonEl.style.display =\n",
              "        google.colab.kernel.accessAllowed ? 'block' : 'none';\n",
              "\n",
              "      async function convertToInteractive(key) {\n",
              "        const element = document.querySelector('#df-6ace6e23-f049-49f0-a871-a7d28f437045');\n",
              "        const dataTable =\n",
              "          await google.colab.kernel.invokeFunction('convertToInteractive',\n",
              "                                                    [key], {});\n",
              "        if (!dataTable) return;\n",
              "\n",
              "        const docLinkHtml = 'Like what you see? Visit the ' +\n",
              "          '<a target=\"_blank\" href=https://colab.research.google.com/notebooks/data_table.ipynb>data table notebook</a>'\n",
              "          + ' to learn more about interactive tables.';\n",
              "        element.innerHTML = '';\n",
              "        dataTable['output_type'] = 'display_data';\n",
              "        await google.colab.output.renderOutput(dataTable, element);\n",
              "        const docLink = document.createElement('div');\n",
              "        docLink.innerHTML = docLinkHtml;\n",
              "        element.appendChild(docLink);\n",
              "      }\n",
              "    </script>\n",
              "  </div>\n",
              "\n",
              "\n",
              "<div id=\"df-6436a17b-dc0f-492f-99cd-071a1bc07f77\">\n",
              "  <button class=\"colab-df-quickchart\" onclick=\"quickchart('df-6436a17b-dc0f-492f-99cd-071a1bc07f77')\"\n",
              "            title=\"Suggest charts.\"\n",
              "            style=\"display:none;\">\n",
              "\n",
              "<svg xmlns=\"http://www.w3.org/2000/svg\" height=\"24px\"viewBox=\"0 0 24 24\"\n",
              "     width=\"24px\">\n",
              "    <g>\n",
              "        <path d=\"M19 3H5c-1.1 0-2 .9-2 2v14c0 1.1.9 2 2 2h14c1.1 0 2-.9 2-2V5c0-1.1-.9-2-2-2zM9 17H7v-7h2v7zm4 0h-2V7h2v10zm4 0h-2v-4h2v4z\"/>\n",
              "    </g>\n",
              "</svg>\n",
              "  </button>\n",
              "\n",
              "<style>\n",
              "  .colab-df-quickchart {\n",
              "    background-color: #E8F0FE;\n",
              "    border: none;\n",
              "    border-radius: 50%;\n",
              "    cursor: pointer;\n",
              "    display: none;\n",
              "    fill: #1967D2;\n",
              "    height: 32px;\n",
              "    padding: 0 0 0 0;\n",
              "    width: 32px;\n",
              "  }\n",
              "\n",
              "  .colab-df-quickchart:hover {\n",
              "    background-color: #E2EBFA;\n",
              "    box-shadow: 0px 1px 2px rgba(60, 64, 67, 0.3), 0px 1px 3px 1px rgba(60, 64, 67, 0.15);\n",
              "    fill: #174EA6;\n",
              "  }\n",
              "\n",
              "  [theme=dark] .colab-df-quickchart {\n",
              "    background-color: #3B4455;\n",
              "    fill: #D2E3FC;\n",
              "  }\n",
              "\n",
              "  [theme=dark] .colab-df-quickchart:hover {\n",
              "    background-color: #434B5C;\n",
              "    box-shadow: 0px 1px 3px 1px rgba(0, 0, 0, 0.15);\n",
              "    filter: drop-shadow(0px 1px 2px rgba(0, 0, 0, 0.3));\n",
              "    fill: #FFFFFF;\n",
              "  }\n",
              "</style>\n",
              "\n",
              "  <script>\n",
              "    async function quickchart(key) {\n",
              "      const charts = await google.colab.kernel.invokeFunction(\n",
              "          'suggestCharts', [key], {});\n",
              "    }\n",
              "    (() => {\n",
              "      let quickchartButtonEl =\n",
              "        document.querySelector('#df-6436a17b-dc0f-492f-99cd-071a1bc07f77 button');\n",
              "      quickchartButtonEl.style.display =\n",
              "        google.colab.kernel.accessAllowed ? 'block' : 'none';\n",
              "    })();\n",
              "  </script>\n",
              "</div>\n",
              "    </div>\n",
              "  </div>\n"
            ],
            "text/plain": [
              "         id diagnosis  radius_mean  texture_mean  perimeter_mean  area_mean  \\\n",
              "0    842302         M        17.99         10.38          122.80     1001.0   \n",
              "1    842517         M        20.57         17.77          132.90     1326.0   \n",
              "2  84300903         M        19.69         21.25          130.00     1203.0   \n",
              "3  84348301         M        11.42         20.38           77.58      386.1   \n",
              "4  84358402         M        20.29         14.34          135.10     1297.0   \n",
              "5    843786         M        12.45         15.70           82.57      477.1   \n",
              "\n",
              "   smoothness_mean  compactness_mean  concavity_mean  concave points_mean  \\\n",
              "0            1.184             2.776           3.001                1.471   \n",
              "1            8.474             7.864         869.000                7.017   \n",
              "2            1.096             1.599           1.974                1.279   \n",
              "3            1.425             2.839           2.414                1.052   \n",
              "4            1.003             1.328         198.000                1.043   \n",
              "5            1.278             0.170           1.578                8.089   \n",
              "\n",
              "   ...  radius_worst  texture_worst  perimeter_worst  area_worst  \\\n",
              "0  ...         25.38          17.33           184.60      2019.0   \n",
              "1  ...         24.99          23.41           158.80      1956.0   \n",
              "2  ...         23.57          25.53           152.50      1709.0   \n",
              "3  ...         14.91          26.50            98.87       567.7   \n",
              "4  ...         22.54          16.67           152.20      1575.0   \n",
              "5  ...         15.47          23.75           103.40       741.6   \n",
              "\n",
              "   smoothness_worst  compactness_worst  concavity_worst  concave points_worst  \\\n",
              "0             1.622              6.656            7.119                 2.654   \n",
              "1             1.238              1.866            2.416               186.000   \n",
              "2             1.444              4.245            4.504               243.000   \n",
              "3             2.098              8.663            6.869                 2.575   \n",
              "4             1.374            205.000            0.400                 1.625   \n",
              "5             1.791              5.249            5.355                 1.741   \n",
              "\n",
              "   symmetry_worst  fractal_dimension_worst  \n",
              "0           4.601                    1.189  \n",
              "1         275.000                    8.902  \n",
              "2           3.613                    8.758  \n",
              "3           6.638                  173.000  \n",
              "4           2.364                    7.678  \n",
              "5           3.985                    1.244  \n",
              "\n",
              "[6 rows x 32 columns]"
            ]
          },
          "execution_count": 5,
          "metadata": {},
          "output_type": "execute_result"
        }
      ],
      "source": [
        "# revisaremos los primeros registros\n",
        "cancer.head(6)"
      ]
    },
    {
      "cell_type": "code",
      "execution_count": null,
      "metadata": {
        "colab": {
          "base_uri": "https://localhost:8080/"
        },
        "id": "aVAPnfpX2Rhv",
        "outputId": "f3b79e7c-7292-4c9a-cc85-597ab599fff5"
      },
      "outputs": [
        {
          "data": {
            "text/plain": [
              "Index(['id', 'diagnosis', 'radius_mean', 'texture_mean', 'perimeter_mean',\n",
              "       'area_mean', 'smoothness_mean', 'compactness_mean', 'concavity_mean',\n",
              "       'concave points_mean', 'symmetry_mean', 'fractal_dimension_mean',\n",
              "       'radius_se', 'texture_se', 'perimeter_se', 'area_se', 'smoothness_se',\n",
              "       'compactness_se', 'concavity_se', 'concave points_se', 'symmetry_se',\n",
              "       'fractal_dimension_se', 'radius_worst', 'texture_worst',\n",
              "       'perimeter_worst', 'area_worst', 'smoothness_worst',\n",
              "       'compactness_worst', 'concavity_worst', 'concave points_worst',\n",
              "       'symmetry_worst', 'fractal_dimension_worst'],\n",
              "      dtype='object')"
            ]
          },
          "execution_count": 6,
          "metadata": {},
          "output_type": "execute_result"
        }
      ],
      "source": [
        "# revisamos el nombre de las columnas\n",
        "cancer.columns"
      ]
    },
    {
      "cell_type": "code",
      "execution_count": null,
      "metadata": {
        "colab": {
          "base_uri": "https://localhost:8080/"
        },
        "id": "sS0D5shtuhz0",
        "outputId": "c7411a2b-0f30-492c-fad0-9c209ef23ed8"
      },
      "outputs": [
        {
          "data": {
            "text/plain": [
              "(569, 32)"
            ]
          },
          "execution_count": 7,
          "metadata": {},
          "output_type": "execute_result"
        }
      ],
      "source": [
        "# revisamos el tamaño de los datos\n",
        "cancer.shape"
      ]
    },
    {
      "cell_type": "code",
      "execution_count": null,
      "metadata": {
        "colab": {
          "base_uri": "https://localhost:8080/"
        },
        "id": "SWoKxW5ZulsV",
        "outputId": "db892d7c-a680-4f7d-a692-f150a45d66ce"
      },
      "outputs": [
        {
          "name": "stdout",
          "output_type": "stream",
          "text": [
            "<class 'pandas.core.frame.DataFrame'>\n",
            "RangeIndex: 569 entries, 0 to 568\n",
            "Data columns (total 32 columns):\n",
            " #   Column                   Non-Null Count  Dtype  \n",
            "---  ------                   --------------  -----  \n",
            " 0   id                       569 non-null    int64  \n",
            " 1   diagnosis                569 non-null    object \n",
            " 2   radius_mean              569 non-null    float64\n",
            " 3   texture_mean             569 non-null    float64\n",
            " 4   perimeter_mean           569 non-null    float64\n",
            " 5   area_mean                569 non-null    float64\n",
            " 6   smoothness_mean          569 non-null    float64\n",
            " 7   compactness_mean         569 non-null    float64\n",
            " 8   concavity_mean           569 non-null    float64\n",
            " 9   concave points_mean      569 non-null    float64\n",
            " 10  symmetry_mean            569 non-null    float64\n",
            " 11  fractal_dimension_mean   569 non-null    float64\n",
            " 12  radius_se                569 non-null    float64\n",
            " 13  texture_se               569 non-null    float64\n",
            " 14  perimeter_se             569 non-null    float64\n",
            " 15  area_se                  569 non-null    float64\n",
            " 16  smoothness_se            569 non-null    float64\n",
            " 17  compactness_se           569 non-null    float64\n",
            " 18  concavity_se             569 non-null    float64\n",
            " 19  concave points_se        569 non-null    float64\n",
            " 20  symmetry_se              569 non-null    float64\n",
            " 21  fractal_dimension_se     569 non-null    float64\n",
            " 22  radius_worst             569 non-null    float64\n",
            " 23  texture_worst            569 non-null    float64\n",
            " 24  perimeter_worst          569 non-null    float64\n",
            " 25  area_worst               569 non-null    float64\n",
            " 26  smoothness_worst         569 non-null    float64\n",
            " 27  compactness_worst        569 non-null    float64\n",
            " 28  concavity_worst          569 non-null    float64\n",
            " 29  concave points_worst     569 non-null    float64\n",
            " 30  symmetry_worst           569 non-null    float64\n",
            " 31  fractal_dimension_worst  569 non-null    float64\n",
            "dtypes: float64(30), int64(1), object(1)\n",
            "memory usage: 142.4+ KB\n"
          ]
        }
      ],
      "source": [
        "# revisamos si hay datos faltantes\n",
        "cancer.info()"
      ]
    },
    {
      "cell_type": "code",
      "execution_count": null,
      "metadata": {
        "colab": {
          "base_uri": "https://localhost:8080/"
        },
        "id": "-S4bBiiruqWf",
        "outputId": "5d04fdb8-9384-4740-8b61-76e784fd63fd"
      },
      "outputs": [
        {
          "data": {
            "text/plain": [
              "id                           int64\n",
              "diagnosis                   object\n",
              "radius_mean                float64\n",
              "texture_mean               float64\n",
              "perimeter_mean             float64\n",
              "area_mean                  float64\n",
              "smoothness_mean            float64\n",
              "compactness_mean           float64\n",
              "concavity_mean             float64\n",
              "concave points_mean        float64\n",
              "symmetry_mean              float64\n",
              "fractal_dimension_mean     float64\n",
              "radius_se                  float64\n",
              "texture_se                 float64\n",
              "perimeter_se               float64\n",
              "area_se                    float64\n",
              "smoothness_se              float64\n",
              "compactness_se             float64\n",
              "concavity_se               float64\n",
              "concave points_se          float64\n",
              "symmetry_se                float64\n",
              "fractal_dimension_se       float64\n",
              "radius_worst               float64\n",
              "texture_worst              float64\n",
              "perimeter_worst            float64\n",
              "area_worst                 float64\n",
              "smoothness_worst           float64\n",
              "compactness_worst          float64\n",
              "concavity_worst            float64\n",
              "concave points_worst       float64\n",
              "symmetry_worst             float64\n",
              "fractal_dimension_worst    float64\n",
              "dtype: object"
            ]
          },
          "execution_count": 9,
          "metadata": {},
          "output_type": "execute_result"
        }
      ],
      "source": [
        "# revisamos el tipo de variables\n",
        "cancer.dtypes"
      ]
    },
    {
      "cell_type": "markdown",
      "metadata": {
        "id": "r8A4zj7Ou5fI"
      },
      "source": [
        "La variable *id* de la identificación no nos aportará información relevante, entonces la eliminaremos"
      ]
    },
    {
      "cell_type": "code",
      "execution_count": 5,
      "metadata": {
        "id": "Nnw91_UGvB3H"
      },
      "outputs": [],
      "source": [
        "# usamos .drop , axis =1 para columnas e inplace =T para que sobreescriba\n",
        "cancer.drop(\"id\", axis = 1, inplace = True)"
      ]
    },
    {
      "cell_type": "markdown",
      "metadata": {
        "id": "S67xlSaGvQJH"
      },
      "source": [
        "Verificamos"
      ]
    },
    {
      "cell_type": "code",
      "execution_count": 6,
      "metadata": {
        "colab": {
          "base_uri": "https://localhost:8080/",
          "height": 273
        },
        "id": "VdiTQgt-vNWg",
        "outputId": "1c8859fb-9887-4d86-b1b6-14b3d77f7184"
      },
      "outputs": [
        {
          "data": {
            "text/html": [
              "<div>\n",
              "<style scoped>\n",
              "    .dataframe tbody tr th:only-of-type {\n",
              "        vertical-align: middle;\n",
              "    }\n",
              "\n",
              "    .dataframe tbody tr th {\n",
              "        vertical-align: top;\n",
              "    }\n",
              "\n",
              "    .dataframe thead th {\n",
              "        text-align: right;\n",
              "    }\n",
              "</style>\n",
              "<table border=\"1\" class=\"dataframe\">\n",
              "  <thead>\n",
              "    <tr style=\"text-align: right;\">\n",
              "      <th></th>\n",
              "      <th>diagnosis</th>\n",
              "      <th>radius_mean</th>\n",
              "      <th>texture_mean</th>\n",
              "      <th>perimeter_mean</th>\n",
              "      <th>area_mean</th>\n",
              "      <th>smoothness_mean</th>\n",
              "      <th>compactness_mean</th>\n",
              "      <th>concavity_mean</th>\n",
              "      <th>concave points_mean</th>\n",
              "      <th>symmetry_mean</th>\n",
              "      <th>...</th>\n",
              "      <th>radius_worst</th>\n",
              "      <th>texture_worst</th>\n",
              "      <th>perimeter_worst</th>\n",
              "      <th>area_worst</th>\n",
              "      <th>smoothness_worst</th>\n",
              "      <th>compactness_worst</th>\n",
              "      <th>concavity_worst</th>\n",
              "      <th>concave points_worst</th>\n",
              "      <th>symmetry_worst</th>\n",
              "      <th>fractal_dimension_worst</th>\n",
              "    </tr>\n",
              "  </thead>\n",
              "  <tbody>\n",
              "    <tr>\n",
              "      <th>0</th>\n",
              "      <td>M</td>\n",
              "      <td>17.99</td>\n",
              "      <td>10.38</td>\n",
              "      <td>122.80</td>\n",
              "      <td>1001.0</td>\n",
              "      <td>1.184</td>\n",
              "      <td>2.776</td>\n",
              "      <td>3.001</td>\n",
              "      <td>1.471</td>\n",
              "      <td>2.419</td>\n",
              "      <td>...</td>\n",
              "      <td>25.38</td>\n",
              "      <td>17.33</td>\n",
              "      <td>184.60</td>\n",
              "      <td>2019.0</td>\n",
              "      <td>1.622</td>\n",
              "      <td>6.656</td>\n",
              "      <td>7.119</td>\n",
              "      <td>2.654</td>\n",
              "      <td>4.601</td>\n",
              "      <td>1.189</td>\n",
              "    </tr>\n",
              "    <tr>\n",
              "      <th>1</th>\n",
              "      <td>M</td>\n",
              "      <td>20.57</td>\n",
              "      <td>17.77</td>\n",
              "      <td>132.90</td>\n",
              "      <td>1326.0</td>\n",
              "      <td>8.474</td>\n",
              "      <td>7.864</td>\n",
              "      <td>869.000</td>\n",
              "      <td>7.017</td>\n",
              "      <td>1.812</td>\n",
              "      <td>...</td>\n",
              "      <td>24.99</td>\n",
              "      <td>23.41</td>\n",
              "      <td>158.80</td>\n",
              "      <td>1956.0</td>\n",
              "      <td>1.238</td>\n",
              "      <td>1.866</td>\n",
              "      <td>2.416</td>\n",
              "      <td>186.000</td>\n",
              "      <td>275.000</td>\n",
              "      <td>8.902</td>\n",
              "    </tr>\n",
              "    <tr>\n",
              "      <th>2</th>\n",
              "      <td>M</td>\n",
              "      <td>19.69</td>\n",
              "      <td>21.25</td>\n",
              "      <td>130.00</td>\n",
              "      <td>1203.0</td>\n",
              "      <td>1.096</td>\n",
              "      <td>1.599</td>\n",
              "      <td>1.974</td>\n",
              "      <td>1.279</td>\n",
              "      <td>2.069</td>\n",
              "      <td>...</td>\n",
              "      <td>23.57</td>\n",
              "      <td>25.53</td>\n",
              "      <td>152.50</td>\n",
              "      <td>1709.0</td>\n",
              "      <td>1.444</td>\n",
              "      <td>4.245</td>\n",
              "      <td>4.504</td>\n",
              "      <td>243.000</td>\n",
              "      <td>3.613</td>\n",
              "      <td>8.758</td>\n",
              "    </tr>\n",
              "    <tr>\n",
              "      <th>3</th>\n",
              "      <td>M</td>\n",
              "      <td>11.42</td>\n",
              "      <td>20.38</td>\n",
              "      <td>77.58</td>\n",
              "      <td>386.1</td>\n",
              "      <td>1.425</td>\n",
              "      <td>2.839</td>\n",
              "      <td>2.414</td>\n",
              "      <td>1.052</td>\n",
              "      <td>2.597</td>\n",
              "      <td>...</td>\n",
              "      <td>14.91</td>\n",
              "      <td>26.50</td>\n",
              "      <td>98.87</td>\n",
              "      <td>567.7</td>\n",
              "      <td>2.098</td>\n",
              "      <td>8.663</td>\n",
              "      <td>6.869</td>\n",
              "      <td>2.575</td>\n",
              "      <td>6.638</td>\n",
              "      <td>173.000</td>\n",
              "    </tr>\n",
              "    <tr>\n",
              "      <th>4</th>\n",
              "      <td>M</td>\n",
              "      <td>20.29</td>\n",
              "      <td>14.34</td>\n",
              "      <td>135.10</td>\n",
              "      <td>1297.0</td>\n",
              "      <td>1.003</td>\n",
              "      <td>1.328</td>\n",
              "      <td>198.000</td>\n",
              "      <td>1.043</td>\n",
              "      <td>1.809</td>\n",
              "      <td>...</td>\n",
              "      <td>22.54</td>\n",
              "      <td>16.67</td>\n",
              "      <td>152.20</td>\n",
              "      <td>1575.0</td>\n",
              "      <td>1.374</td>\n",
              "      <td>205.000</td>\n",
              "      <td>0.400</td>\n",
              "      <td>1.625</td>\n",
              "      <td>2.364</td>\n",
              "      <td>7.678</td>\n",
              "    </tr>\n",
              "  </tbody>\n",
              "</table>\n",
              "<p>5 rows × 31 columns</p>\n",
              "</div>"
            ],
            "text/plain": [
              "  diagnosis  radius_mean  texture_mean  perimeter_mean  area_mean  \\\n",
              "0         M        17.99         10.38          122.80     1001.0   \n",
              "1         M        20.57         17.77          132.90     1326.0   \n",
              "2         M        19.69         21.25          130.00     1203.0   \n",
              "3         M        11.42         20.38           77.58      386.1   \n",
              "4         M        20.29         14.34          135.10     1297.0   \n",
              "\n",
              "   smoothness_mean  compactness_mean  concavity_mean  concave points_mean  \\\n",
              "0            1.184             2.776           3.001                1.471   \n",
              "1            8.474             7.864         869.000                7.017   \n",
              "2            1.096             1.599           1.974                1.279   \n",
              "3            1.425             2.839           2.414                1.052   \n",
              "4            1.003             1.328         198.000                1.043   \n",
              "\n",
              "   symmetry_mean  ...  radius_worst  texture_worst  perimeter_worst  \\\n",
              "0          2.419  ...         25.38          17.33           184.60   \n",
              "1          1.812  ...         24.99          23.41           158.80   \n",
              "2          2.069  ...         23.57          25.53           152.50   \n",
              "3          2.597  ...         14.91          26.50            98.87   \n",
              "4          1.809  ...         22.54          16.67           152.20   \n",
              "\n",
              "   area_worst  smoothness_worst  compactness_worst  concavity_worst  \\\n",
              "0      2019.0             1.622              6.656            7.119   \n",
              "1      1956.0             1.238              1.866            2.416   \n",
              "2      1709.0             1.444              4.245            4.504   \n",
              "3       567.7             2.098              8.663            6.869   \n",
              "4      1575.0             1.374            205.000            0.400   \n",
              "\n",
              "   concave points_worst  symmetry_worst  fractal_dimension_worst  \n",
              "0                 2.654           4.601                    1.189  \n",
              "1               186.000         275.000                    8.902  \n",
              "2               243.000           3.613                    8.758  \n",
              "3                 2.575           6.638                  173.000  \n",
              "4                 1.625           2.364                    7.678  \n",
              "\n",
              "[5 rows x 31 columns]"
            ]
          },
          "execution_count": 6,
          "metadata": {},
          "output_type": "execute_result"
        }
      ],
      "source": [
        "cancer.head(5)"
      ]
    },
    {
      "cell_type": "markdown",
      "metadata": {
        "id": "1Jr3dmAavSFh"
      },
      "source": [
        "Ahora, podemos sacar unas estadísticas generales de las variables cuantitativas."
      ]
    },
    {
      "cell_type": "code",
      "execution_count": null,
      "metadata": {
        "colab": {
          "base_uri": "https://localhost:8080/",
          "height": 367
        },
        "id": "l9fE-UkcvVMe",
        "outputId": "35429dbb-16c7-4cb9-eb3b-8e2ed3b868ca"
      },
      "outputs": [
        {
          "data": {
            "text/html": [
              "\n",
              "  <div id=\"df-6a316bff-afa3-45a2-93fd-c786be07bad4\" class=\"colab-df-container\">\n",
              "    <div>\n",
              "<style scoped>\n",
              "    .dataframe tbody tr th:only-of-type {\n",
              "        vertical-align: middle;\n",
              "    }\n",
              "\n",
              "    .dataframe tbody tr th {\n",
              "        vertical-align: top;\n",
              "    }\n",
              "\n",
              "    .dataframe thead th {\n",
              "        text-align: right;\n",
              "    }\n",
              "</style>\n",
              "<table border=\"1\" class=\"dataframe\">\n",
              "  <thead>\n",
              "    <tr style=\"text-align: right;\">\n",
              "      <th></th>\n",
              "      <th>radius_mean</th>\n",
              "      <th>texture_mean</th>\n",
              "      <th>perimeter_mean</th>\n",
              "      <th>area_mean</th>\n",
              "      <th>smoothness_mean</th>\n",
              "      <th>compactness_mean</th>\n",
              "      <th>concavity_mean</th>\n",
              "      <th>concave points_mean</th>\n",
              "      <th>symmetry_mean</th>\n",
              "      <th>fractal_dimension_mean</th>\n",
              "      <th>...</th>\n",
              "      <th>radius_worst</th>\n",
              "      <th>texture_worst</th>\n",
              "      <th>perimeter_worst</th>\n",
              "      <th>area_worst</th>\n",
              "      <th>smoothness_worst</th>\n",
              "      <th>compactness_worst</th>\n",
              "      <th>concavity_worst</th>\n",
              "      <th>concave points_worst</th>\n",
              "      <th>symmetry_worst</th>\n",
              "      <th>fractal_dimension_worst</th>\n",
              "    </tr>\n",
              "  </thead>\n",
              "  <tbody>\n",
              "    <tr>\n",
              "      <th>count</th>\n",
              "      <td>569.000000</td>\n",
              "      <td>569.000000</td>\n",
              "      <td>569.000000</td>\n",
              "      <td>569.000000</td>\n",
              "      <td>569.000000</td>\n",
              "      <td>569.000000</td>\n",
              "      <td>569.00000</td>\n",
              "      <td>569.000000</td>\n",
              "      <td>569.000000</td>\n",
              "      <td>569.000000</td>\n",
              "      <td>...</td>\n",
              "      <td>569.000000</td>\n",
              "      <td>569.000000</td>\n",
              "      <td>569.000000</td>\n",
              "      <td>569.000000</td>\n",
              "      <td>569.000000</td>\n",
              "      <td>569.000000</td>\n",
              "      <td>569.000000</td>\n",
              "      <td>569.000000</td>\n",
              "      <td>569.000000</td>\n",
              "      <td>569.000000</td>\n",
              "    </tr>\n",
              "    <tr>\n",
              "      <th>mean</th>\n",
              "      <td>14.127292</td>\n",
              "      <td>19.289649</td>\n",
              "      <td>91.969033</td>\n",
              "      <td>654.889104</td>\n",
              "      <td>53.418260</td>\n",
              "      <td>28.886329</td>\n",
              "      <td>40.97464</td>\n",
              "      <td>36.058367</td>\n",
              "      <td>18.432831</td>\n",
              "      <td>64.298601</td>\n",
              "      <td>...</td>\n",
              "      <td>16.269190</td>\n",
              "      <td>25.677223</td>\n",
              "      <td>107.261213</td>\n",
              "      <td>880.583128</td>\n",
              "      <td>14.057726</td>\n",
              "      <td>33.590564</td>\n",
              "      <td>39.535367</td>\n",
              "      <td>43.891974</td>\n",
              "      <td>32.661968</td>\n",
              "      <td>56.040787</td>\n",
              "    </tr>\n",
              "    <tr>\n",
              "      <th>std</th>\n",
              "      <td>3.524049</td>\n",
              "      <td>4.301036</td>\n",
              "      <td>24.298981</td>\n",
              "      <td>351.914129</td>\n",
              "      <td>192.691499</td>\n",
              "      <td>117.510703</td>\n",
              "      <td>142.13157</td>\n",
              "      <td>123.109612</td>\n",
              "      <td>53.388748</td>\n",
              "      <td>182.029228</td>\n",
              "      <td>...</td>\n",
              "      <td>4.833242</td>\n",
              "      <td>6.146258</td>\n",
              "      <td>33.602542</td>\n",
              "      <td>569.356993</td>\n",
              "      <td>55.312800</td>\n",
              "      <td>114.565888</td>\n",
              "      <td>132.220929</td>\n",
              "      <td>154.494270</td>\n",
              "      <td>89.988802</td>\n",
              "      <td>190.731370</td>\n",
              "    </tr>\n",
              "    <tr>\n",
              "      <th>min</th>\n",
              "      <td>6.981000</td>\n",
              "      <td>9.710000</td>\n",
              "      <td>43.790000</td>\n",
              "      <td>143.500000</td>\n",
              "      <td>0.100000</td>\n",
              "      <td>0.060000</td>\n",
              "      <td>0.00000</td>\n",
              "      <td>0.000000</td>\n",
              "      <td>0.180000</td>\n",
              "      <td>0.060000</td>\n",
              "      <td>...</td>\n",
              "      <td>7.930000</td>\n",
              "      <td>12.020000</td>\n",
              "      <td>50.410000</td>\n",
              "      <td>185.200000</td>\n",
              "      <td>0.130000</td>\n",
              "      <td>0.100000</td>\n",
              "      <td>0.000000</td>\n",
              "      <td>0.000000</td>\n",
              "      <td>0.210000</td>\n",
              "      <td>0.120000</td>\n",
              "    </tr>\n",
              "    <tr>\n",
              "      <th>25%</th>\n",
              "      <td>11.700000</td>\n",
              "      <td>16.170000</td>\n",
              "      <td>75.170000</td>\n",
              "      <td>420.300000</td>\n",
              "      <td>1.137000</td>\n",
              "      <td>1.436000</td>\n",
              "      <td>1.68400</td>\n",
              "      <td>1.967000</td>\n",
              "      <td>1.632000</td>\n",
              "      <td>5.853000</td>\n",
              "      <td>...</td>\n",
              "      <td>13.010000</td>\n",
              "      <td>21.080000</td>\n",
              "      <td>84.110000</td>\n",
              "      <td>515.300000</td>\n",
              "      <td>1.223000</td>\n",
              "      <td>1.843000</td>\n",
              "      <td>1.916000</td>\n",
              "      <td>1.595000</td>\n",
              "      <td>2.527000</td>\n",
              "      <td>6.609000</td>\n",
              "    </tr>\n",
              "    <tr>\n",
              "      <th>50%</th>\n",
              "      <td>13.370000</td>\n",
              "      <td>18.840000</td>\n",
              "      <td>86.240000</td>\n",
              "      <td>551.100000</td>\n",
              "      <td>8.293000</td>\n",
              "      <td>4.458000</td>\n",
              "      <td>3.13600</td>\n",
              "      <td>3.515000</td>\n",
              "      <td>1.813000</td>\n",
              "      <td>6.232000</td>\n",
              "      <td>...</td>\n",
              "      <td>14.970000</td>\n",
              "      <td>25.410000</td>\n",
              "      <td>97.660000</td>\n",
              "      <td>686.500000</td>\n",
              "      <td>1.377000</td>\n",
              "      <td>2.884000</td>\n",
              "      <td>3.469000</td>\n",
              "      <td>2.701000</td>\n",
              "      <td>2.871000</td>\n",
              "      <td>7.628000</td>\n",
              "    </tr>\n",
              "    <tr>\n",
              "      <th>75%</th>\n",
              "      <td>15.780000</td>\n",
              "      <td>21.800000</td>\n",
              "      <td>104.100000</td>\n",
              "      <td>782.700000</td>\n",
              "      <td>9.383000</td>\n",
              "      <td>7.542000</td>\n",
              "      <td>6.18100</td>\n",
              "      <td>7.583000</td>\n",
              "      <td>2.035000</td>\n",
              "      <td>6.899000</td>\n",
              "      <td>...</td>\n",
              "      <td>18.790000</td>\n",
              "      <td>29.720000</td>\n",
              "      <td>125.400000</td>\n",
              "      <td>1084.000000</td>\n",
              "      <td>1.562000</td>\n",
              "      <td>5.213000</td>\n",
              "      <td>6.121000</td>\n",
              "      <td>7.763000</td>\n",
              "      <td>3.313000</td>\n",
              "      <td>8.553000</td>\n",
              "    </tr>\n",
              "    <tr>\n",
              "      <th>max</th>\n",
              "      <td>28.110000</td>\n",
              "      <td>39.280000</td>\n",
              "      <td>188.500000</td>\n",
              "      <td>2501.000000</td>\n",
              "      <td>997.000000</td>\n",
              "      <td>958.000000</td>\n",
              "      <td>973.00000</td>\n",
              "      <td>974.000000</td>\n",
              "      <td>304.000000</td>\n",
              "      <td>898.000000</td>\n",
              "      <td>...</td>\n",
              "      <td>36.040000</td>\n",
              "      <td>49.540000</td>\n",
              "      <td>251.200000</td>\n",
              "      <td>4254.000000</td>\n",
              "      <td>997.000000</td>\n",
              "      <td>937.000000</td>\n",
              "      <td>942.000000</td>\n",
              "      <td>991.000000</td>\n",
              "      <td>544.000000</td>\n",
              "      <td>997.000000</td>\n",
              "    </tr>\n",
              "  </tbody>\n",
              "</table>\n",
              "<p>8 rows × 30 columns</p>\n",
              "</div>\n",
              "    <div class=\"colab-df-buttons\">\n",
              "\n",
              "  <div class=\"colab-df-container\">\n",
              "    <button class=\"colab-df-convert\" onclick=\"convertToInteractive('df-6a316bff-afa3-45a2-93fd-c786be07bad4')\"\n",
              "            title=\"Convert this dataframe to an interactive table.\"\n",
              "            style=\"display:none;\">\n",
              "\n",
              "  <svg xmlns=\"http://www.w3.org/2000/svg\" height=\"24px\" viewBox=\"0 -960 960 960\">\n",
              "    <path d=\"M120-120v-720h720v720H120Zm60-500h600v-160H180v160Zm220 220h160v-160H400v160Zm0 220h160v-160H400v160ZM180-400h160v-160H180v160Zm440 0h160v-160H620v160ZM180-180h160v-160H180v160Zm440 0h160v-160H620v160Z\"/>\n",
              "  </svg>\n",
              "    </button>\n",
              "\n",
              "  <style>\n",
              "    .colab-df-container {\n",
              "      display:flex;\n",
              "      gap: 12px;\n",
              "    }\n",
              "\n",
              "    .colab-df-convert {\n",
              "      background-color: #E8F0FE;\n",
              "      border: none;\n",
              "      border-radius: 50%;\n",
              "      cursor: pointer;\n",
              "      display: none;\n",
              "      fill: #1967D2;\n",
              "      height: 32px;\n",
              "      padding: 0 0 0 0;\n",
              "      width: 32px;\n",
              "    }\n",
              "\n",
              "    .colab-df-convert:hover {\n",
              "      background-color: #E2EBFA;\n",
              "      box-shadow: 0px 1px 2px rgba(60, 64, 67, 0.3), 0px 1px 3px 1px rgba(60, 64, 67, 0.15);\n",
              "      fill: #174EA6;\n",
              "    }\n",
              "\n",
              "    .colab-df-buttons div {\n",
              "      margin-bottom: 4px;\n",
              "    }\n",
              "\n",
              "    [theme=dark] .colab-df-convert {\n",
              "      background-color: #3B4455;\n",
              "      fill: #D2E3FC;\n",
              "    }\n",
              "\n",
              "    [theme=dark] .colab-df-convert:hover {\n",
              "      background-color: #434B5C;\n",
              "      box-shadow: 0px 1px 3px 1px rgba(0, 0, 0, 0.15);\n",
              "      filter: drop-shadow(0px 1px 2px rgba(0, 0, 0, 0.3));\n",
              "      fill: #FFFFFF;\n",
              "    }\n",
              "  </style>\n",
              "\n",
              "    <script>\n",
              "      const buttonEl =\n",
              "        document.querySelector('#df-6a316bff-afa3-45a2-93fd-c786be07bad4 button.colab-df-convert');\n",
              "      buttonEl.style.display =\n",
              "        google.colab.kernel.accessAllowed ? 'block' : 'none';\n",
              "\n",
              "      async function convertToInteractive(key) {\n",
              "        const element = document.querySelector('#df-6a316bff-afa3-45a2-93fd-c786be07bad4');\n",
              "        const dataTable =\n",
              "          await google.colab.kernel.invokeFunction('convertToInteractive',\n",
              "                                                    [key], {});\n",
              "        if (!dataTable) return;\n",
              "\n",
              "        const docLinkHtml = 'Like what you see? Visit the ' +\n",
              "          '<a target=\"_blank\" href=https://colab.research.google.com/notebooks/data_table.ipynb>data table notebook</a>'\n",
              "          + ' to learn more about interactive tables.';\n",
              "        element.innerHTML = '';\n",
              "        dataTable['output_type'] = 'display_data';\n",
              "        await google.colab.output.renderOutput(dataTable, element);\n",
              "        const docLink = document.createElement('div');\n",
              "        docLink.innerHTML = docLinkHtml;\n",
              "        element.appendChild(docLink);\n",
              "      }\n",
              "    </script>\n",
              "  </div>\n",
              "\n",
              "\n",
              "<div id=\"df-32d72f9d-e3a8-49a2-a492-fd9dd5bc3ff2\">\n",
              "  <button class=\"colab-df-quickchart\" onclick=\"quickchart('df-32d72f9d-e3a8-49a2-a492-fd9dd5bc3ff2')\"\n",
              "            title=\"Suggest charts.\"\n",
              "            style=\"display:none;\">\n",
              "\n",
              "<svg xmlns=\"http://www.w3.org/2000/svg\" height=\"24px\"viewBox=\"0 0 24 24\"\n",
              "     width=\"24px\">\n",
              "    <g>\n",
              "        <path d=\"M19 3H5c-1.1 0-2 .9-2 2v14c0 1.1.9 2 2 2h14c1.1 0 2-.9 2-2V5c0-1.1-.9-2-2-2zM9 17H7v-7h2v7zm4 0h-2V7h2v10zm4 0h-2v-4h2v4z\"/>\n",
              "    </g>\n",
              "</svg>\n",
              "  </button>\n",
              "\n",
              "<style>\n",
              "  .colab-df-quickchart {\n",
              "    background-color: #E8F0FE;\n",
              "    border: none;\n",
              "    border-radius: 50%;\n",
              "    cursor: pointer;\n",
              "    display: none;\n",
              "    fill: #1967D2;\n",
              "    height: 32px;\n",
              "    padding: 0 0 0 0;\n",
              "    width: 32px;\n",
              "  }\n",
              "\n",
              "  .colab-df-quickchart:hover {\n",
              "    background-color: #E2EBFA;\n",
              "    box-shadow: 0px 1px 2px rgba(60, 64, 67, 0.3), 0px 1px 3px 1px rgba(60, 64, 67, 0.15);\n",
              "    fill: #174EA6;\n",
              "  }\n",
              "\n",
              "  [theme=dark] .colab-df-quickchart {\n",
              "    background-color: #3B4455;\n",
              "    fill: #D2E3FC;\n",
              "  }\n",
              "\n",
              "  [theme=dark] .colab-df-quickchart:hover {\n",
              "    background-color: #434B5C;\n",
              "    box-shadow: 0px 1px 3px 1px rgba(0, 0, 0, 0.15);\n",
              "    filter: drop-shadow(0px 1px 2px rgba(0, 0, 0, 0.3));\n",
              "    fill: #FFFFFF;\n",
              "  }\n",
              "</style>\n",
              "\n",
              "  <script>\n",
              "    async function quickchart(key) {\n",
              "      const charts = await google.colab.kernel.invokeFunction(\n",
              "          'suggestCharts', [key], {});\n",
              "    }\n",
              "    (() => {\n",
              "      let quickchartButtonEl =\n",
              "        document.querySelector('#df-32d72f9d-e3a8-49a2-a492-fd9dd5bc3ff2 button');\n",
              "      quickchartButtonEl.style.display =\n",
              "        google.colab.kernel.accessAllowed ? 'block' : 'none';\n",
              "    })();\n",
              "  </script>\n",
              "</div>\n",
              "    </div>\n",
              "  </div>\n"
            ],
            "text/plain": [
              "       radius_mean  texture_mean  perimeter_mean    area_mean  \\\n",
              "count   569.000000    569.000000      569.000000   569.000000   \n",
              "mean     14.127292     19.289649       91.969033   654.889104   \n",
              "std       3.524049      4.301036       24.298981   351.914129   \n",
              "min       6.981000      9.710000       43.790000   143.500000   \n",
              "25%      11.700000     16.170000       75.170000   420.300000   \n",
              "50%      13.370000     18.840000       86.240000   551.100000   \n",
              "75%      15.780000     21.800000      104.100000   782.700000   \n",
              "max      28.110000     39.280000      188.500000  2501.000000   \n",
              "\n",
              "       smoothness_mean  compactness_mean  concavity_mean  concave points_mean  \\\n",
              "count       569.000000        569.000000       569.00000           569.000000   \n",
              "mean         53.418260         28.886329        40.97464            36.058367   \n",
              "std         192.691499        117.510703       142.13157           123.109612   \n",
              "min           0.100000          0.060000         0.00000             0.000000   \n",
              "25%           1.137000          1.436000         1.68400             1.967000   \n",
              "50%           8.293000          4.458000         3.13600             3.515000   \n",
              "75%           9.383000          7.542000         6.18100             7.583000   \n",
              "max         997.000000        958.000000       973.00000           974.000000   \n",
              "\n",
              "       symmetry_mean  fractal_dimension_mean  ...  radius_worst  \\\n",
              "count     569.000000              569.000000  ...    569.000000   \n",
              "mean       18.432831               64.298601  ...     16.269190   \n",
              "std        53.388748              182.029228  ...      4.833242   \n",
              "min         0.180000                0.060000  ...      7.930000   \n",
              "25%         1.632000                5.853000  ...     13.010000   \n",
              "50%         1.813000                6.232000  ...     14.970000   \n",
              "75%         2.035000                6.899000  ...     18.790000   \n",
              "max       304.000000              898.000000  ...     36.040000   \n",
              "\n",
              "       texture_worst  perimeter_worst   area_worst  smoothness_worst  \\\n",
              "count     569.000000       569.000000   569.000000        569.000000   \n",
              "mean       25.677223       107.261213   880.583128         14.057726   \n",
              "std         6.146258        33.602542   569.356993         55.312800   \n",
              "min        12.020000        50.410000   185.200000          0.130000   \n",
              "25%        21.080000        84.110000   515.300000          1.223000   \n",
              "50%        25.410000        97.660000   686.500000          1.377000   \n",
              "75%        29.720000       125.400000  1084.000000          1.562000   \n",
              "max        49.540000       251.200000  4254.000000        997.000000   \n",
              "\n",
              "       compactness_worst  concavity_worst  concave points_worst  \\\n",
              "count         569.000000       569.000000            569.000000   \n",
              "mean           33.590564        39.535367             43.891974   \n",
              "std           114.565888       132.220929            154.494270   \n",
              "min             0.100000         0.000000              0.000000   \n",
              "25%             1.843000         1.916000              1.595000   \n",
              "50%             2.884000         3.469000              2.701000   \n",
              "75%             5.213000         6.121000              7.763000   \n",
              "max           937.000000       942.000000            991.000000   \n",
              "\n",
              "       symmetry_worst  fractal_dimension_worst  \n",
              "count      569.000000               569.000000  \n",
              "mean        32.661968                56.040787  \n",
              "std         89.988802               190.731370  \n",
              "min          0.210000                 0.120000  \n",
              "25%          2.527000                 6.609000  \n",
              "50%          2.871000                 7.628000  \n",
              "75%          3.313000                 8.553000  \n",
              "max        544.000000               997.000000  \n",
              "\n",
              "[8 rows x 30 columns]"
            ]
          },
          "execution_count": 12,
          "metadata": {},
          "output_type": "execute_result"
        }
      ],
      "source": [
        "cancer.describe()"
      ]
    },
    {
      "cell_type": "markdown",
      "metadata": {
        "id": "CSBahqcNu7t3"
      },
      "source": [
        "Observe que la variable **diagnosis** tiene dos categorías. M y B : Maligno y Benigno.\n",
        "\n",
        "- Vamos a codificar estas categorías y\n",
        "\n",
        "- Revisaremos la distribución de estas clases."
      ]
    },
    {
      "cell_type": "code",
      "execution_count": 7,
      "metadata": {
        "id": "KvQqfcT6vnLn"
      },
      "outputs": [],
      "source": [
        "# codificamos M como 1 y B como 0\n",
        "cancer[\"diagnosis\"] = cancer[\"diagnosis\"].replace({ \"M\": 1 , \"B\" : 0})"
      ]
    },
    {
      "cell_type": "code",
      "execution_count": 8,
      "metadata": {
        "colab": {
          "base_uri": "https://localhost:8080/"
        },
        "id": "dJoo5vP_wPF3",
        "outputId": "042ce8bd-1e1c-48d7-cedb-08762e594a15"
      },
      "outputs": [
        {
          "data": {
            "text/plain": [
              "diagnosis\n",
              "0    357\n",
              "1    212\n",
              "Name: count, dtype: int64"
            ]
          },
          "execution_count": 8,
          "metadata": {},
          "output_type": "execute_result"
        }
      ],
      "source": [
        "# La tabla de frecuencias la podemos hacer con\n",
        "cancer.diagnosis.value_counts()"
      ]
    },
    {
      "cell_type": "markdown",
      "metadata": {
        "id": "2Gt47Q8XxbHb"
      },
      "source": [
        "Convertimos a data.frame"
      ]
    },
    {
      "cell_type": "code",
      "execution_count": 9,
      "metadata": {
        "colab": {
          "base_uri": "https://localhost:8080/",
          "height": 112
        },
        "id": "e2E554e2xMzw",
        "outputId": "4c41b6f3-f474-488e-ab7b-c57155c29ada"
      },
      "outputs": [
        {
          "data": {
            "text/html": [
              "<div>\n",
              "<style scoped>\n",
              "    .dataframe tbody tr th:only-of-type {\n",
              "        vertical-align: middle;\n",
              "    }\n",
              "\n",
              "    .dataframe tbody tr th {\n",
              "        vertical-align: top;\n",
              "    }\n",
              "\n",
              "    .dataframe thead th {\n",
              "        text-align: right;\n",
              "    }\n",
              "</style>\n",
              "<table border=\"1\" class=\"dataframe\">\n",
              "  <thead>\n",
              "    <tr style=\"text-align: right;\">\n",
              "      <th></th>\n",
              "      <th>count</th>\n",
              "    </tr>\n",
              "    <tr>\n",
              "      <th>diagnosis</th>\n",
              "      <th></th>\n",
              "    </tr>\n",
              "  </thead>\n",
              "  <tbody>\n",
              "    <tr>\n",
              "      <th>0</th>\n",
              "      <td>357</td>\n",
              "    </tr>\n",
              "    <tr>\n",
              "      <th>1</th>\n",
              "      <td>212</td>\n",
              "    </tr>\n",
              "  </tbody>\n",
              "</table>\n",
              "</div>"
            ],
            "text/plain": [
              "           count\n",
              "diagnosis       \n",
              "0            357\n",
              "1            212"
            ]
          },
          "execution_count": 9,
          "metadata": {},
          "output_type": "execute_result"
        }
      ],
      "source": [
        "A=cancer.diagnosis.value_counts().to_frame()\n",
        "A"
      ]
    },
    {
      "cell_type": "markdown",
      "metadata": {
        "id": "hS0mIidmxVYL"
      },
      "source": [
        "Hacemos la gráfica de barras de las frecuencias"
      ]
    },
    {
      "cell_type": "code",
      "execution_count": 10,
      "metadata": {
        "colab": {
          "base_uri": "https://localhost:8080/",
          "height": 542
        },
        "id": "Exh_ruiQxBWE",
        "outputId": "6b1ca50b-136e-43d9-ff1f-dc8680677c05"
      },
      "outputs": [
        {
          "data": {
            "application/vnd.plotly.v1+json": {
              "config": {
                "plotlyServerURL": "https://plot.ly"
              },
              "data": [
                {
                  "alignmentgroup": "True",
                  "hovertemplate": "variable=count<br>diagnosis=%{x}<br>value=%{y}<extra></extra>",
                  "legendgroup": "count",
                  "marker": {
                    "color": "#636efa",
                    "pattern": {
                      "shape": ""
                    }
                  },
                  "name": "count",
                  "offsetgroup": "count",
                  "orientation": "v",
                  "showlegend": true,
                  "textposition": "auto",
                  "type": "bar",
                  "x": [
                    0,
                    1
                  ],
                  "xaxis": "x",
                  "y": [
                    357,
                    212
                  ],
                  "yaxis": "y"
                }
              ],
              "layout": {
                "barmode": "relative",
                "legend": {
                  "title": {
                    "text": "variable"
                  },
                  "tracegroupgap": 0
                },
                "margin": {
                  "t": 60
                },
                "template": {
                  "data": {
                    "bar": [
                      {
                        "error_x": {
                          "color": "#2a3f5f"
                        },
                        "error_y": {
                          "color": "#2a3f5f"
                        },
                        "marker": {
                          "line": {
                            "color": "#E5ECF6",
                            "width": 0.5
                          },
                          "pattern": {
                            "fillmode": "overlay",
                            "size": 10,
                            "solidity": 0.2
                          }
                        },
                        "type": "bar"
                      }
                    ],
                    "barpolar": [
                      {
                        "marker": {
                          "line": {
                            "color": "#E5ECF6",
                            "width": 0.5
                          },
                          "pattern": {
                            "fillmode": "overlay",
                            "size": 10,
                            "solidity": 0.2
                          }
                        },
                        "type": "barpolar"
                      }
                    ],
                    "carpet": [
                      {
                        "aaxis": {
                          "endlinecolor": "#2a3f5f",
                          "gridcolor": "white",
                          "linecolor": "white",
                          "minorgridcolor": "white",
                          "startlinecolor": "#2a3f5f"
                        },
                        "baxis": {
                          "endlinecolor": "#2a3f5f",
                          "gridcolor": "white",
                          "linecolor": "white",
                          "minorgridcolor": "white",
                          "startlinecolor": "#2a3f5f"
                        },
                        "type": "carpet"
                      }
                    ],
                    "choropleth": [
                      {
                        "colorbar": {
                          "outlinewidth": 0,
                          "ticks": ""
                        },
                        "type": "choropleth"
                      }
                    ],
                    "contour": [
                      {
                        "colorbar": {
                          "outlinewidth": 0,
                          "ticks": ""
                        },
                        "colorscale": [
                          [
                            0,
                            "#0d0887"
                          ],
                          [
                            0.1111111111111111,
                            "#46039f"
                          ],
                          [
                            0.2222222222222222,
                            "#7201a8"
                          ],
                          [
                            0.3333333333333333,
                            "#9c179e"
                          ],
                          [
                            0.4444444444444444,
                            "#bd3786"
                          ],
                          [
                            0.5555555555555556,
                            "#d8576b"
                          ],
                          [
                            0.6666666666666666,
                            "#ed7953"
                          ],
                          [
                            0.7777777777777778,
                            "#fb9f3a"
                          ],
                          [
                            0.8888888888888888,
                            "#fdca26"
                          ],
                          [
                            1,
                            "#f0f921"
                          ]
                        ],
                        "type": "contour"
                      }
                    ],
                    "contourcarpet": [
                      {
                        "colorbar": {
                          "outlinewidth": 0,
                          "ticks": ""
                        },
                        "type": "contourcarpet"
                      }
                    ],
                    "heatmap": [
                      {
                        "colorbar": {
                          "outlinewidth": 0,
                          "ticks": ""
                        },
                        "colorscale": [
                          [
                            0,
                            "#0d0887"
                          ],
                          [
                            0.1111111111111111,
                            "#46039f"
                          ],
                          [
                            0.2222222222222222,
                            "#7201a8"
                          ],
                          [
                            0.3333333333333333,
                            "#9c179e"
                          ],
                          [
                            0.4444444444444444,
                            "#bd3786"
                          ],
                          [
                            0.5555555555555556,
                            "#d8576b"
                          ],
                          [
                            0.6666666666666666,
                            "#ed7953"
                          ],
                          [
                            0.7777777777777778,
                            "#fb9f3a"
                          ],
                          [
                            0.8888888888888888,
                            "#fdca26"
                          ],
                          [
                            1,
                            "#f0f921"
                          ]
                        ],
                        "type": "heatmap"
                      }
                    ],
                    "heatmapgl": [
                      {
                        "colorbar": {
                          "outlinewidth": 0,
                          "ticks": ""
                        },
                        "colorscale": [
                          [
                            0,
                            "#0d0887"
                          ],
                          [
                            0.1111111111111111,
                            "#46039f"
                          ],
                          [
                            0.2222222222222222,
                            "#7201a8"
                          ],
                          [
                            0.3333333333333333,
                            "#9c179e"
                          ],
                          [
                            0.4444444444444444,
                            "#bd3786"
                          ],
                          [
                            0.5555555555555556,
                            "#d8576b"
                          ],
                          [
                            0.6666666666666666,
                            "#ed7953"
                          ],
                          [
                            0.7777777777777778,
                            "#fb9f3a"
                          ],
                          [
                            0.8888888888888888,
                            "#fdca26"
                          ],
                          [
                            1,
                            "#f0f921"
                          ]
                        ],
                        "type": "heatmapgl"
                      }
                    ],
                    "histogram": [
                      {
                        "marker": {
                          "pattern": {
                            "fillmode": "overlay",
                            "size": 10,
                            "solidity": 0.2
                          }
                        },
                        "type": "histogram"
                      }
                    ],
                    "histogram2d": [
                      {
                        "colorbar": {
                          "outlinewidth": 0,
                          "ticks": ""
                        },
                        "colorscale": [
                          [
                            0,
                            "#0d0887"
                          ],
                          [
                            0.1111111111111111,
                            "#46039f"
                          ],
                          [
                            0.2222222222222222,
                            "#7201a8"
                          ],
                          [
                            0.3333333333333333,
                            "#9c179e"
                          ],
                          [
                            0.4444444444444444,
                            "#bd3786"
                          ],
                          [
                            0.5555555555555556,
                            "#d8576b"
                          ],
                          [
                            0.6666666666666666,
                            "#ed7953"
                          ],
                          [
                            0.7777777777777778,
                            "#fb9f3a"
                          ],
                          [
                            0.8888888888888888,
                            "#fdca26"
                          ],
                          [
                            1,
                            "#f0f921"
                          ]
                        ],
                        "type": "histogram2d"
                      }
                    ],
                    "histogram2dcontour": [
                      {
                        "colorbar": {
                          "outlinewidth": 0,
                          "ticks": ""
                        },
                        "colorscale": [
                          [
                            0,
                            "#0d0887"
                          ],
                          [
                            0.1111111111111111,
                            "#46039f"
                          ],
                          [
                            0.2222222222222222,
                            "#7201a8"
                          ],
                          [
                            0.3333333333333333,
                            "#9c179e"
                          ],
                          [
                            0.4444444444444444,
                            "#bd3786"
                          ],
                          [
                            0.5555555555555556,
                            "#d8576b"
                          ],
                          [
                            0.6666666666666666,
                            "#ed7953"
                          ],
                          [
                            0.7777777777777778,
                            "#fb9f3a"
                          ],
                          [
                            0.8888888888888888,
                            "#fdca26"
                          ],
                          [
                            1,
                            "#f0f921"
                          ]
                        ],
                        "type": "histogram2dcontour"
                      }
                    ],
                    "mesh3d": [
                      {
                        "colorbar": {
                          "outlinewidth": 0,
                          "ticks": ""
                        },
                        "type": "mesh3d"
                      }
                    ],
                    "parcoords": [
                      {
                        "line": {
                          "colorbar": {
                            "outlinewidth": 0,
                            "ticks": ""
                          }
                        },
                        "type": "parcoords"
                      }
                    ],
                    "pie": [
                      {
                        "automargin": true,
                        "type": "pie"
                      }
                    ],
                    "scatter": [
                      {
                        "fillpattern": {
                          "fillmode": "overlay",
                          "size": 10,
                          "solidity": 0.2
                        },
                        "type": "scatter"
                      }
                    ],
                    "scatter3d": [
                      {
                        "line": {
                          "colorbar": {
                            "outlinewidth": 0,
                            "ticks": ""
                          }
                        },
                        "marker": {
                          "colorbar": {
                            "outlinewidth": 0,
                            "ticks": ""
                          }
                        },
                        "type": "scatter3d"
                      }
                    ],
                    "scattercarpet": [
                      {
                        "marker": {
                          "colorbar": {
                            "outlinewidth": 0,
                            "ticks": ""
                          }
                        },
                        "type": "scattercarpet"
                      }
                    ],
                    "scattergeo": [
                      {
                        "marker": {
                          "colorbar": {
                            "outlinewidth": 0,
                            "ticks": ""
                          }
                        },
                        "type": "scattergeo"
                      }
                    ],
                    "scattergl": [
                      {
                        "marker": {
                          "colorbar": {
                            "outlinewidth": 0,
                            "ticks": ""
                          }
                        },
                        "type": "scattergl"
                      }
                    ],
                    "scattermapbox": [
                      {
                        "marker": {
                          "colorbar": {
                            "outlinewidth": 0,
                            "ticks": ""
                          }
                        },
                        "type": "scattermapbox"
                      }
                    ],
                    "scatterpolar": [
                      {
                        "marker": {
                          "colorbar": {
                            "outlinewidth": 0,
                            "ticks": ""
                          }
                        },
                        "type": "scatterpolar"
                      }
                    ],
                    "scatterpolargl": [
                      {
                        "marker": {
                          "colorbar": {
                            "outlinewidth": 0,
                            "ticks": ""
                          }
                        },
                        "type": "scatterpolargl"
                      }
                    ],
                    "scatterternary": [
                      {
                        "marker": {
                          "colorbar": {
                            "outlinewidth": 0,
                            "ticks": ""
                          }
                        },
                        "type": "scatterternary"
                      }
                    ],
                    "surface": [
                      {
                        "colorbar": {
                          "outlinewidth": 0,
                          "ticks": ""
                        },
                        "colorscale": [
                          [
                            0,
                            "#0d0887"
                          ],
                          [
                            0.1111111111111111,
                            "#46039f"
                          ],
                          [
                            0.2222222222222222,
                            "#7201a8"
                          ],
                          [
                            0.3333333333333333,
                            "#9c179e"
                          ],
                          [
                            0.4444444444444444,
                            "#bd3786"
                          ],
                          [
                            0.5555555555555556,
                            "#d8576b"
                          ],
                          [
                            0.6666666666666666,
                            "#ed7953"
                          ],
                          [
                            0.7777777777777778,
                            "#fb9f3a"
                          ],
                          [
                            0.8888888888888888,
                            "#fdca26"
                          ],
                          [
                            1,
                            "#f0f921"
                          ]
                        ],
                        "type": "surface"
                      }
                    ],
                    "table": [
                      {
                        "cells": {
                          "fill": {
                            "color": "#EBF0F8"
                          },
                          "line": {
                            "color": "white"
                          }
                        },
                        "header": {
                          "fill": {
                            "color": "#C8D4E3"
                          },
                          "line": {
                            "color": "white"
                          }
                        },
                        "type": "table"
                      }
                    ]
                  },
                  "layout": {
                    "annotationdefaults": {
                      "arrowcolor": "#2a3f5f",
                      "arrowhead": 0,
                      "arrowwidth": 1
                    },
                    "autotypenumbers": "strict",
                    "coloraxis": {
                      "colorbar": {
                        "outlinewidth": 0,
                        "ticks": ""
                      }
                    },
                    "colorscale": {
                      "diverging": [
                        [
                          0,
                          "#8e0152"
                        ],
                        [
                          0.1,
                          "#c51b7d"
                        ],
                        [
                          0.2,
                          "#de77ae"
                        ],
                        [
                          0.3,
                          "#f1b6da"
                        ],
                        [
                          0.4,
                          "#fde0ef"
                        ],
                        [
                          0.5,
                          "#f7f7f7"
                        ],
                        [
                          0.6,
                          "#e6f5d0"
                        ],
                        [
                          0.7,
                          "#b8e186"
                        ],
                        [
                          0.8,
                          "#7fbc41"
                        ],
                        [
                          0.9,
                          "#4d9221"
                        ],
                        [
                          1,
                          "#276419"
                        ]
                      ],
                      "sequential": [
                        [
                          0,
                          "#0d0887"
                        ],
                        [
                          0.1111111111111111,
                          "#46039f"
                        ],
                        [
                          0.2222222222222222,
                          "#7201a8"
                        ],
                        [
                          0.3333333333333333,
                          "#9c179e"
                        ],
                        [
                          0.4444444444444444,
                          "#bd3786"
                        ],
                        [
                          0.5555555555555556,
                          "#d8576b"
                        ],
                        [
                          0.6666666666666666,
                          "#ed7953"
                        ],
                        [
                          0.7777777777777778,
                          "#fb9f3a"
                        ],
                        [
                          0.8888888888888888,
                          "#fdca26"
                        ],
                        [
                          1,
                          "#f0f921"
                        ]
                      ],
                      "sequentialminus": [
                        [
                          0,
                          "#0d0887"
                        ],
                        [
                          0.1111111111111111,
                          "#46039f"
                        ],
                        [
                          0.2222222222222222,
                          "#7201a8"
                        ],
                        [
                          0.3333333333333333,
                          "#9c179e"
                        ],
                        [
                          0.4444444444444444,
                          "#bd3786"
                        ],
                        [
                          0.5555555555555556,
                          "#d8576b"
                        ],
                        [
                          0.6666666666666666,
                          "#ed7953"
                        ],
                        [
                          0.7777777777777778,
                          "#fb9f3a"
                        ],
                        [
                          0.8888888888888888,
                          "#fdca26"
                        ],
                        [
                          1,
                          "#f0f921"
                        ]
                      ]
                    },
                    "colorway": [
                      "#636efa",
                      "#EF553B",
                      "#00cc96",
                      "#ab63fa",
                      "#FFA15A",
                      "#19d3f3",
                      "#FF6692",
                      "#B6E880",
                      "#FF97FF",
                      "#FECB52"
                    ],
                    "font": {
                      "color": "#2a3f5f"
                    },
                    "geo": {
                      "bgcolor": "white",
                      "lakecolor": "white",
                      "landcolor": "#E5ECF6",
                      "showlakes": true,
                      "showland": true,
                      "subunitcolor": "white"
                    },
                    "hoverlabel": {
                      "align": "left"
                    },
                    "hovermode": "closest",
                    "mapbox": {
                      "style": "light"
                    },
                    "paper_bgcolor": "white",
                    "plot_bgcolor": "#E5ECF6",
                    "polar": {
                      "angularaxis": {
                        "gridcolor": "white",
                        "linecolor": "white",
                        "ticks": ""
                      },
                      "bgcolor": "#E5ECF6",
                      "radialaxis": {
                        "gridcolor": "white",
                        "linecolor": "white",
                        "ticks": ""
                      }
                    },
                    "scene": {
                      "xaxis": {
                        "backgroundcolor": "#E5ECF6",
                        "gridcolor": "white",
                        "gridwidth": 2,
                        "linecolor": "white",
                        "showbackground": true,
                        "ticks": "",
                        "zerolinecolor": "white"
                      },
                      "yaxis": {
                        "backgroundcolor": "#E5ECF6",
                        "gridcolor": "white",
                        "gridwidth": 2,
                        "linecolor": "white",
                        "showbackground": true,
                        "ticks": "",
                        "zerolinecolor": "white"
                      },
                      "zaxis": {
                        "backgroundcolor": "#E5ECF6",
                        "gridcolor": "white",
                        "gridwidth": 2,
                        "linecolor": "white",
                        "showbackground": true,
                        "ticks": "",
                        "zerolinecolor": "white"
                      }
                    },
                    "shapedefaults": {
                      "line": {
                        "color": "#2a3f5f"
                      }
                    },
                    "ternary": {
                      "aaxis": {
                        "gridcolor": "white",
                        "linecolor": "white",
                        "ticks": ""
                      },
                      "baxis": {
                        "gridcolor": "white",
                        "linecolor": "white",
                        "ticks": ""
                      },
                      "bgcolor": "#E5ECF6",
                      "caxis": {
                        "gridcolor": "white",
                        "linecolor": "white",
                        "ticks": ""
                      }
                    },
                    "title": {
                      "x": 0.05
                    },
                    "xaxis": {
                      "automargin": true,
                      "gridcolor": "white",
                      "linecolor": "white",
                      "ticks": "",
                      "title": {
                        "standoff": 15
                      },
                      "zerolinecolor": "white",
                      "zerolinewidth": 2
                    },
                    "yaxis": {
                      "automargin": true,
                      "gridcolor": "white",
                      "linecolor": "white",
                      "ticks": "",
                      "title": {
                        "standoff": 15
                      },
                      "zerolinecolor": "white",
                      "zerolinewidth": 2
                    }
                  }
                },
                "xaxis": {
                  "anchor": "y",
                  "domain": [
                    0,
                    1
                  ],
                  "title": {
                    "text": "diagnosis"
                  }
                },
                "yaxis": {
                  "anchor": "x",
                  "domain": [
                    0,
                    1
                  ],
                  "title": {
                    "text": "value"
                  }
                }
              }
            }
          },
          "metadata": {},
          "output_type": "display_data"
        }
      ],
      "source": [
        "# gráfica con plotly express\n",
        "px.bar(cancer.diagnosis.value_counts())"
      ]
    },
    {
      "cell_type": "markdown",
      "metadata": {
        "id": "rDxGEnEswVeV"
      },
      "source": [
        "**Cuidado 🍳**: En esta parte hay que tener especial atención,  particularmente en otros algoritmos. Cuando los datos están desbalanceados pueden afectar los resultados. Para esto usaremos en las próximas sesiones : *subsampling*, *oversampling* y *smote*. Los anteriores son técnicas de balanceo.\n",
        "\n",
        "- Para continuar con el ejercicio, trabajaremos con las clases como están."
      ]
    },
    {
      "cell_type": "markdown",
      "metadata": {
        "id": "d0a7p4WHx2Ha"
      },
      "source": [
        "Finalmente, haremos una visualización de los datos así:"
      ]
    },
    {
      "cell_type": "code",
      "execution_count": null,
      "metadata": {
        "id": "SZ22DmG0x13F"
      },
      "outputs": [],
      "source": [
        "!pip install sweetviz"
      ]
    },
    {
      "cell_type": "code",
      "execution_count": null,
      "metadata": {
        "id": "EhzVO53ty922"
      },
      "outputs": [],
      "source": [
        "import sweetviz as sw"
      ]
    },
    {
      "cell_type": "code",
      "execution_count": null,
      "metadata": {
        "colab": {
          "base_uri": "https://localhost:8080/",
          "height": 49,
          "referenced_widgets": [
            "38ad224c833e4aaab32abe31a3bd4904",
            "2af2c4aa037f41c783da33147d03d25a",
            "491e60a2bf33499c9e6ce3b8e2b9d010",
            "48b5a6cb6c0f4c2ea8a452e2d01e014f",
            "e5e068c3b6e8455e8e23b95f9c20de75",
            "57109600898a42e5832fe4bb96828bbf",
            "4d5a2bb9354743acb6b1f828e5860060",
            "20485f5c31ec426b9a3896d22fd2708d",
            "dfe05e18871c484e850f98388becb0c8",
            "8ce5bc09e845447987dc0d6eaedf1d5f",
            "608a22b4eff847b2897d59335613022b"
          ]
        },
        "id": "PBEJLsobzARW",
        "outputId": "b9163e35-93db-40a8-fe93-f06e5cc9004d"
      },
      "outputs": [
        {
          "data": {
            "application/vnd.jupyter.widget-view+json": {
              "model_id": "38ad224c833e4aaab32abe31a3bd4904",
              "version_major": 2,
              "version_minor": 0
            },
            "text/plain": [
              "                                             |          | [  0%]   00:00 -> (? left)"
            ]
          },
          "metadata": {},
          "output_type": "display_data"
        }
      ],
      "source": [
        "reporte=sw.analyze(cancer, target_feat=\"diagnosis\")"
      ]
    },
    {
      "cell_type": "code",
      "execution_count": null,
      "metadata": {
        "id": "uJsH57i3zGen"
      },
      "outputs": [],
      "source": [
        "from IPython.display import HTML\n",
        "reporte.show_html()\n",
        "HTML(\"SWEETVIZ_REPORT.html\")"
      ]
    },
    {
      "cell_type": "markdown",
      "metadata": {
        "id": "iod7SswDw-a3"
      },
      "source": [
        "## <FONT SIZE=4 COLOR=\"blue\"> 4.6 Conjunto de Entrenamiento y Prueba </FONT>\n",
        "\n",
        "- **data training:** Datos que usamos para entrenar el modelo.\n",
        "\n",
        "- **testing data:** Datos que reservamos para comprobar si el modelo generado a partir de los datos funciona\n",
        "\n",
        "Normalmente, usamos $70\\%-30\\%$ / $80\\%-20\\%$"
      ]
    },
    {
      "cell_type": "code",
      "execution_count": 15,
      "metadata": {
        "id": "3P5Zm5EHz7SF"
      },
      "outputs": [
        {
          "data": {
            "text/html": [
              "<div>\n",
              "<style scoped>\n",
              "    .dataframe tbody tr th:only-of-type {\n",
              "        vertical-align: middle;\n",
              "    }\n",
              "\n",
              "    .dataframe tbody tr th {\n",
              "        vertical-align: top;\n",
              "    }\n",
              "\n",
              "    .dataframe thead th {\n",
              "        text-align: right;\n",
              "    }\n",
              "</style>\n",
              "<table border=\"1\" class=\"dataframe\">\n",
              "  <thead>\n",
              "    <tr style=\"text-align: right;\">\n",
              "      <th></th>\n",
              "      <th>diagnosis</th>\n",
              "      <th>radius_mean</th>\n",
              "      <th>texture_mean</th>\n",
              "      <th>perimeter_mean</th>\n",
              "      <th>area_mean</th>\n",
              "      <th>smoothness_mean</th>\n",
              "      <th>compactness_mean</th>\n",
              "      <th>concavity_mean</th>\n",
              "      <th>concave points_mean</th>\n",
              "      <th>symmetry_mean</th>\n",
              "      <th>...</th>\n",
              "      <th>radius_worst</th>\n",
              "      <th>texture_worst</th>\n",
              "      <th>perimeter_worst</th>\n",
              "      <th>area_worst</th>\n",
              "      <th>smoothness_worst</th>\n",
              "      <th>compactness_worst</th>\n",
              "      <th>concavity_worst</th>\n",
              "      <th>concave points_worst</th>\n",
              "      <th>symmetry_worst</th>\n",
              "      <th>fractal_dimension_worst</th>\n",
              "    </tr>\n",
              "  </thead>\n",
              "  <tbody>\n",
              "    <tr>\n",
              "      <th>0</th>\n",
              "      <td>1</td>\n",
              "      <td>17.99</td>\n",
              "      <td>10.38</td>\n",
              "      <td>122.80</td>\n",
              "      <td>1001.0</td>\n",
              "      <td>1.184</td>\n",
              "      <td>2.776</td>\n",
              "      <td>3.001</td>\n",
              "      <td>1.471</td>\n",
              "      <td>2.419</td>\n",
              "      <td>...</td>\n",
              "      <td>25.38</td>\n",
              "      <td>17.33</td>\n",
              "      <td>184.60</td>\n",
              "      <td>2019.0</td>\n",
              "      <td>1.622</td>\n",
              "      <td>6.656</td>\n",
              "      <td>7.119</td>\n",
              "      <td>2.654</td>\n",
              "      <td>4.601</td>\n",
              "      <td>1.189</td>\n",
              "    </tr>\n",
              "    <tr>\n",
              "      <th>1</th>\n",
              "      <td>1</td>\n",
              "      <td>20.57</td>\n",
              "      <td>17.77</td>\n",
              "      <td>132.90</td>\n",
              "      <td>1326.0</td>\n",
              "      <td>8.474</td>\n",
              "      <td>7.864</td>\n",
              "      <td>869.000</td>\n",
              "      <td>7.017</td>\n",
              "      <td>1.812</td>\n",
              "      <td>...</td>\n",
              "      <td>24.99</td>\n",
              "      <td>23.41</td>\n",
              "      <td>158.80</td>\n",
              "      <td>1956.0</td>\n",
              "      <td>1.238</td>\n",
              "      <td>1.866</td>\n",
              "      <td>2.416</td>\n",
              "      <td>186.000</td>\n",
              "      <td>275.000</td>\n",
              "      <td>8.902</td>\n",
              "    </tr>\n",
              "    <tr>\n",
              "      <th>2</th>\n",
              "      <td>1</td>\n",
              "      <td>19.69</td>\n",
              "      <td>21.25</td>\n",
              "      <td>130.00</td>\n",
              "      <td>1203.0</td>\n",
              "      <td>1.096</td>\n",
              "      <td>1.599</td>\n",
              "      <td>1.974</td>\n",
              "      <td>1.279</td>\n",
              "      <td>2.069</td>\n",
              "      <td>...</td>\n",
              "      <td>23.57</td>\n",
              "      <td>25.53</td>\n",
              "      <td>152.50</td>\n",
              "      <td>1709.0</td>\n",
              "      <td>1.444</td>\n",
              "      <td>4.245</td>\n",
              "      <td>4.504</td>\n",
              "      <td>243.000</td>\n",
              "      <td>3.613</td>\n",
              "      <td>8.758</td>\n",
              "    </tr>\n",
              "    <tr>\n",
              "      <th>3</th>\n",
              "      <td>1</td>\n",
              "      <td>11.42</td>\n",
              "      <td>20.38</td>\n",
              "      <td>77.58</td>\n",
              "      <td>386.1</td>\n",
              "      <td>1.425</td>\n",
              "      <td>2.839</td>\n",
              "      <td>2.414</td>\n",
              "      <td>1.052</td>\n",
              "      <td>2.597</td>\n",
              "      <td>...</td>\n",
              "      <td>14.91</td>\n",
              "      <td>26.50</td>\n",
              "      <td>98.87</td>\n",
              "      <td>567.7</td>\n",
              "      <td>2.098</td>\n",
              "      <td>8.663</td>\n",
              "      <td>6.869</td>\n",
              "      <td>2.575</td>\n",
              "      <td>6.638</td>\n",
              "      <td>173.000</td>\n",
              "    </tr>\n",
              "    <tr>\n",
              "      <th>4</th>\n",
              "      <td>1</td>\n",
              "      <td>20.29</td>\n",
              "      <td>14.34</td>\n",
              "      <td>135.10</td>\n",
              "      <td>1297.0</td>\n",
              "      <td>1.003</td>\n",
              "      <td>1.328</td>\n",
              "      <td>198.000</td>\n",
              "      <td>1.043</td>\n",
              "      <td>1.809</td>\n",
              "      <td>...</td>\n",
              "      <td>22.54</td>\n",
              "      <td>16.67</td>\n",
              "      <td>152.20</td>\n",
              "      <td>1575.0</td>\n",
              "      <td>1.374</td>\n",
              "      <td>205.000</td>\n",
              "      <td>0.400</td>\n",
              "      <td>1.625</td>\n",
              "      <td>2.364</td>\n",
              "      <td>7.678</td>\n",
              "    </tr>\n",
              "  </tbody>\n",
              "</table>\n",
              "<p>5 rows × 31 columns</p>\n",
              "</div>"
            ],
            "text/plain": [
              "   diagnosis  radius_mean  texture_mean  perimeter_mean  area_mean  \\\n",
              "0          1        17.99         10.38          122.80     1001.0   \n",
              "1          1        20.57         17.77          132.90     1326.0   \n",
              "2          1        19.69         21.25          130.00     1203.0   \n",
              "3          1        11.42         20.38           77.58      386.1   \n",
              "4          1        20.29         14.34          135.10     1297.0   \n",
              "\n",
              "   smoothness_mean  compactness_mean  concavity_mean  concave points_mean  \\\n",
              "0            1.184             2.776           3.001                1.471   \n",
              "1            8.474             7.864         869.000                7.017   \n",
              "2            1.096             1.599           1.974                1.279   \n",
              "3            1.425             2.839           2.414                1.052   \n",
              "4            1.003             1.328         198.000                1.043   \n",
              "\n",
              "   symmetry_mean  ...  radius_worst  texture_worst  perimeter_worst  \\\n",
              "0          2.419  ...         25.38          17.33           184.60   \n",
              "1          1.812  ...         24.99          23.41           158.80   \n",
              "2          2.069  ...         23.57          25.53           152.50   \n",
              "3          2.597  ...         14.91          26.50            98.87   \n",
              "4          1.809  ...         22.54          16.67           152.20   \n",
              "\n",
              "   area_worst  smoothness_worst  compactness_worst  concavity_worst  \\\n",
              "0      2019.0             1.622              6.656            7.119   \n",
              "1      1956.0             1.238              1.866            2.416   \n",
              "2      1709.0             1.444              4.245            4.504   \n",
              "3       567.7             2.098              8.663            6.869   \n",
              "4      1575.0             1.374            205.000            0.400   \n",
              "\n",
              "   concave points_worst  symmetry_worst  fractal_dimension_worst  \n",
              "0                 2.654           4.601                    1.189  \n",
              "1               186.000         275.000                    8.902  \n",
              "2               243.000           3.613                    8.758  \n",
              "3                 2.575           6.638                  173.000  \n",
              "4                 1.625           2.364                    7.678  \n",
              "\n",
              "[5 rows x 31 columns]"
            ]
          },
          "execution_count": 15,
          "metadata": {},
          "output_type": "execute_result"
        }
      ],
      "source": [
        "cancer.head(5)"
      ]
    },
    {
      "cell_type": "code",
      "execution_count": 11,
      "metadata": {
        "id": "wDKrXtJ-wuLf"
      },
      "outputs": [],
      "source": [
        "# Dividir en dos conjuntos\n",
        "# las variables predictoras\n",
        "X = cancer.iloc[:, 1:]\n",
        "# la variable objetivo\n",
        "y = cancer.iloc[:, 0]\n",
        "X_train, X_test, y_train, y_test = train_test_split(X,                        # variables predictoras\n",
        "                                                    y,                        # variable de respuesta\n",
        "                                                    random_state = 0,         # semilla para que al ejecutar siempre de igual\n",
        "                                                    test_size = 0.2)          # tamaño del conjunto de prueba"
      ]
    },
    {
      "cell_type": "markdown",
      "metadata": {
        "id": "q1LiaIp50Y2L"
      },
      "source": [
        "Veamos los tamaños de estos conjuntos"
      ]
    },
    {
      "cell_type": "code",
      "execution_count": 12,
      "metadata": {
        "colab": {
          "base_uri": "https://localhost:8080/"
        },
        "id": "pJRMrfwi0e_g",
        "outputId": "b0d97147-53c1-4005-886b-b9a06b0aeea2"
      },
      "outputs": [
        {
          "name": "stdout",
          "output_type": "stream",
          "text": [
            "El tamaño de X_train es (455, 30)\n",
            "El tamaño de y_train es: (455,)\n",
            "El tamaño de X_test es (114, 30)\n",
            "El tamaño de y_test es: (114,)\n"
          ]
        }
      ],
      "source": [
        "print(\"El tamaño de X_train es {}\".format(X_train.shape))\n",
        "print(\"El tamaño de y_train es: {}\".format(y_train.shape))\n",
        "print(\"El tamaño de X_test es {}\".format(X_test.shape))\n",
        "print(\"El tamaño de y_test es: {}\".format(y_test.shape))"
      ]
    },
    {
      "cell_type": "markdown",
      "metadata": {
        "id": "b9nM26Ic0cQc"
      },
      "source": [
        "Exploremos alguno de ellos."
      ]
    },
    {
      "cell_type": "code",
      "execution_count": 18,
      "metadata": {
        "colab": {
          "base_uri": "https://localhost:8080/",
          "height": 430
        },
        "id": "6Ueu2pSa0eDh",
        "outputId": "13dc1151-2679-4a57-b509-2f7c74d612d5"
      },
      "outputs": [
        {
          "data": {
            "text/html": [
              "<div>\n",
              "<style scoped>\n",
              "    .dataframe tbody tr th:only-of-type {\n",
              "        vertical-align: middle;\n",
              "    }\n",
              "\n",
              "    .dataframe tbody tr th {\n",
              "        vertical-align: top;\n",
              "    }\n",
              "\n",
              "    .dataframe thead th {\n",
              "        text-align: right;\n",
              "    }\n",
              "</style>\n",
              "<table border=\"1\" class=\"dataframe\">\n",
              "  <thead>\n",
              "    <tr style=\"text-align: right;\">\n",
              "      <th></th>\n",
              "      <th>radius_mean</th>\n",
              "      <th>texture_mean</th>\n",
              "      <th>perimeter_mean</th>\n",
              "      <th>area_mean</th>\n",
              "      <th>smoothness_mean</th>\n",
              "      <th>compactness_mean</th>\n",
              "      <th>concavity_mean</th>\n",
              "      <th>concave points_mean</th>\n",
              "      <th>symmetry_mean</th>\n",
              "      <th>fractal_dimension_mean</th>\n",
              "      <th>...</th>\n",
              "      <th>radius_worst</th>\n",
              "      <th>texture_worst</th>\n",
              "      <th>perimeter_worst</th>\n",
              "      <th>area_worst</th>\n",
              "      <th>smoothness_worst</th>\n",
              "      <th>compactness_worst</th>\n",
              "      <th>concavity_worst</th>\n",
              "      <th>concave points_worst</th>\n",
              "      <th>symmetry_worst</th>\n",
              "      <th>fractal_dimension_worst</th>\n",
              "    </tr>\n",
              "  </thead>\n",
              "  <tbody>\n",
              "    <tr>\n",
              "      <th>338</th>\n",
              "      <td>10.05</td>\n",
              "      <td>17.53</td>\n",
              "      <td>64.41</td>\n",
              "      <td>310.8</td>\n",
              "      <td>1.007</td>\n",
              "      <td>7.326</td>\n",
              "      <td>2.511</td>\n",
              "      <td>1.775</td>\n",
              "      <td>189.000</td>\n",
              "      <td>6.331</td>\n",
              "      <td>...</td>\n",
              "      <td>11.16</td>\n",
              "      <td>26.84</td>\n",
              "      <td>71.98</td>\n",
              "      <td>384.0</td>\n",
              "      <td>1.402</td>\n",
              "      <td>1.402</td>\n",
              "      <td>1.055</td>\n",
              "      <td>6.499</td>\n",
              "      <td>2.894</td>\n",
              "      <td>7.664</td>\n",
              "    </tr>\n",
              "    <tr>\n",
              "      <th>427</th>\n",
              "      <td>10.80</td>\n",
              "      <td>21.98</td>\n",
              "      <td>68.79</td>\n",
              "      <td>359.9</td>\n",
              "      <td>8.801</td>\n",
              "      <td>5.743</td>\n",
              "      <td>3.614</td>\n",
              "      <td>1.404</td>\n",
              "      <td>2.016</td>\n",
              "      <td>5.977</td>\n",
              "      <td>...</td>\n",
              "      <td>12.76</td>\n",
              "      <td>32.04</td>\n",
              "      <td>83.69</td>\n",
              "      <td>489.5</td>\n",
              "      <td>1.303</td>\n",
              "      <td>1.696</td>\n",
              "      <td>1.927</td>\n",
              "      <td>7.485</td>\n",
              "      <td>2.965</td>\n",
              "      <td>7.662</td>\n",
              "    </tr>\n",
              "    <tr>\n",
              "      <th>406</th>\n",
              "      <td>16.14</td>\n",
              "      <td>14.86</td>\n",
              "      <td>104.30</td>\n",
              "      <td>800.0</td>\n",
              "      <td>9.495</td>\n",
              "      <td>8.501</td>\n",
              "      <td>55.000</td>\n",
              "      <td>4.528</td>\n",
              "      <td>1.735</td>\n",
              "      <td>5.875</td>\n",
              "      <td>...</td>\n",
              "      <td>17.71</td>\n",
              "      <td>19.58</td>\n",
              "      <td>115.90</td>\n",
              "      <td>947.9</td>\n",
              "      <td>1.206</td>\n",
              "      <td>1.722</td>\n",
              "      <td>231.000</td>\n",
              "      <td>1.129</td>\n",
              "      <td>2.778</td>\n",
              "      <td>7.012</td>\n",
              "    </tr>\n",
              "    <tr>\n",
              "      <th>96</th>\n",
              "      <td>12.18</td>\n",
              "      <td>17.84</td>\n",
              "      <td>77.79</td>\n",
              "      <td>451.1</td>\n",
              "      <td>1.045</td>\n",
              "      <td>7.057</td>\n",
              "      <td>249.000</td>\n",
              "      <td>2.941</td>\n",
              "      <td>0.190</td>\n",
              "      <td>6.635</td>\n",
              "      <td>...</td>\n",
              "      <td>12.83</td>\n",
              "      <td>20.92</td>\n",
              "      <td>82.14</td>\n",
              "      <td>495.2</td>\n",
              "      <td>114.000</td>\n",
              "      <td>9.358</td>\n",
              "      <td>498.000</td>\n",
              "      <td>5.882</td>\n",
              "      <td>2.227</td>\n",
              "      <td>7.376</td>\n",
              "    </tr>\n",
              "    <tr>\n",
              "      <th>490</th>\n",
              "      <td>12.25</td>\n",
              "      <td>22.44</td>\n",
              "      <td>78.18</td>\n",
              "      <td>466.5</td>\n",
              "      <td>8.192</td>\n",
              "      <td>52.000</td>\n",
              "      <td>1.714</td>\n",
              "      <td>1.261</td>\n",
              "      <td>1.544</td>\n",
              "      <td>5.976</td>\n",
              "      <td>...</td>\n",
              "      <td>14.17</td>\n",
              "      <td>31.99</td>\n",
              "      <td>92.74</td>\n",
              "      <td>622.9</td>\n",
              "      <td>1.256</td>\n",
              "      <td>1.804</td>\n",
              "      <td>123.000</td>\n",
              "      <td>6.335</td>\n",
              "      <td>0.310</td>\n",
              "      <td>8.203</td>\n",
              "    </tr>\n",
              "    <tr>\n",
              "      <th>384</th>\n",
              "      <td>13.28</td>\n",
              "      <td>13.72</td>\n",
              "      <td>85.79</td>\n",
              "      <td>541.8</td>\n",
              "      <td>8.363</td>\n",
              "      <td>8.575</td>\n",
              "      <td>5.077</td>\n",
              "      <td>2.864</td>\n",
              "      <td>1.617</td>\n",
              "      <td>5.594</td>\n",
              "      <td>...</td>\n",
              "      <td>14.24</td>\n",
              "      <td>17.37</td>\n",
              "      <td>96.59</td>\n",
              "      <td>623.7</td>\n",
              "      <td>1.166</td>\n",
              "      <td>2.685</td>\n",
              "      <td>2.866</td>\n",
              "      <td>9.173</td>\n",
              "      <td>2.736</td>\n",
              "      <td>732.000</td>\n",
              "    </tr>\n",
              "    <tr>\n",
              "      <th>281</th>\n",
              "      <td>11.74</td>\n",
              "      <td>14.02</td>\n",
              "      <td>74.24</td>\n",
              "      <td>427.3</td>\n",
              "      <td>7.813</td>\n",
              "      <td>434.000</td>\n",
              "      <td>2.245</td>\n",
              "      <td>2.763</td>\n",
              "      <td>2.101</td>\n",
              "      <td>6.113</td>\n",
              "      <td>...</td>\n",
              "      <td>13.31</td>\n",
              "      <td>18.26</td>\n",
              "      <td>84.70</td>\n",
              "      <td>533.7</td>\n",
              "      <td>1.036</td>\n",
              "      <td>85.000</td>\n",
              "      <td>6.735</td>\n",
              "      <td>829.000</td>\n",
              "      <td>3.101</td>\n",
              "      <td>6.688</td>\n",
              "    </tr>\n",
              "    <tr>\n",
              "      <th>325</th>\n",
              "      <td>12.67</td>\n",
              "      <td>17.30</td>\n",
              "      <td>81.25</td>\n",
              "      <td>489.9</td>\n",
              "      <td>1.028</td>\n",
              "      <td>7.664</td>\n",
              "      <td>3.193</td>\n",
              "      <td>2.107</td>\n",
              "      <td>1.707</td>\n",
              "      <td>5.984</td>\n",
              "      <td>...</td>\n",
              "      <td>13.71</td>\n",
              "      <td>21.10</td>\n",
              "      <td>88.70</td>\n",
              "      <td>574.4</td>\n",
              "      <td>1.384</td>\n",
              "      <td>1.212</td>\n",
              "      <td>102.000</td>\n",
              "      <td>5.602</td>\n",
              "      <td>2.688</td>\n",
              "      <td>6.888</td>\n",
              "    </tr>\n",
              "    <tr>\n",
              "      <th>190</th>\n",
              "      <td>14.22</td>\n",
              "      <td>23.12</td>\n",
              "      <td>94.37</td>\n",
              "      <td>609.9</td>\n",
              "      <td>1.075</td>\n",
              "      <td>2.413</td>\n",
              "      <td>1.981</td>\n",
              "      <td>6.618</td>\n",
              "      <td>2.384</td>\n",
              "      <td>7.542</td>\n",
              "      <td>...</td>\n",
              "      <td>15.74</td>\n",
              "      <td>37.18</td>\n",
              "      <td>106.40</td>\n",
              "      <td>762.4</td>\n",
              "      <td>1.533</td>\n",
              "      <td>9.327</td>\n",
              "      <td>8.488</td>\n",
              "      <td>1.772</td>\n",
              "      <td>5.166</td>\n",
              "      <td>1.446</td>\n",
              "    </tr>\n",
              "    <tr>\n",
              "      <th>380</th>\n",
              "      <td>11.27</td>\n",
              "      <td>12.96</td>\n",
              "      <td>73.16</td>\n",
              "      <td>386.3</td>\n",
              "      <td>1.237</td>\n",
              "      <td>1.111</td>\n",
              "      <td>79.000</td>\n",
              "      <td>555.000</td>\n",
              "      <td>2.018</td>\n",
              "      <td>6.914</td>\n",
              "      <td>...</td>\n",
              "      <td>12.84</td>\n",
              "      <td>20.53</td>\n",
              "      <td>84.93</td>\n",
              "      <td>476.1</td>\n",
              "      <td>161.000</td>\n",
              "      <td>2.429</td>\n",
              "      <td>2.247</td>\n",
              "      <td>1.318</td>\n",
              "      <td>3.343</td>\n",
              "      <td>9.215</td>\n",
              "    </tr>\n",
              "  </tbody>\n",
              "</table>\n",
              "<p>10 rows × 30 columns</p>\n",
              "</div>"
            ],
            "text/plain": [
              "     radius_mean  texture_mean  perimeter_mean  area_mean  smoothness_mean  \\\n",
              "338        10.05         17.53           64.41      310.8            1.007   \n",
              "427        10.80         21.98           68.79      359.9            8.801   \n",
              "406        16.14         14.86          104.30      800.0            9.495   \n",
              "96         12.18         17.84           77.79      451.1            1.045   \n",
              "490        12.25         22.44           78.18      466.5            8.192   \n",
              "384        13.28         13.72           85.79      541.8            8.363   \n",
              "281        11.74         14.02           74.24      427.3            7.813   \n",
              "325        12.67         17.30           81.25      489.9            1.028   \n",
              "190        14.22         23.12           94.37      609.9            1.075   \n",
              "380        11.27         12.96           73.16      386.3            1.237   \n",
              "\n",
              "     compactness_mean  concavity_mean  concave points_mean  symmetry_mean  \\\n",
              "338             7.326           2.511                1.775        189.000   \n",
              "427             5.743           3.614                1.404          2.016   \n",
              "406             8.501          55.000                4.528          1.735   \n",
              "96              7.057         249.000                2.941          0.190   \n",
              "490            52.000           1.714                1.261          1.544   \n",
              "384             8.575           5.077                2.864          1.617   \n",
              "281           434.000           2.245                2.763          2.101   \n",
              "325             7.664           3.193                2.107          1.707   \n",
              "190             2.413           1.981                6.618          2.384   \n",
              "380             1.111          79.000              555.000          2.018   \n",
              "\n",
              "     fractal_dimension_mean  ...  radius_worst  texture_worst  \\\n",
              "338                   6.331  ...         11.16          26.84   \n",
              "427                   5.977  ...         12.76          32.04   \n",
              "406                   5.875  ...         17.71          19.58   \n",
              "96                    6.635  ...         12.83          20.92   \n",
              "490                   5.976  ...         14.17          31.99   \n",
              "384                   5.594  ...         14.24          17.37   \n",
              "281                   6.113  ...         13.31          18.26   \n",
              "325                   5.984  ...         13.71          21.10   \n",
              "190                   7.542  ...         15.74          37.18   \n",
              "380                   6.914  ...         12.84          20.53   \n",
              "\n",
              "     perimeter_worst  area_worst  smoothness_worst  compactness_worst  \\\n",
              "338            71.98       384.0             1.402              1.402   \n",
              "427            83.69       489.5             1.303              1.696   \n",
              "406           115.90       947.9             1.206              1.722   \n",
              "96             82.14       495.2           114.000              9.358   \n",
              "490            92.74       622.9             1.256              1.804   \n",
              "384            96.59       623.7             1.166              2.685   \n",
              "281            84.70       533.7             1.036             85.000   \n",
              "325            88.70       574.4             1.384              1.212   \n",
              "190           106.40       762.4             1.533              9.327   \n",
              "380            84.93       476.1           161.000              2.429   \n",
              "\n",
              "     concavity_worst  concave points_worst  symmetry_worst  \\\n",
              "338            1.055                 6.499           2.894   \n",
              "427            1.927                 7.485           2.965   \n",
              "406          231.000                 1.129           2.778   \n",
              "96           498.000                 5.882           2.227   \n",
              "490          123.000                 6.335           0.310   \n",
              "384            2.866                 9.173           2.736   \n",
              "281            6.735               829.000           3.101   \n",
              "325          102.000                 5.602           2.688   \n",
              "190            8.488                 1.772           5.166   \n",
              "380            2.247                 1.318           3.343   \n",
              "\n",
              "     fractal_dimension_worst  \n",
              "338                    7.664  \n",
              "427                    7.662  \n",
              "406                    7.012  \n",
              "96                     7.376  \n",
              "490                    8.203  \n",
              "384                  732.000  \n",
              "281                    6.688  \n",
              "325                    6.888  \n",
              "190                    1.446  \n",
              "380                    9.215  \n",
              "\n",
              "[10 rows x 30 columns]"
            ]
          },
          "execution_count": 18,
          "metadata": {},
          "output_type": "execute_result"
        }
      ],
      "source": [
        "X_train[0:10]"
      ]
    },
    {
      "cell_type": "markdown",
      "metadata": {
        "id": "_IvjR_fr0mBP"
      },
      "source": [
        "## <FONT SIZE=4 COLOR=\"blue\"> 4.7 Escalar las variables predictoras </FONT>\n",
        "\n",
        "- En los algoritmos donde se vea involucrada una distancia es importante hacer el escalamiento.\n",
        "\n",
        "- Una recomendación es hacer el escalamiento después de dividir en entrenamiento y prueba. Ya que la idea es que no se sobreentrene el modelo.\n"
      ]
    },
    {
      "cell_type": "code",
      "execution_count": 13,
      "metadata": {
        "id": "NXOutoIs1CcK"
      },
      "outputs": [],
      "source": [
        "escalar = StandardScaler()\n",
        "X_train = escalar.fit_transform(X_train)\n",
        "X_test = escalar.transform(X_test)"
      ]
    },
    {
      "cell_type": "markdown",
      "metadata": {
        "id": "aJncrGo-1F_R"
      },
      "source": [
        "**Observación importante de lo anterior**.\n",
        "\n",
        "a. Para $X_{train}$ usamos ***fit.transform*** esto significa que los datos se este conjunto se escalarán con base a su $\\mu$ media y $\\sigma$ desviación estándard. (que no son lo mismo que calcularla sobre todo el conjunto)\n",
        "\n",
        "b. Para $X_{test}$ usamos ***.transform*** esto significa que para escalar los datos del conjunto de prueba se usan los parámetros $\\mu$ y $\\sigma$ obtenidos en la parte a. con el conjunto de entrenamiento $X_{train.}$\n",
        "\n",
        "<br>\n",
        "<center><img src=\"https://github.com/Fabian830348/cursos/blob/master/Intro-knn/knn4.png?raw=true?\" alt=\"centered image\" width=\"600\" height=\"400\"></center> <center><figcaption> <FONT SIZE=1 COLOR=\"black\"> Fuente: Elaboración propia  </FONT> <figcaption></center>\n",
        "\n"
      ]
    },
    {
      "cell_type": "markdown",
      "metadata": {
        "id": "ImKRyOLx2vVs"
      },
      "source": [
        "## <FONT SIZE=4 COLOR=\"blue\"> 4.8 Selección de $k$  </FONT>\n",
        "\n",
        "- Un valor razonable para intentar trabajar será : $$\\sqrt{n}$$, con $n$ el tamaño del conjunto de entrenamiento.\n",
        "\n",
        "- Podemos ensayar con otros valores de $k$ y ver el rendimiento del modelo."
      ]
    },
    {
      "cell_type": "code",
      "execution_count": 14,
      "metadata": {
        "colab": {
          "base_uri": "https://localhost:8080/"
        },
        "id": "NDCUMiNG29pF",
        "outputId": "3cb38a9e-c82a-4a6e-d79d-bf2ef2815913"
      },
      "outputs": [
        {
          "data": {
            "text/plain": [
              "10.677078252031311"
            ]
          },
          "execution_count": 14,
          "metadata": {},
          "output_type": "execute_result"
        }
      ],
      "source": [
        "import math\n",
        "math.sqrt(len(y_test))"
      ]
    },
    {
      "cell_type": "markdown",
      "metadata": {
        "id": "j904Yynv3D7C"
      },
      "source": [
        "## <FONT SIZE=4 COLOR=\"blue\"> 4.9 Generar el Modelo  </FONT>\n",
        "\n",
        "En esta parte usaremos la librería *sciki-learn* y la función *KNeighborsClassifier*"
      ]
    },
    {
      "cell_type": "code",
      "execution_count": 15,
      "metadata": {
        "colab": {
          "base_uri": "https://localhost:8080/",
          "height": 75
        },
        "id": "EVHP8iWx3GKI",
        "outputId": "79265e49-29da-4d69-cad0-94873ab104c2"
      },
      "outputs": [
        {
          "data": {
            "text/html": [
              "<style>#sk-container-id-1 {\n",
              "  /* Definition of color scheme common for light and dark mode */\n",
              "  --sklearn-color-text: black;\n",
              "  --sklearn-color-line: gray;\n",
              "  /* Definition of color scheme for unfitted estimators */\n",
              "  --sklearn-color-unfitted-level-0: #fff5e6;\n",
              "  --sklearn-color-unfitted-level-1: #f6e4d2;\n",
              "  --sklearn-color-unfitted-level-2: #ffe0b3;\n",
              "  --sklearn-color-unfitted-level-3: chocolate;\n",
              "  /* Definition of color scheme for fitted estimators */\n",
              "  --sklearn-color-fitted-level-0: #f0f8ff;\n",
              "  --sklearn-color-fitted-level-1: #d4ebff;\n",
              "  --sklearn-color-fitted-level-2: #b3dbfd;\n",
              "  --sklearn-color-fitted-level-3: cornflowerblue;\n",
              "\n",
              "  /* Specific color for light theme */\n",
              "  --sklearn-color-text-on-default-background: var(--sg-text-color, var(--theme-code-foreground, var(--jp-content-font-color1, black)));\n",
              "  --sklearn-color-background: var(--sg-background-color, var(--theme-background, var(--jp-layout-color0, white)));\n",
              "  --sklearn-color-border-box: var(--sg-text-color, var(--theme-code-foreground, var(--jp-content-font-color1, black)));\n",
              "  --sklearn-color-icon: #696969;\n",
              "\n",
              "  @media (prefers-color-scheme: dark) {\n",
              "    /* Redefinition of color scheme for dark theme */\n",
              "    --sklearn-color-text-on-default-background: var(--sg-text-color, var(--theme-code-foreground, var(--jp-content-font-color1, white)));\n",
              "    --sklearn-color-background: var(--sg-background-color, var(--theme-background, var(--jp-layout-color0, #111)));\n",
              "    --sklearn-color-border-box: var(--sg-text-color, var(--theme-code-foreground, var(--jp-content-font-color1, white)));\n",
              "    --sklearn-color-icon: #878787;\n",
              "  }\n",
              "}\n",
              "\n",
              "#sk-container-id-1 {\n",
              "  color: var(--sklearn-color-text);\n",
              "}\n",
              "\n",
              "#sk-container-id-1 pre {\n",
              "  padding: 0;\n",
              "}\n",
              "\n",
              "#sk-container-id-1 input.sk-hidden--visually {\n",
              "  border: 0;\n",
              "  clip: rect(1px 1px 1px 1px);\n",
              "  clip: rect(1px, 1px, 1px, 1px);\n",
              "  height: 1px;\n",
              "  margin: -1px;\n",
              "  overflow: hidden;\n",
              "  padding: 0;\n",
              "  position: absolute;\n",
              "  width: 1px;\n",
              "}\n",
              "\n",
              "#sk-container-id-1 div.sk-dashed-wrapped {\n",
              "  border: 1px dashed var(--sklearn-color-line);\n",
              "  margin: 0 0.4em 0.5em 0.4em;\n",
              "  box-sizing: border-box;\n",
              "  padding-bottom: 0.4em;\n",
              "  background-color: var(--sklearn-color-background);\n",
              "}\n",
              "\n",
              "#sk-container-id-1 div.sk-container {\n",
              "  /* jupyter's `normalize.less` sets `[hidden] { display: none; }`\n",
              "     but bootstrap.min.css set `[hidden] { display: none !important; }`\n",
              "     so we also need the `!important` here to be able to override the\n",
              "     default hidden behavior on the sphinx rendered scikit-learn.org.\n",
              "     See: https://github.com/scikit-learn/scikit-learn/issues/21755 */\n",
              "  display: inline-block !important;\n",
              "  position: relative;\n",
              "}\n",
              "\n",
              "#sk-container-id-1 div.sk-text-repr-fallback {\n",
              "  display: none;\n",
              "}\n",
              "\n",
              "div.sk-parallel-item,\n",
              "div.sk-serial,\n",
              "div.sk-item {\n",
              "  /* draw centered vertical line to link estimators */\n",
              "  background-image: linear-gradient(var(--sklearn-color-text-on-default-background), var(--sklearn-color-text-on-default-background));\n",
              "  background-size: 2px 100%;\n",
              "  background-repeat: no-repeat;\n",
              "  background-position: center center;\n",
              "}\n",
              "\n",
              "/* Parallel-specific style estimator block */\n",
              "\n",
              "#sk-container-id-1 div.sk-parallel-item::after {\n",
              "  content: \"\";\n",
              "  width: 100%;\n",
              "  border-bottom: 2px solid var(--sklearn-color-text-on-default-background);\n",
              "  flex-grow: 1;\n",
              "}\n",
              "\n",
              "#sk-container-id-1 div.sk-parallel {\n",
              "  display: flex;\n",
              "  align-items: stretch;\n",
              "  justify-content: center;\n",
              "  background-color: var(--sklearn-color-background);\n",
              "  position: relative;\n",
              "}\n",
              "\n",
              "#sk-container-id-1 div.sk-parallel-item {\n",
              "  display: flex;\n",
              "  flex-direction: column;\n",
              "}\n",
              "\n",
              "#sk-container-id-1 div.sk-parallel-item:first-child::after {\n",
              "  align-self: flex-end;\n",
              "  width: 50%;\n",
              "}\n",
              "\n",
              "#sk-container-id-1 div.sk-parallel-item:last-child::after {\n",
              "  align-self: flex-start;\n",
              "  width: 50%;\n",
              "}\n",
              "\n",
              "#sk-container-id-1 div.sk-parallel-item:only-child::after {\n",
              "  width: 0;\n",
              "}\n",
              "\n",
              "/* Serial-specific style estimator block */\n",
              "\n",
              "#sk-container-id-1 div.sk-serial {\n",
              "  display: flex;\n",
              "  flex-direction: column;\n",
              "  align-items: center;\n",
              "  background-color: var(--sklearn-color-background);\n",
              "  padding-right: 1em;\n",
              "  padding-left: 1em;\n",
              "}\n",
              "\n",
              "\n",
              "/* Toggleable style: style used for estimator/Pipeline/ColumnTransformer box that is\n",
              "clickable and can be expanded/collapsed.\n",
              "- Pipeline and ColumnTransformer use this feature and define the default style\n",
              "- Estimators will overwrite some part of the style using the `sk-estimator` class\n",
              "*/\n",
              "\n",
              "/* Pipeline and ColumnTransformer style (default) */\n",
              "\n",
              "#sk-container-id-1 div.sk-toggleable {\n",
              "  /* Default theme specific background. It is overwritten whether we have a\n",
              "  specific estimator or a Pipeline/ColumnTransformer */\n",
              "  background-color: var(--sklearn-color-background);\n",
              "}\n",
              "\n",
              "/* Toggleable label */\n",
              "#sk-container-id-1 label.sk-toggleable__label {\n",
              "  cursor: pointer;\n",
              "  display: block;\n",
              "  width: 100%;\n",
              "  margin-bottom: 0;\n",
              "  padding: 0.5em;\n",
              "  box-sizing: border-box;\n",
              "  text-align: center;\n",
              "}\n",
              "\n",
              "#sk-container-id-1 label.sk-toggleable__label-arrow:before {\n",
              "  /* Arrow on the left of the label */\n",
              "  content: \"▸\";\n",
              "  float: left;\n",
              "  margin-right: 0.25em;\n",
              "  color: var(--sklearn-color-icon);\n",
              "}\n",
              "\n",
              "#sk-container-id-1 label.sk-toggleable__label-arrow:hover:before {\n",
              "  color: var(--sklearn-color-text);\n",
              "}\n",
              "\n",
              "/* Toggleable content - dropdown */\n",
              "\n",
              "#sk-container-id-1 div.sk-toggleable__content {\n",
              "  max-height: 0;\n",
              "  max-width: 0;\n",
              "  overflow: hidden;\n",
              "  text-align: left;\n",
              "  /* unfitted */\n",
              "  background-color: var(--sklearn-color-unfitted-level-0);\n",
              "}\n",
              "\n",
              "#sk-container-id-1 div.sk-toggleable__content.fitted {\n",
              "  /* fitted */\n",
              "  background-color: var(--sklearn-color-fitted-level-0);\n",
              "}\n",
              "\n",
              "#sk-container-id-1 div.sk-toggleable__content pre {\n",
              "  margin: 0.2em;\n",
              "  border-radius: 0.25em;\n",
              "  color: var(--sklearn-color-text);\n",
              "  /* unfitted */\n",
              "  background-color: var(--sklearn-color-unfitted-level-0);\n",
              "}\n",
              "\n",
              "#sk-container-id-1 div.sk-toggleable__content.fitted pre {\n",
              "  /* unfitted */\n",
              "  background-color: var(--sklearn-color-fitted-level-0);\n",
              "}\n",
              "\n",
              "#sk-container-id-1 input.sk-toggleable__control:checked~div.sk-toggleable__content {\n",
              "  /* Expand drop-down */\n",
              "  max-height: 200px;\n",
              "  max-width: 100%;\n",
              "  overflow: auto;\n",
              "}\n",
              "\n",
              "#sk-container-id-1 input.sk-toggleable__control:checked~label.sk-toggleable__label-arrow:before {\n",
              "  content: \"▾\";\n",
              "}\n",
              "\n",
              "/* Pipeline/ColumnTransformer-specific style */\n",
              "\n",
              "#sk-container-id-1 div.sk-label input.sk-toggleable__control:checked~label.sk-toggleable__label {\n",
              "  color: var(--sklearn-color-text);\n",
              "  background-color: var(--sklearn-color-unfitted-level-2);\n",
              "}\n",
              "\n",
              "#sk-container-id-1 div.sk-label.fitted input.sk-toggleable__control:checked~label.sk-toggleable__label {\n",
              "  background-color: var(--sklearn-color-fitted-level-2);\n",
              "}\n",
              "\n",
              "/* Estimator-specific style */\n",
              "\n",
              "/* Colorize estimator box */\n",
              "#sk-container-id-1 div.sk-estimator input.sk-toggleable__control:checked~label.sk-toggleable__label {\n",
              "  /* unfitted */\n",
              "  background-color: var(--sklearn-color-unfitted-level-2);\n",
              "}\n",
              "\n",
              "#sk-container-id-1 div.sk-estimator.fitted input.sk-toggleable__control:checked~label.sk-toggleable__label {\n",
              "  /* fitted */\n",
              "  background-color: var(--sklearn-color-fitted-level-2);\n",
              "}\n",
              "\n",
              "#sk-container-id-1 div.sk-label label.sk-toggleable__label,\n",
              "#sk-container-id-1 div.sk-label label {\n",
              "  /* The background is the default theme color */\n",
              "  color: var(--sklearn-color-text-on-default-background);\n",
              "}\n",
              "\n",
              "/* On hover, darken the color of the background */\n",
              "#sk-container-id-1 div.sk-label:hover label.sk-toggleable__label {\n",
              "  color: var(--sklearn-color-text);\n",
              "  background-color: var(--sklearn-color-unfitted-level-2);\n",
              "}\n",
              "\n",
              "/* Label box, darken color on hover, fitted */\n",
              "#sk-container-id-1 div.sk-label.fitted:hover label.sk-toggleable__label.fitted {\n",
              "  color: var(--sklearn-color-text);\n",
              "  background-color: var(--sklearn-color-fitted-level-2);\n",
              "}\n",
              "\n",
              "/* Estimator label */\n",
              "\n",
              "#sk-container-id-1 div.sk-label label {\n",
              "  font-family: monospace;\n",
              "  font-weight: bold;\n",
              "  display: inline-block;\n",
              "  line-height: 1.2em;\n",
              "}\n",
              "\n",
              "#sk-container-id-1 div.sk-label-container {\n",
              "  text-align: center;\n",
              "}\n",
              "\n",
              "/* Estimator-specific */\n",
              "#sk-container-id-1 div.sk-estimator {\n",
              "  font-family: monospace;\n",
              "  border: 1px dotted var(--sklearn-color-border-box);\n",
              "  border-radius: 0.25em;\n",
              "  box-sizing: border-box;\n",
              "  margin-bottom: 0.5em;\n",
              "  /* unfitted */\n",
              "  background-color: var(--sklearn-color-unfitted-level-0);\n",
              "}\n",
              "\n",
              "#sk-container-id-1 div.sk-estimator.fitted {\n",
              "  /* fitted */\n",
              "  background-color: var(--sklearn-color-fitted-level-0);\n",
              "}\n",
              "\n",
              "/* on hover */\n",
              "#sk-container-id-1 div.sk-estimator:hover {\n",
              "  /* unfitted */\n",
              "  background-color: var(--sklearn-color-unfitted-level-2);\n",
              "}\n",
              "\n",
              "#sk-container-id-1 div.sk-estimator.fitted:hover {\n",
              "  /* fitted */\n",
              "  background-color: var(--sklearn-color-fitted-level-2);\n",
              "}\n",
              "\n",
              "/* Specification for estimator info (e.g. \"i\" and \"?\") */\n",
              "\n",
              "/* Common style for \"i\" and \"?\" */\n",
              "\n",
              ".sk-estimator-doc-link,\n",
              "a:link.sk-estimator-doc-link,\n",
              "a:visited.sk-estimator-doc-link {\n",
              "  float: right;\n",
              "  font-size: smaller;\n",
              "  line-height: 1em;\n",
              "  font-family: monospace;\n",
              "  background-color: var(--sklearn-color-background);\n",
              "  border-radius: 1em;\n",
              "  height: 1em;\n",
              "  width: 1em;\n",
              "  text-decoration: none !important;\n",
              "  margin-left: 1ex;\n",
              "  /* unfitted */\n",
              "  border: var(--sklearn-color-unfitted-level-1) 1pt solid;\n",
              "  color: var(--sklearn-color-unfitted-level-1);\n",
              "}\n",
              "\n",
              ".sk-estimator-doc-link.fitted,\n",
              "a:link.sk-estimator-doc-link.fitted,\n",
              "a:visited.sk-estimator-doc-link.fitted {\n",
              "  /* fitted */\n",
              "  border: var(--sklearn-color-fitted-level-1) 1pt solid;\n",
              "  color: var(--sklearn-color-fitted-level-1);\n",
              "}\n",
              "\n",
              "/* On hover */\n",
              "div.sk-estimator:hover .sk-estimator-doc-link:hover,\n",
              ".sk-estimator-doc-link:hover,\n",
              "div.sk-label-container:hover .sk-estimator-doc-link:hover,\n",
              ".sk-estimator-doc-link:hover {\n",
              "  /* unfitted */\n",
              "  background-color: var(--sklearn-color-unfitted-level-3);\n",
              "  color: var(--sklearn-color-background);\n",
              "  text-decoration: none;\n",
              "}\n",
              "\n",
              "div.sk-estimator.fitted:hover .sk-estimator-doc-link.fitted:hover,\n",
              ".sk-estimator-doc-link.fitted:hover,\n",
              "div.sk-label-container:hover .sk-estimator-doc-link.fitted:hover,\n",
              ".sk-estimator-doc-link.fitted:hover {\n",
              "  /* fitted */\n",
              "  background-color: var(--sklearn-color-fitted-level-3);\n",
              "  color: var(--sklearn-color-background);\n",
              "  text-decoration: none;\n",
              "}\n",
              "\n",
              "/* Span, style for the box shown on hovering the info icon */\n",
              ".sk-estimator-doc-link span {\n",
              "  display: none;\n",
              "  z-index: 9999;\n",
              "  position: relative;\n",
              "  font-weight: normal;\n",
              "  right: .2ex;\n",
              "  padding: .5ex;\n",
              "  margin: .5ex;\n",
              "  width: min-content;\n",
              "  min-width: 20ex;\n",
              "  max-width: 50ex;\n",
              "  color: var(--sklearn-color-text);\n",
              "  box-shadow: 2pt 2pt 4pt #999;\n",
              "  /* unfitted */\n",
              "  background: var(--sklearn-color-unfitted-level-0);\n",
              "  border: .5pt solid var(--sklearn-color-unfitted-level-3);\n",
              "}\n",
              "\n",
              ".sk-estimator-doc-link.fitted span {\n",
              "  /* fitted */\n",
              "  background: var(--sklearn-color-fitted-level-0);\n",
              "  border: var(--sklearn-color-fitted-level-3);\n",
              "}\n",
              "\n",
              ".sk-estimator-doc-link:hover span {\n",
              "  display: block;\n",
              "}\n",
              "\n",
              "/* \"?\"-specific style due to the `<a>` HTML tag */\n",
              "\n",
              "#sk-container-id-1 a.estimator_doc_link {\n",
              "  float: right;\n",
              "  font-size: 1rem;\n",
              "  line-height: 1em;\n",
              "  font-family: monospace;\n",
              "  background-color: var(--sklearn-color-background);\n",
              "  border-radius: 1rem;\n",
              "  height: 1rem;\n",
              "  width: 1rem;\n",
              "  text-decoration: none;\n",
              "  /* unfitted */\n",
              "  color: var(--sklearn-color-unfitted-level-1);\n",
              "  border: var(--sklearn-color-unfitted-level-1) 1pt solid;\n",
              "}\n",
              "\n",
              "#sk-container-id-1 a.estimator_doc_link.fitted {\n",
              "  /* fitted */\n",
              "  border: var(--sklearn-color-fitted-level-1) 1pt solid;\n",
              "  color: var(--sklearn-color-fitted-level-1);\n",
              "}\n",
              "\n",
              "/* On hover */\n",
              "#sk-container-id-1 a.estimator_doc_link:hover {\n",
              "  /* unfitted */\n",
              "  background-color: var(--sklearn-color-unfitted-level-3);\n",
              "  color: var(--sklearn-color-background);\n",
              "  text-decoration: none;\n",
              "}\n",
              "\n",
              "#sk-container-id-1 a.estimator_doc_link.fitted:hover {\n",
              "  /* fitted */\n",
              "  background-color: var(--sklearn-color-fitted-level-3);\n",
              "}\n",
              "</style><div id=\"sk-container-id-1\" class=\"sk-top-container\"><div class=\"sk-text-repr-fallback\"><pre>KNeighborsClassifier(metric=&#x27;euclidean&#x27;, n_neighbors=10)</pre><b>In a Jupyter environment, please rerun this cell to show the HTML representation or trust the notebook. <br />On GitHub, the HTML representation is unable to render, please try loading this page with nbviewer.org.</b></div><div class=\"sk-container\" hidden><div class=\"sk-item\"><div class=\"sk-estimator fitted sk-toggleable\"><input class=\"sk-toggleable__control sk-hidden--visually\" id=\"sk-estimator-id-1\" type=\"checkbox\" checked><label for=\"sk-estimator-id-1\" class=\"sk-toggleable__label fitted sk-toggleable__label-arrow fitted\">&nbsp;&nbsp;KNeighborsClassifier<a class=\"sk-estimator-doc-link fitted\" rel=\"noreferrer\" target=\"_blank\" href=\"https://scikit-learn.org/1.4/modules/generated/sklearn.neighbors.KNeighborsClassifier.html\">?<span>Documentation for KNeighborsClassifier</span></a><span class=\"sk-estimator-doc-link fitted\">i<span>Fitted</span></span></label><div class=\"sk-toggleable__content fitted\"><pre>KNeighborsClassifier(metric=&#x27;euclidean&#x27;, n_neighbors=10)</pre></div> </div></div></div></div>"
            ],
            "text/plain": [
              "KNeighborsClassifier(metric='euclidean', n_neighbors=10)"
            ]
          },
          "execution_count": 15,
          "metadata": {},
          "output_type": "execute_result"
        }
      ],
      "source": [
        "KNN = KNeighborsClassifier(n_neighbors = 10,              # número de vecinos k=10\n",
        "                           metric = 'euclidean')          # métrica euclideana\n",
        "KNN.fit(X_train,y_train)"
      ]
    },
    {
      "cell_type": "markdown",
      "metadata": {
        "id": "PsoZTQB33j66"
      },
      "source": [
        "## <FONT SIZE=4 COLOR=\"blue\"> 4.10 Evaluar en el conjunto de Prueba  </FONT>\n",
        "\n",
        "Luego de tener el modelo entrenado con **X_{train}** y **y_{train}** pasamos a calcularlo en el conjunto **X_{test}**, con lo cual obtendremos valores de predicción del modelo."
      ]
    },
    {
      "cell_type": "code",
      "execution_count": 16,
      "metadata": {
        "colab": {
          "base_uri": "https://localhost:8080/"
        },
        "id": "Y3LZQ9s63n1U",
        "outputId": "ec4aebac-3006-47ac-e287-3f9c56547fc2"
      },
      "outputs": [
        {
          "name": "stderr",
          "output_type": "stream",
          "text": [
            "  File \"c:\\Users\\Usuario\\AppData\\Local\\Programs\\Python\\Python310\\lib\\site-packages\\joblib\\externals\\loky\\backend\\context.py\", line 217, in _count_physical_cores\n",
            "    raise ValueError(\n"
          ]
        },
        {
          "data": {
            "text/plain": [
              "array([0, 0, 0, 0, 0, 0, 0, 0, 0, 0, 0, 0, 0, 1, 0, 0, 0, 1, 1, 1, 0, 1,\n",
              "       0, 0, 1, 0, 0, 0, 0, 1, 0, 1, 0, 1, 0, 0, 0, 1, 0, 1, 0, 0, 1, 0,\n",
              "       0, 1, 0, 0, 0, 0, 1, 0, 1, 0, 0, 0, 0, 0, 0, 1, 1, 1, 0, 0, 1, 0,\n",
              "       1, 1, 1, 0, 0, 1, 0, 0, 1, 0, 0, 0, 0, 0, 0, 1, 1, 0, 1, 0, 0, 0,\n",
              "       1, 1, 0, 0, 1, 1, 0, 0, 1, 0, 0, 0, 0, 0, 0, 0, 1, 0, 1, 0, 1, 1,\n",
              "       0, 1, 1, 0], dtype=int64)"
            ]
          },
          "execution_count": 16,
          "metadata": {},
          "output_type": "execute_result"
        }
      ],
      "source": [
        "y_pred = KNN.predict(X_test)\n",
        "y_pred"
      ]
    },
    {
      "cell_type": "markdown",
      "metadata": {
        "id": "3Gzcmncd7CRx"
      },
      "source": [
        "La pregunta que nos hacemos ahora es:\n",
        "\n",
        "***¿Qué tanta coincidencia hay en el modelo con los datos de prueba?***\n",
        "\n",
        "La respuesta a esta pregunta la tendremos justamente comparando **$y_{pred}$** con **$y_{test}$**. Esto lo haremos con una herramienta muy importante en Machine Learning y modelos de clasificación denominada ***matriz de confusión***."
      ]
    },
    {
      "cell_type": "markdown",
      "metadata": {
        "id": "k36weu033utG"
      },
      "source": [
        "# <FONT SIZE=5 COLOR=\"blue\"> 5. Matriz de Confusión </FONT>\n",
        "\n",
        "En el campo del Machine Lerning la **matriz de confusión** es una herramienta que permite visualizar el desempeño de un algoritmo  de aprendizaje supervisado.\n",
        "\n",
        "- Las columnas de la matriz representa el número de predicciones de cada clase.\n",
        "\n",
        "- Las filas representan las instancias en la clase real.\n",
        "\n",
        "Esta matriz permite ver qué tipos de aciertos y errores está teniendo nuestro modelo a la hora de pasar por el proceso de aprendizaje con los datos.\n",
        "\n",
        "En el siguiente gráfico se muestra lo anterior\n",
        "\n",
        "<br>\n",
        "<center><img src=\"https://github.com/Fabian830348/cursos/blob/master/Imagen/metricas.png?raw=true\" alt=\"centered image\" width=\"500\" height=\"400\"></center>\n",
        "<br>\n",
        "\n",
        "Para entender la matriz de confusión debemos definir dos conceptos:\n",
        "\n",
        "**Exactitud:** Mide cuánto se aproximan los resultados al valor verdadero\n",
        "\n",
        "**Precisión:** Mide cuánto se aproximan los datos entre sí.\n",
        "\n",
        "Veamos algunas definiciones\n",
        "\n",
        "**Verdadero positivo:** El valor real es positivo y la prueba predice tambien que es positivo.\n",
        "\n",
        "- La persona estaba enferma y el modelo predice bien que estaba enferma. *Prediccón correcta*\n",
        "\n",
        "**Verdadero negativo:** El valor real es negativo y la prueba predice tambien que el resultado es negativo.\n",
        "\n",
        "- La persona no está enferma y el modelo predice que no está enferma. *Predicción correcta*\n",
        "\n",
        "**Falso negativo:** El valor real es positivo, y la prueba predice que el resultado es negativo.\n",
        "\n",
        "- La persona esta enferma y el modelo predice que no lo está. *predicción incorrecta* : error tipo II\n",
        "\n",
        "**Falso positivo:** El valor real es negativo, y la prueba predice que el resultado es positivo.\n",
        "\n",
        "- La persona no está enferma y el modelo predice que lo está. *predicción incorrecta* : error tipo I\n",
        "\n",
        "Veamos las métricas que se utilizan para evaluar el modelo.\n",
        "\n",
        "**Accuracy** : Exactitud\n",
        "\n",
        "- La Exactitud (en inglés, “Accuracy”) se refiere a lo cerca que está el resultado de una medición del valor verdadero.\n",
        "\n",
        "- Es el porcentaje de predicciones correctas de todo el modelo.\n",
        "\n",
        "- En términos estadísticos, la exactitud está relacionada con el sesgo de una estimación.\n",
        "\n",
        "- Es la proporción de resultados verdaderos (tanto verdaderos positivos (VP) como verdaderos negativos (VN)) dividido entre el número total de casos examinados (verdaderos positivos, falsos positivos, verdaderos negativos, falsos negativos)\n",
        "\n",
        "$$Accurary = \\dfrac{VP+VN}{VP+FN+VN+FP}$$\n",
        "\n",
        "**Precision** : Precisión\n",
        "\n",
        "- La Precisión (en inglés “Precision”)  se refiere a la dispersión del conjunto de valores obtenidos a partir de mediciones repetidas de una magnitud.\n",
        "\n",
        "- A mayor precisión menos es la dispersión.\n",
        "\n",
        "- Es la proporción de verdaderos positivos dividido entre los resultados etiquetados como positivos.\n",
        "\n",
        "- Es el porcentaje de casos reales positivos dentro de los casos positivos detectados.\n",
        "\n",
        "$$Precision = \\dfrac{VP}{VP+FP}$$\n",
        "\n",
        "**Recall**: sensibilidad\n",
        "\n",
        "- Es la proporción de casos positivos que fueron correctamente identificadas por el algoritmo.\n",
        "\n",
        "$$recall = \\dfrac{VP}{VP+FN}$$\n",
        "\n",
        "*En el área de la salud se dice que la sensibilidad o recall es la capacidad de de poder detectar correctamente la enfermedad entre los enfermos*\n",
        "\n",
        "**Especifity**\n",
        "\n",
        "- Es la proporción de casos negativos que fueron correctamente identificadas por el algoritmo.\n",
        "\n",
        "$$Especifity = \\dfrac{VN}{VN+FP}$$\n",
        "\n",
        "*En el area de la salud se dice que la especificidad es la capacidad de poder identificar los casos de pacientes sanos entre todos los sanos*\n",
        "\n",
        "**F1 Score:**\n",
        "\n",
        "- Esta una métrica muy empleada porque nos resume la precisión y sensibilidad en una sola métrica. Por ello es de gran utilidad cuando la distribución de las clases es desigual, por ejemplo cuando el número de pacientes con una condición es del 15% y el otro es 85%.\n",
        "\n",
        "$$F1 = \\dfrac{2*precision*recall}{precision+recall} $$\n",
        "\n",
        "$$ F1= \\dfrac{2}{ \\dfrac{1}{precision}+\\dfrac{1}{recall}} $$\n",
        "\n",
        "Resumen:\n",
        "\n",
        "**Alta precisión y alto recall**: el modelo de Machine Learning escogido maneja perfectamente esa clase.\n",
        "\n",
        "**Alta precisión y bajo recall**: el modelo de Machine Learning escogido no detecta la clase muy bien, pero cuando lo hace es altamente confiable.\n",
        "\n",
        "**Baja precisión y alto recall**: El modelo de Machine Learning escogido detecta bien la clase,  pero también incluye muestras de la otra clase.\n",
        "\n",
        "**Baja precisión y bajo recall**: El modelo de Machine Learning escogido no logra clasificar la clase correctamente.\n",
        "\n",
        "***Observación importante***\n",
        "\n",
        "- Cuando se tiene un conjunto de datos con clases **desbalanceadas**, suele ocurrir que obtenemos un alto valor de precisión en la clase mayoritaria y un bajo recall en la clase Minoritaria.  En el campo de la salud ésta circunstancia es particularmente frecuente y se debe recurrir al balanceo de clases.\n",
        "\n",
        "Consejos generales sobre La matriz de confusión y sus métricas:\n",
        "\n",
        "1,) La precisión es un gran estadístico, pero es útil únicamente cuando se tienen conjuntos de datos simétricos (la cantidad de casos de la clase 1 y de las clase 2 tienen magnitudes similares)\n",
        "\n",
        "2.) El indicador F1 de la matriz de confusión es útil si se tiene una distribución de clases desigual.\n",
        "\n",
        "3.) Elija mayor precisión para conocer qué tan seguro está de los verdaderos positivos, Mientras que la sensibilidad o “Recall” le servirá para saber si no está perdiendo positivos.\n",
        "\n",
        "4.) Las Falsas Alarmas:  Por ejemplo,  si cree que es mejor en su caso tener falsos positivos que falsos negativos, utilice una sensibilidad alta  (Recall) , cuando la aparición de falsos negativos le resulta inaceptable pero no le importa tener falsos positivos adicionales (falsas alarmas).\n",
        "\n",
        "Un ejemplo de esto es:  Prefieres que algunas personas sanas sean etiquetadas como diabéticas en lugar de dejar a una persona diabética etiquetada como sana.\n",
        "\n",
        "5.)  Elija precisión (precision en inglés)  si quiere estar más seguro de sus verdaderos positivos. por ejemplo, correos electrónicos no deseados.  En este caso se prefiere tener algunos correos electrónicos “no deseados” en su bandeja de entrada en lugar de tener correos electrónicos “reales” en su bandeja de SPAM.\n",
        "\n",
        "6.) Elija alta Especificidad:  si desea identificar los verdaderos negativos, o lo que es igual cuando no desea falsos positivos. Por ejemplo conductores  y las pruebas de alcoholemia\n",
        "\n",
        "Referencia : https://www.juanbarrios.com/la-matriz-de-confusion-y-sus-metricas/\n",
        "\n",
        "\n"
      ]
    },
    {
      "cell_type": "markdown",
      "metadata": {
        "id": "zxREriCb9iH5"
      },
      "source": [
        "Con base a lo anterior vamos a construir la matriz de confusión"
      ]
    },
    {
      "cell_type": "code",
      "execution_count": 17,
      "metadata": {
        "colab": {
          "base_uri": "https://localhost:8080/"
        },
        "id": "h6a-VWvC1KwN",
        "outputId": "5a8e94a5-c2ca-4da2-8a37-ef05aaa0e82e"
      },
      "outputs": [
        {
          "data": {
            "text/plain": [
              "array([[65,  2],\n",
              "       [11, 36]], dtype=int64)"
            ]
          },
          "execution_count": 17,
          "metadata": {},
          "output_type": "execute_result"
        }
      ],
      "source": [
        "confusion_matrix(y_test, y_pred)"
      ]
    },
    {
      "cell_type": "code",
      "execution_count": 18,
      "metadata": {
        "colab": {
          "base_uri": "https://localhost:8080/",
          "height": 488
        },
        "id": "LWYlILDN6llf",
        "outputId": "142f2399-c142-48ca-853a-04c293282c42"
      },
      "outputs": [
        {
          "data": {
            "text/plain": [
              "Text(0.5, 36.72222222222221, 'Predicciones')"
            ]
          },
          "execution_count": 18,
          "metadata": {},
          "output_type": "execute_result"
        },
        {
          "data": {
            "image/png": "[encoded data removed]",
            "text/plain": [
              "<Figure size 1500x600 with 2 Axes>"
            ]
          },
          "metadata": {},
          "output_type": "display_data"
        }
      ],
      "source": [
        "from sklearn import metrics\n",
        "MC= metrics.confusion_matrix(y_test, y_pred)\n",
        "p = sns.heatmap(pd.DataFrame(MC),                    # data.frame\n",
        "                annot=True,                          # colocar números de las cajitas\n",
        "                annot_kws = {'size':20},             # tamaño de la letra\n",
        "                cmap=\"YlOrRd\",                       # color de la letra 'Pastel1', 'Pastel1_r', 'Pastel2', 'Pastel2_r', 'PiYG', 'PiYG_r', 'PuBu'\n",
        "                fmt='g')                             # para que salgan los número no : notación científica\n",
        "plt.title('Matriz de Confusión', y=1.1)\n",
        "plt.ylabel('Valores Reales')\n",
        "plt.xlabel('Predicciones')"
      ]
    },
    {
      "cell_type": "markdown",
      "metadata": {
        "id": "Nx2INYvf96ks"
      },
      "source": [
        "Vamos a calcular la precisión del modelo"
      ]
    },
    {
      "cell_type": "code",
      "execution_count": 19,
      "metadata": {
        "colab": {
          "base_uri": "https://localhost:8080/"
        },
        "id": "dwJFuSFY91bT",
        "outputId": "2a97e236-6fb3-48f8-dfc6-093427097ff2"
      },
      "outputs": [
        {
          "name": "stdout",
          "output_type": "stream",
          "text": [
            "0.8859649122807017\n"
          ]
        }
      ],
      "source": [
        "#accuracy score\n",
        "print(accuracy_score(y_test,y_pred))"
      ]
    },
    {
      "cell_type": "markdown",
      "metadata": {
        "id": "xhci7d2O-AbN"
      },
      "source": [
        "Revisaremos las otras métricas"
      ]
    },
    {
      "cell_type": "code",
      "execution_count": 20,
      "metadata": {
        "colab": {
          "base_uri": "https://localhost:8080/"
        },
        "id": "9QlAzMIg-DWS",
        "outputId": "bf2ff4e5-3bdb-47fe-b719-748f07cc6157"
      },
      "outputs": [
        {
          "name": "stdout",
          "output_type": "stream",
          "text": [
            "              precision    recall  f1-score   support\n",
            "\n",
            "           0       0.86      0.97      0.91        67\n",
            "           1       0.95      0.77      0.85        47\n",
            "\n",
            "    accuracy                           0.89       114\n",
            "   macro avg       0.90      0.87      0.88       114\n",
            "weighted avg       0.89      0.89      0.88       114\n",
            "\n"
          ]
        }
      ],
      "source": [
        "print(classification_report(y_test,y_pred))"
      ]
    },
    {
      "cell_type": "markdown",
      "metadata": {
        "id": "-ehqc7RMAEE2"
      },
      "source": [
        "**Conclusiones**:\n",
        "\n",
        "- El modelo está clasificando bien al $89%$ de los registros.\n",
        "\n",
        "- El *recall* es $77\\%$, es decir, de las personas que tienen tumor maligno, el algoritmo detecta el $77\\%$."
      ]
    },
    {
      "cell_type": "markdown",
      "metadata": {
        "id": "FAzMR4_0-zDH"
      },
      "source": [
        "# <FONT SIZE=5 COLOR=\"blue\"> 5. Predicción en KNN </FONT>\n",
        "\n"
      ]
    },
    {
      "cell_type": "markdown",
      "metadata": {
        "id": "1yvrS3bbM8ph"
      },
      "source": [
        "Particularmente, en estos algoritmos en los que se debe escalar, es importante escalar los valores a predecir. Este escalamiento se hace con base a $X_{train}$"
      ]
    },
    {
      "cell_type": "code",
      "execution_count": 21,
      "metadata": {
        "colab": {
          "base_uri": "https://localhost:8080/"
        },
        "id": "bQhMDLDz_nuz",
        "outputId": "75118e0c-e207-424e-faec-316b8e7f37a1"
      },
      "outputs": [
        {
          "data": {
            "text/plain": [
              "array([[1.640e+01, 1.030e+01, 1.218e+02, 1.001e+03, 1.084e-01, 3.076e-01,\n",
              "        3.001e-01, 1.371e-01, 2.419e-01, 7.871e-02, 1.200e+00, 9.053e-01,\n",
              "        8.589e+00, 1.534e+02, 6.399e-03, 5.904e-02, 5.373e-02, 1.587e-02,\n",
              "        3.003e-02, 6.093e-03, 2.338e+01, 1.533e+01, 1.826e+02, 2.019e+03,\n",
              "        1.622e-01, 6.756e-01, 7.119e-01, 2.554e-01, 4.501e-01, 1.170e-01]])"
            ]
          },
          "execution_count": 21,
          "metadata": {},
          "output_type": "execute_result"
        }
      ],
      "source": [
        "X_new = np.array([[16.4,10.30,121.8,1001,0.1084,0.3076,0.3001,0.1371,0.2419,0.07871,1.2,0.9053,8.589,153.4,0.006399,0.05904,0.05373,0.01587,0.03003,0.006093,23.38,15.33,182.6,2019,0.1622,0.6756,0.7119,0.2554,0.4501,0.1170]])\n",
        "X_news = (X_new-X_train.mean())/(X_train.std())\n",
        "X_news\n",
        "# escalar.transform(X_new)"
      ]
    },
    {
      "cell_type": "code",
      "execution_count": 22,
      "metadata": {
        "colab": {
          "base_uri": "https://localhost:8080/"
        },
        "id": "mxTW8vDfB7iD",
        "outputId": "4407341f-6f55-4d6c-ab63-c467f2c47ef8"
      },
      "outputs": [
        {
          "data": {
            "text/plain": [
              "array([1], dtype=int64)"
            ]
          },
          "execution_count": 22,
          "metadata": {},
          "output_type": "execute_result"
        }
      ],
      "source": [
        "KNN.predict(X_news)"
      ]
    },
    {
      "cell_type": "markdown",
      "metadata": {
        "id": "itbWUL1XD78a"
      },
      "source": [
        "# <FONT SIZE=5 COLOR=\"blue\"> 6. Optimicemos el valor de k </FONT>"
      ]
    },
    {
      "cell_type": "markdown",
      "metadata": {
        "id": "_cLfbGzIF6g5"
      },
      "source": [
        "Para esto podemos programar una función que itere sobre $k$ de la siguiente manera."
      ]
    },
    {
      "cell_type": "code",
      "execution_count": 23,
      "metadata": {
        "colab": {
          "base_uri": "https://localhost:8080/",
          "height": 1000
        },
        "id": "kHcTxqJ7GBG7",
        "outputId": "4d84a2fa-f00e-42c5-a568-b60903387720"
      },
      "outputs": [
        {
          "data": {
            "text/plain": [
              "([<matplotlib.axis.XTick at 0x1e4fb7aed70>,\n",
              "  <matplotlib.axis.XTick at 0x1e4fb7aed40>,\n",
              "  <matplotlib.axis.XTick at 0x1e4fb7ae980>,\n",
              "  <matplotlib.axis.XTick at 0x1e4fd7db400>,\n",
              "  <matplotlib.axis.XTick at 0x1e4fd7dbeb0>,\n",
              "  <matplotlib.axis.XTick at 0x1e4fd81c9a0>,\n",
              "  <matplotlib.axis.XTick at 0x1e4fd81d450>,\n",
              "  <matplotlib.axis.XTick at 0x1e4fd7db760>,\n",
              "  <matplotlib.axis.XTick at 0x1e4fd81df00>,\n",
              "  <matplotlib.axis.XTick at 0x1e4fd81e9b0>,\n",
              "  <matplotlib.axis.XTick at 0x1e4fd81f460>,\n",
              "  <matplotlib.axis.XTick at 0x1e4fd81ff10>,\n",
              "  <matplotlib.axis.XTick at 0x1e4fd81e140>,\n",
              "  <matplotlib.axis.XTick at 0x1e4fd830850>,\n",
              "  <matplotlib.axis.XTick at 0x1e4fd831300>,\n",
              "  <matplotlib.axis.XTick at 0x1e4fd831db0>,\n",
              "  <matplotlib.axis.XTick at 0x1e4fd7db7f0>,\n",
              "  <matplotlib.axis.XTick at 0x1e4fd830f70>,\n",
              "  <matplotlib.axis.XTick at 0x1e4fd8330d0>],\n",
              " [Text(1, 0, '1'),\n",
              "  Text(2, 0, '2'),\n",
              "  Text(3, 0, '3'),\n",
              "  Text(4, 0, '4'),\n",
              "  Text(5, 0, '5'),\n",
              "  Text(6, 0, '6'),\n",
              "  Text(7, 0, '7'),\n",
              "  Text(8, 0, '8'),\n",
              "  Text(9, 0, '9'),\n",
              "  Text(10, 0, '10'),\n",
              "  Text(11, 0, '11'),\n",
              "  Text(12, 0, '12'),\n",
              "  Text(13, 0, '13'),\n",
              "  Text(14, 0, '14'),\n",
              "  Text(15, 0, '15'),\n",
              "  Text(16, 0, '16'),\n",
              "  Text(17, 0, '17'),\n",
              "  Text(18, 0, '18'),\n",
              "  Text(19, 0, '19')])"
            ]
          },
          "execution_count": 23,
          "metadata": {},
          "output_type": "execute_result"
        },
        {
          "data": {
            "image/png": "[encoded data removed]",
            "text/plain": [
              "<Figure size 1500x600 with 1 Axes>"
            ]
          },
          "metadata": {},
          "output_type": "display_data"
        }
      ],
      "source": [
        "k_range = range(1, 20) # rango de k. k desde 1 a 20.\n",
        "scores = []\n",
        "for k in k_range:\n",
        "    knn = KNeighborsClassifier(n_neighbors = k)\n",
        "    knn.fit(X_train, y_train)\n",
        "    scores.append(knn.score(X_test, y_test))\n",
        "plt.figure()\n",
        "plt.xlabel(\"# de vecinos k\")\n",
        "plt.ylabel(\"accuracy\")\n",
        "plt.scatter(k_range, scores)\n",
        "plt.xticks(range(1,20))"
      ]
    },
    {
      "cell_type": "markdown",
      "metadata": {
        "id": "jM2YfWz33EiG"
      },
      "source": [
        "# <FONT SIZE=5 COLOR=\"blue\"> 8. Ejemplo en clase: clasificación de las especies de iris </FONT>\n",
        "Vamos a abordar una primera aplicación de machine learning creando nuestro primer modelo. Repita los pasos anteriores con este conjunto de datos.\n",
        "\n",
        "Supongamos que un jardinero está interesado en distinguir las especies de algunas flores de `iris` que ha encontrado. El jardinero ha recopilado algunas medidas asociadas con cada `iris`:\n",
        "\n",
        "- _El largo de los pétalos (petal length.)_\n",
        "- _El ancho de los pétalos (petal width)._\n",
        "- _El largo de los sépalos (sepal length)._\n",
        "- _El ancho de los sépalos (sepal width)._\n",
        "\n",
        "Todo lo anterior medido en centímetros\n",
        "\n",
        "También tiene las medidas de los `iris` que han sido previamente identificados por un experto botánico como perteneciente a las especies:\n",
        "\n",
        "- _setosa._\n",
        "- _versicolor._\n",
        "- _virginica._\n",
        "\n",
        "Supongamos que estas son las únicas especies que nuestro jardinero aficionado encontrará en la naturaleza.\n",
        "\n",
        "***Objetivo:*** Construir un modelo de machine learning que pueda aprender de las mediciones de estos lirios cuya especie se conoce, de modo que podamos predecir la especie para un nuevo `iris`."
      ]
    },
    {
      "cell_type": "markdown",
      "metadata": {
        "id": "F4fV3MNh7ecC"
      },
      "source": [
        "***Ayuda:***\n",
        "\n",
        "\n",
        "Los datos que se usarán son los consignados en el DataFrame `Iris` un clásico de clásicos en los ejemplos de machine learning y estadística. En el módulo `datasets` de scikit-learn podemos obtener el conjunto de datos.\n",
        "\n",
        "A continuación, se hacen una indicaciones de cómo revisar el conjunto *iris* ya que está en formato diccionario desde la librería."
      ]
    },
    {
      "cell_type": "code",
      "execution_count": null,
      "metadata": {
        "id": "QJyh-N5O8E56"
      },
      "outputs": [],
      "source": [
        "from sklearn.datasets import load_iris\n",
        "iris = load_iris()"
      ]
    },
    {
      "cell_type": "code",
      "execution_count": null,
      "metadata": {
        "id": "E1ssg2F2IaAR"
      },
      "outputs": [],
      "source": [
        "iris_df = pd.DataFrame(iris.data, columns = iris.feature_names)\n",
        "iris_df.head(6)"
      ]
    },
    {
      "cell_type": "code",
      "execution_count": null,
      "metadata": {
        "id": "ahf6WJFTI5tB"
      },
      "outputs": [],
      "source": [
        "# vamos a hacer una copia del conjunto de datos.\n",
        "df = iris_df.copy()\n",
        "# agregamos la última columna de la variable objetivo\n",
        "df['target_name'] = iris.target\n",
        "# podemos codificar\n",
        "df[\"target_name\"] = df['target_name'].replace({0:\"setosa\",1:\"versicolor\",2:\"virginica\"})\n",
        "df"
      ]
    },
    {
      "cell_type": "markdown",
      "metadata": {},
      "source": [
        "1. Realizar el analisis descriptivo de la base (distribucion de las clases)\n",
        "2. Separacion de la informacion en test y train\n",
        "3. Realizar estandarizacion\n",
        "4. Realizar el entrenamiento  (Buscar cual es mejor k para el problema -> utilizar el grafico de accuracy )\n",
        "5. Calcular matriz de confuncion y las respectivas metricas.\n",
        "6. Realizar inferencia."
      ]
    },
    {
      "cell_type": "code",
      "execution_count": null,
      "metadata": {},
      "outputs": [],
      "source": []
    }
  ],
  "metadata": {
    "colab": {
      "provenance": []
    },
    "kernelspec": {
      "display_name": "Python 3",
      "name": "python3"
    },
    "language_info": {
      "codemirror_mode": {
        "name": "ipython",
        "version": 3
      },
      "file_extension": ".py",
      "mimetype": "text/x-python",
      "name": "python",
      "nbconvert_exporter": "python",
      "pygments_lexer": "ipython3",
      "version": "3.10.6"
    },
    "widgets": {
      "application/vnd.jupyter.widget-state+json": {
        "20485f5c31ec426b9a3896d22fd2708d": {
          "model_module": "@jupyter-widgets/base",
          "model_module_version": "1.2.0",
          "model_name": "LayoutModel",
          "state": {
            "_model_module": "@jupyter-widgets/base",
            "_model_module_version": "1.2.0",
            "_model_name": "LayoutModel",
            "_view_count": null,
            "_view_module": "@jupyter-widgets/base",
            "_view_module_version": "1.2.0",
            "_view_name": "LayoutView",
            "align_content": null,
            "align_items": null,
            "align_self": null,
            "border": null,
            "bottom": null,
            "display": null,
            "flex": "2",
            "flex_flow": null,
            "grid_area": null,
            "grid_auto_columns": null,
            "grid_auto_flow": null,
            "grid_auto_rows": null,
            "grid_column": null,
            "grid_gap": null,
            "grid_row": null,
            "grid_template_areas": null,
            "grid_template_columns": null,
            "grid_template_rows": null,
            "height": null,
            "justify_content": null,
            "justify_items": null,
            "left": null,
            "margin": null,
            "max_height": null,
            "max_width": null,
            "min_height": null,
            "min_width": null,
            "object_fit": null,
            "object_position": null,
            "order": null,
            "overflow": null,
            "overflow_x": null,
            "overflow_y": null,
            "padding": null,
            "right": null,
            "top": null,
            "visibility": null,
            "width": null
          }
        },
        "2af2c4aa037f41c783da33147d03d25a": {
          "model_module": "@jupyter-widgets/controls",
          "model_module_version": "1.5.0",
          "model_name": "HTMLModel",
          "state": {
            "_dom_classes": [],
            "_model_module": "@jupyter-widgets/controls",
            "_model_module_version": "1.5.0",
            "_model_name": "HTMLModel",
            "_view_count": null,
            "_view_module": "@jupyter-widgets/controls",
            "_view_module_version": "1.5.0",
            "_view_name": "HTMLView",
            "description": "",
            "description_tooltip": null,
            "layout": "IPY_MODEL_57109600898a42e5832fe4bb96828bbf",
            "placeholder": "​",
            "style": "IPY_MODEL_4d5a2bb9354743acb6b1f828e5860060",
            "value": "Done! Use &#x27;show&#x27; commands to display/save.   "
          }
        },
        "38ad224c833e4aaab32abe31a3bd4904": {
          "model_module": "@jupyter-widgets/controls",
          "model_module_version": "1.5.0",
          "model_name": "HBoxModel",
          "state": {
            "_dom_classes": [],
            "_model_module": "@jupyter-widgets/controls",
            "_model_module_version": "1.5.0",
            "_model_name": "HBoxModel",
            "_view_count": null,
            "_view_module": "@jupyter-widgets/controls",
            "_view_module_version": "1.5.0",
            "_view_name": "HBoxView",
            "box_style": "",
            "children": [
              "IPY_MODEL_2af2c4aa037f41c783da33147d03d25a",
              "IPY_MODEL_491e60a2bf33499c9e6ce3b8e2b9d010",
              "IPY_MODEL_48b5a6cb6c0f4c2ea8a452e2d01e014f"
            ],
            "layout": "IPY_MODEL_e5e068c3b6e8455e8e23b95f9c20de75"
          }
        },
        "48b5a6cb6c0f4c2ea8a452e2d01e014f": {
          "model_module": "@jupyter-widgets/controls",
          "model_module_version": "1.5.0",
          "model_name": "HTMLModel",
          "state": {
            "_dom_classes": [],
            "_model_module": "@jupyter-widgets/controls",
            "_model_module_version": "1.5.0",
            "_model_name": "HTMLModel",
            "_view_count": null,
            "_view_module": "@jupyter-widgets/controls",
            "_view_module_version": "1.5.0",
            "_view_name": "HTMLView",
            "description": "",
            "description_tooltip": null,
            "layout": "IPY_MODEL_8ce5bc09e845447987dc0d6eaedf1d5f",
            "placeholder": "​",
            "style": "IPY_MODEL_608a22b4eff847b2897d59335613022b",
            "value": " [100%]   00:04 -&gt; (00:00 left)"
          }
        },
        "491e60a2bf33499c9e6ce3b8e2b9d010": {
          "model_module": "@jupyter-widgets/controls",
          "model_module_version": "1.5.0",
          "model_name": "FloatProgressModel",
          "state": {
            "_dom_classes": [],
            "_model_module": "@jupyter-widgets/controls",
            "_model_module_version": "1.5.0",
            "_model_name": "FloatProgressModel",
            "_view_count": null,
            "_view_module": "@jupyter-widgets/controls",
            "_view_module_version": "1.5.0",
            "_view_name": "ProgressView",
            "bar_style": "success",
            "description": "",
            "description_tooltip": null,
            "layout": "IPY_MODEL_20485f5c31ec426b9a3896d22fd2708d",
            "max": 1,
            "min": 0,
            "orientation": "horizontal",
            "style": "IPY_MODEL_dfe05e18871c484e850f98388becb0c8",
            "value": 1
          }
        },
        "4d5a2bb9354743acb6b1f828e5860060": {
          "model_module": "@jupyter-widgets/controls",
          "model_module_version": "1.5.0",
          "model_name": "DescriptionStyleModel",
          "state": {
            "_model_module": "@jupyter-widgets/controls",
            "_model_module_version": "1.5.0",
            "_model_name": "DescriptionStyleModel",
            "_view_count": null,
            "_view_module": "@jupyter-widgets/base",
            "_view_module_version": "1.2.0",
            "_view_name": "StyleView",
            "description_width": ""
          }
        },
        "57109600898a42e5832fe4bb96828bbf": {
          "model_module": "@jupyter-widgets/base",
          "model_module_version": "1.2.0",
          "model_name": "LayoutModel",
          "state": {
            "_model_module": "@jupyter-widgets/base",
            "_model_module_version": "1.2.0",
            "_model_name": "LayoutModel",
            "_view_count": null,
            "_view_module": "@jupyter-widgets/base",
            "_view_module_version": "1.2.0",
            "_view_name": "LayoutView",
            "align_content": null,
            "align_items": null,
            "align_self": null,
            "border": null,
            "bottom": null,
            "display": null,
            "flex": null,
            "flex_flow": null,
            "grid_area": null,
            "grid_auto_columns": null,
            "grid_auto_flow": null,
            "grid_auto_rows": null,
            "grid_column": null,
            "grid_gap": null,
            "grid_row": null,
            "grid_template_areas": null,
            "grid_template_columns": null,
            "grid_template_rows": null,
            "height": null,
            "justify_content": null,
            "justify_items": null,
            "left": null,
            "margin": null,
            "max_height": null,
            "max_width": null,
            "min_height": null,
            "min_width": null,
            "object_fit": null,
            "object_position": null,
            "order": null,
            "overflow": null,
            "overflow_x": null,
            "overflow_y": null,
            "padding": null,
            "right": null,
            "top": null,
            "visibility": null,
            "width": null
          }
        },
        "608a22b4eff847b2897d59335613022b": {
          "model_module": "@jupyter-widgets/controls",
          "model_module_version": "1.5.0",
          "model_name": "DescriptionStyleModel",
          "state": {
            "_model_module": "@jupyter-widgets/controls",
            "_model_module_version": "1.5.0",
            "_model_name": "DescriptionStyleModel",
            "_view_count": null,
            "_view_module": "@jupyter-widgets/base",
            "_view_module_version": "1.2.0",
            "_view_name": "StyleView",
            "description_width": ""
          }
        },
        "8ce5bc09e845447987dc0d6eaedf1d5f": {
          "model_module": "@jupyter-widgets/base",
          "model_module_version": "1.2.0",
          "model_name": "LayoutModel",
          "state": {
            "_model_module": "@jupyter-widgets/base",
            "_model_module_version": "1.2.0",
            "_model_name": "LayoutModel",
            "_view_count": null,
            "_view_module": "@jupyter-widgets/base",
            "_view_module_version": "1.2.0",
            "_view_name": "LayoutView",
            "align_content": null,
            "align_items": null,
            "align_self": null,
            "border": null,
            "bottom": null,
            "display": null,
            "flex": null,
            "flex_flow": null,
            "grid_area": null,
            "grid_auto_columns": null,
            "grid_auto_flow": null,
            "grid_auto_rows": null,
            "grid_column": null,
            "grid_gap": null,
            "grid_row": null,
            "grid_template_areas": null,
            "grid_template_columns": null,
            "grid_template_rows": null,
            "height": null,
            "justify_content": null,
            "justify_items": null,
            "left": null,
            "margin": null,
            "max_height": null,
            "max_width": null,
            "min_height": null,
            "min_width": null,
            "object_fit": null,
            "object_position": null,
            "order": null,
            "overflow": null,
            "overflow_x": null,
            "overflow_y": null,
            "padding": null,
            "right": null,
            "top": null,
            "visibility": null,
            "width": null
          }
        },
        "dfe05e18871c484e850f98388becb0c8": {
          "model_module": "@jupyter-widgets/controls",
          "model_module_version": "1.5.0",
          "model_name": "ProgressStyleModel",
          "state": {
            "_model_module": "@jupyter-widgets/controls",
            "_model_module_version": "1.5.0",
            "_model_name": "ProgressStyleModel",
            "_view_count": null,
            "_view_module": "@jupyter-widgets/base",
            "_view_module_version": "1.2.0",
            "_view_name": "StyleView",
            "bar_color": null,
            "description_width": ""
          }
        },
        "e5e068c3b6e8455e8e23b95f9c20de75": {
          "model_module": "@jupyter-widgets/base",
          "model_module_version": "1.2.0",
          "model_name": "LayoutModel",
          "state": {
            "_model_module": "@jupyter-widgets/base",
            "_model_module_version": "1.2.0",
            "_model_name": "LayoutModel",
            "_view_count": null,
            "_view_module": "@jupyter-widgets/base",
            "_view_module_version": "1.2.0",
            "_view_name": "LayoutView",
            "align_content": null,
            "align_items": null,
            "align_self": null,
            "border": null,
            "bottom": null,
            "display": "inline-flex",
            "flex": null,
            "flex_flow": "row wrap",
            "grid_area": null,
            "grid_auto_columns": null,
            "grid_auto_flow": null,
            "grid_auto_rows": null,
            "grid_column": null,
            "grid_gap": null,
            "grid_row": null,
            "grid_template_areas": null,
            "grid_template_columns": null,
            "grid_template_rows": null,
            "height": null,
            "justify_content": null,
            "justify_items": null,
            "left": null,
            "margin": null,
            "max_height": null,
            "max_width": null,
            "min_height": null,
            "min_width": null,
            "object_fit": null,
            "object_position": null,
            "order": null,
            "overflow": null,
            "overflow_x": null,
            "overflow_y": null,
            "padding": null,
            "right": null,
            "top": null,
            "visibility": null,
            "width": "100%"
          }
        }
      }
    }
  },
  "nbformat": 4,
  "nbformat_minor": 0
}
