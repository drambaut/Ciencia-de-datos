{
  "cells": [
    {
      "cell_type": "markdown",
      "metadata": {
        "id": "waDdg_szF1yk"
      },
      "source": [
        "# <FONT COLOR=\"green\"> Punto 1 : Regresión Lineal </FONT>\n",
        "\n",
        "En conjunto de datos contiene las Ventas de datos publicitarios (en miles de unidades) para un producto en particular, con  presupuestos publicitarios (en miles de dólares) para medios de televisión, radio y periódicos.\n",
        "\n",
        "Puede descargarlos de este enlace\n",
        "https://www.kaggle.com/datasets/bumba5341/advertisingcsv\n",
        "\n",
        "O directamente desde la url:\n",
        "\n",
        "https://github.com/amankharwal/Website-data/blob/master/Advertising.csv.\n",
        "\n",
        "1. Cargar los datos\n",
        "\n",
        "2. Hacer una breve exploración a los datos.\n",
        "\n",
        "3. Mostrar las relaciones entre las variables mediante un gráfico de dispersión múltiple.\n",
        "\n",
        "4. Calcular la matriz de correlaciones.\n",
        "\n",
        "5. Seleccione de manera apropiada la variable objetivo.Plantear el modelo de regresión lineal múltiple.\n",
        "\n",
        "6. Evalué el rendimiento del modelo usando el $R^2$.\n",
        "\n",
        "7. Usando el modelo, cuál es el valor de la variable *sales* si *TV = 190* , *Radio = 12*\ty *Newspaper = 40*\n",
        "\n"
      ]
    },
    {
      "cell_type": "markdown",
      "metadata": {
        "id": "Sun6YYEqPWaS"
      },
      "source": [
        "# <FONT COLOR=\"magenta\"> Punto 2: Clustering </FONT>\n",
        "\n",
        "Para este ejercicio considere los datos\n",
        "\n",
        "url =\"https://raw.githubusercontent.com/tirthajyoti/Machine-Learning-with-Python/master/Datasets/Mall_Customers.csv\"\n",
        "\n",
        "El objetivo es hacer *segmentación de consumidor* usando el método de *k-means clustering*.\n",
        "\n",
        "La segmentación del mercado es un proceso que se utiliza en la investigación de mercado para dividir a los clientes en diferentes grupos o segmentos de acuerdo con un determinado conjunto de características.\n",
        "\n",
        "1. Cargar los datos\n",
        "\n",
        "2. Hacer exploración de las variables y su comportamiento. Use histogramas.\n",
        "\n",
        "3. Seleccione un valor de $k$ (número de cluster) y aplica k-means.\n",
        "\n",
        "4. Utilice el método del codo y de la silueta para determinar cuál es el valor de $k$ óptimo (recuerde que esos métodos pueden sugerir diferentes valores de $k$).\n",
        "\n",
        "5. Ejecute el modelo de nuevo.\n",
        "\n",
        "6. ¿Cuál es el representante de cada cluster y los vecinos más cercanos a este?\n",
        "\n",
        "7. Analice y concluya.\n"
      ]
    }
  ],
  "metadata": {
    "colab": {
      "provenance": []
    },
    "kernelspec": {
      "display_name": "Python 3",
      "name": "python3"
    },
    "language_info": {
      "name": "python"
    }
  },
  "nbformat": 4,
  "nbformat_minor": 0
}
