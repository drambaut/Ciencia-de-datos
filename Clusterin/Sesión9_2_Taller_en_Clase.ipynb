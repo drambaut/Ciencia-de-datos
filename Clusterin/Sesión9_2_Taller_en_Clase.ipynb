{
  "cells": [
    {
      "cell_type": "markdown",
      "metadata": {
        "id": "fRaT32lzAGst"
      },
      "source": [
        "# <FONT COLOR=\"magenta\"> Ejercicio en Clase </FONT>\n",
        "\n",
        "Para entregar en grupos de trabajo finalizando la clase.\n",
        "\n",
        "Para este ejercicio considere los datos\n",
        "\n",
        "url =\"https://raw.githubusercontent.com/tirthajyoti/Machine-Learning-with-Python/master/Datasets/Mall_Customers.csv\"\n",
        "\n",
        "El objetivo es hacer *segmentación de consumidor* usando el método de *k-means clustering*.\n",
        "\n",
        "La segmentación del mercado es un proceso que se utiliza en la investigación de mercado para dividir a los clientes en diferentes grupos o segmentos de acuerdo con un determinado conjunto de características.\n",
        "\n",
        "1. Cargar los datos\n",
        "\n",
        "2. Hacer exploración de las variables y su comportamiento. Utilice las librerías y herramientas vistas en clase.\n",
        "\n",
        "3. Seleccione un valor de $k$ (número de cluster, libre elección) y aplique k-means.\n",
        "\n",
        "4. Utilice el método del codo y de la silueta para determinar cuál es el valor de $k$ óptimo (recuerde que esos métodos pueden sugerir diferentes valores de $k$).\n",
        "\n",
        "5. Ejecute el modelo de nuevo.\n",
        "\n",
        "6. ¿Cuál es el representante de cada cluster y los vecinos más cercanos a este?\n",
        "\n",
        "7. Analice y concluya."
      ]
    },
    {
      "cell_type": "markdown",
      "metadata": {
        "id": "UtRqezErmI3y"
      },
      "source": [
        "Además, del punto anterior. Quedaron dos ejercicios de la clase:\n",
        "\n",
        "1. Demostrar que el coeficiente de correlación está entre -1 y 1.\n",
        "\n",
        "2. Calcular los coeficientes $\\beta_0$ y $\\beta_1$ de la regresión lineal, por medio de las derivadas parciales y haciendo el despeje en el proceso de los mínimos cuadrados."
      ]
    }
  ],
  "metadata": {
    "colab": {
      "provenance": []
    },
    "kernelspec": {
      "display_name": "Python 3",
      "name": "python3"
    },
    "language_info": {
      "name": "python"
    }
  },
  "nbformat": 4,
  "nbformat_minor": 0
}
