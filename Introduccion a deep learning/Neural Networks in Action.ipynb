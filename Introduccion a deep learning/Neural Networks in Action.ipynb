{
 "cells": [
  {
   "cell_type": "markdown",
   "metadata": {},
   "source": [
    "# Neural Networks in Action\n",
    "\n",
    "En esta clase vamos a aprender a utilizar la libreria de keras para realizar implementaciones de redes neuronales. Utilizaremos un ejemplo de regresión y uno de clasificación, utilizando bases de datos que se encuentran en keras\n",
    "\n",
    "## Implementación de una red neuronal para clasificación.\n",
    "\n",
    "En este caso utilizaremos el problema de clasificación de digitos del 0 al 9."
   ]
  },
  {
   "cell_type": "code",
   "execution_count": 3,
   "metadata": {},
   "outputs": [
    {
     "name": "stdout",
     "output_type": "stream",
     "text": [
      "El tamaño de los datos de entrenamiento es: (60000, 28, 28)\n",
      "El tamaño de los labels de entrenamiento es: (60000,)\n",
      "El tamaño de los datos de prueba es: (10000, 28, 28)\n",
      "El tamaño de los labels de prueba es: (10000,)\n"
     ]
    }
   ],
   "source": [
    "from keras.datasets import mnist\n",
    "# Dividimos lso datos en entrenamiento y pureba\n",
    "(train_images, train_labels), (test_images, test_labels) = mnist.load_data()\n",
    "# Cantidad de datos\n",
    "print('El tamaño de los datos de entrenamiento es:', train_images.shape)\n",
    "print('El tamaño de los labels de entrenamiento es:', train_labels.shape)\n",
    "print('El tamaño de los datos de prueba es:', test_images.shape)\n",
    "print('El tamaño de los labels de prueba es:', test_labels.shape)"
   ]
  },
  {
   "cell_type": "code",
   "execution_count": 6,
   "metadata": {},
   "outputs": [
    {
     "data": {
      "text/plain": [
       "0"
      ]
     },
     "execution_count": 6,
     "metadata": {},
     "output_type": "execute_result"
    }
   ],
   "source": [
    "train_labels[1040]"
   ]
  },
  {
   "cell_type": "markdown",
   "metadata": {},
   "source": [
    "Ahora observemos alguno de los numeros:"
   ]
  },
  {
   "cell_type": "code",
   "execution_count": 7,
   "metadata": {},
   "outputs": [
    {
     "data": {
      "text/plain": [
       "<function matplotlib.pyplot.show(close=None, block=None)>"
      ]
     },
     "execution_count": 7,
     "metadata": {},
     "output_type": "execute_result"
    },
    {
     "data": {
      "image/png": "[encoded data removed]",
      "text/plain": [
       "<Figure size 640x480 with 1 Axes>"
      ]
     },
     "metadata": {},
     "output_type": "display_data"
    }
   ],
   "source": [
    "digit = train_images[1040]\n",
    "\n",
    "import matplotlib.pyplot as plt\n",
    "plt.imshow(digit, cmap=plt.cm.binary)\n",
    "plt.show"
   ]
  },
  {
   "cell_type": "markdown",
   "metadata": {},
   "source": [
    "Ahora creamos la arquitectura de la red. Esto se hace utilizando un modelo secuencial de capas."
   ]
  },
  {
   "cell_type": "code",
   "execution_count": 8,
   "metadata": {},
   "outputs": [],
   "source": [
    "# Inicializando los parametros de la red neuronal\n",
    "\n",
    "from keras import models\n",
    "from keras import layers\n",
    "\n",
    "network = models.Sequential()\n",
    "network.add(layers.Dense(20, activation='sigmoid', input_shape=(28*28,)))\n",
    "network.add(layers.Dense(15, activation='sigmoid'))\n",
    "network.add(layers.Dense(10,activation='sigmoid'))\n",
    "network.compile(optimizer = 'rmsprop',\n",
    "                loss='categorical_crossentropy',\n",
    "               metrics=['accuracy'])"
   ]
  },
  {
   "cell_type": "markdown",
   "metadata": {},
   "source": [
    "Ahora preprocesamos lso datos par apoder ingresarlos al modelo:"
   ]
  },
  {
   "cell_type": "code",
   "execution_count": 9,
   "metadata": {},
   "outputs": [],
   "source": [
    "train_images = train_images.reshape((60000,28*28))\n",
    "train_images = train_images.astype('float32')/255\n",
    "\n",
    "test_images = test_images.reshape((10000,28*28))\n",
    "test_images = test_images.astype('float32')/255"
   ]
  },
  {
   "cell_type": "code",
   "execution_count": 10,
   "metadata": {},
   "outputs": [
    {
     "data": {
      "text/plain": [
       "(60000, 784)"
      ]
     },
     "execution_count": 10,
     "metadata": {},
     "output_type": "execute_result"
    }
   ],
   "source": [
    "train_images.shape"
   ]
  },
  {
   "cell_type": "markdown",
   "metadata": {},
   "source": [
    "Ahora preparamos las etiquetas volviendolas variables categoricas:"
   ]
  },
  {
   "cell_type": "code",
   "execution_count": 11,
   "metadata": {},
   "outputs": [],
   "source": [
    "from keras.utils import to_categorical\n",
    "\n",
    "train_labels = to_categorical(train_labels)\n",
    "test_labels = to_categorical(test_labels)"
   ]
  },
  {
   "cell_type": "code",
   "execution_count": 13,
   "metadata": {},
   "outputs": [
    {
     "data": {
      "text/plain": [
       "array([1., 0., 0., 0., 0., 0., 0., 0., 0., 0.], dtype=float32)"
      ]
     },
     "execution_count": 13,
     "metadata": {},
     "output_type": "execute_result"
    }
   ],
   "source": [
    "train_labels[1040]"
   ]
  },
  {
   "cell_type": "markdown",
   "metadata": {},
   "source": [
    "Ahora entrenamos la red:"
   ]
  },
  {
   "cell_type": "code",
   "execution_count": 14,
   "metadata": {},
   "outputs": [
    {
     "name": "stdout",
     "output_type": "stream",
     "text": [
      "Epoch 1/7\n",
      "469/469 [==============================] - 2s 3ms/step - loss: 1.7109 - accuracy: 0.5561\n",
      "Epoch 2/7\n",
      "469/469 [==============================] - 1s 3ms/step - loss: 0.8691 - accuracy: 0.8195\n",
      "Epoch 3/7\n",
      "469/469 [==============================] - 1s 3ms/step - loss: 0.5255 - accuracy: 0.8743\n",
      "Epoch 4/7\n",
      "469/469 [==============================] - 1s 3ms/step - loss: 0.3838 - accuracy: 0.9006\n",
      "Epoch 5/7\n",
      "469/469 [==============================] - 1s 3ms/step - loss: 0.3130 - accuracy: 0.9152\n",
      "Epoch 6/7\n",
      "469/469 [==============================] - 1s 3ms/step - loss: 0.2723 - accuracy: 0.9243\n",
      "Epoch 7/7\n",
      "469/469 [==============================] - 1s 3ms/step - loss: 0.2450 - accuracy: 0.9309\n"
     ]
    },
    {
     "data": {
      "text/plain": [
       "<keras.callbacks.History at 0x17a02ff9cc0>"
      ]
     },
     "execution_count": 14,
     "metadata": {},
     "output_type": "execute_result"
    }
   ],
   "source": [
    "network.fit(train_images, train_labels, epochs=7, batch_size = 128)"
   ]
  },
  {
   "cell_type": "code",
   "execution_count": 15,
   "metadata": {},
   "outputs": [
    {
     "name": "stdout",
     "output_type": "stream",
     "text": [
      "313/313 [==============================] - 1s 2ms/step - loss: 0.2368 - accuracy: 0.9333\n",
      "test_acc: 0.9333000183105469\n"
     ]
    }
   ],
   "source": [
    "test_loss, test_acc = network.evaluate(test_images, test_labels)\n",
    "print('test_acc:', test_acc)"
   ]
  },
  {
   "cell_type": "markdown",
   "metadata": {},
   "source": [
    "## Implementación de una red Neuronal para Regresión\n",
    "\n",
    "Para este casa utilizaremos los datos del Boston Housing dataset."
   ]
  },
  {
   "cell_type": "code",
   "execution_count": 1,
   "metadata": {},
   "outputs": [
    {
     "name": "stdout",
     "output_type": "stream",
     "text": [
      "El tamaño de los datos de entrenamiento es: (404, 13)\n",
      "El tamaño de los labels de entrenamiento es: (404,)\n",
      "El tamaño de los datos de prueba es: (102, 13)\n",
      "El tamaño de los labels de prueba es: (102,)\n"
     ]
    }
   ],
   "source": [
    "from keras.datasets import boston_housing\n",
    "\n",
    "(train_data, train_targets), (test_data,test_targets) = boston_housing.load_data()\n",
    "\n",
    "print('El tamaño de los datos de entrenamiento es:', train_data.shape)\n",
    "print('El tamaño de los labels de entrenamiento es:', train_targets.shape)\n",
    "print('El tamaño de los datos de prueba es:', test_data.shape)\n",
    "print('El tamaño de los labels de prueba es:', test_targets.shape)"
   ]
  },
  {
   "cell_type": "code",
   "execution_count": 12,
   "metadata": {},
   "outputs": [
    {
     "data": {
      "text/plain": [
       "15.2"
      ]
     },
     "execution_count": 12,
     "metadata": {},
     "output_type": "execute_result"
    }
   ],
   "source": [
    "train_targets[0]"
   ]
  },
  {
   "cell_type": "code",
   "execution_count": 14,
   "metadata": {},
   "outputs": [
    {
     "data": {
      "text/plain": [
       "array([[1.23247e+00, 0.00000e+00, 8.14000e+00, ..., 2.10000e+01,\n",
       "        3.96900e+02, 1.87200e+01],\n",
       "       [2.17700e-02, 8.25000e+01, 2.03000e+00, ..., 1.47000e+01,\n",
       "        3.95380e+02, 3.11000e+00],\n",
       "       [4.89822e+00, 0.00000e+00, 1.81000e+01, ..., 2.02000e+01,\n",
       "        3.75520e+02, 3.26000e+00],\n",
       "       ...,\n",
       "       [3.46600e-02, 3.50000e+01, 6.06000e+00, ..., 1.69000e+01,\n",
       "        3.62250e+02, 7.83000e+00],\n",
       "       [2.14918e+00, 0.00000e+00, 1.95800e+01, ..., 1.47000e+01,\n",
       "        2.61950e+02, 1.57900e+01],\n",
       "       [1.43900e-02, 6.00000e+01, 2.93000e+00, ..., 1.56000e+01,\n",
       "        3.76700e+02, 4.38000e+00]])"
      ]
     },
     "execution_count": 14,
     "metadata": {},
     "output_type": "execute_result"
    }
   ],
   "source": [
    "train_data"
   ]
  },
  {
   "cell_type": "markdown",
   "metadata": {},
   "source": [
    "Ahora normalizamos los datos:"
   ]
  },
  {
   "cell_type": "code",
   "execution_count": 16,
   "metadata": {},
   "outputs": [],
   "source": [
    "mean = train_data.mean(axis=0)\n",
    "train_data -= mean\n",
    "std = train_data.std(axis=0)\n",
    "train_data /= std\n",
    "\n",
    "test_data -= mean\n",
    "test_data /=std"
   ]
  },
  {
   "cell_type": "markdown",
   "metadata": {},
   "source": [
    "Ahora construimos la red:"
   ]
  },
  {
   "cell_type": "code",
   "execution_count": 17,
   "metadata": {},
   "outputs": [],
   "source": [
    "model = models.Sequential()\n",
    "model.add(layers.Dense(200,activation = 'relu',\n",
    "                       input_shape=(train_data.shape[1],)))\n",
    "model.add(layers.Dense(1))\n",
    "model.compile(optimizer='rmsprop', loss='mse', metrics=['mae'])"
   ]
  },
  {
   "cell_type": "code",
   "execution_count": 18,
   "metadata": {},
   "outputs": [
    {
     "name": "stdout",
     "output_type": "stream",
     "text": [
      "Epoch 1/70\n",
      "4/4 [==============================] - 1s 3ms/step - loss: 586.8945 - mae: 22.3761\n",
      "Epoch 2/70\n",
      "4/4 [==============================] - 0s 3ms/step - loss: 561.5857 - mae: 21.8479\n",
      "Epoch 3/70\n",
      "4/4 [==============================] - 0s 2ms/step - loss: 545.2103 - mae: 21.4734\n",
      "Epoch 4/70\n",
      "4/4 [==============================] - 0s 2ms/step - loss: 529.4838 - mae: 21.1268\n",
      "Epoch 5/70\n",
      "4/4 [==============================] - 0s 3ms/step - loss: 515.5053 - mae: 20.8070\n",
      "Epoch 6/70\n",
      "4/4 [==============================] - 0s 3ms/step - loss: 501.3704 - mae: 20.4708\n",
      "Epoch 7/70\n",
      "4/4 [==============================] - 0s 2ms/step - loss: 487.3271 - mae: 20.1355\n",
      "Epoch 8/70\n",
      "4/4 [==============================] - 0s 3ms/step - loss: 473.1946 - mae: 19.7938\n",
      "Epoch 9/70\n",
      "4/4 [==============================] - 0s 2ms/step - loss: 459.6118 - mae: 19.4535\n",
      "Epoch 10/70\n",
      "4/4 [==============================] - 0s 3ms/step - loss: 444.8656 - mae: 19.0993\n",
      "Epoch 11/70\n",
      "4/4 [==============================] - 0s 2ms/step - loss: 431.4405 - mae: 18.7671\n",
      "Epoch 12/70\n",
      "4/4 [==============================] - 0s 3ms/step - loss: 417.9296 - mae: 18.4111\n",
      "Epoch 13/70\n",
      "4/4 [==============================] - 0s 3ms/step - loss: 404.6470 - mae: 18.0638\n",
      "Epoch 14/70\n",
      "4/4 [==============================] - 0s 3ms/step - loss: 391.0938 - mae: 17.6983\n",
      "Epoch 15/70\n",
      "4/4 [==============================] - 0s 2ms/step - loss: 376.9052 - mae: 17.3149\n",
      "Epoch 16/70\n",
      "4/4 [==============================] - 0s 4ms/step - loss: 362.9421 - mae: 16.9311\n",
      "Epoch 17/70\n",
      "4/4 [==============================] - 0s 3ms/step - loss: 349.5891 - mae: 16.5554\n",
      "Epoch 18/70\n",
      "4/4 [==============================] - 0s 4ms/step - loss: 335.3843 - mae: 16.1629\n",
      "Epoch 19/70\n",
      "4/4 [==============================] - 0s 3ms/step - loss: 321.3327 - mae: 15.7685\n",
      "Epoch 20/70\n",
      "4/4 [==============================] - 0s 3ms/step - loss: 306.9075 - mae: 15.3428\n",
      "Epoch 21/70\n",
      "4/4 [==============================] - 0s 3ms/step - loss: 292.9782 - mae: 14.9343\n",
      "Epoch 22/70\n",
      "4/4 [==============================] - 0s 4ms/step - loss: 278.8332 - mae: 14.5112\n",
      "Epoch 23/70\n",
      "4/4 [==============================] - 0s 3ms/step - loss: 265.6060 - mae: 14.0937\n",
      "Epoch 24/70\n",
      "4/4 [==============================] - 0s 4ms/step - loss: 252.0160 - mae: 13.6482\n",
      "Epoch 25/70\n",
      "4/4 [==============================] - 0s 3ms/step - loss: 239.8838 - mae: 13.2387\n",
      "Epoch 26/70\n",
      "4/4 [==============================] - 0s 5ms/step - loss: 227.2073 - mae: 12.7968\n",
      "Epoch 27/70\n",
      "4/4 [==============================] - 0s 5ms/step - loss: 214.6780 - mae: 12.3476\n",
      "Epoch 28/70\n",
      "4/4 [==============================] - 0s 4ms/step - loss: 202.3844 - mae: 11.8992\n",
      "Epoch 29/70\n",
      "4/4 [==============================] - 0s 3ms/step - loss: 191.0948 - mae: 11.4726\n",
      "Epoch 30/70\n",
      "4/4 [==============================] - 0s 3ms/step - loss: 180.2298 - mae: 11.0691\n",
      "Epoch 31/70\n",
      "4/4 [==============================] - 0s 16ms/step - loss: 169.5562 - mae: 10.6566\n",
      "Epoch 32/70\n",
      "4/4 [==============================] - 0s 5ms/step - loss: 159.4652 - mae: 10.2649\n",
      "Epoch 33/70\n",
      "4/4 [==============================] - 0s 3ms/step - loss: 149.2030 - mae: 9.8548\n",
      "Epoch 34/70\n",
      "4/4 [==============================] - 0s 5ms/step - loss: 140.6478 - mae: 9.5030\n",
      "Epoch 35/70\n",
      "4/4 [==============================] - 0s 3ms/step - loss: 132.3674 - mae: 9.1682\n",
      "Epoch 36/70\n",
      "4/4 [==============================] - 0s 4ms/step - loss: 124.2701 - mae: 8.8460\n",
      "Epoch 37/70\n",
      "4/4 [==============================] - 0s 3ms/step - loss: 116.0125 - mae: 8.5130\n",
      "Epoch 38/70\n",
      "4/4 [==============================] - 0s 3ms/step - loss: 108.7427 - mae: 8.2116\n",
      "Epoch 39/70\n",
      "4/4 [==============================] - 0s 2ms/step - loss: 102.1620 - mae: 7.9311\n",
      "Epoch 40/70\n",
      "4/4 [==============================] - 0s 4ms/step - loss: 95.1965 - mae: 7.6227\n",
      "Epoch 41/70\n",
      "4/4 [==============================] - 0s 3ms/step - loss: 88.6531 - mae: 7.3270\n",
      "Epoch 42/70\n",
      "4/4 [==============================] - 0s 5ms/step - loss: 83.3231 - mae: 7.0830\n",
      "Epoch 43/70\n",
      "4/4 [==============================] - 0s 3ms/step - loss: 78.2548 - mae: 6.8535\n",
      "Epoch 44/70\n",
      "4/4 [==============================] - 0s 2ms/step - loss: 72.5812 - mae: 6.5884\n",
      "Epoch 45/70\n",
      "4/4 [==============================] - 0s 4ms/step - loss: 67.1285 - mae: 6.3041\n",
      "Epoch 46/70\n",
      "4/4 [==============================] - 0s 4ms/step - loss: 63.3019 - mae: 6.1044\n",
      "Epoch 47/70\n",
      "4/4 [==============================] - 0s 4ms/step - loss: 59.7046 - mae: 5.8959\n",
      "Epoch 48/70\n",
      "4/4 [==============================] - 0s 3ms/step - loss: 56.3162 - mae: 5.7040\n",
      "Epoch 49/70\n",
      "4/4 [==============================] - 0s 4ms/step - loss: 52.6304 - mae: 5.4929\n",
      "Epoch 50/70\n",
      "4/4 [==============================] - 0s 2ms/step - loss: 49.5458 - mae: 5.2954\n",
      "Epoch 51/70\n",
      "4/4 [==============================] - 0s 3ms/step - loss: 46.2999 - mae: 5.0975\n",
      "Epoch 52/70\n",
      "4/4 [==============================] - 0s 3ms/step - loss: 43.8288 - mae: 4.9106\n",
      "Epoch 53/70\n",
      "4/4 [==============================] - 0s 3ms/step - loss: 41.0220 - mae: 4.7195\n",
      "Epoch 54/70\n",
      "4/4 [==============================] - 0s 3ms/step - loss: 38.9002 - mae: 4.5905\n",
      "Epoch 55/70\n",
      "4/4 [==============================] - 0s 3ms/step - loss: 36.7249 - mae: 4.4496\n",
      "Epoch 56/70\n",
      "4/4 [==============================] - 0s 5ms/step - loss: 35.1827 - mae: 4.3168\n",
      "Epoch 57/70\n",
      "4/4 [==============================] - 0s 4ms/step - loss: 33.4760 - mae: 4.1839\n",
      "Epoch 58/70\n",
      "4/4 [==============================] - 0s 3ms/step - loss: 32.0644 - mae: 4.0844\n",
      "Epoch 59/70\n",
      "4/4 [==============================] - 0s 3ms/step - loss: 30.6011 - mae: 3.9911\n",
      "Epoch 60/70\n",
      "4/4 [==============================] - 0s 4ms/step - loss: 29.3598 - mae: 3.8703\n",
      "Epoch 61/70\n",
      "4/4 [==============================] - 0s 3ms/step - loss: 28.4215 - mae: 3.8209\n",
      "Epoch 62/70\n",
      "4/4 [==============================] - 0s 4ms/step - loss: 27.6656 - mae: 3.7789\n",
      "Epoch 63/70\n",
      "4/4 [==============================] - 0s 3ms/step - loss: 26.9332 - mae: 3.6812\n",
      "Epoch 64/70\n",
      "4/4 [==============================] - 0s 2ms/step - loss: 26.3131 - mae: 3.6092\n",
      "Epoch 65/70\n",
      "4/4 [==============================] - 0s 4ms/step - loss: 25.8095 - mae: 3.5740\n",
      "Epoch 66/70\n",
      "4/4 [==============================] - 0s 4ms/step - loss: 25.2314 - mae: 3.5278\n",
      "Epoch 67/70\n",
      "4/4 [==============================] - 0s 4ms/step - loss: 24.7580 - mae: 3.5443\n",
      "Epoch 68/70\n",
      "4/4 [==============================] - 0s 4ms/step - loss: 24.4177 - mae: 3.4912\n",
      "Epoch 69/70\n",
      "4/4 [==============================] - 0s 4ms/step - loss: 24.0160 - mae: 3.4498\n",
      "Epoch 70/70\n",
      "4/4 [==============================] - 0s 3ms/step - loss: 23.6118 - mae: 3.4388\n"
     ]
    },
    {
     "data": {
      "text/plain": [
       "<keras.callbacks.History at 0x17a082352d0>"
      ]
     },
     "execution_count": 18,
     "metadata": {},
     "output_type": "execute_result"
    }
   ],
   "source": [
    "model.fit(train_data, train_targets, epochs=70, batch_size = 128, verbose=1)"
   ]
  },
  {
   "cell_type": "code",
   "execution_count": 19,
   "metadata": {},
   "outputs": [
    {
     "name": "stdout",
     "output_type": "stream",
     "text": [
      "4/4 [==============================] - 0s 3ms/step - loss: 29.2694 - mae: 4.2630\n",
      "test_mae: 4.26299524307251\n"
     ]
    }
   ],
   "source": [
    "test_loss, test_acc = model.evaluate(test_data, test_targets)\n",
    "print('test_mae:', test_acc)"
   ]
  },
  {
   "cell_type": "code",
   "execution_count": 20,
   "metadata": {},
   "outputs": [
    {
     "name": "stdout",
     "output_type": "stream",
     "text": [
      "4/4 [==============================] - 0s 2ms/step\n"
     ]
    },
    {
     "data": {
      "text/plain": [
       "<matplotlib.collections.PathCollection at 0x17a08370370>"
      ]
     },
     "execution_count": 20,
     "metadata": {},
     "output_type": "execute_result"
    },
    {
     "data": {
      "image/png": "[encoded data removed]",
      "text/plain": [
       "<Figure size 640x480 with 1 Axes>"
      ]
     },
     "metadata": {},
     "output_type": "display_data"
    }
   ],
   "source": [
    "test_pred = model.predict(test_data)\n",
    "plt.scatter(test_targets,test_pred)"
   ]
  }
 ],
 "metadata": {
  "kernelspec": {
   "display_name": "Python 3 (ipykernel)",
   "language": "python",
   "name": "python3"
  },
  "language_info": {
   "codemirror_mode": {
    "name": "ipython",
    "version": 3
   },
   "file_extension": ".py",
   "mimetype": "text/x-python",
   "name": "python",
   "nbconvert_exporter": "python",
   "pygments_lexer": "ipython3",
   "version": "3.10.6"
  }
 },
 "nbformat": 4,
 "nbformat_minor": 2
}
