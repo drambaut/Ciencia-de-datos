{
 "cells": [
  {
   "cell_type": "code",
   "execution_count": 1,
   "id": "d00c33fa",
   "metadata": {},
   "outputs": [],
   "source": [
    "import pandas as pd\n",
    "import numpy as np\n",
    "from sklearn import preprocessing\n",
    "from sklearn.model_selection import train_test_split\n",
    "from keras.models import Sequential\n",
    "from keras.layers import Dense\n",
    "import matplotlib.pyplot as plt"
   ]
  },
  {
   "cell_type": "markdown",
   "id": "28dc9006",
   "metadata": {},
   "source": [
    "# Introduccion a deep learning\n",
    "\n",
    "<img src=\"image/image1.png\">\n",
    "\n",
    "\n",
    "**¿Qué es la inteligencia artificial (IA)?**\n",
    "\n",
    "La Inteligencia Artificial (IA) es una ciencia dedicada a hacer que las máquinas piensen y actúen como seres humanos.\n",
    "\n",
    "**¿Qué es el aprendizaje automatico ?**\n",
    "\n",
    "El aprendizaje automático se refiere al estudio de sistemas informáticos que aprenden y se adaptan automáticamente a partir de la experiencia, sin ser programados explícitamente.\n",
    "\n",
    "**¿Qué es el aprendizaje profundo ?**\n",
    "\n",
    "Mientras que los algoritmos de aprendizaje automático generalmente necesitan corrección humana cuando cometen un error, los algoritmos de aprendizaje profundo pueden mejorar sus resultados a través de la repetición, sin intervención humana. Un algoritmo de aprendizaje automático puede aprender a partir de conjuntos de datos relativamente pequeños, pero un algoritmo de aprendizaje profundo requiere grandes conjuntos de datos que podrían incluir datos diversos y no estructurados.\n",
    "\n",
    "Piensa en el aprendizaje profundo como una evolución del aprendizaje automático. El aprendizaje profundo es una técnica de aprendizaje automático que apila algoritmos y unidades de cálculo, o neuronas, en lo que se llama una red neuronal artificial. Estas redes neuronales profundas toman inspiración de la estructura del cerebro humano. Los datos pasan a través de esta red de algoritmos interconectados de una manera no lineal, muy similar a cómo nuestros cerebros procesan la información.\n",
    "\n",
    "\n",
    "Existen varias diferencias entre el aprendizaje automático y el aprendizaje profundo. Algunas de las más destacadas incluyen:\n",
    "\n",
    "1. *Intervención Humana:* El aprendizaje automático necesita más intervención humana continua, mientras que el aprendizaje profundo, aunque es más complejo de configurar, requiere mínima intervención después.\n",
    "\n",
    "2. *Hardware:* El aprendizaje automático suele ser menos complejo y puede funcionar en computadoras convencionales. En cambio, el aprendizaje profundo necesita hardware más potente, como las unidades de procesamiento gráfico (GPUs).\n",
    "\n",
    "3. *Tiempo:* Los sistemas de aprendizaje automático se configuran y operan rápidamente, pero pueden tener resultados limitados. Los sistemas de aprendizaje profundo tardan más en configurarse, pero pueden generar resultados al instante, mejorando con el tiempo y más datos.\n",
    "\n",
    "4. *Enfoque:* El aprendizaje automático utiliza datos estructurados y algoritmos tradicionales, mientras que el aprendizaje profundo usa redes neuronales y maneja grandes volúmenes de datos no estructurados.\n",
    "\n",
    "5. *Aplicaciones:* El aprendizaje automático ya se usa en correos electrónicos, bancos y consultorios médicos. El aprendizaje profundo permite programas más complejos, como coches autónomos o robots que realizan cirugías avanzadas."
   ]
  },
  {
   "cell_type": "markdown",
   "id": "8b644f69",
   "metadata": {},
   "source": [
    "# Que es una red neuronal\n",
    "\n",
    "La unidad computacional básica del cerebro es una neurona. Aproximadamente 86 mil millones de neuronas se pueden encontrar en el sistema nervioso humano y están conectadas con aproximadamente $10^{14}$ — $10^{15}$ sinapsis. El diagrama a continuación muestra un dibujo animado de una neurona biológica (primera imagen) y un modelo matemático común (segunda imagen).\n",
    "\n",
    "<img src=\"image/image_2.webp\">\n",
    "\n",
    "<img src=\"image/image_3.webp\">\n",
    "\n",
    "La unidad básica de cálculo en una red neuronal es la neurona, a menudo llamada nodo o unidad. Recibe entrada de otros nodos o de una fuente externa y calcula una salida. Cada entrada tiene un peso asociado $(\\omega)$, que se asigna en función de su importancia relativa respecto a otras entradas. El nodo aplica una función a la suma ponderada de sus entradas.\n",
    "\n",
    "La idea es que las fortalezas sinápticas (los pesos $\\omega$) son aprendibles y controlan la fuerza de influencia y su dirección: excitatoria (peso positivo) o inhibitoria (peso negativo) de una neurona sobre otra. En el modelo básico, las dendritas llevan la señal al cuerpo celular donde todas se suman. Si la suma final supera un cierto umbral, la neurona puede disparar, enviando un impulso a lo largo de su axón. En el modelo computacional, asumimos que los tiempos precisos de los impulsos no importan y que solo la frecuencia del disparo comunica información. Modelamos la tasa de disparo de la neurona con una función de activación (por ejemplo, función sigmoide), que representa la frecuencia de los impulsos a lo largo del axón.\n",
    "\n",
    "Los elementos que componene una arquitectura de red nueronal son los siguientes:\n",
    "\n",
    "1. *Nodos de Entrada (capa de entrada):* No realizan cálculos, simplemente pasan la información a la siguiente capa (generalmente la capa oculta). Un conjunto de nodos se denomina capa.\n",
    "\n",
    "2. *Nodos Ocultos (capa oculta):* Aquí es donde se realiza el procesamiento intermedio. Estos nodos realizan cálculos y transfieren los pesos (señales o información) de la capa de entrada a la siguiente capa. Es posible tener una red neuronal sin una capa oculta.\n",
    "\n",
    "3. *Nodos de Salida (capa de salida):* En esta capa, se utiliza una función de activación que se mapea al formato de salida deseado, como softmax para clasificación.\n",
    "\n",
    "4. *Conexiones y pesos:* La red tiene conexiones que transfieren la salida de una neurona a la entrada de otra. Cada conexión tiene un peso asignado.\n",
    "\n",
    "5. *Función de Activación:* Define la salida de un nodo dada una entrada. Es similar al comportamiento del perceptrón lineal en redes neuronales, pero las funciones de activación no lineales permiten que las redes resuelvan problemas no triviales con pocos nodos.\n",
    "\n",
    "6. *Regla de Aprendizaje:* Es una regla o algoritmo que modifica los parámetros de la red neuronal para que produzca una salida deseada, generalmente modificando los pesos y umbrales."
   ]
  },
  {
   "cell_type": "markdown",
   "id": "0711816a",
   "metadata": {},
   "source": [
    "# Tipos de redes neuronales\n",
    "\n",
    "1. Perceptron\n",
    "\n",
    "Las capas de nodos conectados conforman una red neuronal. Cada nodo es un perceptrón, que se asemeja a una regresión lineal múltiple. La señal obtenida por la regresión lineal múltiple se introduce en una función de activación no lineal a través del perceptrón.\n",
    "\n",
    "<img src=\"image/image_4.png\">\n",
    "\n",
    "* Aplicaciones: Compresión de Datos, Codificar, reorganizar o modificar datos para hacerlos más pequeños se conoce como compresión de datos. En su forma más básica, implica recodificar datos usando menos bits que la representación original.\n",
    "\n",
    "* Ventajas: Los Perceptrones pueden implementar las Puertas Lógicas AND, OR y NAND. Nos proporciona bases más confiables para tomar decisiones y mejora nuestra capacidad para anticipar varios resultados al considerar los datos disponibles.\n",
    "\n",
    "* Desventajas: Debido a la función de transferencia de límite duro, los valores de salida de un perceptrón solo pueden tomar uno de dos valores (0 o 1). Los perceptrones solo pueden categorizar conjuntos de vectores que pueden ser separados linealmente.\n",
    "\n",
    "2. Feed Forward Neural Network\n",
    "\n",
    "Las redes neuronales feedforward están entre los tipos más básicos de redes neuronales. La información se pasa a través de varios nodos de entrada en una dirección hasta que llega al nodo de salida. La red puede o no incluir capas de nodos ocultos, lo que ayuda a explicar cómo funciona.\n",
    "\n",
    "<img src=\"image/image_5.png\">\n",
    "\n",
    "* Aplicaciones: Visión por Computadora, la visión por computadora es una rama de la inteligencia artificial (IA) que permite a las computadoras y sistemas obtener información relevante de fotos digitales, videos y otras entradas visuales, y luego actuar o recomendar basándose en esa información.\n",
    "\n",
    "* Ventajas: Una serie de redes Feedforward puede operar de forma autónoma con un intermediario menor para garantizar la moderación.\n",
    "\n",
    "* Desventajas: No es adecuado para el aprendizaje profundo. Más variables para optimizar.\n",
    "\n",
    "3. Multilayer Perceptron\n",
    "\n",
    "Un perceptrón multicapa es una red que crea una colección de salidas a partir de un conjunto de entradas. Un grafo dirigido que conecta las capas de entrada y salida de un MLP está compuesto por múltiples capas de nodos de entrada.\n",
    "\n",
    "<img src=\"image/image_6.png\">\n",
    "\n",
    "* Aplicaciones: clasificación Compleja un grupo de técnicas cuantitativas conocidas como clasificación compleja se utiliza para examinar la dinámica y estructura de sistemas complejos interconectados.\n",
    "\n",
    "* Ventajas: La ventaja del perceptrón multicapa es que pueden aprender modelos no lineales y entrenar modelos en tiempo real. Puede manejar una gran cantidad de datos de entrada.\n",
    "\n",
    "* Desventajas:Relativamente desafiante de diseñar y gestionar. Razonablemente lento.\n",
    "\n",
    "4. Convolutional Neural Network\n",
    "\n",
    "Las neuronas en una red neuronal convolucional están organizadas en tres dimensiones en lugar del típico arreglo bidimensional. La capa convolucional se refiere a la capa superior. Cada neurona en la capa convolucional procesa solo una pequeña porción del campo visual. Como un filtro, las características de entrada se recopilan en lotes.\n",
    "\n",
    "<img src=\"image/image_7.png\">\n",
    "\n",
    "* Aplicaciones: El procesamiento de lenguaje natural (PLN) es la rama de la informática, específicamente relacionada con la inteligencia artificial, que otorga a las computadoras la capacidad de entender palabras escritas y habladas de la misma manera que lo hacen los humanos.\n",
    "\n",
    "* Ventajas: Menos parámetros de aprendizaje que una capa completamente vinculada.\n",
    "\n",
    "* Desventajas: El diseño y mantenimiento son difíciles. Razonablemente lento.\n",
    "\n",
    "5. Recurrent Neural Network\n",
    "\n",
    "Las redes neuronales recurrentes están construidas para comprender datos temporales o secuenciales. Las RNN mejoran sus predicciones utilizando puntos de datos adicionales en una secuencia. Para modificar la salida, toman una entrada y reutilizan las activaciones de nodos anteriores o posteriores en la secuencia.\n",
    "\n",
    "<img src=\"image/image_8.png\">\n",
    "\n",
    "* Aplicaciones: Subtitulado de imágenes: El proceso de crear una descripción escrita de una imagen se llama subtitulado de imágenes.\n",
    "\n",
    "* Ventajas: Una ventaja es la capacidad de modelar datos secuenciales donde se puede suponer que cada muestra depende de las anteriores. Se utiliza para aumentar la eficiencia de los píxeles cuando se combina con capas de convolución.\n",
    "\n",
    "* Desventajas: Problemas con el desvanecimiento y explosión del gradiente. El entrenamiento de redes neuronales recurrentes puede ser desafiante.\n",
    "\n",
    "6. LSTM: Long Short-Term Memory\n",
    "\n",
    "Las redes LSTM introducen una celda de memoria. Pueden manejar datos que tienen lagunas de memoria. El retraso temporal es un factor que puede tenerse en cuenta al usar RNNs. Sin embargo, se deben usar LSTMs si nuestra RNN falla cuando tenemos muchos datos relevantes y queremos extraer información importante de ellos.\n",
    "\n",
    "<img src=\"image/image_9.png\">\n",
    "\n",
    "* Aplicaciones: Reconocimiento de Voz, el software de reconocimiento de voz es una tecnología que puede procesar el habla en lenguaje natural y convertirla en texto legible con alta precisión.\n",
    "\n",
    "* Ventajas: Podemos elegir entre una amplia gama de parámetros LSTM, incluidas las tasas de aprendizaje y los sesgos de entrada y salida. Se necesita ancho de banda de memoria para calcular capas lineales.\n",
    "\n",
    "* Desventajas: Requieren recursos significativos y tiempo para entrenarse y ser adecuados para aplicaciones del mundo real."
   ]
  },
  {
   "cell_type": "markdown",
   "id": "774befce",
   "metadata": {},
   "source": [
    "#  Funciones de activación\n",
    "\n",
    "1. Sigmoid\n",
    "\n",
    "La función sigmoide limita un rango de valores entre 0 y 1. También se utiliza en modelos de regresión logística. Independientemente de los valores de entrada a una función sigmoide, los valores de salida estarán entre 0 y 1. Por lo tanto, la salida de cada neurona se normaliza en el rango 0-1.\n",
    "\n",
    "<img src=\"image/image_10.webp\">\n",
    "\n",
    "\n",
    "2. Tanh\n",
    "\n",
    "tanh es también como la función sigmoide logística. El rango de la función tanh es de $-1$ a $1$. tanh también es sigmoide (con forma de s).\n",
    "\n",
    "<img src=\"image/image_11.webp\">\n",
    "\n",
    "3.  ReLU (Rectified Linear Unit)\n",
    "\n",
    "La ReLU es la función de activación más utilizada en el mundo en este momento. Se usa en casi todas las redes neuronales convolucionales o en el aprendizaje profundo.\n",
    "\n",
    "<img src=\"image/image_12.webp\">"
   ]
  },
  {
   "cell_type": "markdown",
   "id": "ff810bdb",
   "metadata": {},
   "source": [
    "# Comenzando a construir tu primera red neuronal\n",
    "\n",
    "El primer paso para construir una red neuronal es generar una salida a partir de datos de entrada. Lo harás creando una suma ponderada de las variables. Lo primero que necesitarás hacer es representar las entradas con Python y NumPy.\n",
    "\n",
    "Usarás NumPy para representar los vectores de entrada de la red como matrices. Pero antes de usar NumPy, es una buena idea jugar con los vectores en Python puro para entender mejor lo que está sucediendo. En este primer ejemplo, tienes un vector de entrada y otros dos vectores de peso. El objetivo es encontrar cuál de los pesos es más similar a la entrada, teniendo en cuenta la dirección y la magnitud. Así es como se ven los vectores si los graficas:\n",
    "\n",
    "<img src=\"image/image_13.webp\">\n",
    "\n",
    "weights_2 es más similar al vector de entrada ya que está apuntando en la misma dirección y la magnitud también es similar. Entonces, ¿cómo determinas qué vectores son similares usando Python?\n",
    "\n",
    "Primero, defines los tres vectores, uno para la entrada y los otros dos para los pesos. Luego calculas cuán similares son input_vector y weights_1. Para hacer eso, aplicarás el producto punto. Dado que todos los vectores son vectores bidimensionales, estos son los pasos a seguir:\n",
    "\n",
    "1. Multiplica el primer índice de input_vector por el primer índice de weights_1.\n",
    "2. Multiplica el segundo índice de input_vector por el segundo índice de weights_2.\n",
    "3. Suma los resultados de ambas multiplicaciones.\n"
   ]
  },
  {
   "cell_type": "code",
   "execution_count": 3,
   "id": "91d06ce2",
   "metadata": {},
   "outputs": [
    {
     "name": "stdout",
     "output_type": "stream",
     "text": [
      "El producto es: 2.1672\n"
     ]
    }
   ],
   "source": [
    "input_vector = [1.72, 1.23]\n",
    "weights_1 = [1.26, 0]\n",
    "weights_2 = [2.17, 0.32]\n",
    "\n",
    "first_indexes_mult = input_vector[0] * weights_1[0]\n",
    "second_indexes_mult = input_vector[1] * weights_1[1]\n",
    "dot_product_1 = first_indexes_mult + second_indexes_mult\n",
    "\n",
    "print(f\"El producto es: {dot_product_1}\")"
   ]
  },
  {
   "cell_type": "markdown",
   "id": "e1010aff",
   "metadata": {},
   "source": [
    "El resultado del producto punto es 2.1672. Es hora de usar np.dot() de NumPy. Así es cómo calcular dot_product_1 usando np.dot():"
   ]
  },
  {
   "cell_type": "code",
   "execution_count": 4,
   "id": "cfb491c2",
   "metadata": {},
   "outputs": [
    {
     "name": "stdout",
     "output_type": "stream",
     "text": [
      "El producto es: 2.1672\n"
     ]
    }
   ],
   "source": [
    "dot_product_1 = np.dot(input_vector, weights_1)\n",
    "print(f\"El producto es: {dot_product_1}\")"
   ]
  },
  {
   "cell_type": "markdown",
   "id": "f45b4e14",
   "metadata": {},
   "source": [
    "np.dot() hace lo mismo, pero ahora solo se necesita especificar los dos arrays como argumentos. Ahora vamos a calcular el producto punto de input_vector y weights_2:"
   ]
  },
  {
   "cell_type": "code",
   "execution_count": 5,
   "id": "ab7e1426",
   "metadata": {},
   "outputs": [
    {
     "name": "stdout",
     "output_type": "stream",
     "text": [
      "El producto es: 4.1259999999999994\n"
     ]
    }
   ],
   "source": [
    "dot_product_2 = np.dot(input_vector, weights_2)\n",
    "\n",
    "print(f\"El producto es: {dot_product_2}\")"
   ]
  },
  {
   "cell_type": "markdown",
   "id": "0105d1f0",
   "metadata": {},
   "source": [
    "Esta vez, el resultado es 4.1259. Como una forma diferente de pensar en el producto punto, puedes tratar la similitud entre las coordenadas del vector como un interruptor de encendido-apagado. Si el resultado de la multiplicación es 0, entonces dirás que las coordenadas no son similares. Si el resultado es algo distinto de 0, entonces dirás que son similares.\n",
    "\n",
    "De esta manera, puedes ver el producto punto como una medida aproximada de similitud entre los vectores. Cada vez que el resultado de la multiplicación es 0, el producto punto final tendrá un resultado más bajo. Volviendo a los vectores del ejemplo, dado que el producto punto de input_vector y weights_2 es 4.1259, y 4.1259 es mayor que 2.1672, significa que input_vector es más similar a weights_2. Se usara este mismo mecanismo para entrenar la red neuronal.\n",
    "\n",
    "Ahora se entrenara un modelo para hacer predicciones que tienen solo dos posibles resultados. El resultado de salida puede ser 0 o 1. Este es un problema de clasificación, un subconjunto de problemas de aprendizaje supervisado en los que tienes un conjunto de datos con las entradas y los objetivos conocidos. Estas son las entradas y las salidas del conjunto de datos:\n",
    "\n",
    "| Vector de entrada | Target |\n",
    "|:-----------------:|:------:|\n",
    "|  [1.66, 1.56]     | 1      |\n",
    "| [2,1.5]           | 0      |\n",
    "\n",
    "Dado que esta es la primera red neuronal, se mantendra las cosas simples y seconstruira una red con solo dos capas. Hasta ahora, hemos  visto que las únicas dos operaciones utilizadas dentro de la red neuronal fueron el producto punto y una suma. Ambas son operaciones lineales.\n",
    "\n",
    "Si se agrega más capas pero se sigue utilizando solo operaciones lineales, entonces agregar más capas no tendría efecto porque cada capa siempre tendría alguna correlación con la entrada de la capa anterior. Esto implica que, para una red con múltiples capas, siempre habría una red con menos capas que predice los mismos resultados.\n",
    "\n",
    "Lo que quieres es encontrar una operación que haga que las capas intermedias a veces se correlacionen con una entrada y a veces no.\n",
    "\n",
    "Puedes lograr este comportamiento utilizando funciones no lineales. Estas funciones no lineales se llaman funciones de activación. Hay muchos tipos de funciones de activación. La ReLU (unidad lineal rectificada), por ejemplo, es una función que convierte todos los números negativos en cero. Esto significa que la red puede \"apagar\" un peso si es negativo, añadiendo no linealidad.\n",
    "\n",
    "La red que estás construyendo utilizará la función de activación sigmoide. La usarás en la última capa, layer_2. Las únicas dos salidas posibles en el conjunto de datos son 0 y 1, y la función sigmoide limita la salida a un rango entre 0 y 1. Esta es la fórmula para expresar la función sigmoide:\n",
    "\n",
    "<img src=\"image/image_14.webp\">\n",
    "\n",
    "<img src=\"image/image_15.webp\">"
   ]
  },
  {
   "cell_type": "code",
   "execution_count": 2,
   "id": "b814ed73",
   "metadata": {},
   "outputs": [
    {
     "name": "stdout",
     "output_type": "stream",
     "text": [
      "El resultado de la predicción es: [0.7985731]\n"
     ]
    }
   ],
   "source": [
    "input_vector = np.array([1.66, 1.56])\n",
    "weights_1 = np.array([1.45, -0.66])\n",
    "bias = np.array([0.0])\n",
    "\n",
    "def sigmoid(x):\n",
    "    return 1 / (1 + np.exp(-x))\n",
    "\n",
    "def make_prediction(input_vector, weights, bias):\n",
    "    layer_1 = np.dot(input_vector, weights) + bias\n",
    "    layer_2 = sigmoid(layer_1)\n",
    "    return layer_2\n",
    "\n",
    "prediction = make_prediction(input_vector, weights_1, bias)\n",
    "\n",
    "print(f\"El resultado de la predicción es: {prediction}\")"
   ]
  },
  {
   "cell_type": "code",
   "execution_count": 3,
   "id": "abb0b00e",
   "metadata": {},
   "outputs": [
    {
     "name": "stdout",
     "output_type": "stream",
     "text": [
      "El resultado de la predicción es: [0.87101915]\n"
     ]
    }
   ],
   "source": [
    "input_vector = np.array([2, 1.5])\n",
    "\n",
    "prediction = make_prediction(input_vector, weights_1, bias)\n",
    "\n",
    "print(f\"El resultado de la predicción es: {prediction}\")"
   ]
  },
  {
   "cell_type": "markdown",
   "id": "2bad139d",
   "metadata": {},
   "source": [
    "En el proceso de entrenar la red neuronal, primero evalúas el error y luego ajustas los pesos en consecuencia. Para ajustar los pesos, utilizarás los algoritmos de descenso de gradiente y retropropagación. El descenso de gradiente se aplica para encontrar la dirección y la tasa para actualizar los parámetros.\n",
    "\n",
    "Antes de hacer cualquier cambio en la red, necesitas calcular el error.\n",
    "\n",
    "**Calculando el Error de Predicción**\n",
    "\n",
    "Para entender la magnitud del error, necesitas elegir una forma de medirlo. La función utilizada para medir el error se llama función de costo o función de pérdida. En este tutorial, utilizarás el error cuadrático medio (MSE, por sus siglas en inglés) como tu función de costo. Calculas el MSE en dos pasos:\n",
    "\n",
    "1. Calcula la diferencia entre la predicción y el objetivo.\n",
    "2. Multiplica el resultado por sí mismo.\n",
    "\n",
    "La red puede cometer un error al emitir un valor que es más alto o más bajo que el valor correcto. Dado que el MSE es la diferencia al cuadrado entre la predicción y el resultado correcto, con esta métrica siempre terminarás con un valor positivo.\n",
    "\n",
    "Esta es la expresión completa para calcular el error de la última predicción anterior:"
   ]
  },
  {
   "cell_type": "code",
   "execution_count": 5,
   "id": "9df60fd0",
   "metadata": {},
   "outputs": [
    {
     "name": "stdout",
     "output_type": "stream",
     "text": [
      "Prediccion: [0.87101915]; Error: [0.75867436]\n"
     ]
    }
   ],
   "source": [
    "target = 0\n",
    "\n",
    "mse = np.square(prediction - target)\n",
    "\n",
    "print(f\"Prediccion: {prediction}; Error: {mse}\")"
   ]
  },
  {
   "cell_type": "markdown",
   "id": "70ebda1f",
   "metadata": {},
   "source": [
    "**Entendiendo Cómo Reducir el Error**\n",
    "\n",
    "El objetivo es cambiar las variables de pesos y sesgo para poder reducir el error. Para entender cómo funciona esto, cambiarás solo la variable de pesos y dejarás el sesgo fijo por ahora. También puedes prescindir de la función sigmoide y usar solo el resultado de layer_1. Todo lo que queda es averiguar cómo puedes modificar los pesos para que el error disminuya.\n",
    "\n",
    "Calculas el MSE haciendo error = np.square(predicción - objetivo). Si tratas (predicción - objetivo) como una sola variable x, entonces tienes error = np.square(x), que es una función cuadrática. Así es como se ve la función si la graficas:\n",
    "\n",
    "<img src=\"image/image_16.webp\">\n",
    "\n",
    "El error está dado por el eje y. Si estás en el punto A y quieres reducir el error hacia 0, entonces necesitas disminuir el valor de x. Por otro lado, si estás en el punto B y quieres reducir el error, entonces necesitas aumentar el valor de x. Para saber en qué dirección deberías ir para reducir el error, usarás la derivada. Una derivada explica exactamente cómo cambiará un patrón. Otra palabra para derivada es gradiente. Descenso de gradiente es el nombre del algoritmo utilizado para encontrar la dirección y la tasa para actualizar los parámetros de la red.\n",
    "\n",
    "En este tutorial, no se centrara en la teoría detrás de las derivadas, así que simplemente aplicara las reglas de derivación para cada función que se encuentre. La regla de potencia establece que la derivada de $x^n$ es $nx^{(n-1)}$. Así que la derivada de np.square(x) es 2 * x, y la derivada de x es 1.\n",
    "\n",
    "Recuerda que la expresión del error es error = np.square(predicción - objetivo). Cuando tratas (predicción - objetivo) como una sola variable x, la derivada del error es 2 * x. Al tomar la derivada de esta función, quieres saber en qué dirección deberías cambiar x para llevar el resultado del error a cero, reduciendo así el error.\n",
    "\n",
    "En cuanto a tu red neuronal, la derivada dirá la dirección que debe tomar para actualizar la variable de pesos. Si es un número positivo, entonces predijo demasiado alto y necesitas disminuir los pesos. Si es un número negativo, entonces predijo demasiado bajo y necesita aumentar los pesos.\n",
    "\n",
    "Ahora es el momento de escribir el código para determinar cómo actualizar weights_1 para la predicción incorrecta anterior. Si el error cuadrático medio es 0.75, ¿deberías aumentar o disminuir los pesos? Dado que la derivada es 2 * x, solo necesitas multiplicar la diferencia entre la predicción y el objetivo por 2:"
   ]
  },
  {
   "cell_type": "code",
   "execution_count": 6,
   "id": "8ba5f861",
   "metadata": {},
   "outputs": [
    {
     "name": "stdout",
     "output_type": "stream",
     "text": [
      "La derivada es [1.7420383]\n"
     ]
    }
   ],
   "source": [
    "derivative = 2 * (prediction - target)\n",
    "\n",
    "print(f\"La derivada es {derivative}\")"
   ]
  },
  {
   "cell_type": "markdown",
   "id": "107def8c",
   "metadata": {},
   "source": [
    "El resultado es 1.74, un número positivo, por lo que necesita disminuir los pesos. Lo hace restando el resultado de la derivada del vector de pesos. Ahora puede actualizar weights_1 en consecuencia y predecir nuevamente para ver cómo afecta el resultado de la predicción:"
   ]
  },
  {
   "cell_type": "code",
   "execution_count": 7,
   "id": "87c8a482",
   "metadata": {},
   "outputs": [
    {
     "name": "stdout",
     "output_type": "stream",
     "text": [
      "Predicion: [0.01496248]; Error: [0.00022388]\n"
     ]
    }
   ],
   "source": [
    "weights_1 = weights_1 - derivative\n",
    "\n",
    "prediction = make_prediction(input_vector, weights_1, bias)\n",
    "\n",
    "error = (prediction - target) ** 2\n",
    "print(f\"Predicion: {prediction}; Error: {error}\")"
   ]
  },
  {
   "cell_type": "code",
   "execution_count": 8,
   "id": "48af74fc",
   "metadata": {},
   "outputs": [
    {
     "data": {
      "text/plain": [
       "array([-0.2920383, -2.4020383])"
      ]
     },
     "execution_count": 8,
     "metadata": {},
     "output_type": "execute_result"
    }
   ],
   "source": [
    "weights_1"
   ]
  },
  {
   "cell_type": "markdown",
   "id": "bb7fed64",
   "metadata": {},
   "source": [
    "Para definir una fracción para actualizar los pesos, se usa el parámetro alpha, también llamado tasa de aprendizaje. Si disminuye la tasa de aprendizaje, entonces los incrementos son más pequeños. Si la aumentas, entonces los pasos son mayores. ¿Cómo saber cuál es el mejor valor de tasa de aprendizaje? Haciendo una suposición y experimentando con ella.\n",
    "\n",
    "**Aplicando la Regla de la Cadena**\n",
    "\n",
    "En la red neuronal, necesita actualizar tanto los vectores de pesos como de sesgo. La función que estás utilizando para medir el error depende de dos variables independientes, los pesos y el sesgo. Dado que los pesos y el sesgo son variables independientes, se pueden cambiar y ajustar para obtener el resultado que deseado.\n",
    "\n",
    "La red que se esta construyendo tiene dos capas, y dado que cada capa tiene sus propias funciones, se esta tratando con una composición de funciones. Esto significa que la función de error sigue siendo np.square(x), pero ahora x es el resultado de otra función.\n",
    "\n",
    "Para replantear el problema, ahora se quiere saber cómo cambiar weights_1 y sesgo para reducir el error. Ya se vio que se puede usar derivads para esto, pero en lugar de una función con solo una suma en su interior, ahora se tiene una función que produce su resultado utilizando otras funciones.\n"
   ]
  },
  {
   "cell_type": "code",
   "execution_count": 9,
   "id": "8831c4df",
   "metadata": {},
   "outputs": [
    {
     "name": "stdout",
     "output_type": "stream",
     "text": [
      "[0.00044105]\n"
     ]
    }
   ],
   "source": [
    "def sigmoid_deriv(x):\n",
    "    return sigmoid(x) * (1-sigmoid(x))\n",
    "\n",
    "derror_dprediction = 2 * (prediction - target)\n",
    "layer_1 = np.dot(input_vector, weights_1) + bias\n",
    "dprediction_dlayer1 = sigmoid_deriv(layer_1)\n",
    "dlayer1_dbias = 1\n",
    "\n",
    "derror_dbias = (derror_dprediction * dprediction_dlayer1 * dlayer1_dbias)\n",
    "print(derror_dbias)"
   ]
  },
  {
   "cell_type": "markdown",
   "id": "d626a715",
   "metadata": {},
   "source": [
    "Ahora cómo ya se sabe escribir las expresiones para actualizar tanto los pesos como el sesgo. Es hora de crear una clase para la red neuronal. Las clases son los principales bloques de construcción de la programación orientada a objetos (POO). La clase NeuralNetwork genera valores de inicio aleatorios para las variables de pesos y sesgo.\n",
    "\n",
    "Al instanciar un objeto NeuralNetwork, necesitas pasar el parámetro learning_rate. Usarás predict() para hacer una predicción. Los métodos _compute_derivatives() y _update_parameters() tienen los cálculos vistos anteriormente en esta sección."
   ]
  },
  {
   "cell_type": "code",
   "execution_count": 10,
   "id": "ecd27ad8",
   "metadata": {},
   "outputs": [],
   "source": [
    "class NeuralNetwork:\n",
    "    def __init__(self, learning_rate):\n",
    "        self.weights = np.array([np.random.randn(), np.random.randn()])\n",
    "        self.bias = np.random.randn()\n",
    "        self.learning_rate = learning_rate\n",
    "\n",
    "    def _sigmoid(self, x):\n",
    "        return 1 / (1 + np.exp(-x))\n",
    "\n",
    "    def _sigmoid_deriv(self, x):\n",
    "        return self._sigmoid(x) * (1 - self._sigmoid(x))\n",
    "\n",
    "    def predict(self, input_vector):\n",
    "        layer_1 = np.dot(input_vector, self.weights) + self.bias\n",
    "        layer_2 = self._sigmoid(layer_1)\n",
    "        prediction = layer_2\n",
    "        return prediction\n",
    "\n",
    "    def _compute_gradients(self, input_vector, target):\n",
    "        layer_1 = np.dot(input_vector, self.weights) + self.bias\n",
    "        layer_2 = self._sigmoid(layer_1)\n",
    "        prediction = layer_2\n",
    "\n",
    "        derror_dprediction = 2 * (prediction - target)\n",
    "        dprediction_dlayer1 = self._sigmoid_deriv(layer_1)\n",
    "        dlayer1_dbias = 1\n",
    "        dlayer1_dweights = (0 * self.weights) + (1 * input_vector)\n",
    "\n",
    "        derror_dbias = (\n",
    "            derror_dprediction * dprediction_dlayer1 * dlayer1_dbias\n",
    "        )\n",
    "        derror_dweights = (\n",
    "            derror_dprediction * dprediction_dlayer1 * dlayer1_dweights\n",
    "        )\n",
    "\n",
    "        return derror_dbias, derror_dweights\n",
    "\n",
    "    def _update_parameters(self, derror_dbias, derror_dweights):\n",
    "        self.bias = self.bias - (derror_dbias * self.learning_rate)\n",
    "        self.weights = self.weights - (\n",
    "            derror_dweights * self.learning_rate\n",
    "        )"
   ]
  },
  {
   "cell_type": "code",
   "execution_count": 13,
   "id": "e793b2e0",
   "metadata": {},
   "outputs": [
    {
     "data": {
      "text/plain": [
       "0.375382479225764"
      ]
     },
     "execution_count": 13,
     "metadata": {},
     "output_type": "execute_result"
    }
   ],
   "source": [
    "learning_rate = 0.1\n",
    "\n",
    "neural_network = NeuralNetwork(learning_rate)\n",
    "\n",
    "neural_network.predict(input_vector)"
   ]
  },
  {
   "cell_type": "code",
   "execution_count": 12,
   "id": "1e9096d6",
   "metadata": {},
   "outputs": [
    {
     "data": {
      "text/plain": [
       "array([2. , 1.5])"
      ]
     },
     "execution_count": 12,
     "metadata": {},
     "output_type": "execute_result"
    }
   ],
   "source": [
    "input_vector # target -> 0 "
   ]
  },
  {
   "cell_type": "markdown",
   "id": "62f461aa",
   "metadata": {},
   "source": [
    "El código anterior realiza una predicción, pero ahora se necesita aprender cómo entrenar la red. El objetivo es hacer que la red se generalice sobre el conjunto de datos de entrenamiento. Esto significa que se quiere que se adapte a nuevos datos no vistos que sigan la misma distribución de probabilidad que el conjunto de datos de entrenamiento.\n",
    "\n",
    "**Entrenando la Red con Más Datos**\n",
    "\n",
    "Ya se ha ajustado los pesos y el sesgo para una instancia de datos, pero el objetivo es hacer que la red se generalice sobre un conjunto de datos completo. El descenso de gradiente estocástico es una técnica en la cual, en cada iteración, el modelo realiza una predicción basada en una pieza de datos de entrenamiento seleccionada al azar, calcular el error y actualiza los parámetros.\n",
    "\n",
    "Ahora es el momento de crear el método train() de la clase NeuralNetwork. Guardar el error sobre todos los puntos de datos cada 100 iteraciones porque se quiere trazar un gráfico mostrando cómo cambia esta métrica a medida que aumenta el número de iteraciones."
   ]
  },
  {
   "cell_type": "code",
   "execution_count": 14,
   "id": "a8f37e9a",
   "metadata": {},
   "outputs": [],
   "source": [
    "class NeuralNetwork:\n",
    "    def __init__(self, learning_rate):\n",
    "        self.weights = np.array([np.random.randn(), np.random.randn()])\n",
    "        self.bias = np.random.randn()\n",
    "        self.learning_rate = learning_rate\n",
    "\n",
    "    def _sigmoid(self, x):\n",
    "        return 1 / (1 + np.exp(-x))\n",
    "\n",
    "    def _sigmoid_deriv(self, x):\n",
    "        return self._sigmoid(x) * (1 - self._sigmoid(x))\n",
    "\n",
    "    def predict(self, input_vector):\n",
    "        layer_1 = np.dot(input_vector, self.weights) + self.bias\n",
    "        layer_2 = self._sigmoid(layer_1)\n",
    "        prediction = layer_2\n",
    "        return prediction\n",
    "\n",
    "    def _compute_gradients(self, input_vector, target):\n",
    "        layer_1 = np.dot(input_vector, self.weights) + self.bias\n",
    "        layer_2 = self._sigmoid(layer_1)\n",
    "        prediction = layer_2\n",
    "\n",
    "        derror_dprediction = 2 * (prediction - target)\n",
    "        dprediction_dlayer1 = self._sigmoid_deriv(layer_1)\n",
    "        dlayer1_dbias = 1\n",
    "        dlayer1_dweights = (0 * self.weights) + (1 * input_vector)\n",
    "\n",
    "        derror_dbias = (\n",
    "            derror_dprediction * dprediction_dlayer1 * dlayer1_dbias\n",
    "        )\n",
    "        derror_dweights = (\n",
    "            derror_dprediction * dprediction_dlayer1 * dlayer1_dweights\n",
    "        )\n",
    "\n",
    "        return derror_dbias, derror_dweights\n",
    "\n",
    "    def _update_parameters(self, derror_dbias, derror_dweights):\n",
    "        self.bias = self.bias - (derror_dbias * self.learning_rate)\n",
    "        self.weights = self.weights - (\n",
    "            derror_dweights * self.learning_rate\n",
    "        )\n",
    "        \n",
    "    def train(self, input_vectors, targets, iterations):\n",
    "        cumulative_errors = []\n",
    "        for current_iteration in range(iterations):\n",
    "            random_data_index = np.random.randint(len(input_vectors))\n",
    "\n",
    "            input_vector = input_vectors[random_data_index]\n",
    "            target = targets[random_data_index]\n",
    "\n",
    "            derror_dbias, derror_dweights = self._compute_gradients(\n",
    "                input_vector, target\n",
    "            )\n",
    "\n",
    "            self._update_parameters(derror_dbias, derror_dweights)\n",
    "\n",
    "            if current_iteration % 100 == 0:\n",
    "                cumulative_error = 0\n",
    "                for data_instance_index in range(len(input_vectors)):\n",
    "                    data_point = input_vectors[data_instance_index]\n",
    "                    target = targets[data_instance_index]\n",
    "\n",
    "                    prediction = self.predict(data_point)\n",
    "                    error = np.square(prediction - target)\n",
    "\n",
    "                    cumulative_error = cumulative_error + error\n",
    "                cumulative_errors.append(cumulative_error)\n",
    "\n",
    "        return cumulative_errors"
   ]
  },
  {
   "cell_type": "code",
   "execution_count": 15,
   "id": "be5d67e2",
   "metadata": {},
   "outputs": [
    {
     "data": {
      "text/plain": [
       "Text(0, 0.5, 'Error for all training instances')"
      ]
     },
     "execution_count": 15,
     "metadata": {},
     "output_type": "execute_result"
    },
    {
     "data": {
      "image/png": "[encoded data removed]",
      "text/plain": [
       "<Figure size 640x480 with 1 Axes>"
      ]
     },
     "metadata": {},
     "output_type": "display_data"
    }
   ],
   "source": [
    " input_vectors = np.array(\n",
    "     [\n",
    "        [3, 1.5],\n",
    "        [2, 1],\n",
    "        [4, 1.5],\n",
    "        [3, 4],\n",
    "        [3.5, 0.5],\n",
    "        [2, 0.5],\n",
    "        [5.5, 1],\n",
    "        [1, 1],\n",
    "    ]\n",
    ")\n",
    "\n",
    "targets = np.array([0, 1, 0, 1, 0, 1, 1, 0])\n",
    "\n",
    "learning_rate = 0.1\n",
    "\n",
    "neural_network = NeuralNetwork(learning_rate)\n",
    "\n",
    "training_error = neural_network.train(input_vectors, targets, 10000)\n",
    "\n",
    "plt.plot(training_error)\n",
    "plt.xlabel(\"Iterations\")\n",
    "plt.ylabel(\"Error for all training instances\")"
   ]
  },
  {
   "cell_type": "markdown",
   "id": "72c23fa8",
   "metadata": {},
   "source": [
    "# Construccion aplicada de una red neuronal"
   ]
  },
  {
   "cell_type": "code",
   "execution_count": 16,
   "id": "f04e4680",
   "metadata": {},
   "outputs": [
    {
     "data": {
      "text/html": [
       "<div>\n",
       "<style scoped>\n",
       "    .dataframe tbody tr th:only-of-type {\n",
       "        vertical-align: middle;\n",
       "    }\n",
       "\n",
       "    .dataframe tbody tr th {\n",
       "        vertical-align: top;\n",
       "    }\n",
       "\n",
       "    .dataframe thead th {\n",
       "        text-align: right;\n",
       "    }\n",
       "</style>\n",
       "<table border=\"1\" class=\"dataframe\">\n",
       "  <thead>\n",
       "    <tr style=\"text-align: right;\">\n",
       "      <th></th>\n",
       "      <th>LotArea</th>\n",
       "      <th>OverallQual</th>\n",
       "      <th>OverallCond</th>\n",
       "      <th>TotalBsmtSF</th>\n",
       "      <th>FullBath</th>\n",
       "      <th>HalfBath</th>\n",
       "      <th>BedroomAbvGr</th>\n",
       "      <th>TotRmsAbvGrd</th>\n",
       "      <th>Fireplaces</th>\n",
       "      <th>GarageArea</th>\n",
       "      <th>AboveMedianPrice</th>\n",
       "    </tr>\n",
       "  </thead>\n",
       "  <tbody>\n",
       "    <tr>\n",
       "      <th>0</th>\n",
       "      <td>8450</td>\n",
       "      <td>7</td>\n",
       "      <td>5</td>\n",
       "      <td>856</td>\n",
       "      <td>2</td>\n",
       "      <td>1</td>\n",
       "      <td>3</td>\n",
       "      <td>8</td>\n",
       "      <td>0</td>\n",
       "      <td>548</td>\n",
       "      <td>1</td>\n",
       "    </tr>\n",
       "    <tr>\n",
       "      <th>1</th>\n",
       "      <td>9600</td>\n",
       "      <td>6</td>\n",
       "      <td>8</td>\n",
       "      <td>1262</td>\n",
       "      <td>2</td>\n",
       "      <td>0</td>\n",
       "      <td>3</td>\n",
       "      <td>6</td>\n",
       "      <td>1</td>\n",
       "      <td>460</td>\n",
       "      <td>1</td>\n",
       "    </tr>\n",
       "    <tr>\n",
       "      <th>2</th>\n",
       "      <td>11250</td>\n",
       "      <td>7</td>\n",
       "      <td>5</td>\n",
       "      <td>920</td>\n",
       "      <td>2</td>\n",
       "      <td>1</td>\n",
       "      <td>3</td>\n",
       "      <td>6</td>\n",
       "      <td>1</td>\n",
       "      <td>608</td>\n",
       "      <td>1</td>\n",
       "    </tr>\n",
       "    <tr>\n",
       "      <th>3</th>\n",
       "      <td>9550</td>\n",
       "      <td>7</td>\n",
       "      <td>5</td>\n",
       "      <td>756</td>\n",
       "      <td>1</td>\n",
       "      <td>0</td>\n",
       "      <td>3</td>\n",
       "      <td>7</td>\n",
       "      <td>1</td>\n",
       "      <td>642</td>\n",
       "      <td>0</td>\n",
       "    </tr>\n",
       "    <tr>\n",
       "      <th>4</th>\n",
       "      <td>14260</td>\n",
       "      <td>8</td>\n",
       "      <td>5</td>\n",
       "      <td>1145</td>\n",
       "      <td>2</td>\n",
       "      <td>1</td>\n",
       "      <td>4</td>\n",
       "      <td>9</td>\n",
       "      <td>1</td>\n",
       "      <td>836</td>\n",
       "      <td>1</td>\n",
       "    </tr>\n",
       "    <tr>\n",
       "      <th>...</th>\n",
       "      <td>...</td>\n",
       "      <td>...</td>\n",
       "      <td>...</td>\n",
       "      <td>...</td>\n",
       "      <td>...</td>\n",
       "      <td>...</td>\n",
       "      <td>...</td>\n",
       "      <td>...</td>\n",
       "      <td>...</td>\n",
       "      <td>...</td>\n",
       "      <td>...</td>\n",
       "    </tr>\n",
       "    <tr>\n",
       "      <th>1455</th>\n",
       "      <td>7917</td>\n",
       "      <td>6</td>\n",
       "      <td>5</td>\n",
       "      <td>953</td>\n",
       "      <td>2</td>\n",
       "      <td>1</td>\n",
       "      <td>3</td>\n",
       "      <td>7</td>\n",
       "      <td>1</td>\n",
       "      <td>460</td>\n",
       "      <td>1</td>\n",
       "    </tr>\n",
       "    <tr>\n",
       "      <th>1456</th>\n",
       "      <td>13175</td>\n",
       "      <td>6</td>\n",
       "      <td>6</td>\n",
       "      <td>1542</td>\n",
       "      <td>2</td>\n",
       "      <td>0</td>\n",
       "      <td>3</td>\n",
       "      <td>7</td>\n",
       "      <td>2</td>\n",
       "      <td>500</td>\n",
       "      <td>1</td>\n",
       "    </tr>\n",
       "    <tr>\n",
       "      <th>1457</th>\n",
       "      <td>9042</td>\n",
       "      <td>7</td>\n",
       "      <td>9</td>\n",
       "      <td>1152</td>\n",
       "      <td>2</td>\n",
       "      <td>0</td>\n",
       "      <td>4</td>\n",
       "      <td>9</td>\n",
       "      <td>2</td>\n",
       "      <td>252</td>\n",
       "      <td>1</td>\n",
       "    </tr>\n",
       "    <tr>\n",
       "      <th>1458</th>\n",
       "      <td>9717</td>\n",
       "      <td>5</td>\n",
       "      <td>6</td>\n",
       "      <td>1078</td>\n",
       "      <td>1</td>\n",
       "      <td>0</td>\n",
       "      <td>2</td>\n",
       "      <td>5</td>\n",
       "      <td>0</td>\n",
       "      <td>240</td>\n",
       "      <td>0</td>\n",
       "    </tr>\n",
       "    <tr>\n",
       "      <th>1459</th>\n",
       "      <td>9937</td>\n",
       "      <td>5</td>\n",
       "      <td>6</td>\n",
       "      <td>1256</td>\n",
       "      <td>1</td>\n",
       "      <td>1</td>\n",
       "      <td>3</td>\n",
       "      <td>6</td>\n",
       "      <td>0</td>\n",
       "      <td>276</td>\n",
       "      <td>0</td>\n",
       "    </tr>\n",
       "  </tbody>\n",
       "</table>\n",
       "<p>1460 rows × 11 columns</p>\n",
       "</div>"
      ],
      "text/plain": [
       "      LotArea  OverallQual  OverallCond  TotalBsmtSF  FullBath  HalfBath  \\\n",
       "0        8450            7            5          856         2         1   \n",
       "1        9600            6            8         1262         2         0   \n",
       "2       11250            7            5          920         2         1   \n",
       "3        9550            7            5          756         1         0   \n",
       "4       14260            8            5         1145         2         1   \n",
       "...       ...          ...          ...          ...       ...       ...   \n",
       "1455     7917            6            5          953         2         1   \n",
       "1456    13175            6            6         1542         2         0   \n",
       "1457     9042            7            9         1152         2         0   \n",
       "1458     9717            5            6         1078         1         0   \n",
       "1459     9937            5            6         1256         1         1   \n",
       "\n",
       "      BedroomAbvGr  TotRmsAbvGrd  Fireplaces  GarageArea  AboveMedianPrice  \n",
       "0                3             8           0         548                 1  \n",
       "1                3             6           1         460                 1  \n",
       "2                3             6           1         608                 1  \n",
       "3                3             7           1         642                 0  \n",
       "4                4             9           1         836                 1  \n",
       "...            ...           ...         ...         ...               ...  \n",
       "1455             3             7           1         460                 1  \n",
       "1456             3             7           2         500                 1  \n",
       "1457             4             9           2         252                 1  \n",
       "1458             2             5           0         240                 0  \n",
       "1459             3             6           0         276                 0  \n",
       "\n",
       "[1460 rows x 11 columns]"
      ]
     },
     "execution_count": 16,
     "metadata": {},
     "output_type": "execute_result"
    }
   ],
   "source": [
    "df = pd.read_csv('data/housepricedata.csv')\n",
    "df"
   ]
  },
  {
   "cell_type": "markdown",
   "id": "a8ffaac3",
   "metadata": {},
   "source": [
    "* Área del Lote (en pies cuadrados)\n",
    "* Calidad General (escala del 1 al 10)\n",
    "* Condición General (escala del 1 al 10)\n",
    "* Área Total del Sótano (en pies cuadrados)\n",
    "* Número de Baños Completos\n",
    "* Número de Medios Baños\n",
    "* Número de Dormitorios sobre el nivel del suelo\n",
    "* Número Total de Habitaciones sobre el nivel del suelo\n",
    "* Número de Chimeneas\n",
    "* Área del Garaje (en pies cuadrados)\n",
    "\n",
    "En nuestra última columna, tenemos la característica que nos gustaría predecir ¿El precio de la casa está por encima de la mediana o no? (1 para sí y 0 para no)\n",
    "\n",
    "Ahora sabiendo cómo se ven los datos, se quiere convertirlos en matrices para que nuestra máquina los procese:"
   ]
  },
  {
   "cell_type": "code",
   "execution_count": 17,
   "id": "3d7a7d7e",
   "metadata": {},
   "outputs": [],
   "source": [
    "dataset = df.values"
   ]
  },
  {
   "cell_type": "code",
   "execution_count": 18,
   "id": "46cd56cc",
   "metadata": {},
   "outputs": [],
   "source": [
    "X = dataset[:,0:10]\n",
    "Y = dataset[:,10]"
   ]
  },
  {
   "cell_type": "code",
   "execution_count": 19,
   "id": "6daa65eb",
   "metadata": {},
   "outputs": [],
   "source": [
    "min_max_scaler = preprocessing.MinMaxScaler()\n",
    "X_scale = min_max_scaler.fit_transform(X)"
   ]
  },
  {
   "cell_type": "code",
   "execution_count": 20,
   "id": "49967b5a",
   "metadata": {},
   "outputs": [
    {
     "data": {
      "text/plain": [
       "array([[0.0334198 , 0.66666667, 0.5       , ..., 0.5       , 0.        ,\n",
       "        0.3864598 ],\n",
       "       [0.03879502, 0.55555556, 0.875     , ..., 0.33333333, 0.33333333,\n",
       "        0.32440056],\n",
       "       [0.04650728, 0.66666667, 0.5       , ..., 0.33333333, 0.33333333,\n",
       "        0.42877292],\n",
       "       ...,\n",
       "       [0.03618687, 0.66666667, 1.        , ..., 0.58333333, 0.66666667,\n",
       "        0.17771509],\n",
       "       [0.03934189, 0.44444444, 0.625     , ..., 0.25      , 0.        ,\n",
       "        0.16925247],\n",
       "       [0.04037019, 0.44444444, 0.625     , ..., 0.33333333, 0.        ,\n",
       "        0.19464034]])"
      ]
     },
     "execution_count": 20,
     "metadata": {},
     "output_type": "execute_result"
    }
   ],
   "source": [
    "X_scale"
   ]
  },
  {
   "cell_type": "code",
   "execution_count": 22,
   "id": "4275f95a",
   "metadata": {},
   "outputs": [],
   "source": [
    "X_train, X_val_and_test, Y_train, Y_val_and_test = train_test_split(X_scale, Y, test_size=0.3)"
   ]
  },
  {
   "cell_type": "code",
   "execution_count": 23,
   "id": "3d81212e",
   "metadata": {},
   "outputs": [],
   "source": [
    "X_val, X_test, Y_val, Y_test = train_test_split(X_val_and_test, Y_val_and_test, test_size=0.5)"
   ]
  },
  {
   "cell_type": "markdown",
   "id": "50f34e3c",
   "metadata": {},
   "source": [
    "* X_train (10 input features, 70% of full dataset)\n",
    "* X_val (10 input features, 15% of full dataset)\n",
    "* X_test (10 input features, 15% of full dataset)\n",
    "* Y_train (1 label, 70% of full dataset)\n",
    "* Y_val (1 label, 15% of full dataset)\n",
    "* Y_test (1 label, 15% of full dataset)"
   ]
  },
  {
   "cell_type": "code",
   "execution_count": 40,
   "id": "71bb6b7c",
   "metadata": {},
   "outputs": [
    {
     "name": "stdout",
     "output_type": "stream",
     "text": [
      "(1022, 10) (219, 10) (219, 10) (1022,) (219,) (219,)\n"
     ]
    }
   ],
   "source": [
    "print(X_train.shape, X_val.shape, X_test.shape, Y_train.shape, Y_val.shape, Y_test.shape)"
   ]
  },
  {
   "cell_type": "markdown",
   "id": "69117129",
   "metadata": {},
   "source": [
    "**Configuracion de mi primera red**\n",
    "\n",
    "Lo primero que tenemos que hacer es configurar la arquitectura. Primero pensemos en qué tipo de arquitectura de red neuronal queremos. Supongamos que queremos esta red neuronal:\n",
    "\n",
    "<img src=\"image/image_17.png\">\n",
    "\n",
    "En palabras, queremos tener estas capas:\n",
    "\n",
    "* Capa oculta 1: 32 neuronas, activación ReLU\n",
    "* Capa oculta 2: 32 neuronas, activación ReLU\n",
    "* Capa de salida: 1 neurona, activación Sigmoidal\n",
    "\n",
    "Ahora, se necesita describir esta arquitectura a Keras. Se usara el modelo Secuencial, lo que significa que simplemente se necesita describir las capas anteriores en secuencia."
   ]
  },
  {
   "cell_type": "code",
   "execution_count": 24,
   "id": "c25ae381",
   "metadata": {},
   "outputs": [],
   "source": [
    "model = Sequential([\n",
    "    Dense(32, activation='relu', input_shape=(10,)),\n",
    "    Dense(32, activation='relu'),\n",
    "    Dense(1, activation='sigmoid'),\n",
    "])"
   ]
  },
  {
   "cell_type": "code",
   "execution_count": 25,
   "id": "fc4b907f",
   "metadata": {},
   "outputs": [],
   "source": [
    "model.compile(optimizer='sgd',\n",
    "              loss='binary_crossentropy',\n",
    "              metrics=['accuracy'])"
   ]
  },
  {
   "cell_type": "code",
   "execution_count": 26,
   "id": "26ffc73c",
   "metadata": {},
   "outputs": [
    {
     "name": "stdout",
     "output_type": "stream",
     "text": [
      "Epoch 1/100\n",
      "32/32 [==============================] - 1s 12ms/step - loss: 0.6873 - accuracy: 0.5010 - val_loss: 0.6835 - val_accuracy: 0.5023\n",
      "Epoch 2/100\n",
      "32/32 [==============================] - 0s 4ms/step - loss: 0.6826 - accuracy: 0.5020 - val_loss: 0.6791 - val_accuracy: 0.5068\n",
      "Epoch 3/100\n",
      "32/32 [==============================] - 0s 4ms/step - loss: 0.6783 - accuracy: 0.5039 - val_loss: 0.6750 - val_accuracy: 0.5068\n",
      "Epoch 4/100\n",
      "32/32 [==============================] - 0s 4ms/step - loss: 0.6741 - accuracy: 0.5039 - val_loss: 0.6709 - val_accuracy: 0.5068\n",
      "Epoch 5/100\n",
      "32/32 [==============================] - 0s 4ms/step - loss: 0.6700 - accuracy: 0.5098 - val_loss: 0.6670 - val_accuracy: 0.5114\n",
      "Epoch 6/100\n",
      "32/32 [==============================] - 0s 3ms/step - loss: 0.6661 - accuracy: 0.5205 - val_loss: 0.6631 - val_accuracy: 0.5251\n",
      "Epoch 7/100\n",
      "32/32 [==============================] - 0s 4ms/step - loss: 0.6621 - accuracy: 0.5303 - val_loss: 0.6592 - val_accuracy: 0.5616\n",
      "Epoch 8/100\n",
      "32/32 [==============================] - 0s 4ms/step - loss: 0.6581 - accuracy: 0.5548 - val_loss: 0.6553 - val_accuracy: 0.6073\n",
      "Epoch 9/100\n",
      "32/32 [==============================] - 0s 4ms/step - loss: 0.6540 - accuracy: 0.6693 - val_loss: 0.6513 - val_accuracy: 0.6667\n",
      "Epoch 10/100\n",
      "32/32 [==============================] - 0s 4ms/step - loss: 0.6499 - accuracy: 0.7123 - val_loss: 0.6472 - val_accuracy: 0.7078\n",
      "Epoch 11/100\n",
      "32/32 [==============================] - 0s 4ms/step - loss: 0.6456 - accuracy: 0.7358 - val_loss: 0.6430 - val_accuracy: 0.7534\n",
      "Epoch 12/100\n",
      "32/32 [==============================] - 0s 4ms/step - loss: 0.6413 - accuracy: 0.7691 - val_loss: 0.6386 - val_accuracy: 0.7534\n",
      "Epoch 13/100\n",
      "32/32 [==============================] - 0s 4ms/step - loss: 0.6368 - accuracy: 0.7798 - val_loss: 0.6341 - val_accuracy: 0.7671\n",
      "Epoch 14/100\n",
      "32/32 [==============================] - 0s 4ms/step - loss: 0.6320 - accuracy: 0.7798 - val_loss: 0.6294 - val_accuracy: 0.7717\n",
      "Epoch 15/100\n",
      "32/32 [==============================] - 0s 4ms/step - loss: 0.6271 - accuracy: 0.7798 - val_loss: 0.6245 - val_accuracy: 0.7671\n",
      "Epoch 16/100\n",
      "32/32 [==============================] - 0s 4ms/step - loss: 0.6221 - accuracy: 0.7808 - val_loss: 0.6194 - val_accuracy: 0.7671\n",
      "Epoch 17/100\n",
      "32/32 [==============================] - 0s 4ms/step - loss: 0.6166 - accuracy: 0.7789 - val_loss: 0.6140 - val_accuracy: 0.7626\n",
      "Epoch 18/100\n",
      "32/32 [==============================] - 0s 4ms/step - loss: 0.6111 - accuracy: 0.7828 - val_loss: 0.6084 - val_accuracy: 0.7671\n",
      "Epoch 19/100\n",
      "32/32 [==============================] - 0s 4ms/step - loss: 0.6052 - accuracy: 0.7828 - val_loss: 0.6025 - val_accuracy: 0.7626\n",
      "Epoch 20/100\n",
      "32/32 [==============================] - 0s 4ms/step - loss: 0.5990 - accuracy: 0.7916 - val_loss: 0.5964 - val_accuracy: 0.7626\n",
      "Epoch 21/100\n",
      "32/32 [==============================] - 0s 4ms/step - loss: 0.5927 - accuracy: 0.8014 - val_loss: 0.5900 - val_accuracy: 0.7717\n",
      "Epoch 22/100\n",
      "32/32 [==============================] - 0s 4ms/step - loss: 0.5859 - accuracy: 0.8043 - val_loss: 0.5833 - val_accuracy: 0.7763\n",
      "Epoch 23/100\n",
      "32/32 [==============================] - 0s 4ms/step - loss: 0.5789 - accuracy: 0.8072 - val_loss: 0.5765 - val_accuracy: 0.7854\n",
      "Epoch 24/100\n",
      "32/32 [==============================] - 0s 4ms/step - loss: 0.5718 - accuracy: 0.8249 - val_loss: 0.5693 - val_accuracy: 0.7854\n",
      "Epoch 25/100\n",
      "32/32 [==============================] - 0s 4ms/step - loss: 0.5644 - accuracy: 0.8209 - val_loss: 0.5619 - val_accuracy: 0.7900\n",
      "Epoch 26/100\n",
      "32/32 [==============================] - 0s 4ms/step - loss: 0.5565 - accuracy: 0.8278 - val_loss: 0.5543 - val_accuracy: 0.8037\n",
      "Epoch 27/100\n",
      "32/32 [==============================] - 0s 4ms/step - loss: 0.5486 - accuracy: 0.8327 - val_loss: 0.5465 - val_accuracy: 0.7991\n",
      "Epoch 28/100\n",
      "32/32 [==============================] - 0s 4ms/step - loss: 0.5405 - accuracy: 0.8376 - val_loss: 0.5385 - val_accuracy: 0.8082\n",
      "Epoch 29/100\n",
      "32/32 [==============================] - 0s 4ms/step - loss: 0.5319 - accuracy: 0.8454 - val_loss: 0.5304 - val_accuracy: 0.8037\n",
      "Epoch 30/100\n",
      "32/32 [==============================] - 0s 4ms/step - loss: 0.5237 - accuracy: 0.8405 - val_loss: 0.5220 - val_accuracy: 0.8311\n",
      "Epoch 31/100\n",
      "32/32 [==============================] - 0s 4ms/step - loss: 0.5146 - accuracy: 0.8552 - val_loss: 0.5137 - val_accuracy: 0.8174\n",
      "Epoch 32/100\n",
      "32/32 [==============================] - 0s 4ms/step - loss: 0.5059 - accuracy: 0.8483 - val_loss: 0.5050 - val_accuracy: 0.8402\n",
      "Epoch 33/100\n",
      "32/32 [==============================] - 0s 4ms/step - loss: 0.4972 - accuracy: 0.8611 - val_loss: 0.4964 - val_accuracy: 0.8402\n",
      "Epoch 34/100\n",
      "32/32 [==============================] - 0s 4ms/step - loss: 0.4880 - accuracy: 0.8581 - val_loss: 0.4881 - val_accuracy: 0.8447\n",
      "Epoch 35/100\n",
      "32/32 [==============================] - 0s 3ms/step - loss: 0.4794 - accuracy: 0.8640 - val_loss: 0.4800 - val_accuracy: 0.8402\n",
      "Epoch 36/100\n",
      "32/32 [==============================] - 0s 4ms/step - loss: 0.4707 - accuracy: 0.8650 - val_loss: 0.4719 - val_accuracy: 0.8493\n",
      "Epoch 37/100\n",
      "32/32 [==============================] - 0s 4ms/step - loss: 0.4623 - accuracy: 0.8659 - val_loss: 0.4637 - val_accuracy: 0.8493\n",
      "Epoch 38/100\n",
      "32/32 [==============================] - 0s 5ms/step - loss: 0.4541 - accuracy: 0.8689 - val_loss: 0.4560 - val_accuracy: 0.8493\n",
      "Epoch 39/100\n",
      "32/32 [==============================] - 0s 4ms/step - loss: 0.4459 - accuracy: 0.8708 - val_loss: 0.4484 - val_accuracy: 0.8493\n",
      "Epoch 40/100\n",
      "32/32 [==============================] - 0s 4ms/step - loss: 0.4378 - accuracy: 0.8767 - val_loss: 0.4412 - val_accuracy: 0.8584\n",
      "Epoch 41/100\n",
      "32/32 [==============================] - 0s 4ms/step - loss: 0.4306 - accuracy: 0.8777 - val_loss: 0.4339 - val_accuracy: 0.8630\n",
      "Epoch 42/100\n",
      "32/32 [==============================] - 0s 4ms/step - loss: 0.4229 - accuracy: 0.8787 - val_loss: 0.4271 - val_accuracy: 0.8584\n",
      "Epoch 43/100\n",
      "32/32 [==============================] - 0s 4ms/step - loss: 0.4156 - accuracy: 0.8767 - val_loss: 0.4204 - val_accuracy: 0.8630\n",
      "Epoch 44/100\n",
      "32/32 [==============================] - 0s 4ms/step - loss: 0.4090 - accuracy: 0.8787 - val_loss: 0.4139 - val_accuracy: 0.8676\n",
      "Epoch 45/100\n",
      "32/32 [==============================] - 0s 4ms/step - loss: 0.4022 - accuracy: 0.8816 - val_loss: 0.4077 - val_accuracy: 0.8676\n",
      "Epoch 46/100\n",
      "32/32 [==============================] - 0s 3ms/step - loss: 0.3958 - accuracy: 0.8796 - val_loss: 0.4017 - val_accuracy: 0.8676\n",
      "Epoch 47/100\n",
      "32/32 [==============================] - 0s 4ms/step - loss: 0.3895 - accuracy: 0.8796 - val_loss: 0.3960 - val_accuracy: 0.8676\n",
      "Epoch 48/100\n",
      "32/32 [==============================] - 0s 4ms/step - loss: 0.3834 - accuracy: 0.8826 - val_loss: 0.3906 - val_accuracy: 0.8584\n",
      "Epoch 49/100\n",
      "32/32 [==============================] - 0s 4ms/step - loss: 0.3775 - accuracy: 0.8816 - val_loss: 0.3854 - val_accuracy: 0.8539\n",
      "Epoch 50/100\n",
      "32/32 [==============================] - 0s 4ms/step - loss: 0.3721 - accuracy: 0.8816 - val_loss: 0.3803 - val_accuracy: 0.8584\n",
      "Epoch 51/100\n",
      "32/32 [==============================] - 0s 3ms/step - loss: 0.3672 - accuracy: 0.8875 - val_loss: 0.3754 - val_accuracy: 0.8630\n",
      "Epoch 52/100\n",
      "32/32 [==============================] - 0s 3ms/step - loss: 0.3622 - accuracy: 0.8855 - val_loss: 0.3708 - val_accuracy: 0.8584\n",
      "Epoch 53/100\n",
      "32/32 [==============================] - 0s 3ms/step - loss: 0.3573 - accuracy: 0.8865 - val_loss: 0.3665 - val_accuracy: 0.8584\n",
      "Epoch 54/100\n",
      "32/32 [==============================] - 0s 4ms/step - loss: 0.3530 - accuracy: 0.8885 - val_loss: 0.3624 - val_accuracy: 0.8584\n",
      "Epoch 55/100\n",
      "32/32 [==============================] - 0s 4ms/step - loss: 0.3490 - accuracy: 0.8845 - val_loss: 0.3584 - val_accuracy: 0.8630\n",
      "Epoch 56/100\n",
      "32/32 [==============================] - 0s 4ms/step - loss: 0.3450 - accuracy: 0.8865 - val_loss: 0.3548 - val_accuracy: 0.8676\n",
      "Epoch 57/100\n",
      "32/32 [==============================] - 0s 3ms/step - loss: 0.3409 - accuracy: 0.8845 - val_loss: 0.3512 - val_accuracy: 0.8630\n",
      "Epoch 58/100\n",
      "32/32 [==============================] - 0s 4ms/step - loss: 0.3375 - accuracy: 0.8885 - val_loss: 0.3483 - val_accuracy: 0.8493\n"
     ]
    },
    {
     "name": "stdout",
     "output_type": "stream",
     "text": [
      "Epoch 59/100\n",
      "32/32 [==============================] - 0s 4ms/step - loss: 0.3344 - accuracy: 0.8875 - val_loss: 0.3447 - val_accuracy: 0.8630\n",
      "Epoch 60/100\n",
      "32/32 [==============================] - 0s 3ms/step - loss: 0.3307 - accuracy: 0.8865 - val_loss: 0.3415 - val_accuracy: 0.8630\n",
      "Epoch 61/100\n",
      "32/32 [==============================] - 0s 4ms/step - loss: 0.3280 - accuracy: 0.8836 - val_loss: 0.3386 - val_accuracy: 0.8630\n",
      "Epoch 62/100\n",
      "32/32 [==============================] - 0s 4ms/step - loss: 0.3248 - accuracy: 0.8865 - val_loss: 0.3359 - val_accuracy: 0.8676\n",
      "Epoch 63/100\n",
      "32/32 [==============================] - 0s 4ms/step - loss: 0.3225 - accuracy: 0.8865 - val_loss: 0.3335 - val_accuracy: 0.8584\n",
      "Epoch 64/100\n",
      "32/32 [==============================] - 0s 4ms/step - loss: 0.3198 - accuracy: 0.8845 - val_loss: 0.3309 - val_accuracy: 0.8721\n",
      "Epoch 65/100\n",
      "32/32 [==============================] - 0s 3ms/step - loss: 0.3175 - accuracy: 0.8855 - val_loss: 0.3284 - val_accuracy: 0.8721\n",
      "Epoch 66/100\n",
      "32/32 [==============================] - 0s 4ms/step - loss: 0.3150 - accuracy: 0.8875 - val_loss: 0.3262 - val_accuracy: 0.8721\n",
      "Epoch 67/100\n",
      "32/32 [==============================] - 0s 4ms/step - loss: 0.3124 - accuracy: 0.8885 - val_loss: 0.3244 - val_accuracy: 0.8630\n",
      "Epoch 68/100\n",
      "32/32 [==============================] - 0s 4ms/step - loss: 0.3107 - accuracy: 0.8865 - val_loss: 0.3225 - val_accuracy: 0.8630\n",
      "Epoch 69/100\n",
      "32/32 [==============================] - 0s 3ms/step - loss: 0.3086 - accuracy: 0.8894 - val_loss: 0.3202 - val_accuracy: 0.8721\n",
      "Epoch 70/100\n",
      "32/32 [==============================] - 0s 4ms/step - loss: 0.3071 - accuracy: 0.8885 - val_loss: 0.3191 - val_accuracy: 0.8676\n",
      "Epoch 71/100\n",
      "32/32 [==============================] - 0s 4ms/step - loss: 0.3050 - accuracy: 0.8885 - val_loss: 0.3165 - val_accuracy: 0.8767\n",
      "Epoch 72/100\n",
      "32/32 [==============================] - 0s 3ms/step - loss: 0.3034 - accuracy: 0.8904 - val_loss: 0.3148 - val_accuracy: 0.8767\n",
      "Epoch 73/100\n",
      "32/32 [==============================] - 0s 4ms/step - loss: 0.3021 - accuracy: 0.8855 - val_loss: 0.3137 - val_accuracy: 0.8721\n",
      "Epoch 74/100\n",
      "32/32 [==============================] - 0s 3ms/step - loss: 0.3004 - accuracy: 0.8875 - val_loss: 0.3119 - val_accuracy: 0.8813\n",
      "Epoch 75/100\n",
      "32/32 [==============================] - 0s 3ms/step - loss: 0.2992 - accuracy: 0.8885 - val_loss: 0.3102 - val_accuracy: 0.8767\n",
      "Epoch 76/100\n",
      "32/32 [==============================] - 0s 3ms/step - loss: 0.2972 - accuracy: 0.8875 - val_loss: 0.3089 - val_accuracy: 0.8813\n",
      "Epoch 77/100\n",
      "32/32 [==============================] - 0s 3ms/step - loss: 0.2961 - accuracy: 0.8875 - val_loss: 0.3074 - val_accuracy: 0.8813\n",
      "Epoch 78/100\n",
      "32/32 [==============================] - 0s 4ms/step - loss: 0.2952 - accuracy: 0.8894 - val_loss: 0.3062 - val_accuracy: 0.8813\n",
      "Epoch 79/100\n",
      "32/32 [==============================] - 0s 4ms/step - loss: 0.2942 - accuracy: 0.8894 - val_loss: 0.3048 - val_accuracy: 0.8813\n",
      "Epoch 80/100\n",
      "32/32 [==============================] - 0s 3ms/step - loss: 0.2929 - accuracy: 0.8885 - val_loss: 0.3039 - val_accuracy: 0.8813\n",
      "Epoch 81/100\n",
      "32/32 [==============================] - 0s 3ms/step - loss: 0.2921 - accuracy: 0.8865 - val_loss: 0.3025 - val_accuracy: 0.8813\n",
      "Epoch 82/100\n",
      "32/32 [==============================] - 0s 3ms/step - loss: 0.2908 - accuracy: 0.8885 - val_loss: 0.3015 - val_accuracy: 0.8904\n",
      "Epoch 83/100\n",
      "32/32 [==============================] - 0s 4ms/step - loss: 0.2896 - accuracy: 0.8914 - val_loss: 0.3003 - val_accuracy: 0.8904\n",
      "Epoch 84/100\n",
      "32/32 [==============================] - 0s 4ms/step - loss: 0.2885 - accuracy: 0.8933 - val_loss: 0.2990 - val_accuracy: 0.8767\n",
      "Epoch 85/100\n",
      "32/32 [==============================] - 0s 3ms/step - loss: 0.2878 - accuracy: 0.8904 - val_loss: 0.2980 - val_accuracy: 0.8813\n",
      "Epoch 86/100\n",
      "32/32 [==============================] - 0s 3ms/step - loss: 0.2869 - accuracy: 0.8904 - val_loss: 0.2974 - val_accuracy: 0.8904\n",
      "Epoch 87/100\n",
      "32/32 [==============================] - 0s 3ms/step - loss: 0.2863 - accuracy: 0.8914 - val_loss: 0.2965 - val_accuracy: 0.8858\n",
      "Epoch 88/100\n",
      "32/32 [==============================] - 0s 3ms/step - loss: 0.2853 - accuracy: 0.8875 - val_loss: 0.2951 - val_accuracy: 0.8858\n",
      "Epoch 89/100\n",
      "32/32 [==============================] - 0s 3ms/step - loss: 0.2845 - accuracy: 0.8943 - val_loss: 0.2942 - val_accuracy: 0.8858\n",
      "Epoch 90/100\n",
      "32/32 [==============================] - 0s 4ms/step - loss: 0.2840 - accuracy: 0.8914 - val_loss: 0.2931 - val_accuracy: 0.8858\n",
      "Epoch 91/100\n",
      "32/32 [==============================] - 0s 4ms/step - loss: 0.2830 - accuracy: 0.8914 - val_loss: 0.2922 - val_accuracy: 0.8858\n",
      "Epoch 92/100\n",
      "32/32 [==============================] - 0s 4ms/step - loss: 0.2826 - accuracy: 0.8933 - val_loss: 0.2914 - val_accuracy: 0.8813\n",
      "Epoch 93/100\n",
      "32/32 [==============================] - 0s 3ms/step - loss: 0.2819 - accuracy: 0.8914 - val_loss: 0.2909 - val_accuracy: 0.8858\n",
      "Epoch 94/100\n",
      "32/32 [==============================] - 0s 3ms/step - loss: 0.2817 - accuracy: 0.8933 - val_loss: 0.2899 - val_accuracy: 0.8858\n",
      "Epoch 95/100\n",
      "32/32 [==============================] - 0s 4ms/step - loss: 0.2800 - accuracy: 0.8904 - val_loss: 0.2887 - val_accuracy: 0.8904\n",
      "Epoch 96/100\n",
      "32/32 [==============================] - 0s 4ms/step - loss: 0.2794 - accuracy: 0.8973 - val_loss: 0.2879 - val_accuracy: 0.8904\n",
      "Epoch 97/100\n",
      "32/32 [==============================] - 0s 3ms/step - loss: 0.2783 - accuracy: 0.8924 - val_loss: 0.2884 - val_accuracy: 0.8904\n",
      "Epoch 98/100\n",
      "32/32 [==============================] - 0s 3ms/step - loss: 0.2784 - accuracy: 0.8953 - val_loss: 0.2863 - val_accuracy: 0.8904\n",
      "Epoch 99/100\n",
      "32/32 [==============================] - 0s 4ms/step - loss: 0.2780 - accuracy: 0.8924 - val_loss: 0.2861 - val_accuracy: 0.8858\n",
      "Epoch 100/100\n",
      "32/32 [==============================] - 0s 3ms/step - loss: 0.2773 - accuracy: 0.8924 - val_loss: 0.2850 - val_accuracy: 0.8904\n"
     ]
    }
   ],
   "source": [
    "hist = model.fit(X_train, Y_train,\n",
    "          batch_size=32, epochs=100,\n",
    "          validation_data=(X_val, Y_val))"
   ]
  },
  {
   "cell_type": "code",
   "execution_count": 27,
   "id": "e730acbe",
   "metadata": {},
   "outputs": [
    {
     "name": "stdout",
     "output_type": "stream",
     "text": [
      "7/7 [==============================] - 0s 2ms/step - loss: 0.3317 - accuracy: 0.8402\n"
     ]
    },
    {
     "data": {
      "text/plain": [
       "0.8401826620101929"
      ]
     },
     "execution_count": 27,
     "metadata": {},
     "output_type": "execute_result"
    }
   ],
   "source": [
    "model.evaluate(X_test, Y_test)[1]"
   ]
  },
  {
   "cell_type": "code",
   "execution_count": 47,
   "id": "4a52fd44",
   "metadata": {},
   "outputs": [
    {
     "data": {
      "image/png": "[encoded data removed]",
      "text/plain": [
       "<Figure size 640x480 with 1 Axes>"
      ]
     },
     "metadata": {},
     "output_type": "display_data"
    }
   ],
   "source": [
    "plt.plot(hist.history['loss'])\n",
    "plt.plot(hist.history['val_loss'])\n",
    "plt.title('Model loss')\n",
    "plt.ylabel('Loss')\n",
    "plt.xlabel('Epoch')\n",
    "plt.legend(['Train', 'Val'], loc='upper right')\n",
    "plt.show()"
   ]
  },
  {
   "cell_type": "code",
   "execution_count": 48,
   "id": "2e740142",
   "metadata": {},
   "outputs": [
    {
     "data": {
      "image/png": "[encoded data removed]",
      "text/plain": [
       "<Figure size 640x480 with 1 Axes>"
      ]
     },
     "metadata": {},
     "output_type": "display_data"
    }
   ],
   "source": [
    "plt.plot(hist.history['accuracy'])\n",
    "plt.plot(hist.history['val_accuracy'])\n",
    "plt.title('Model accuracy')\n",
    "plt.ylabel('Accuracy')\n",
    "plt.xlabel('Epoch')\n",
    "plt.legend(['Train', 'Val'], loc='lower right')\n",
    "plt.show()"
   ]
  },
  {
   "cell_type": "markdown",
   "id": "9609061a",
   "metadata": {},
   "source": [
    "# Tipos de capas para deep learning\n",
    "\n",
    "1. Padding \n",
    "\n",
    "El relleno es una técnica utilizada que garantiza que los datos de entrada tengan el tamaño y forma exactos que el modelo anticipa después de cada operación convolucional en cada etapa del modelo de aprendizaje profundo. Por lo tanto, esto se asegura agregando elementos adicionales a los datos de entrada, como ceros, para hacer que se ajuste a las especificaciones del modelo.\n",
    "\n",
    "<img src=\"image/image_18.webp\">\n",
    "\n",
    "2. Stride\n",
    "\n",
    "El \"stride\" (o paso) es un componente de las redes neuronales convolucionales, o redes neuronales ajustadas para la compresión de imágenes y datos de video. El \"stride\" es un parámetro del filtro de la red neuronal que modifica la cantidad de movimiento sobre la imagen o video. Por ejemplo, si el \"stride\" de una red neuronal se establece en 1, el filtro se moverá un píxel, o unidad, a la vez. El tamaño del filtro afecta el volumen de salida codificado, por lo que el \"stride\" a menudo se establece como un número entero completo, en lugar de una fracción o decimal.\n",
    "\n",
    "<img src=\"image/image_19.webp\">\n",
    "<img src=\"image/image_20.webp\">\n",
    "<img src=\"image/image_21.webp\">\n",
    "\n",
    "3. Pooling\n",
    "\n",
    "Las capas de agrupación (pooling) son uno de los bloques fundamentales de las Redes Neuronales Convolucionales. Mientras que las capas convolucionales extraen características de las imágenes, las capas de agrupación consolidan las características aprendidas por las CNNs. Su propósito es reducir gradualmente la dimensión espacial de la representación para minimizar el número de parámetros y cálculos en la red.\n",
    "\n",
    "Hay dos tipos de agrupaciones que se utilizan:\n",
    "\n",
    "* Max pooling (Agrupación máxima): Esto funciona seleccionando el valor máximo de cada grupo. La agrupación máxima retiene las características más destacadas del mapa de características, y la imagen devuelta es más nítida que la imagen original.\n",
    "\n",
    "* Average pooling (Agrupación promedio): Esta capa de agrupación funciona obteniendo el promedio del grupo. La agrupación promedio retiene los valores promedio de las características del mapa de características. Suaviza la imagen mientras mantiene la esencia de la característica en una imagen.\n",
    "\n",
    "<img src=\"image/image_22.png\">\n",
    "\n",
    "4. Dropout\n",
    "\n",
    "El término \"dropout\" se refiere a la eliminación de los nodos (capa de entrada y capa oculta) en una red neuronal (como se ve en la Figura 1). Todas las conexiones hacia adelante y hacia atrás con un nodo eliminado se eliminan temporalmente, creando así una nueva arquitectura de red a partir de la red principal. Los nodos se eliminan con una probabilidad de dropout de p.\n",
    "\n",
    "<img src=\"image/image_23.webp\">"
   ]
  },
  {
   "cell_type": "code",
   "execution_count": null,
   "id": "653dd838",
   "metadata": {},
   "outputs": [],
   "source": []
  }
 ],
 "metadata": {
  "kernelspec": {
   "display_name": "Python 3 (ipykernel)",
   "language": "python",
   "name": "python3"
  },
  "language_info": {
   "codemirror_mode": {
    "name": "ipython",
    "version": 3
   },
   "file_extension": ".py",
   "mimetype": "text/x-python",
   "name": "python",
   "nbconvert_exporter": "python",
   "pygments_lexer": "ipython3",
   "version": "3.10.6"
  }
 },
 "nbformat": 4,
 "nbformat_minor": 5
}
