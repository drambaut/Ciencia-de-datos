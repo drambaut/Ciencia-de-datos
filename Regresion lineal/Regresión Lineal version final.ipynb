{
  "cells": [
    {
      "cell_type": "markdown",
      "metadata": {
        "id": "egGz4ZW4QFUh"
      },
      "source": [
        "<table>\n",
        "    <tr>\n",
        "        <td><img src=\"https://s3.amazonaws.com/media-p.slid.es/uploads/1485763/images/9060062/Header.png\" width=\"300\"/></td>\n",
        "        <td>&nbsp;</td>\n",
        "        <td>\n",
        "            <h1 style=\"font-size:200%;color:blue;text-align:center\">    <FONT COLOR=\"blue\">  Regresión </p> Regresión Lineal   </FONT>         </h1></td>         \n",
        "        <td>\n",
        "            <tp><p style=\"font-size:115%;text-align:center\">Daniel Rambaut</p></tp>\n",
        "        </td>\n",
        "    </tr>\n",
        "</table>"
      ]
    },
    {
      "cell_type": "markdown",
      "metadata": {
        "id": "mgxuZXBpRjRc"
      },
      "source": [
        "# <FONT SIZE=5 COLOR=\"purple\"> 1. Introducción </FONT>\n",
        "\n",
        "En esta sección trabajaremos el modelo de regresión lineal simple, es decir, univariado. Primero vamos a recordar algunos conceptos claves.\n",
        "\n",
        "## <FONT SIZE=4 COLOR=\"green\"> 1.1 Covarianza </FONT>\n",
        "\n",
        "La covarianza es el valor que refleja en que medida dos variables aleatorias varian de forma conjunta respecto a sus medias.\n",
        "\n",
        "De acuerdo con lo anterior, la covarianza está dada por la siguiente fórmula\n",
        "\n",
        "$$Muestra: Cov(X,Y)=S_{xy}=\\dfrac{\\sum \\limits_{i=1}^n (x_i-\\overline{x})(y_i-\\overline{y})}{n-1}$$\n",
        "\n",
        "$$Poblacion:COV(X,Y)=\\sigma_{XY}=\\dfrac{\\sum \\limits_{i=1}^N (x_i-\\mu_x)(y_i-\\mu_y)}{N}$$\n",
        "\n",
        "donde $\\overline{x}$ y $\\overline{y}$ son las medias de las variables $X$ y $Y$ respectivamente y $n$ es el total de observaciones.\n",
        "\n",
        "A continuación listaremos algunas propiedades de la covarianza\n",
        "\n",
        "- $Cov(X,c)=0$, donde $c$ es una constante.\n",
        "\n",
        "- $Cov(X,X)=Var(X)$, la covarianza de una variable con si misma es la varianza de la variable.\n",
        "\n",
        "- $Cov(X,Y)=C(Y,X)$, la varianza es simétrica, es decir, no importa el orden en que se coloquen la variables.\n",
        "\n",
        "- La covarianza mide la fuerza de la relación lineal entre dos variables.\n",
        "\n",
        "- Una alta covarianza no implica efecto causal.\n",
        "\n",
        "**Interpretación de la covarianza**\n",
        "\n",
        "- $Cov(X,Y)>0$ ; las variables $X$ y $Y$ tienden a moverse en la misma dirección.\n",
        "\n",
        "- $Cov(X,Y)<0$   las variables $X$ y $Y$ tienden a moverse en direcciones opuestas.\n",
        "\n",
        "- $Cov(X,Y)=0$: las variables $X$ y $Y$ no estan relacionadas linealmente.\n"
      ]
    },
    {
      "cell_type": "markdown",
      "metadata": {
        "id": "M0cGInmFREJS"
      },
      "source": [
        "## <FONT SIZE=4 COLOR=\"green\"> 1.2 Coeficiente de Correlación </FONT>\n",
        "\n",
        "El coeficiente de correlación se define como\n",
        "\n",
        "$$muestra: r_{xy}=\\dfrac{S_{xy}}{S_xS_y} \\qquad \\qquad poblacion : \\rho_{xy}=\\dfrac{\\sigma_{xy}}{\\sigma_{x}\\sigma_{y}}$$\n",
        "\n",
        "lo que es equivalente a\n",
        "\n",
        "$$r_{xy}=\\dfrac{\\sum \\limits_{i=1}^n (x_i-\\overline{x})(y_i-\\overline{y})}{\\left (\\sum \\limits_{i=1}^n (x_i-\\overline{x})^2 \\right)^{1/2} \\left ( \\sum \\limits_{i=1}^n (y_i-\\overline{y})^2 \\right)^{1/2}}$$\n",
        "\n",
        "Veamos la interpretación de los diferentes valores del coeficiente de correlación de Pearson, teniendo en cuenta que:\n",
        "\n",
        "$$-1 \\leq r_{xy} \\leq 1 $$\n",
        "\n",
        "- Si $r_{xy}=1$, hay una relación positiva perfecta, es decir, indica una dependencia total entre las variables de manera directa. Si una de ellas aumenta, la otra también lo hace en proporción constante. Es decir, la relación es lineal.\n",
        "\n",
        "- Si $0<r_{x,y}<1$, existe una correlación positiva.\n",
        "\n",
        "- Si $r_{x,y}=0$, no existe relación lineal. Pero pueden haber otro tipo de relaciones.\n",
        "\n",
        "- Si $-1<r_{x,y}<0$, existe una correlación negativa.\n",
        "\n",
        "- Si $r_{x,y}=-1$, existe una correlación negativa perfecta, es decir, indica una dependencia total de manera inversa. Si una variable disminuye la otra aumenta en proporción constante.\n",
        "\n",
        "<br>\n",
        "<center><img src=\"https://github.com/Fabian830348/cursos/blob/master/pearson.png?raw=true\" alt=\"centered image\" width=\"550\" height=\"300\"></center>\n",
        "<br>\n",
        "\n",
        "Algunas propiedades para tener en cuenta del coeficiente de correlación:\n",
        "\n",
        "- No depende de las unidades de las variables.\n",
        "\n",
        "- El coefiente de Pearson es acotado\n"
      ]
    },
    {
      "cell_type": "markdown",
      "metadata": {
        "id": "El2cNnAlR2QX"
      },
      "source": [
        "# <FONT SIZE=5 COLOR=\"purple\"> 2. Modelo de Regresión Lineal </FONT>\n",
        "\n",
        "Supongamos que tenemos dos variables cuantitativas, que representan en el plano un conjunto de puntos $(x,y)$. En general, estos puntos no tienen porque estar ajustados de forma lineal, es decir, el diagrama de dispersión no tiene porque representar una recta.\n",
        "\n",
        "Sin embargo, existen situaciones en que loa puntos se aproximan o se ajustan en mayor medida a una línea recta. Particualmente cuando el coeficiente de correlación es cercano a 1 o a -1.\n",
        "\n",
        "<br>\n",
        "<center><img src=\"https://github.com/Fabian830348/cursos/blob/master/regresion1.png?raw=true\" alt=\"centered image\" width=\"550\" height=\"300\"></center>\n",
        "<br>\n",
        "\n",
        "La idea es encontrar una recta que se aproxime a los puntos dados\n",
        "\n",
        "<br>\n",
        "<center><img src=\"https://github.com/Fabian830348/cursos/blob/master/regresion2.png?raw=true\" alt=\"centered image\" width=\"550\" height=\"300\"></center>\n",
        "<br>\n",
        "\n",
        "Para hallar la ecuación de la recta que se observa en el gráfico usaremos el método de los mínimos cuadrados.\n",
        "\n",
        "El método de los mínimos cuadrados permite hacer una estimación del modelo de regresión lineal simple.\n",
        "\n",
        "Buscamos una recta de la forma\n",
        "\n",
        "$$\\hat{y}= \\hat{\\beta_0}+\\hat{\\beta_1}x$$\n",
        "\n",
        "El método de mínimos cuadrados consiste en minimizar las sumas de los cuadrados de los errores $(SSE)$:\n",
        "\n",
        "$$SSE=\\sum \\limits_{i=1}^n e_{i}^2= \\sum \\limits_{i=1}^n (y_{i}-\\hat{y_i})^2$$\n",
        "\n",
        "Esta expresión es la suma de las distancias al cuadrado entre los valores $y_i$ de la muestra (conjunto de datos) y los valores ajustados $\\hat{y_i}$.\n",
        "\n",
        "$$SSE(\\hat{\\beta_0},\\hat{\\beta_1})=\\sum \\limits_{i=1}^n (y_{i}-\\hat{\\beta_0}-\\hat{\\beta_1}x_i)^2$$\n",
        "\n",
        "El objetivo de los mínimos cuadrados es hallar los valores de $\\hat{\\beta}_0$ y $\\hat{\\beta}_1$ que minimicen la expresión anterior. Para esto, realizaremos el procedimiento clásico para minimizar una función de dos variables y por tanto, derivamos parcialmente con respecto a los parámetros $\\hat{\\beta_0}$ y $\\hat{\\beta_1}$ e igualamos a cero.\n",
        "\n",
        "$$\\dfrac{\\partial (SSE)}{\\partial \\hat{\\beta}_0} = -2 \\sum \\limits_{i=1}^n (y_{i}-\\hat{\\beta}_0-\\hat{\\beta}_1x_i)$$\n",
        "$$ \\dfrac{\\partial (SSE)}{\\partial \\hat{\\beta_1}} = -2 \\sum \\limits_{i=1}^n (y_{i}-\\hat{\\beta_0}-\\hat{\\beta_1}x_i)x_i$$\n",
        "\n",
        "el procedimiento que sigue se le deja al lector. Al igualar a cero y despejar $\\hat{\\beta_0}$ y $\\hat{\\beta_1}$ se obtiene:\n",
        "\n",
        "$$\\hat{\\beta_0}= \\dfrac{\\sum \\limits_{i=1}^n y_i - \\hat{\\beta}_1 \\sum \\limits_{i=1}^n x_i}{n}=\\overline{y}-\\hat{\\beta_1}\\overline{x} $$\n",
        "$$\\hat{\\beta_1}=\\dfrac{\\sum \\limits_{i=1}^n (x_i- \\overline{x})(y_i-\\overline{y})}{\\sum \\limits_{i=1}^n(x_i -\\overline{x})^2}= \\dfrac{S_{xy}}{S_{xx}}$$\n",
        "\n",
        "\n",
        "donde, $S_{xy}$ es la covarianza muestral entre $X$ y $Y$.\n",
        "\n",
        "\n",
        "\n"
      ]
    },
    {
      "cell_type": "markdown",
      "metadata": {
        "id": "pxPz9tb3Z7_D"
      },
      "source": [
        "## <FONT SIZE=4 COLOR=\"green\"> 2.1 Descenso del Gradiente </FONT>\n",
        "\n",
        "Observe que estamos buscando una recta\n",
        "\n",
        "$$\\hat{y}= \\hat{\\beta_0}+\\hat{\\beta_1}x$$\n",
        "\n",
        "de tal forma que los parámetros $\\beta_0$ y $\\beta_1$ minimicen la siguiente función de costo\n",
        "\n",
        "$$J(\\beta_0, \\beta_1)= \\dfrac{1}{2n}\\sum \\limits_{i=1}^n e_{i}^2= \\dfrac{1}{2n}\\sum \\limits_{i=1}^n (y_{i}-\\hat{\\beta_0}-\\hat{\\beta_1}x_i)^2$$\n",
        "\n",
        "Ahora bien, si tenemos una función $J(\\theta_1)$ con $\\theta_1 \\in \\mathbb{R}$\n",
        "\n",
        "<br>\n",
        "<center><img src=\"https://miro.medium.com/v2/resize:fit:720/format:webp/1*jelEz0zFk0Qq334UEOo_ZQ.png\" alt=\"centered image\" width=\"500\" height=\"250\"></center> <center><figcaption> <FONT SIZE=1 COLOR=\"black\"> Fuente: https://miro.medium.com  </FONT> <figcaption></center>\n",
        "<br>\n",
        "\n",
        "La idea es que para un valor pequeño de $\\alpha$, al iterar podamos encontrar el mínimo\n",
        "\n",
        "<br>\n",
        "<center><img src=\"https://miro.medium.com/v2/resize:fit:720/format:webp/1*f3AVL6VGeoQDKyjl8Bw9KA.png\" alt=\"centered image\" width=\"500\" height=\"250\"></center> <center><figcaption> <FONT SIZE=1 COLOR=\"black\"> Fuente: https://miro.medium.com  </FONT> <figcaption></center>\n",
        "<br>\n",
        "\n",
        "Por ejemplo, si $\\alpha$ es muy grande lo que sucede es que\n",
        "\n",
        "<br>\n",
        "<center><img src=\"https://miro.medium.com/v2/resize:fit:720/format:webp/1*kKXBdJQOuTC9M02usM0Ijw.png\" alt=\"centered image\" width=\"500\" height=\"250\"></center> <center><figcaption> <FONT SIZE=1 COLOR=\"black\"> Fuente: https://miro.medium.com  </FONT> <figcaption></center>\n",
        "<br>\n",
        "\n",
        "Si aplicamos la idea del descenso del gradiente a la función de costo de la regresión lineal tenemos\n",
        "\n",
        "$$\\dfrac{\\partial}{\\partial \\beta_0}J(\\beta_0, \\beta_1) = \\dfrac{\\partial}{\\partial \\beta_0}. \\dfrac{1}{2n} \\sum \\limits_{i=1}^n (y_{i}-\\hat{\\beta_0}-\\hat{\\beta_1}x_i)^2$$\n",
        "\n",
        "$$\\dfrac{\\partial}{\\partial \\beta_0}J(\\beta_0, \\beta_1) = -\\dfrac{1}{n} \\sum \\limits_{i=1}^n (y_{i}-\\hat{\\beta_0}-\\hat{\\beta_1}x_i)$$\n",
        "\n",
        "$$\\dfrac{\\partial}{\\partial \\beta_1}J(\\beta_0, \\beta_1) = \\dfrac{\\partial}{\\partial \\beta_1}. \\dfrac{1}{2n} \\sum \\limits_{i=1}^n (y_{i}-\\hat{\\beta_0}-\\hat{\\beta_1}x_i)^2$$\n",
        "\n",
        "$$\\dfrac{\\partial}{\\partial \\beta_1}J(\\beta_0, \\beta_1) = -\\dfrac{1}{n} \\sum \\limits_{i=1}^n (y_{i}-\\hat{\\beta_0}-\\hat{\\beta_1}x_i)x_i$$\n",
        "\n",
        "Luego, definimos\n",
        "\n",
        "$$\\theta_0 = \\theta_0- \\alpha \\dfrac{1}{n} \\sum \\limits_{i=1}^n (y_{i}-\\hat{\\beta_0}-\\hat{\\beta_1}x_i) $$\n",
        "\n",
        "$$\\theta_1 = \\theta_1- \\alpha \\dfrac{1}{n} \\sum \\limits_{i=1}^n (y_{i}-\\hat{\\beta_0}-\\hat{\\beta_1}x_i)x_i $$\n",
        "\n",
        "Estos valores se reemplazan en la función $J(\\beta_0, \\beta_1)$ y se repite el proceso."
      ]
    },
    {
      "cell_type": "markdown",
      "metadata": {
        "id": "WqtI7fJzhXOi"
      },
      "source": [
        "De acuerdo con lo anterior, se puede implementar el código el Python y hay varias opciones"
      ]
    },
    {
      "cell_type": "code",
      "execution_count": null,
      "metadata": {
        "id": "W2IQVrUeeblM"
      },
      "outputs": [],
      "source": [
        "# código 1 para descenso del gradiente\n",
        "import numpy as np\n",
        "import pandas as pd\n",
        "import matplotlib.pyplot as plt\n",
        "\n",
        "def gradient_descent(x, y, theta0 = 0, theta1 = 0, iterations = 1000, alpha = 0.01, epsilon = 0.01):\n",
        "\n",
        "    def cost_function(x, y):\n",
        "        return lambda theta0, theta1: np.sum((theta0 + theta1 * x - y) ** 2) / len(x)\n",
        "\n",
        "    def derivative_theta_0(x, y):\n",
        "        return lambda theta0, theta1: 2/len(x) * np.sum(theta0 + theta1 * x - y)\n",
        "\n",
        "    def derivative_theta_1(x, y):\n",
        "        return lambda theta0, theta1: 2/len(x) * np.sum((theta0 + theta1 * x - y) * x)\n",
        "\n",
        "    J = cost_function(x,y)\n",
        "    J0 = derivative_theta_0(x,y)\n",
        "    J1 = derivative_theta_1(x,y)\n",
        "\n",
        "    convergence = False\n",
        "    for i in range(0,iterations):\n",
        "        cost = J(theta0,theta1)\n",
        "        Jp0 = J0(theta0,theta1)\n",
        "        Jp1 = J1(theta0,theta1)\n",
        "\n",
        "        theta0 = theta0 - alpha * Jp0\n",
        "        theta1 = theta1 - alpha * Jp1\n",
        "\n",
        "        cost_new = J(theta0,theta1)\n",
        "        convergence = np.abs(cost_new - cost) < epsilon\n",
        "        cost = cost_new\n",
        "\n",
        "        if convergence == True:\n",
        "            print(\"Convergence FOUND!\")\n",
        "            print(\"Theta0: \" + str(theta0))\n",
        "            print(\"Theta1: \" + str(theta1))\n",
        "            print(str(i) + \" iterations\")\n",
        "            print(\"Cost: \" + str(cost))\n",
        "            break\n",
        "\n",
        "    if convergence == True:\n",
        "        return theta0,theta1\n",
        "    else:\n",
        "        return 0,0"
      ]
    },
    {
      "cell_type": "code",
      "execution_count": null,
      "metadata": {
        "id": "XLHKx4SngCZ6",
        "colab": {
          "base_uri": "https://localhost:8080/"
        },
        "outputId": "521a73e1-f18c-4214-bea6-c8650288d0e9"
      },
      "outputs": [
        {
          "output_type": "stream",
          "name": "stdout",
          "text": [
            "Los valores que se obtienen son: 3.9971203485877957 0.89914272213589 en pasos 499\n"
          ]
        }
      ],
      "source": [
        "# código 2 para descenso del gradiente\n",
        "import numpy as np\n",
        "# Creación de un conjunto de datos para entrenamiento\n",
        "trX = [3,7,11,15,18,27,29,30,30,31,31,32,33,33,34,36,36,36,37,38,39,39,39,40,41,42,42,43,44,45,46,47,50]\n",
        "trY = [5,11,21,16,16,28,27,25,35,30,40,32,34,32,34,37,38,34,36,38,37,36,45,39,41,40,44,37,44,46,46,49,51]\n",
        "# Definición de los ajustes y parámetros iniciales\n",
        "num_steps = 500\n",
        "learningRate = 0.00001\n",
        "criteria = 1e-10\n",
        "b_0 = 4\n",
        "b_1 = 1\n",
        "# Proceso iterativo\n",
        "for step in range(0, num_steps):\n",
        "    b_0_gradient = 0\n",
        "    b_1_gradient = 0\n",
        "    N = float(len(trX))\n",
        "    for i in range(0, len(trX)):\n",
        "        b_0_gradient -= (2/N) * (trY[i] - (b_0 + b_1 * trX[i]))\n",
        "        b_1_gradient -= (2/N) * (trY[i] - (b_0 + b_1 * trX[i])) * trX[i]\n",
        "\n",
        "    b_0 = b_0 - (learningRate * b_0_gradient)\n",
        "    b_1 = b_1 - (learningRate * b_1_gradient)\n",
        "    if max(abs(learningRate * b_0_gradient), abs(learningRate * b_1_gradient)) < criteria:\n",
        "        break\n",
        "\n",
        "# Impresión de los resultados\n",
        "print(\"Los valores que se obtienen son:\", b_0, b_1, \"en pasos\", step)"
      ]
    },
    {
      "cell_type": "code",
      "execution_count": null,
      "metadata": {
        "id": "rrrqBKewicYL",
        "colab": {
          "base_uri": "https://localhost:8080/"
        },
        "outputId": "5a9a5990-99eb-43d8-caf1-60228feac3b0"
      },
      "outputs": [
        {
          "output_type": "stream",
          "name": "stdout",
          "text": [
            "Convergence FOUND!\n",
            "Theta0: 3.997350436950497\n",
            "Theta1: 0.9030294794145323\n",
            "128 iterations\n",
            "Cost: 9.81950820511435\n"
          ]
        },
        {
          "output_type": "execute_result",
          "data": {
            "text/plain": [
              "(3.997350436950497, 0.9030294794145323)"
            ]
          },
          "metadata": {},
          "execution_count": 5
        }
      ],
      "source": [
        "gradient_descent(np.array(trX), np.array(trY), theta0 = 4, theta1 = 1, iterations = 1000, alpha = 0.00001, epsilon = 0.001)"
      ]
    },
    {
      "cell_type": "markdown",
      "metadata": {
        "id": "nnXD115rkPz-"
      },
      "source": [
        "Veamos si en efecto, se aproxima."
      ]
    },
    {
      "cell_type": "code",
      "execution_count": null,
      "metadata": {
        "id": "V4rwx1WUkHN2"
      },
      "outputs": [],
      "source": [
        "px.scatter(x = trX,\n",
        "           y = trY,\n",
        "           color_discrete_sequence = [\"purple\"],\n",
        "           trendline = \"ols\",  # ols : ordinary least squares- mínimos cuadrados regresión lineal.\n",
        "           trendline_color_override = \"blue\",\n",
        "           title = \"Diagrama de dispersión con línea de regresión\", # color de la recta de regresión\n",
        "           labels = {\"x\" : \"Precio\", \"y\" : \"Metros cuadrados\"})"
      ]
    },
    {
      "cell_type": "markdown",
      "metadata": {
        "id": "7AlWkwufjQO6"
      },
      "source": [
        "Vamos a cargar las librerías necesarias para el trabajo de los ejemplos de regresión lineal"
      ]
    },
    {
      "cell_type": "code",
      "execution_count": null,
      "metadata": {
        "id": "5I6l9YbUK-QY"
      },
      "outputs": [],
      "source": [
        "#librerías para manipular dataframes y arreglos\n",
        "import pandas as pd\n",
        "import numpy as np\n",
        "\n",
        "# librerías para graficar\n",
        "import matplotlib as plt\n",
        "import plotly.express as px\n",
        "import seaborn as sns\n",
        "from matplotlib.pyplot import xlabel\n",
        "\n",
        "# selección de modelos y conjunto de entrenamiento\n",
        "from sklearn.feature_selection import RFE\n",
        "from sklearn.model_selection import train_test_split\n",
        "\n",
        "#métricas para modelo lineal\n",
        "from sklearn.linear_model import LinearRegression\n",
        "from sklearn import linear_model\n",
        "from sklearn.metrics import mean_squared_error, r2_score\n",
        "\n",
        "# Herramientas estadísticas\n",
        "import statsmodels.api as sm\n",
        "from statsmodels.sandbox.regression.predstd import wls_prediction_std\n",
        "\n",
        "# warnings\n",
        "import warnings\n",
        "warnings.filterwarnings('ignore')\n"
      ]
    },
    {
      "cell_type": "markdown",
      "metadata": {
        "id": "0YOME_7ejdhu"
      },
      "source": [
        "# <FONT SIZE=5 COLOR=\"purple\"> 3. Ejemplo 1. Modelo de Regresión Lineal Simple </FONT>\n",
        "\n",
        "Para este ejemplo consideraremos el conjunto de datos de apartamentos y las variables *precio* y *mt2*"
      ]
    },
    {
      "cell_type": "code",
      "execution_count": null,
      "metadata": {
        "id": "nTL-euNuLPNG"
      },
      "outputs": [],
      "source": [
        "url = \"https://raw.githubusercontent.com/Fabian830348/Bases_Datos/master/APARTAMENTOS.csv\"\n",
        "aptos = pd.read_csv(url)"
      ]
    },
    {
      "cell_type": "markdown",
      "metadata": {
        "id": "ZmB2yrL_LqKN"
      },
      "source": [
        "Revisamos rápidamente algunos elementos de los datos"
      ]
    },
    {
      "cell_type": "code",
      "execution_count": null,
      "metadata": {
        "colab": {
          "base_uri": "https://localhost:8080/",
          "height": 206
        },
        "id": "ND-vYfoILpzN",
        "outputId": "b7a3f519-d1b5-4521-a194-094377041888"
      },
      "outputs": [
        {
          "output_type": "execute_result",
          "data": {
            "text/plain": [
              "   Unnamed: 0  precio    mt2 ubicacion  estrato  alcobas  banos balcon  \\\n",
              "0           1    79.0  43.16     norte        3        3      1     si   \n",
              "1           2    93.0  56.92     norte        2        2      1     si   \n",
              "2           3   100.0  66.40     norte        3        2      2     no   \n",
              "3           4   123.0  61.85     norte        2        3      2     si   \n",
              "4           5   135.0  89.80     norte        4        3      2     si   \n",
              "\n",
              "  parqueadero  administracion     avaluo terminado  \n",
              "0          si           0.050  14.923002        no  \n",
              "1          si           0.069  27.000000        si  \n",
              "2          no           0.000  15.738427        no  \n",
              "3          si           0.130  27.000000        no  \n",
              "4          no           0.000  39.567000        si  "
            ],
            "text/html": [
              "\n",
              "  <div id=\"df-80b60b7d-2aef-4e7e-9b94-2361879b7ef8\" class=\"colab-df-container\">\n",
              "    <div>\n",
              "<style scoped>\n",
              "    .dataframe tbody tr th:only-of-type {\n",
              "        vertical-align: middle;\n",
              "    }\n",
              "\n",
              "    .dataframe tbody tr th {\n",
              "        vertical-align: top;\n",
              "    }\n",
              "\n",
              "    .dataframe thead th {\n",
              "        text-align: right;\n",
              "    }\n",
              "</style>\n",
              "<table border=\"1\" class=\"dataframe\">\n",
              "  <thead>\n",
              "    <tr style=\"text-align: right;\">\n",
              "      <th></th>\n",
              "      <th>Unnamed: 0</th>\n",
              "      <th>precio</th>\n",
              "      <th>mt2</th>\n",
              "      <th>ubicacion</th>\n",
              "      <th>estrato</th>\n",
              "      <th>alcobas</th>\n",
              "      <th>banos</th>\n",
              "      <th>balcon</th>\n",
              "      <th>parqueadero</th>\n",
              "      <th>administracion</th>\n",
              "      <th>avaluo</th>\n",
              "      <th>terminado</th>\n",
              "    </tr>\n",
              "  </thead>\n",
              "  <tbody>\n",
              "    <tr>\n",
              "      <th>0</th>\n",
              "      <td>1</td>\n",
              "      <td>79.0</td>\n",
              "      <td>43.16</td>\n",
              "      <td>norte</td>\n",
              "      <td>3</td>\n",
              "      <td>3</td>\n",
              "      <td>1</td>\n",
              "      <td>si</td>\n",
              "      <td>si</td>\n",
              "      <td>0.050</td>\n",
              "      <td>14.923002</td>\n",
              "      <td>no</td>\n",
              "    </tr>\n",
              "    <tr>\n",
              "      <th>1</th>\n",
              "      <td>2</td>\n",
              "      <td>93.0</td>\n",
              "      <td>56.92</td>\n",
              "      <td>norte</td>\n",
              "      <td>2</td>\n",
              "      <td>2</td>\n",
              "      <td>1</td>\n",
              "      <td>si</td>\n",
              "      <td>si</td>\n",
              "      <td>0.069</td>\n",
              "      <td>27.000000</td>\n",
              "      <td>si</td>\n",
              "    </tr>\n",
              "    <tr>\n",
              "      <th>2</th>\n",
              "      <td>3</td>\n",
              "      <td>100.0</td>\n",
              "      <td>66.40</td>\n",
              "      <td>norte</td>\n",
              "      <td>3</td>\n",
              "      <td>2</td>\n",
              "      <td>2</td>\n",
              "      <td>no</td>\n",
              "      <td>no</td>\n",
              "      <td>0.000</td>\n",
              "      <td>15.738427</td>\n",
              "      <td>no</td>\n",
              "    </tr>\n",
              "    <tr>\n",
              "      <th>3</th>\n",
              "      <td>4</td>\n",
              "      <td>123.0</td>\n",
              "      <td>61.85</td>\n",
              "      <td>norte</td>\n",
              "      <td>2</td>\n",
              "      <td>3</td>\n",
              "      <td>2</td>\n",
              "      <td>si</td>\n",
              "      <td>si</td>\n",
              "      <td>0.130</td>\n",
              "      <td>27.000000</td>\n",
              "      <td>no</td>\n",
              "    </tr>\n",
              "    <tr>\n",
              "      <th>4</th>\n",
              "      <td>5</td>\n",
              "      <td>135.0</td>\n",
              "      <td>89.80</td>\n",
              "      <td>norte</td>\n",
              "      <td>4</td>\n",
              "      <td>3</td>\n",
              "      <td>2</td>\n",
              "      <td>si</td>\n",
              "      <td>no</td>\n",
              "      <td>0.000</td>\n",
              "      <td>39.567000</td>\n",
              "      <td>si</td>\n",
              "    </tr>\n",
              "  </tbody>\n",
              "</table>\n",
              "</div>\n",
              "    <div class=\"colab-df-buttons\">\n",
              "\n",
              "  <div class=\"colab-df-container\">\n",
              "    <button class=\"colab-df-convert\" onclick=\"convertToInteractive('df-80b60b7d-2aef-4e7e-9b94-2361879b7ef8')\"\n",
              "            title=\"Convert this dataframe to an interactive table.\"\n",
              "            style=\"display:none;\">\n",
              "\n",
              "  <svg xmlns=\"http://www.w3.org/2000/svg\" height=\"24px\" viewBox=\"0 -960 960 960\">\n",
              "    <path d=\"M120-120v-720h720v720H120Zm60-500h600v-160H180v160Zm220 220h160v-160H400v160Zm0 220h160v-160H400v160ZM180-400h160v-160H180v160Zm440 0h160v-160H620v160ZM180-180h160v-160H180v160Zm440 0h160v-160H620v160Z\"/>\n",
              "  </svg>\n",
              "    </button>\n",
              "\n",
              "  <style>\n",
              "    .colab-df-container {\n",
              "      display:flex;\n",
              "      gap: 12px;\n",
              "    }\n",
              "\n",
              "    .colab-df-convert {\n",
              "      background-color: #E8F0FE;\n",
              "      border: none;\n",
              "      border-radius: 50%;\n",
              "      cursor: pointer;\n",
              "      display: none;\n",
              "      fill: #1967D2;\n",
              "      height: 32px;\n",
              "      padding: 0 0 0 0;\n",
              "      width: 32px;\n",
              "    }\n",
              "\n",
              "    .colab-df-convert:hover {\n",
              "      background-color: #E2EBFA;\n",
              "      box-shadow: 0px 1px 2px rgba(60, 64, 67, 0.3), 0px 1px 3px 1px rgba(60, 64, 67, 0.15);\n",
              "      fill: #174EA6;\n",
              "    }\n",
              "\n",
              "    .colab-df-buttons div {\n",
              "      margin-bottom: 4px;\n",
              "    }\n",
              "\n",
              "    [theme=dark] .colab-df-convert {\n",
              "      background-color: #3B4455;\n",
              "      fill: #D2E3FC;\n",
              "    }\n",
              "\n",
              "    [theme=dark] .colab-df-convert:hover {\n",
              "      background-color: #434B5C;\n",
              "      box-shadow: 0px 1px 3px 1px rgba(0, 0, 0, 0.15);\n",
              "      filter: drop-shadow(0px 1px 2px rgba(0, 0, 0, 0.3));\n",
              "      fill: #FFFFFF;\n",
              "    }\n",
              "  </style>\n",
              "\n",
              "    <script>\n",
              "      const buttonEl =\n",
              "        document.querySelector('#df-80b60b7d-2aef-4e7e-9b94-2361879b7ef8 button.colab-df-convert');\n",
              "      buttonEl.style.display =\n",
              "        google.colab.kernel.accessAllowed ? 'block' : 'none';\n",
              "\n",
              "      async function convertToInteractive(key) {\n",
              "        const element = document.querySelector('#df-80b60b7d-2aef-4e7e-9b94-2361879b7ef8');\n",
              "        const dataTable =\n",
              "          await google.colab.kernel.invokeFunction('convertToInteractive',\n",
              "                                                    [key], {});\n",
              "        if (!dataTable) return;\n",
              "\n",
              "        const docLinkHtml = 'Like what you see? Visit the ' +\n",
              "          '<a target=\"_blank\" href=https://colab.research.google.com/notebooks/data_table.ipynb>data table notebook</a>'\n",
              "          + ' to learn more about interactive tables.';\n",
              "        element.innerHTML = '';\n",
              "        dataTable['output_type'] = 'display_data';\n",
              "        await google.colab.output.renderOutput(dataTable, element);\n",
              "        const docLink = document.createElement('div');\n",
              "        docLink.innerHTML = docLinkHtml;\n",
              "        element.appendChild(docLink);\n",
              "      }\n",
              "    </script>\n",
              "  </div>\n",
              "\n",
              "\n",
              "<div id=\"df-ec34cc56-6416-4c28-baa0-7d34272523c8\">\n",
              "  <button class=\"colab-df-quickchart\" onclick=\"quickchart('df-ec34cc56-6416-4c28-baa0-7d34272523c8')\"\n",
              "            title=\"Suggest charts\"\n",
              "            style=\"display:none;\">\n",
              "\n",
              "<svg xmlns=\"http://www.w3.org/2000/svg\" height=\"24px\"viewBox=\"0 0 24 24\"\n",
              "     width=\"24px\">\n",
              "    <g>\n",
              "        <path d=\"M19 3H5c-1.1 0-2 .9-2 2v14c0 1.1.9 2 2 2h14c1.1 0 2-.9 2-2V5c0-1.1-.9-2-2-2zM9 17H7v-7h2v7zm4 0h-2V7h2v10zm4 0h-2v-4h2v4z\"/>\n",
              "    </g>\n",
              "</svg>\n",
              "  </button>\n",
              "\n",
              "<style>\n",
              "  .colab-df-quickchart {\n",
              "      --bg-color: #E8F0FE;\n",
              "      --fill-color: #1967D2;\n",
              "      --hover-bg-color: #E2EBFA;\n",
              "      --hover-fill-color: #174EA6;\n",
              "      --disabled-fill-color: #AAA;\n",
              "      --disabled-bg-color: #DDD;\n",
              "  }\n",
              "\n",
              "  [theme=dark] .colab-df-quickchart {\n",
              "      --bg-color: #3B4455;\n",
              "      --fill-color: #D2E3FC;\n",
              "      --hover-bg-color: #434B5C;\n",
              "      --hover-fill-color: #FFFFFF;\n",
              "      --disabled-bg-color: #3B4455;\n",
              "      --disabled-fill-color: #666;\n",
              "  }\n",
              "\n",
              "  .colab-df-quickchart {\n",
              "    background-color: var(--bg-color);\n",
              "    border: none;\n",
              "    border-radius: 50%;\n",
              "    cursor: pointer;\n",
              "    display: none;\n",
              "    fill: var(--fill-color);\n",
              "    height: 32px;\n",
              "    padding: 0;\n",
              "    width: 32px;\n",
              "  }\n",
              "\n",
              "  .colab-df-quickchart:hover {\n",
              "    background-color: var(--hover-bg-color);\n",
              "    box-shadow: 0 1px 2px rgba(60, 64, 67, 0.3), 0 1px 3px 1px rgba(60, 64, 67, 0.15);\n",
              "    fill: var(--button-hover-fill-color);\n",
              "  }\n",
              "\n",
              "  .colab-df-quickchart-complete:disabled,\n",
              "  .colab-df-quickchart-complete:disabled:hover {\n",
              "    background-color: var(--disabled-bg-color);\n",
              "    fill: var(--disabled-fill-color);\n",
              "    box-shadow: none;\n",
              "  }\n",
              "\n",
              "  .colab-df-spinner {\n",
              "    border: 2px solid var(--fill-color);\n",
              "    border-color: transparent;\n",
              "    border-bottom-color: var(--fill-color);\n",
              "    animation:\n",
              "      spin 1s steps(1) infinite;\n",
              "  }\n",
              "\n",
              "  @keyframes spin {\n",
              "    0% {\n",
              "      border-color: transparent;\n",
              "      border-bottom-color: var(--fill-color);\n",
              "      border-left-color: var(--fill-color);\n",
              "    }\n",
              "    20% {\n",
              "      border-color: transparent;\n",
              "      border-left-color: var(--fill-color);\n",
              "      border-top-color: var(--fill-color);\n",
              "    }\n",
              "    30% {\n",
              "      border-color: transparent;\n",
              "      border-left-color: var(--fill-color);\n",
              "      border-top-color: var(--fill-color);\n",
              "      border-right-color: var(--fill-color);\n",
              "    }\n",
              "    40% {\n",
              "      border-color: transparent;\n",
              "      border-right-color: var(--fill-color);\n",
              "      border-top-color: var(--fill-color);\n",
              "    }\n",
              "    60% {\n",
              "      border-color: transparent;\n",
              "      border-right-color: var(--fill-color);\n",
              "    }\n",
              "    80% {\n",
              "      border-color: transparent;\n",
              "      border-right-color: var(--fill-color);\n",
              "      border-bottom-color: var(--fill-color);\n",
              "    }\n",
              "    90% {\n",
              "      border-color: transparent;\n",
              "      border-bottom-color: var(--fill-color);\n",
              "    }\n",
              "  }\n",
              "</style>\n",
              "\n",
              "  <script>\n",
              "    async function quickchart(key) {\n",
              "      const quickchartButtonEl =\n",
              "        document.querySelector('#' + key + ' button');\n",
              "      quickchartButtonEl.disabled = true;  // To prevent multiple clicks.\n",
              "      quickchartButtonEl.classList.add('colab-df-spinner');\n",
              "      try {\n",
              "        const charts = await google.colab.kernel.invokeFunction(\n",
              "            'suggestCharts', [key], {});\n",
              "      } catch (error) {\n",
              "        console.error('Error during call to suggestCharts:', error);\n",
              "      }\n",
              "      quickchartButtonEl.classList.remove('colab-df-spinner');\n",
              "      quickchartButtonEl.classList.add('colab-df-quickchart-complete');\n",
              "    }\n",
              "    (() => {\n",
              "      let quickchartButtonEl =\n",
              "        document.querySelector('#df-ec34cc56-6416-4c28-baa0-7d34272523c8 button');\n",
              "      quickchartButtonEl.style.display =\n",
              "        google.colab.kernel.accessAllowed ? 'block' : 'none';\n",
              "    })();\n",
              "  </script>\n",
              "</div>\n",
              "\n",
              "    </div>\n",
              "  </div>\n"
            ],
            "application/vnd.google.colaboratory.intrinsic+json": {
              "type": "dataframe",
              "variable_name": "aptos",
              "summary": "{\n  \"name\": \"aptos\",\n  \"rows\": 694,\n  \"fields\": [\n    {\n      \"column\": \"Unnamed: 0\",\n      \"properties\": {\n        \"dtype\": \"number\",\n        \"std\": 200,\n        \"min\": 1,\n        \"max\": 694,\n        \"num_unique_values\": 694,\n        \"samples\": [\n          382,\n          667,\n          258\n        ],\n        \"semantic_type\": \"\",\n        \"description\": \"\"\n      }\n    },\n    {\n      \"column\": \"precio\",\n      \"properties\": {\n        \"dtype\": \"number\",\n        \"std\": 247.6149140278012,\n        \"min\": 25.0,\n        \"max\": 1700.0,\n        \"num_unique_values\": 189,\n        \"samples\": [\n          102.0,\n          178.0,\n          110.0\n        ],\n        \"semantic_type\": \"\",\n        \"description\": \"\"\n      }\n    },\n    {\n      \"column\": \"mt2\",\n      \"properties\": {\n        \"dtype\": \"number\",\n        \"std\": 74.69549314820712,\n        \"min\": 26.0,\n        \"max\": 500.0,\n        \"num_unique_values\": 254,\n        \"samples\": [\n          325.0,\n          54.83,\n          103.0\n        ],\n        \"semantic_type\": \"\",\n        \"description\": \"\"\n      }\n    },\n    {\n      \"column\": \"ubicacion\",\n      \"properties\": {\n        \"dtype\": \"category\",\n        \"num_unique_values\": 7,\n        \"samples\": [\n          \"norte\",\n          \"occidente\",\n          \"centro\"\n        ],\n        \"semantic_type\": \"\",\n        \"description\": \"\"\n      }\n    },\n    {\n      \"column\": \"estrato\",\n      \"properties\": {\n        \"dtype\": \"number\",\n        \"std\": 1,\n        \"min\": 2,\n        \"max\": 6,\n        \"num_unique_values\": 5,\n        \"samples\": [\n          2,\n          6,\n          4\n        ],\n        \"semantic_type\": \"\",\n        \"description\": \"\"\n      }\n    },\n    {\n      \"column\": \"alcobas\",\n      \"properties\": {\n        \"dtype\": \"number\",\n        \"std\": 0,\n        \"min\": 1,\n        \"max\": 14,\n        \"num_unique_values\": 6,\n        \"samples\": [\n          3,\n          2,\n          14\n        ],\n        \"semantic_type\": \"\",\n        \"description\": \"\"\n      }\n    },\n    {\n      \"column\": \"banos\",\n      \"properties\": {\n        \"dtype\": \"number\",\n        \"std\": 0,\n        \"min\": 1,\n        \"max\": 6,\n        \"num_unique_values\": 6,\n        \"samples\": [\n          1,\n          2,\n          5\n        ],\n        \"semantic_type\": \"\",\n        \"description\": \"\"\n      }\n    },\n    {\n      \"column\": \"balcon\",\n      \"properties\": {\n        \"dtype\": \"category\",\n        \"num_unique_values\": 2,\n        \"samples\": [\n          \"no\",\n          \"si\"\n        ],\n        \"semantic_type\": \"\",\n        \"description\": \"\"\n      }\n    },\n    {\n      \"column\": \"parqueadero\",\n      \"properties\": {\n        \"dtype\": \"category\",\n        \"num_unique_values\": 2,\n        \"samples\": [\n          \"no\",\n          \"si\"\n        ],\n        \"semantic_type\": \"\",\n        \"description\": \"\"\n      }\n    },\n    {\n      \"column\": \"administracion\",\n      \"properties\": {\n        \"dtype\": \"number\",\n        \"std\": 0.251585707293299,\n        \"min\": 0.0,\n        \"max\": 2.28,\n        \"num_unique_values\": 337,\n        \"samples\": [\n          0.297,\n          0.37\n        ],\n        \"semantic_type\": \"\",\n        \"description\": \"\"\n      }\n    },\n    {\n      \"column\": \"avaluo\",\n      \"properties\": {\n        \"dtype\": \"number\",\n        \"std\": 169.0823840703266,\n        \"min\": 0.149,\n        \"max\": 1540.62,\n        \"num_unique_values\": 523,\n        \"samples\": [\n          326.157,\n          73.791\n        ],\n        \"semantic_type\": \"\",\n        \"description\": \"\"\n      }\n    },\n    {\n      \"column\": \"terminado\",\n      \"properties\": {\n        \"dtype\": \"category\",\n        \"num_unique_values\": 2,\n        \"samples\": [\n          \"si\",\n          \"no\"\n        ],\n        \"semantic_type\": \"\",\n        \"description\": \"\"\n      }\n    }\n  ]\n}"
            }
          },
          "metadata": {},
          "execution_count": 9
        }
      ],
      "source": [
        "aptos.head()"
      ]
    },
    {
      "cell_type": "markdown",
      "metadata": {
        "id": "-x_VmLeOQ4gs"
      },
      "source": [
        "Eliminaremos la primera columna"
      ]
    },
    {
      "cell_type": "code",
      "execution_count": null,
      "metadata": {
        "colab": {
          "base_uri": "https://localhost:8080/",
          "height": 206
        },
        "id": "Oa3zrnvkQ4O8",
        "outputId": "d4813362-b17d-4a49-e4f2-1ce4fdcf0b95"
      },
      "outputs": [
        {
          "output_type": "execute_result",
          "data": {
            "text/plain": [
              "   precio    mt2 ubicacion  estrato  alcobas  banos balcon parqueadero  \\\n",
              "0    79.0  43.16     norte        3        3      1     si          si   \n",
              "1    93.0  56.92     norte        2        2      1     si          si   \n",
              "2   100.0  66.40     norte        3        2      2     no          no   \n",
              "3   123.0  61.85     norte        2        3      2     si          si   \n",
              "4   135.0  89.80     norte        4        3      2     si          no   \n",
              "\n",
              "   administracion     avaluo terminado  \n",
              "0           0.050  14.923002        no  \n",
              "1           0.069  27.000000        si  \n",
              "2           0.000  15.738427        no  \n",
              "3           0.130  27.000000        no  \n",
              "4           0.000  39.567000        si  "
            ],
            "text/html": [
              "\n",
              "  <div id=\"df-c01f6b82-eb60-4fc3-91bd-56e11df121b9\" class=\"colab-df-container\">\n",
              "    <div>\n",
              "<style scoped>\n",
              "    .dataframe tbody tr th:only-of-type {\n",
              "        vertical-align: middle;\n",
              "    }\n",
              "\n",
              "    .dataframe tbody tr th {\n",
              "        vertical-align: top;\n",
              "    }\n",
              "\n",
              "    .dataframe thead th {\n",
              "        text-align: right;\n",
              "    }\n",
              "</style>\n",
              "<table border=\"1\" class=\"dataframe\">\n",
              "  <thead>\n",
              "    <tr style=\"text-align: right;\">\n",
              "      <th></th>\n",
              "      <th>precio</th>\n",
              "      <th>mt2</th>\n",
              "      <th>ubicacion</th>\n",
              "      <th>estrato</th>\n",
              "      <th>alcobas</th>\n",
              "      <th>banos</th>\n",
              "      <th>balcon</th>\n",
              "      <th>parqueadero</th>\n",
              "      <th>administracion</th>\n",
              "      <th>avaluo</th>\n",
              "      <th>terminado</th>\n",
              "    </tr>\n",
              "  </thead>\n",
              "  <tbody>\n",
              "    <tr>\n",
              "      <th>0</th>\n",
              "      <td>79.0</td>\n",
              "      <td>43.16</td>\n",
              "      <td>norte</td>\n",
              "      <td>3</td>\n",
              "      <td>3</td>\n",
              "      <td>1</td>\n",
              "      <td>si</td>\n",
              "      <td>si</td>\n",
              "      <td>0.050</td>\n",
              "      <td>14.923002</td>\n",
              "      <td>no</td>\n",
              "    </tr>\n",
              "    <tr>\n",
              "      <th>1</th>\n",
              "      <td>93.0</td>\n",
              "      <td>56.92</td>\n",
              "      <td>norte</td>\n",
              "      <td>2</td>\n",
              "      <td>2</td>\n",
              "      <td>1</td>\n",
              "      <td>si</td>\n",
              "      <td>si</td>\n",
              "      <td>0.069</td>\n",
              "      <td>27.000000</td>\n",
              "      <td>si</td>\n",
              "    </tr>\n",
              "    <tr>\n",
              "      <th>2</th>\n",
              "      <td>100.0</td>\n",
              "      <td>66.40</td>\n",
              "      <td>norte</td>\n",
              "      <td>3</td>\n",
              "      <td>2</td>\n",
              "      <td>2</td>\n",
              "      <td>no</td>\n",
              "      <td>no</td>\n",
              "      <td>0.000</td>\n",
              "      <td>15.738427</td>\n",
              "      <td>no</td>\n",
              "    </tr>\n",
              "    <tr>\n",
              "      <th>3</th>\n",
              "      <td>123.0</td>\n",
              "      <td>61.85</td>\n",
              "      <td>norte</td>\n",
              "      <td>2</td>\n",
              "      <td>3</td>\n",
              "      <td>2</td>\n",
              "      <td>si</td>\n",
              "      <td>si</td>\n",
              "      <td>0.130</td>\n",
              "      <td>27.000000</td>\n",
              "      <td>no</td>\n",
              "    </tr>\n",
              "    <tr>\n",
              "      <th>4</th>\n",
              "      <td>135.0</td>\n",
              "      <td>89.80</td>\n",
              "      <td>norte</td>\n",
              "      <td>4</td>\n",
              "      <td>3</td>\n",
              "      <td>2</td>\n",
              "      <td>si</td>\n",
              "      <td>no</td>\n",
              "      <td>0.000</td>\n",
              "      <td>39.567000</td>\n",
              "      <td>si</td>\n",
              "    </tr>\n",
              "  </tbody>\n",
              "</table>\n",
              "</div>\n",
              "    <div class=\"colab-df-buttons\">\n",
              "\n",
              "  <div class=\"colab-df-container\">\n",
              "    <button class=\"colab-df-convert\" onclick=\"convertToInteractive('df-c01f6b82-eb60-4fc3-91bd-56e11df121b9')\"\n",
              "            title=\"Convert this dataframe to an interactive table.\"\n",
              "            style=\"display:none;\">\n",
              "\n",
              "  <svg xmlns=\"http://www.w3.org/2000/svg\" height=\"24px\" viewBox=\"0 -960 960 960\">\n",
              "    <path d=\"M120-120v-720h720v720H120Zm60-500h600v-160H180v160Zm220 220h160v-160H400v160Zm0 220h160v-160H400v160ZM180-400h160v-160H180v160Zm440 0h160v-160H620v160ZM180-180h160v-160H180v160Zm440 0h160v-160H620v160Z\"/>\n",
              "  </svg>\n",
              "    </button>\n",
              "\n",
              "  <style>\n",
              "    .colab-df-container {\n",
              "      display:flex;\n",
              "      gap: 12px;\n",
              "    }\n",
              "\n",
              "    .colab-df-convert {\n",
              "      background-color: #E8F0FE;\n",
              "      border: none;\n",
              "      border-radius: 50%;\n",
              "      cursor: pointer;\n",
              "      display: none;\n",
              "      fill: #1967D2;\n",
              "      height: 32px;\n",
              "      padding: 0 0 0 0;\n",
              "      width: 32px;\n",
              "    }\n",
              "\n",
              "    .colab-df-convert:hover {\n",
              "      background-color: #E2EBFA;\n",
              "      box-shadow: 0px 1px 2px rgba(60, 64, 67, 0.3), 0px 1px 3px 1px rgba(60, 64, 67, 0.15);\n",
              "      fill: #174EA6;\n",
              "    }\n",
              "\n",
              "    .colab-df-buttons div {\n",
              "      margin-bottom: 4px;\n",
              "    }\n",
              "\n",
              "    [theme=dark] .colab-df-convert {\n",
              "      background-color: #3B4455;\n",
              "      fill: #D2E3FC;\n",
              "    }\n",
              "\n",
              "    [theme=dark] .colab-df-convert:hover {\n",
              "      background-color: #434B5C;\n",
              "      box-shadow: 0px 1px 3px 1px rgba(0, 0, 0, 0.15);\n",
              "      filter: drop-shadow(0px 1px 2px rgba(0, 0, 0, 0.3));\n",
              "      fill: #FFFFFF;\n",
              "    }\n",
              "  </style>\n",
              "\n",
              "    <script>\n",
              "      const buttonEl =\n",
              "        document.querySelector('#df-c01f6b82-eb60-4fc3-91bd-56e11df121b9 button.colab-df-convert');\n",
              "      buttonEl.style.display =\n",
              "        google.colab.kernel.accessAllowed ? 'block' : 'none';\n",
              "\n",
              "      async function convertToInteractive(key) {\n",
              "        const element = document.querySelector('#df-c01f6b82-eb60-4fc3-91bd-56e11df121b9');\n",
              "        const dataTable =\n",
              "          await google.colab.kernel.invokeFunction('convertToInteractive',\n",
              "                                                    [key], {});\n",
              "        if (!dataTable) return;\n",
              "\n",
              "        const docLinkHtml = 'Like what you see? Visit the ' +\n",
              "          '<a target=\"_blank\" href=https://colab.research.google.com/notebooks/data_table.ipynb>data table notebook</a>'\n",
              "          + ' to learn more about interactive tables.';\n",
              "        element.innerHTML = '';\n",
              "        dataTable['output_type'] = 'display_data';\n",
              "        await google.colab.output.renderOutput(dataTable, element);\n",
              "        const docLink = document.createElement('div');\n",
              "        docLink.innerHTML = docLinkHtml;\n",
              "        element.appendChild(docLink);\n",
              "      }\n",
              "    </script>\n",
              "  </div>\n",
              "\n",
              "\n",
              "<div id=\"df-aed80bb3-f8e4-4c3c-ac07-6daeb8496a58\">\n",
              "  <button class=\"colab-df-quickchart\" onclick=\"quickchart('df-aed80bb3-f8e4-4c3c-ac07-6daeb8496a58')\"\n",
              "            title=\"Suggest charts\"\n",
              "            style=\"display:none;\">\n",
              "\n",
              "<svg xmlns=\"http://www.w3.org/2000/svg\" height=\"24px\"viewBox=\"0 0 24 24\"\n",
              "     width=\"24px\">\n",
              "    <g>\n",
              "        <path d=\"M19 3H5c-1.1 0-2 .9-2 2v14c0 1.1.9 2 2 2h14c1.1 0 2-.9 2-2V5c0-1.1-.9-2-2-2zM9 17H7v-7h2v7zm4 0h-2V7h2v10zm4 0h-2v-4h2v4z\"/>\n",
              "    </g>\n",
              "</svg>\n",
              "  </button>\n",
              "\n",
              "<style>\n",
              "  .colab-df-quickchart {\n",
              "      --bg-color: #E8F0FE;\n",
              "      --fill-color: #1967D2;\n",
              "      --hover-bg-color: #E2EBFA;\n",
              "      --hover-fill-color: #174EA6;\n",
              "      --disabled-fill-color: #AAA;\n",
              "      --disabled-bg-color: #DDD;\n",
              "  }\n",
              "\n",
              "  [theme=dark] .colab-df-quickchart {\n",
              "      --bg-color: #3B4455;\n",
              "      --fill-color: #D2E3FC;\n",
              "      --hover-bg-color: #434B5C;\n",
              "      --hover-fill-color: #FFFFFF;\n",
              "      --disabled-bg-color: #3B4455;\n",
              "      --disabled-fill-color: #666;\n",
              "  }\n",
              "\n",
              "  .colab-df-quickchart {\n",
              "    background-color: var(--bg-color);\n",
              "    border: none;\n",
              "    border-radius: 50%;\n",
              "    cursor: pointer;\n",
              "    display: none;\n",
              "    fill: var(--fill-color);\n",
              "    height: 32px;\n",
              "    padding: 0;\n",
              "    width: 32px;\n",
              "  }\n",
              "\n",
              "  .colab-df-quickchart:hover {\n",
              "    background-color: var(--hover-bg-color);\n",
              "    box-shadow: 0 1px 2px rgba(60, 64, 67, 0.3), 0 1px 3px 1px rgba(60, 64, 67, 0.15);\n",
              "    fill: var(--button-hover-fill-color);\n",
              "  }\n",
              "\n",
              "  .colab-df-quickchart-complete:disabled,\n",
              "  .colab-df-quickchart-complete:disabled:hover {\n",
              "    background-color: var(--disabled-bg-color);\n",
              "    fill: var(--disabled-fill-color);\n",
              "    box-shadow: none;\n",
              "  }\n",
              "\n",
              "  .colab-df-spinner {\n",
              "    border: 2px solid var(--fill-color);\n",
              "    border-color: transparent;\n",
              "    border-bottom-color: var(--fill-color);\n",
              "    animation:\n",
              "      spin 1s steps(1) infinite;\n",
              "  }\n",
              "\n",
              "  @keyframes spin {\n",
              "    0% {\n",
              "      border-color: transparent;\n",
              "      border-bottom-color: var(--fill-color);\n",
              "      border-left-color: var(--fill-color);\n",
              "    }\n",
              "    20% {\n",
              "      border-color: transparent;\n",
              "      border-left-color: var(--fill-color);\n",
              "      border-top-color: var(--fill-color);\n",
              "    }\n",
              "    30% {\n",
              "      border-color: transparent;\n",
              "      border-left-color: var(--fill-color);\n",
              "      border-top-color: var(--fill-color);\n",
              "      border-right-color: var(--fill-color);\n",
              "    }\n",
              "    40% {\n",
              "      border-color: transparent;\n",
              "      border-right-color: var(--fill-color);\n",
              "      border-top-color: var(--fill-color);\n",
              "    }\n",
              "    60% {\n",
              "      border-color: transparent;\n",
              "      border-right-color: var(--fill-color);\n",
              "    }\n",
              "    80% {\n",
              "      border-color: transparent;\n",
              "      border-right-color: var(--fill-color);\n",
              "      border-bottom-color: var(--fill-color);\n",
              "    }\n",
              "    90% {\n",
              "      border-color: transparent;\n",
              "      border-bottom-color: var(--fill-color);\n",
              "    }\n",
              "  }\n",
              "</style>\n",
              "\n",
              "  <script>\n",
              "    async function quickchart(key) {\n",
              "      const quickchartButtonEl =\n",
              "        document.querySelector('#' + key + ' button');\n",
              "      quickchartButtonEl.disabled = true;  // To prevent multiple clicks.\n",
              "      quickchartButtonEl.classList.add('colab-df-spinner');\n",
              "      try {\n",
              "        const charts = await google.colab.kernel.invokeFunction(\n",
              "            'suggestCharts', [key], {});\n",
              "      } catch (error) {\n",
              "        console.error('Error during call to suggestCharts:', error);\n",
              "      }\n",
              "      quickchartButtonEl.classList.remove('colab-df-spinner');\n",
              "      quickchartButtonEl.classList.add('colab-df-quickchart-complete');\n",
              "    }\n",
              "    (() => {\n",
              "      let quickchartButtonEl =\n",
              "        document.querySelector('#df-aed80bb3-f8e4-4c3c-ac07-6daeb8496a58 button');\n",
              "      quickchartButtonEl.style.display =\n",
              "        google.colab.kernel.accessAllowed ? 'block' : 'none';\n",
              "    })();\n",
              "  </script>\n",
              "</div>\n",
              "\n",
              "    </div>\n",
              "  </div>\n"
            ],
            "application/vnd.google.colaboratory.intrinsic+json": {
              "type": "dataframe",
              "summary": "{\n  \"name\": \"aptos\",\n  \"rows\": 5,\n  \"fields\": [\n    {\n      \"column\": \"precio\",\n      \"properties\": {\n        \"dtype\": \"number\",\n        \"std\": 22.715633383201094,\n        \"min\": 79.0,\n        \"max\": 135.0,\n        \"num_unique_values\": 5,\n        \"samples\": [\n          93.0,\n          135.0,\n          100.0\n        ],\n        \"semantic_type\": \"\",\n        \"description\": \"\"\n      }\n    },\n    {\n      \"column\": \"mt2\",\n      \"properties\": {\n        \"dtype\": \"number\",\n        \"std\": 17.027588789960838,\n        \"min\": 43.16,\n        \"max\": 89.8,\n        \"num_unique_values\": 5,\n        \"samples\": [\n          56.92,\n          89.8,\n          66.4\n        ],\n        \"semantic_type\": \"\",\n        \"description\": \"\"\n      }\n    },\n    {\n      \"column\": \"ubicacion\",\n      \"properties\": {\n        \"dtype\": \"category\",\n        \"num_unique_values\": 1,\n        \"samples\": [\n          \"norte\"\n        ],\n        \"semantic_type\": \"\",\n        \"description\": \"\"\n      }\n    },\n    {\n      \"column\": \"estrato\",\n      \"properties\": {\n        \"dtype\": \"number\",\n        \"std\": 0,\n        \"min\": 2,\n        \"max\": 4,\n        \"num_unique_values\": 3,\n        \"samples\": [\n          3\n        ],\n        \"semantic_type\": \"\",\n        \"description\": \"\"\n      }\n    },\n    {\n      \"column\": \"alcobas\",\n      \"properties\": {\n        \"dtype\": \"number\",\n        \"std\": 0,\n        \"min\": 2,\n        \"max\": 3,\n        \"num_unique_values\": 2,\n        \"samples\": [\n          2\n        ],\n        \"semantic_type\": \"\",\n        \"description\": \"\"\n      }\n    },\n    {\n      \"column\": \"banos\",\n      \"properties\": {\n        \"dtype\": \"number\",\n        \"std\": 0,\n        \"min\": 1,\n        \"max\": 2,\n        \"num_unique_values\": 2,\n        \"samples\": [\n          2\n        ],\n        \"semantic_type\": \"\",\n        \"description\": \"\"\n      }\n    },\n    {\n      \"column\": \"balcon\",\n      \"properties\": {\n        \"dtype\": \"category\",\n        \"num_unique_values\": 2,\n        \"samples\": [\n          \"no\"\n        ],\n        \"semantic_type\": \"\",\n        \"description\": \"\"\n      }\n    },\n    {\n      \"column\": \"parqueadero\",\n      \"properties\": {\n        \"dtype\": \"category\",\n        \"num_unique_values\": 2,\n        \"samples\": [\n          \"no\"\n        ],\n        \"semantic_type\": \"\",\n        \"description\": \"\"\n      }\n    },\n    {\n      \"column\": \"administracion\",\n      \"properties\": {\n        \"dtype\": \"number\",\n        \"std\": 0.05422361109332354,\n        \"min\": 0.0,\n        \"max\": 0.13,\n        \"num_unique_values\": 4,\n        \"samples\": [\n          0.069\n        ],\n        \"semantic_type\": \"\",\n        \"description\": \"\"\n      }\n    },\n    {\n      \"column\": \"avaluo\",\n      \"properties\": {\n        \"dtype\": \"number\",\n        \"std\": 10.09208907715252,\n        \"min\": 14.923002,\n        \"max\": 39.567,\n        \"num_unique_values\": 4,\n        \"samples\": [\n          27.0\n        ],\n        \"semantic_type\": \"\",\n        \"description\": \"\"\n      }\n    },\n    {\n      \"column\": \"terminado\",\n      \"properties\": {\n        \"dtype\": \"category\",\n        \"num_unique_values\": 2,\n        \"samples\": [\n          \"si\"\n        ],\n        \"semantic_type\": \"\",\n        \"description\": \"\"\n      }\n    }\n  ]\n}"
            }
          },
          "metadata": {},
          "execution_count": 10
        }
      ],
      "source": [
        "aptos.drop(\"Unnamed: 0\" , axis = 1 , inplace = True) ; aptos.head(5)"
      ]
    },
    {
      "cell_type": "markdown",
      "metadata": {
        "id": "LIk4qz-8LxNA"
      },
      "source": [
        "Descripción estadística general de los datos"
      ]
    },
    {
      "cell_type": "code",
      "execution_count": null,
      "metadata": {
        "colab": {
          "base_uri": "https://localhost:8080/",
          "height": 300
        },
        "id": "sjl1s8bKLw3h",
        "outputId": "12e3a887-10f9-48f5-b452-29542d13d496"
      },
      "outputs": [
        {
          "output_type": "execute_result",
          "data": {
            "text/plain": [
              "            precio         mt2     estrato     alcobas       banos  \\\n",
              "count   694.000000  694.000000  694.000000  694.000000  694.000000   \n",
              "mean    317.762739  120.943818    4.651297    2.910663    2.289625   \n",
              "std     247.614914   74.695493    1.208205    0.763962    0.795718   \n",
              "min      25.000000   26.000000    2.000000    1.000000    1.000000   \n",
              "25%     160.000000   71.000000    4.000000    3.000000    2.000000   \n",
              "50%     245.000000   97.500000    5.000000    3.000000    2.000000   \n",
              "75%     380.000000  141.750000    6.000000    3.000000    3.000000   \n",
              "max    1700.000000  500.000000    6.000000   14.000000    6.000000   \n",
              "\n",
              "       administracion       avaluo  \n",
              "count      694.000000   694.000000  \n",
              "mean         0.263556   182.636593  \n",
              "std          0.251586   169.082384  \n",
              "min          0.000000     0.149000  \n",
              "25%          0.090000    73.000000  \n",
              "50%          0.201000   131.431500  \n",
              "75%          0.375000   234.051000  \n",
              "max          2.280000  1540.620000  "
            ],
            "text/html": [
              "\n",
              "  <div id=\"df-86330de9-5f06-4163-90f7-8a1972d0f13a\" class=\"colab-df-container\">\n",
              "    <div>\n",
              "<style scoped>\n",
              "    .dataframe tbody tr th:only-of-type {\n",
              "        vertical-align: middle;\n",
              "    }\n",
              "\n",
              "    .dataframe tbody tr th {\n",
              "        vertical-align: top;\n",
              "    }\n",
              "\n",
              "    .dataframe thead th {\n",
              "        text-align: right;\n",
              "    }\n",
              "</style>\n",
              "<table border=\"1\" class=\"dataframe\">\n",
              "  <thead>\n",
              "    <tr style=\"text-align: right;\">\n",
              "      <th></th>\n",
              "      <th>precio</th>\n",
              "      <th>mt2</th>\n",
              "      <th>estrato</th>\n",
              "      <th>alcobas</th>\n",
              "      <th>banos</th>\n",
              "      <th>administracion</th>\n",
              "      <th>avaluo</th>\n",
              "    </tr>\n",
              "  </thead>\n",
              "  <tbody>\n",
              "    <tr>\n",
              "      <th>count</th>\n",
              "      <td>694.000000</td>\n",
              "      <td>694.000000</td>\n",
              "      <td>694.000000</td>\n",
              "      <td>694.000000</td>\n",
              "      <td>694.000000</td>\n",
              "      <td>694.000000</td>\n",
              "      <td>694.000000</td>\n",
              "    </tr>\n",
              "    <tr>\n",
              "      <th>mean</th>\n",
              "      <td>317.762739</td>\n",
              "      <td>120.943818</td>\n",
              "      <td>4.651297</td>\n",
              "      <td>2.910663</td>\n",
              "      <td>2.289625</td>\n",
              "      <td>0.263556</td>\n",
              "      <td>182.636593</td>\n",
              "    </tr>\n",
              "    <tr>\n",
              "      <th>std</th>\n",
              "      <td>247.614914</td>\n",
              "      <td>74.695493</td>\n",
              "      <td>1.208205</td>\n",
              "      <td>0.763962</td>\n",
              "      <td>0.795718</td>\n",
              "      <td>0.251586</td>\n",
              "      <td>169.082384</td>\n",
              "    </tr>\n",
              "    <tr>\n",
              "      <th>min</th>\n",
              "      <td>25.000000</td>\n",
              "      <td>26.000000</td>\n",
              "      <td>2.000000</td>\n",
              "      <td>1.000000</td>\n",
              "      <td>1.000000</td>\n",
              "      <td>0.000000</td>\n",
              "      <td>0.149000</td>\n",
              "    </tr>\n",
              "    <tr>\n",
              "      <th>25%</th>\n",
              "      <td>160.000000</td>\n",
              "      <td>71.000000</td>\n",
              "      <td>4.000000</td>\n",
              "      <td>3.000000</td>\n",
              "      <td>2.000000</td>\n",
              "      <td>0.090000</td>\n",
              "      <td>73.000000</td>\n",
              "    </tr>\n",
              "    <tr>\n",
              "      <th>50%</th>\n",
              "      <td>245.000000</td>\n",
              "      <td>97.500000</td>\n",
              "      <td>5.000000</td>\n",
              "      <td>3.000000</td>\n",
              "      <td>2.000000</td>\n",
              "      <td>0.201000</td>\n",
              "      <td>131.431500</td>\n",
              "    </tr>\n",
              "    <tr>\n",
              "      <th>75%</th>\n",
              "      <td>380.000000</td>\n",
              "      <td>141.750000</td>\n",
              "      <td>6.000000</td>\n",
              "      <td>3.000000</td>\n",
              "      <td>3.000000</td>\n",
              "      <td>0.375000</td>\n",
              "      <td>234.051000</td>\n",
              "    </tr>\n",
              "    <tr>\n",
              "      <th>max</th>\n",
              "      <td>1700.000000</td>\n",
              "      <td>500.000000</td>\n",
              "      <td>6.000000</td>\n",
              "      <td>14.000000</td>\n",
              "      <td>6.000000</td>\n",
              "      <td>2.280000</td>\n",
              "      <td>1540.620000</td>\n",
              "    </tr>\n",
              "  </tbody>\n",
              "</table>\n",
              "</div>\n",
              "    <div class=\"colab-df-buttons\">\n",
              "\n",
              "  <div class=\"colab-df-container\">\n",
              "    <button class=\"colab-df-convert\" onclick=\"convertToInteractive('df-86330de9-5f06-4163-90f7-8a1972d0f13a')\"\n",
              "            title=\"Convert this dataframe to an interactive table.\"\n",
              "            style=\"display:none;\">\n",
              "\n",
              "  <svg xmlns=\"http://www.w3.org/2000/svg\" height=\"24px\" viewBox=\"0 -960 960 960\">\n",
              "    <path d=\"M120-120v-720h720v720H120Zm60-500h600v-160H180v160Zm220 220h160v-160H400v160Zm0 220h160v-160H400v160ZM180-400h160v-160H180v160Zm440 0h160v-160H620v160ZM180-180h160v-160H180v160Zm440 0h160v-160H620v160Z\"/>\n",
              "  </svg>\n",
              "    </button>\n",
              "\n",
              "  <style>\n",
              "    .colab-df-container {\n",
              "      display:flex;\n",
              "      gap: 12px;\n",
              "    }\n",
              "\n",
              "    .colab-df-convert {\n",
              "      background-color: #E8F0FE;\n",
              "      border: none;\n",
              "      border-radius: 50%;\n",
              "      cursor: pointer;\n",
              "      display: none;\n",
              "      fill: #1967D2;\n",
              "      height: 32px;\n",
              "      padding: 0 0 0 0;\n",
              "      width: 32px;\n",
              "    }\n",
              "\n",
              "    .colab-df-convert:hover {\n",
              "      background-color: #E2EBFA;\n",
              "      box-shadow: 0px 1px 2px rgba(60, 64, 67, 0.3), 0px 1px 3px 1px rgba(60, 64, 67, 0.15);\n",
              "      fill: #174EA6;\n",
              "    }\n",
              "\n",
              "    .colab-df-buttons div {\n",
              "      margin-bottom: 4px;\n",
              "    }\n",
              "\n",
              "    [theme=dark] .colab-df-convert {\n",
              "      background-color: #3B4455;\n",
              "      fill: #D2E3FC;\n",
              "    }\n",
              "\n",
              "    [theme=dark] .colab-df-convert:hover {\n",
              "      background-color: #434B5C;\n",
              "      box-shadow: 0px 1px 3px 1px rgba(0, 0, 0, 0.15);\n",
              "      filter: drop-shadow(0px 1px 2px rgba(0, 0, 0, 0.3));\n",
              "      fill: #FFFFFF;\n",
              "    }\n",
              "  </style>\n",
              "\n",
              "    <script>\n",
              "      const buttonEl =\n",
              "        document.querySelector('#df-86330de9-5f06-4163-90f7-8a1972d0f13a button.colab-df-convert');\n",
              "      buttonEl.style.display =\n",
              "        google.colab.kernel.accessAllowed ? 'block' : 'none';\n",
              "\n",
              "      async function convertToInteractive(key) {\n",
              "        const element = document.querySelector('#df-86330de9-5f06-4163-90f7-8a1972d0f13a');\n",
              "        const dataTable =\n",
              "          await google.colab.kernel.invokeFunction('convertToInteractive',\n",
              "                                                    [key], {});\n",
              "        if (!dataTable) return;\n",
              "\n",
              "        const docLinkHtml = 'Like what you see? Visit the ' +\n",
              "          '<a target=\"_blank\" href=https://colab.research.google.com/notebooks/data_table.ipynb>data table notebook</a>'\n",
              "          + ' to learn more about interactive tables.';\n",
              "        element.innerHTML = '';\n",
              "        dataTable['output_type'] = 'display_data';\n",
              "        await google.colab.output.renderOutput(dataTable, element);\n",
              "        const docLink = document.createElement('div');\n",
              "        docLink.innerHTML = docLinkHtml;\n",
              "        element.appendChild(docLink);\n",
              "      }\n",
              "    </script>\n",
              "  </div>\n",
              "\n",
              "\n",
              "<div id=\"df-b605dcb1-10d4-41ac-b491-7f0d95e3684d\">\n",
              "  <button class=\"colab-df-quickchart\" onclick=\"quickchart('df-b605dcb1-10d4-41ac-b491-7f0d95e3684d')\"\n",
              "            title=\"Suggest charts\"\n",
              "            style=\"display:none;\">\n",
              "\n",
              "<svg xmlns=\"http://www.w3.org/2000/svg\" height=\"24px\"viewBox=\"0 0 24 24\"\n",
              "     width=\"24px\">\n",
              "    <g>\n",
              "        <path d=\"M19 3H5c-1.1 0-2 .9-2 2v14c0 1.1.9 2 2 2h14c1.1 0 2-.9 2-2V5c0-1.1-.9-2-2-2zM9 17H7v-7h2v7zm4 0h-2V7h2v10zm4 0h-2v-4h2v4z\"/>\n",
              "    </g>\n",
              "</svg>\n",
              "  </button>\n",
              "\n",
              "<style>\n",
              "  .colab-df-quickchart {\n",
              "      --bg-color: #E8F0FE;\n",
              "      --fill-color: #1967D2;\n",
              "      --hover-bg-color: #E2EBFA;\n",
              "      --hover-fill-color: #174EA6;\n",
              "      --disabled-fill-color: #AAA;\n",
              "      --disabled-bg-color: #DDD;\n",
              "  }\n",
              "\n",
              "  [theme=dark] .colab-df-quickchart {\n",
              "      --bg-color: #3B4455;\n",
              "      --fill-color: #D2E3FC;\n",
              "      --hover-bg-color: #434B5C;\n",
              "      --hover-fill-color: #FFFFFF;\n",
              "      --disabled-bg-color: #3B4455;\n",
              "      --disabled-fill-color: #666;\n",
              "  }\n",
              "\n",
              "  .colab-df-quickchart {\n",
              "    background-color: var(--bg-color);\n",
              "    border: none;\n",
              "    border-radius: 50%;\n",
              "    cursor: pointer;\n",
              "    display: none;\n",
              "    fill: var(--fill-color);\n",
              "    height: 32px;\n",
              "    padding: 0;\n",
              "    width: 32px;\n",
              "  }\n",
              "\n",
              "  .colab-df-quickchart:hover {\n",
              "    background-color: var(--hover-bg-color);\n",
              "    box-shadow: 0 1px 2px rgba(60, 64, 67, 0.3), 0 1px 3px 1px rgba(60, 64, 67, 0.15);\n",
              "    fill: var(--button-hover-fill-color);\n",
              "  }\n",
              "\n",
              "  .colab-df-quickchart-complete:disabled,\n",
              "  .colab-df-quickchart-complete:disabled:hover {\n",
              "    background-color: var(--disabled-bg-color);\n",
              "    fill: var(--disabled-fill-color);\n",
              "    box-shadow: none;\n",
              "  }\n",
              "\n",
              "  .colab-df-spinner {\n",
              "    border: 2px solid var(--fill-color);\n",
              "    border-color: transparent;\n",
              "    border-bottom-color: var(--fill-color);\n",
              "    animation:\n",
              "      spin 1s steps(1) infinite;\n",
              "  }\n",
              "\n",
              "  @keyframes spin {\n",
              "    0% {\n",
              "      border-color: transparent;\n",
              "      border-bottom-color: var(--fill-color);\n",
              "      border-left-color: var(--fill-color);\n",
              "    }\n",
              "    20% {\n",
              "      border-color: transparent;\n",
              "      border-left-color: var(--fill-color);\n",
              "      border-top-color: var(--fill-color);\n",
              "    }\n",
              "    30% {\n",
              "      border-color: transparent;\n",
              "      border-left-color: var(--fill-color);\n",
              "      border-top-color: var(--fill-color);\n",
              "      border-right-color: var(--fill-color);\n",
              "    }\n",
              "    40% {\n",
              "      border-color: transparent;\n",
              "      border-right-color: var(--fill-color);\n",
              "      border-top-color: var(--fill-color);\n",
              "    }\n",
              "    60% {\n",
              "      border-color: transparent;\n",
              "      border-right-color: var(--fill-color);\n",
              "    }\n",
              "    80% {\n",
              "      border-color: transparent;\n",
              "      border-right-color: var(--fill-color);\n",
              "      border-bottom-color: var(--fill-color);\n",
              "    }\n",
              "    90% {\n",
              "      border-color: transparent;\n",
              "      border-bottom-color: var(--fill-color);\n",
              "    }\n",
              "  }\n",
              "</style>\n",
              "\n",
              "  <script>\n",
              "    async function quickchart(key) {\n",
              "      const quickchartButtonEl =\n",
              "        document.querySelector('#' + key + ' button');\n",
              "      quickchartButtonEl.disabled = true;  // To prevent multiple clicks.\n",
              "      quickchartButtonEl.classList.add('colab-df-spinner');\n",
              "      try {\n",
              "        const charts = await google.colab.kernel.invokeFunction(\n",
              "            'suggestCharts', [key], {});\n",
              "      } catch (error) {\n",
              "        console.error('Error during call to suggestCharts:', error);\n",
              "      }\n",
              "      quickchartButtonEl.classList.remove('colab-df-spinner');\n",
              "      quickchartButtonEl.classList.add('colab-df-quickchart-complete');\n",
              "    }\n",
              "    (() => {\n",
              "      let quickchartButtonEl =\n",
              "        document.querySelector('#df-b605dcb1-10d4-41ac-b491-7f0d95e3684d button');\n",
              "      quickchartButtonEl.style.display =\n",
              "        google.colab.kernel.accessAllowed ? 'block' : 'none';\n",
              "    })();\n",
              "  </script>\n",
              "</div>\n",
              "\n",
              "    </div>\n",
              "  </div>\n"
            ],
            "application/vnd.google.colaboratory.intrinsic+json": {
              "type": "dataframe",
              "summary": "{\n  \"name\": \"aptos\",\n  \"rows\": 8,\n  \"fields\": [\n    {\n      \"column\": \"precio\",\n      \"properties\": {\n        \"dtype\": \"number\",\n        \"std\": 532.9897234996139,\n        \"min\": 25.0,\n        \"max\": 1700.0,\n        \"num_unique_values\": 8,\n        \"samples\": [\n          317.7627391930836,\n          245.0,\n          694.0\n        ],\n        \"semantic_type\": \"\",\n        \"description\": \"\"\n      }\n    },\n    {\n      \"column\": \"mt2\",\n      \"properties\": {\n        \"dtype\": \"number\",\n        \"std\": 243.43447253623904,\n        \"min\": 26.0,\n        \"max\": 694.0,\n        \"num_unique_values\": 8,\n        \"samples\": [\n          120.94381844380403,\n          97.5,\n          694.0\n        ],\n        \"semantic_type\": \"\",\n        \"description\": \"\"\n      }\n    },\n    {\n      \"column\": \"estrato\",\n      \"properties\": {\n        \"dtype\": \"number\",\n        \"std\": 243.9146108878468,\n        \"min\": 1.2082053718499752,\n        \"max\": 694.0,\n        \"num_unique_values\": 7,\n        \"samples\": [\n          694.0,\n          4.651296829971182,\n          5.0\n        ],\n        \"semantic_type\": \"\",\n        \"description\": \"\"\n      }\n    },\n    {\n      \"column\": \"alcobas\",\n      \"properties\": {\n        \"dtype\": \"number\",\n        \"std\": 244.00447085507804,\n        \"min\": 0.7639620042047193,\n        \"max\": 694.0,\n        \"num_unique_values\": 6,\n        \"samples\": [\n          694.0,\n          2.910662824207493,\n          14.0\n        ],\n        \"semantic_type\": \"\",\n        \"description\": \"\"\n      }\n    },\n    {\n      \"column\": \"banos\",\n      \"properties\": {\n        \"dtype\": \"number\",\n        \"std\": 244.50842222783047,\n        \"min\": 0.7957184331222169,\n        \"max\": 694.0,\n        \"num_unique_values\": 7,\n        \"samples\": [\n          694.0,\n          2.2896253602305476,\n          3.0\n        ],\n        \"semantic_type\": \"\",\n        \"description\": \"\"\n      }\n    },\n    {\n      \"column\": \"administracion\",\n      \"properties\": {\n        \"dtype\": \"number\",\n        \"std\": 245.19234863893567,\n        \"min\": 0.0,\n        \"max\": 694.0,\n        \"num_unique_values\": 8,\n        \"samples\": [\n          0.26355566426512966,\n          0.201,\n          694.0\n        ],\n        \"semantic_type\": \"\",\n        \"description\": \"\"\n      }\n    },\n    {\n      \"column\": \"avaluo\",\n      \"properties\": {\n        \"dtype\": \"number\",\n        \"std\": 514.180109617034,\n        \"min\": 0.149,\n        \"max\": 1540.62,\n        \"num_unique_values\": 8,\n        \"samples\": [\n          182.63659255475503,\n          131.4315,\n          694.0\n        ],\n        \"semantic_type\": \"\",\n        \"description\": \"\"\n      }\n    }\n  ]\n}"
            }
          },
          "metadata": {},
          "execution_count": 11
        }
      ],
      "source": [
        "aptos.describe()"
      ]
    },
    {
      "cell_type": "markdown",
      "metadata": {
        "id": "FEP_D8s2L2YB"
      },
      "source": [
        "Alguna información general\n",
        "  "
      ]
    },
    {
      "cell_type": "code",
      "execution_count": null,
      "metadata": {
        "colab": {
          "base_uri": "https://localhost:8080/"
        },
        "id": "Pwgeo-wEL75T",
        "outputId": "f670db24-6ef9-4db7-85d0-bd9c3bbca90a"
      },
      "outputs": [
        {
          "output_type": "stream",
          "name": "stdout",
          "text": [
            "<class 'pandas.core.frame.DataFrame'>\n",
            "RangeIndex: 694 entries, 0 to 693\n",
            "Data columns (total 11 columns):\n",
            " #   Column          Non-Null Count  Dtype  \n",
            "---  ------          --------------  -----  \n",
            " 0   precio          694 non-null    float64\n",
            " 1   mt2             694 non-null    float64\n",
            " 2   ubicacion       694 non-null    object \n",
            " 3   estrato         694 non-null    int64  \n",
            " 4   alcobas         694 non-null    int64  \n",
            " 5   banos           694 non-null    int64  \n",
            " 6   balcon          694 non-null    object \n",
            " 7   parqueadero     694 non-null    object \n",
            " 8   administracion  694 non-null    float64\n",
            " 9   avaluo          694 non-null    float64\n",
            " 10  terminado       694 non-null    object \n",
            "dtypes: float64(4), int64(3), object(4)\n",
            "memory usage: 59.8+ KB\n"
          ]
        }
      ],
      "source": [
        "aptos.info()"
      ]
    },
    {
      "cell_type": "markdown",
      "metadata": {
        "id": "4vSv43XRMAB6"
      },
      "source": [
        "Observe, que no tiene datos faltantes. Vamos a revisar la correlación de las variables cuantitativas de la base *aptos*.\n",
        "\n",
        "- Para esto usamos el método  ***.corr( )***"
      ]
    },
    {
      "cell_type": "code",
      "execution_count": null,
      "metadata": {
        "colab": {
          "base_uri": "https://localhost:8080/",
          "height": 269
        },
        "id": "GLVhWBjYMKlt",
        "outputId": "f3e85fbd-6f2c-4cf8-a19a-9d05b003d0cf"
      },
      "outputs": [
        {
          "output_type": "execute_result",
          "data": {
            "text/plain": [
              "                  precio       mt2   estrato   alcobas     banos  \\\n",
              "precio          1.000000  0.858258  0.623480  0.186486  0.626714   \n",
              "mt2             0.858258  1.000000  0.562502  0.309660  0.666821   \n",
              "estrato         0.623480  0.562502  1.000000  0.067818  0.478938   \n",
              "alcobas         0.186486  0.309660  0.067818  1.000000  0.348839   \n",
              "banos           0.626714  0.666821  0.478938  0.348839  1.000000   \n",
              "administracion  0.752635  0.774457  0.636884  0.162141  0.548519   \n",
              "avaluo          0.789532  0.752844  0.590855  0.153776  0.525388   \n",
              "\n",
              "                administracion    avaluo  \n",
              "precio                0.752635  0.789532  \n",
              "mt2                   0.774457  0.752844  \n",
              "estrato               0.636884  0.590855  \n",
              "alcobas               0.162141  0.153776  \n",
              "banos                 0.548519  0.525388  \n",
              "administracion        1.000000  0.699940  \n",
              "avaluo                0.699940  1.000000  "
            ],
            "text/html": [
              "\n",
              "  <div id=\"df-298f6dbd-0971-4cf4-b4e6-e0c9076403ae\" class=\"colab-df-container\">\n",
              "    <div>\n",
              "<style scoped>\n",
              "    .dataframe tbody tr th:only-of-type {\n",
              "        vertical-align: middle;\n",
              "    }\n",
              "\n",
              "    .dataframe tbody tr th {\n",
              "        vertical-align: top;\n",
              "    }\n",
              "\n",
              "    .dataframe thead th {\n",
              "        text-align: right;\n",
              "    }\n",
              "</style>\n",
              "<table border=\"1\" class=\"dataframe\">\n",
              "  <thead>\n",
              "    <tr style=\"text-align: right;\">\n",
              "      <th></th>\n",
              "      <th>precio</th>\n",
              "      <th>mt2</th>\n",
              "      <th>estrato</th>\n",
              "      <th>alcobas</th>\n",
              "      <th>banos</th>\n",
              "      <th>administracion</th>\n",
              "      <th>avaluo</th>\n",
              "    </tr>\n",
              "  </thead>\n",
              "  <tbody>\n",
              "    <tr>\n",
              "      <th>precio</th>\n",
              "      <td>1.000000</td>\n",
              "      <td>0.858258</td>\n",
              "      <td>0.623480</td>\n",
              "      <td>0.186486</td>\n",
              "      <td>0.626714</td>\n",
              "      <td>0.752635</td>\n",
              "      <td>0.789532</td>\n",
              "    </tr>\n",
              "    <tr>\n",
              "      <th>mt2</th>\n",
              "      <td>0.858258</td>\n",
              "      <td>1.000000</td>\n",
              "      <td>0.562502</td>\n",
              "      <td>0.309660</td>\n",
              "      <td>0.666821</td>\n",
              "      <td>0.774457</td>\n",
              "      <td>0.752844</td>\n",
              "    </tr>\n",
              "    <tr>\n",
              "      <th>estrato</th>\n",
              "      <td>0.623480</td>\n",
              "      <td>0.562502</td>\n",
              "      <td>1.000000</td>\n",
              "      <td>0.067818</td>\n",
              "      <td>0.478938</td>\n",
              "      <td>0.636884</td>\n",
              "      <td>0.590855</td>\n",
              "    </tr>\n",
              "    <tr>\n",
              "      <th>alcobas</th>\n",
              "      <td>0.186486</td>\n",
              "      <td>0.309660</td>\n",
              "      <td>0.067818</td>\n",
              "      <td>1.000000</td>\n",
              "      <td>0.348839</td>\n",
              "      <td>0.162141</td>\n",
              "      <td>0.153776</td>\n",
              "    </tr>\n",
              "    <tr>\n",
              "      <th>banos</th>\n",
              "      <td>0.626714</td>\n",
              "      <td>0.666821</td>\n",
              "      <td>0.478938</td>\n",
              "      <td>0.348839</td>\n",
              "      <td>1.000000</td>\n",
              "      <td>0.548519</td>\n",
              "      <td>0.525388</td>\n",
              "    </tr>\n",
              "    <tr>\n",
              "      <th>administracion</th>\n",
              "      <td>0.752635</td>\n",
              "      <td>0.774457</td>\n",
              "      <td>0.636884</td>\n",
              "      <td>0.162141</td>\n",
              "      <td>0.548519</td>\n",
              "      <td>1.000000</td>\n",
              "      <td>0.699940</td>\n",
              "    </tr>\n",
              "    <tr>\n",
              "      <th>avaluo</th>\n",
              "      <td>0.789532</td>\n",
              "      <td>0.752844</td>\n",
              "      <td>0.590855</td>\n",
              "      <td>0.153776</td>\n",
              "      <td>0.525388</td>\n",
              "      <td>0.699940</td>\n",
              "      <td>1.000000</td>\n",
              "    </tr>\n",
              "  </tbody>\n",
              "</table>\n",
              "</div>\n",
              "    <div class=\"colab-df-buttons\">\n",
              "\n",
              "  <div class=\"colab-df-container\">\n",
              "    <button class=\"colab-df-convert\" onclick=\"convertToInteractive('df-298f6dbd-0971-4cf4-b4e6-e0c9076403ae')\"\n",
              "            title=\"Convert this dataframe to an interactive table.\"\n",
              "            style=\"display:none;\">\n",
              "\n",
              "  <svg xmlns=\"http://www.w3.org/2000/svg\" height=\"24px\" viewBox=\"0 -960 960 960\">\n",
              "    <path d=\"M120-120v-720h720v720H120Zm60-500h600v-160H180v160Zm220 220h160v-160H400v160Zm0 220h160v-160H400v160ZM180-400h160v-160H180v160Zm440 0h160v-160H620v160ZM180-180h160v-160H180v160Zm440 0h160v-160H620v160Z\"/>\n",
              "  </svg>\n",
              "    </button>\n",
              "\n",
              "  <style>\n",
              "    .colab-df-container {\n",
              "      display:flex;\n",
              "      gap: 12px;\n",
              "    }\n",
              "\n",
              "    .colab-df-convert {\n",
              "      background-color: #E8F0FE;\n",
              "      border: none;\n",
              "      border-radius: 50%;\n",
              "      cursor: pointer;\n",
              "      display: none;\n",
              "      fill: #1967D2;\n",
              "      height: 32px;\n",
              "      padding: 0 0 0 0;\n",
              "      width: 32px;\n",
              "    }\n",
              "\n",
              "    .colab-df-convert:hover {\n",
              "      background-color: #E2EBFA;\n",
              "      box-shadow: 0px 1px 2px rgba(60, 64, 67, 0.3), 0px 1px 3px 1px rgba(60, 64, 67, 0.15);\n",
              "      fill: #174EA6;\n",
              "    }\n",
              "\n",
              "    .colab-df-buttons div {\n",
              "      margin-bottom: 4px;\n",
              "    }\n",
              "\n",
              "    [theme=dark] .colab-df-convert {\n",
              "      background-color: #3B4455;\n",
              "      fill: #D2E3FC;\n",
              "    }\n",
              "\n",
              "    [theme=dark] .colab-df-convert:hover {\n",
              "      background-color: #434B5C;\n",
              "      box-shadow: 0px 1px 3px 1px rgba(0, 0, 0, 0.15);\n",
              "      filter: drop-shadow(0px 1px 2px rgba(0, 0, 0, 0.3));\n",
              "      fill: #FFFFFF;\n",
              "    }\n",
              "  </style>\n",
              "\n",
              "    <script>\n",
              "      const buttonEl =\n",
              "        document.querySelector('#df-298f6dbd-0971-4cf4-b4e6-e0c9076403ae button.colab-df-convert');\n",
              "      buttonEl.style.display =\n",
              "        google.colab.kernel.accessAllowed ? 'block' : 'none';\n",
              "\n",
              "      async function convertToInteractive(key) {\n",
              "        const element = document.querySelector('#df-298f6dbd-0971-4cf4-b4e6-e0c9076403ae');\n",
              "        const dataTable =\n",
              "          await google.colab.kernel.invokeFunction('convertToInteractive',\n",
              "                                                    [key], {});\n",
              "        if (!dataTable) return;\n",
              "\n",
              "        const docLinkHtml = 'Like what you see? Visit the ' +\n",
              "          '<a target=\"_blank\" href=https://colab.research.google.com/notebooks/data_table.ipynb>data table notebook</a>'\n",
              "          + ' to learn more about interactive tables.';\n",
              "        element.innerHTML = '';\n",
              "        dataTable['output_type'] = 'display_data';\n",
              "        await google.colab.output.renderOutput(dataTable, element);\n",
              "        const docLink = document.createElement('div');\n",
              "        docLink.innerHTML = docLinkHtml;\n",
              "        element.appendChild(docLink);\n",
              "      }\n",
              "    </script>\n",
              "  </div>\n",
              "\n",
              "\n",
              "<div id=\"df-4b341769-f071-4cc2-b688-ec931292a506\">\n",
              "  <button class=\"colab-df-quickchart\" onclick=\"quickchart('df-4b341769-f071-4cc2-b688-ec931292a506')\"\n",
              "            title=\"Suggest charts\"\n",
              "            style=\"display:none;\">\n",
              "\n",
              "<svg xmlns=\"http://www.w3.org/2000/svg\" height=\"24px\"viewBox=\"0 0 24 24\"\n",
              "     width=\"24px\">\n",
              "    <g>\n",
              "        <path d=\"M19 3H5c-1.1 0-2 .9-2 2v14c0 1.1.9 2 2 2h14c1.1 0 2-.9 2-2V5c0-1.1-.9-2-2-2zM9 17H7v-7h2v7zm4 0h-2V7h2v10zm4 0h-2v-4h2v4z\"/>\n",
              "    </g>\n",
              "</svg>\n",
              "  </button>\n",
              "\n",
              "<style>\n",
              "  .colab-df-quickchart {\n",
              "      --bg-color: #E8F0FE;\n",
              "      --fill-color: #1967D2;\n",
              "      --hover-bg-color: #E2EBFA;\n",
              "      --hover-fill-color: #174EA6;\n",
              "      --disabled-fill-color: #AAA;\n",
              "      --disabled-bg-color: #DDD;\n",
              "  }\n",
              "\n",
              "  [theme=dark] .colab-df-quickchart {\n",
              "      --bg-color: #3B4455;\n",
              "      --fill-color: #D2E3FC;\n",
              "      --hover-bg-color: #434B5C;\n",
              "      --hover-fill-color: #FFFFFF;\n",
              "      --disabled-bg-color: #3B4455;\n",
              "      --disabled-fill-color: #666;\n",
              "  }\n",
              "\n",
              "  .colab-df-quickchart {\n",
              "    background-color: var(--bg-color);\n",
              "    border: none;\n",
              "    border-radius: 50%;\n",
              "    cursor: pointer;\n",
              "    display: none;\n",
              "    fill: var(--fill-color);\n",
              "    height: 32px;\n",
              "    padding: 0;\n",
              "    width: 32px;\n",
              "  }\n",
              "\n",
              "  .colab-df-quickchart:hover {\n",
              "    background-color: var(--hover-bg-color);\n",
              "    box-shadow: 0 1px 2px rgba(60, 64, 67, 0.3), 0 1px 3px 1px rgba(60, 64, 67, 0.15);\n",
              "    fill: var(--button-hover-fill-color);\n",
              "  }\n",
              "\n",
              "  .colab-df-quickchart-complete:disabled,\n",
              "  .colab-df-quickchart-complete:disabled:hover {\n",
              "    background-color: var(--disabled-bg-color);\n",
              "    fill: var(--disabled-fill-color);\n",
              "    box-shadow: none;\n",
              "  }\n",
              "\n",
              "  .colab-df-spinner {\n",
              "    border: 2px solid var(--fill-color);\n",
              "    border-color: transparent;\n",
              "    border-bottom-color: var(--fill-color);\n",
              "    animation:\n",
              "      spin 1s steps(1) infinite;\n",
              "  }\n",
              "\n",
              "  @keyframes spin {\n",
              "    0% {\n",
              "      border-color: transparent;\n",
              "      border-bottom-color: var(--fill-color);\n",
              "      border-left-color: var(--fill-color);\n",
              "    }\n",
              "    20% {\n",
              "      border-color: transparent;\n",
              "      border-left-color: var(--fill-color);\n",
              "      border-top-color: var(--fill-color);\n",
              "    }\n",
              "    30% {\n",
              "      border-color: transparent;\n",
              "      border-left-color: var(--fill-color);\n",
              "      border-top-color: var(--fill-color);\n",
              "      border-right-color: var(--fill-color);\n",
              "    }\n",
              "    40% {\n",
              "      border-color: transparent;\n",
              "      border-right-color: var(--fill-color);\n",
              "      border-top-color: var(--fill-color);\n",
              "    }\n",
              "    60% {\n",
              "      border-color: transparent;\n",
              "      border-right-color: var(--fill-color);\n",
              "    }\n",
              "    80% {\n",
              "      border-color: transparent;\n",
              "      border-right-color: var(--fill-color);\n",
              "      border-bottom-color: var(--fill-color);\n",
              "    }\n",
              "    90% {\n",
              "      border-color: transparent;\n",
              "      border-bottom-color: var(--fill-color);\n",
              "    }\n",
              "  }\n",
              "</style>\n",
              "\n",
              "  <script>\n",
              "    async function quickchart(key) {\n",
              "      const quickchartButtonEl =\n",
              "        document.querySelector('#' + key + ' button');\n",
              "      quickchartButtonEl.disabled = true;  // To prevent multiple clicks.\n",
              "      quickchartButtonEl.classList.add('colab-df-spinner');\n",
              "      try {\n",
              "        const charts = await google.colab.kernel.invokeFunction(\n",
              "            'suggestCharts', [key], {});\n",
              "      } catch (error) {\n",
              "        console.error('Error during call to suggestCharts:', error);\n",
              "      }\n",
              "      quickchartButtonEl.classList.remove('colab-df-spinner');\n",
              "      quickchartButtonEl.classList.add('colab-df-quickchart-complete');\n",
              "    }\n",
              "    (() => {\n",
              "      let quickchartButtonEl =\n",
              "        document.querySelector('#df-4b341769-f071-4cc2-b688-ec931292a506 button');\n",
              "      quickchartButtonEl.style.display =\n",
              "        google.colab.kernel.accessAllowed ? 'block' : 'none';\n",
              "    })();\n",
              "  </script>\n",
              "</div>\n",
              "\n",
              "    </div>\n",
              "  </div>\n"
            ],
            "application/vnd.google.colaboratory.intrinsic+json": {
              "type": "dataframe",
              "summary": "{\n  \"name\": \"aptos\",\n  \"rows\": 7,\n  \"fields\": [\n    {\n      \"column\": \"precio\",\n      \"properties\": {\n        \"dtype\": \"number\",\n        \"std\": 0.2582601194585274,\n        \"min\": 0.18648608145588894,\n        \"max\": 1.0,\n        \"num_unique_values\": 7,\n        \"samples\": [\n          1.0,\n          0.8582584650198621,\n          0.752634518196186\n        ],\n        \"semantic_type\": \"\",\n        \"description\": \"\"\n      }\n    },\n    {\n      \"column\": \"mt2\",\n      \"properties\": {\n        \"dtype\": \"number\",\n        \"std\": 0.22198657816661216,\n        \"min\": 0.3096597912213463,\n        \"max\": 1.0,\n        \"num_unique_values\": 7,\n        \"samples\": [\n          0.8582584650198621,\n          1.0,\n          0.7744574204667456\n        ],\n        \"semantic_type\": \"\",\n        \"description\": \"\"\n      }\n    },\n    {\n      \"column\": \"estrato\",\n      \"properties\": {\n        \"dtype\": \"number\",\n        \"std\": 0.27479658365631426,\n        \"min\": 0.06781844544132593,\n        \"max\": 1.0,\n        \"num_unique_values\": 7,\n        \"samples\": [\n          0.6234804545591323,\n          0.5625016309135249,\n          0.636884009465192\n        ],\n        \"semantic_type\": \"\",\n        \"description\": \"\"\n      }\n    },\n    {\n      \"column\": \"alcobas\",\n      \"properties\": {\n        \"dtype\": \"number\",\n        \"std\": 0.31551325905376854,\n        \"min\": 0.06781844544132593,\n        \"max\": 1.0,\n        \"num_unique_values\": 7,\n        \"samples\": [\n          0.18648608145588894,\n          0.3096597912213463,\n          0.16214135042887862\n        ],\n        \"semantic_type\": \"\",\n        \"description\": \"\"\n      }\n    },\n    {\n      \"column\": \"banos\",\n      \"properties\": {\n        \"dtype\": \"number\",\n        \"std\": 0.20458511118869843,\n        \"min\": 0.34883912787643445,\n        \"max\": 1.0,\n        \"num_unique_values\": 7,\n        \"samples\": [\n          0.626713834376429,\n          0.6668206420648,\n          0.5485194843088796\n        ],\n        \"semantic_type\": \"\",\n        \"description\": \"\"\n      }\n    },\n    {\n      \"column\": \"administracion\",\n      \"properties\": {\n        \"dtype\": \"number\",\n        \"std\": 0.2580076172651038,\n        \"min\": 0.16214135042887862,\n        \"max\": 1.0,\n        \"num_unique_values\": 7,\n        \"samples\": [\n          0.752634518196186,\n          0.7744574204667456,\n          1.0\n        ],\n        \"semantic_type\": \"\",\n        \"description\": \"\"\n      }\n    },\n    {\n      \"column\": \"avaluo\",\n      \"properties\": {\n        \"dtype\": \"number\",\n        \"std\": 0.2646072206221813,\n        \"min\": 0.15377604665288708,\n        \"max\": 1.0,\n        \"num_unique_values\": 7,\n        \"samples\": [\n          0.7895324076047229,\n          0.7528440180705355,\n          0.6999398713582009\n        ],\n        \"semantic_type\": \"\",\n        \"description\": \"\"\n      }\n    }\n  ]\n}"
            }
          },
          "metadata": {},
          "execution_count": 17
        }
      ],
      "source": [
        "aptos.select_dtypes(include = np.number).corr()"
      ]
    },
    {
      "cell_type": "markdown",
      "metadata": {
        "id": "s6Q17io-Nb2v"
      },
      "source": [
        "Observamos una fuerte correlación en las variables *precio* y *mt2*. Con coeficente de 0.858258\n",
        "\n",
        "También podemos calcular la correlación de dos variables"
      ]
    },
    {
      "cell_type": "code",
      "execution_count": null,
      "metadata": {
        "colab": {
          "base_uri": "https://localhost:8080/"
        },
        "id": "_peBnoseNlej",
        "outputId": "93b29fc0-33d7-44a7-eab6-d1b1dba4371b"
      },
      "outputs": [
        {
          "output_type": "execute_result",
          "data": {
            "text/plain": [
              "0.8582584650198594"
            ]
          },
          "metadata": {},
          "execution_count": 18
        }
      ],
      "source": [
        "np.corrcoef(aptos.precio, aptos.mt2)[0,1]"
      ]
    },
    {
      "cell_type": "markdown",
      "metadata": {
        "id": "FDLjLZK8RVoP"
      },
      "source": [
        "Para evaluar la significancia de la correlación podemos usar una prueba de hipótesis.\n",
        "\n",
        "$$\\begin{cases} H_0: \\rho = 0 & \\text{no existe relación lineal entre las variables} \\\\\n",
        "H_1: \\rho \\neq 0 & \\text{existe relación lineal entre las variables}    \\end{cases}$$\n",
        "\n",
        "Esta prueba de hipótesis tiene los siguientes resultados:\n",
        "\n",
        "- Si el ***p-value > 0.05*** no se rechaza la hipótesis nula. En este caso no hay relación lineal entre las variables.\n",
        "\n",
        "- Si el ***p-value < 0.05*** se rechaza la hipótesis nula. En este caso hay relación lineal entre las variables.\n"
      ]
    },
    {
      "cell_type": "code",
      "execution_count": null,
      "metadata": {
        "id": "FbiWFDXwRbrY"
      },
      "outputs": [],
      "source": [
        "from scipy.stats.stats import pearsonr"
      ]
    },
    {
      "cell_type": "code",
      "execution_count": null,
      "metadata": {
        "colab": {
          "base_uri": "https://localhost:8080/"
        },
        "id": "WI8dgz-MRd-1",
        "outputId": "79128b6f-131d-4369-afd6-0e6e1a5d6b07"
      },
      "outputs": [
        {
          "output_type": "execute_result",
          "data": {
            "text/plain": [
              "PearsonRResult(statistic=0.3096597912213458, pvalue=6.883798599004218e-17)"
            ]
          },
          "metadata": {},
          "execution_count": 22
        }
      ],
      "source": [
        "pearsonr(aptos.mt2, aptos.alcobas)"
      ]
    },
    {
      "cell_type": "markdown",
      "metadata": {
        "id": "rpi83nC2Sx3c"
      },
      "source": [
        "Como el ***p-value<0.5***, rechazamos la hipótesis nula y por ende se concluye que existe relación lineal entre las variables."
      ]
    },
    {
      "cell_type": "markdown",
      "metadata": {
        "id": "MZwQfkV2TPqt"
      },
      "source": [
        "Ahora, revisaremos el diagrama de dispersión."
      ]
    },
    {
      "cell_type": "code",
      "execution_count": null,
      "metadata": {
        "colab": {
          "base_uri": "https://localhost:8080/",
          "height": 542
        },
        "id": "6Y9oHeT3T3rd",
        "outputId": "486d2787-ffe3-4b59-e68e-ef4c40333bce"
      },
      "outputs": [
        {
          "output_type": "display_data",
          "data": {
            "text/html": [
              "<html>\n",
              "<head><meta charset=\"utf-8\" /></head>\n",
              "<body>\n",
              "    <div>            <script src=\"https://cdnjs.cloudflare.com/ajax/libs/mathjax/2.7.5/MathJax.js?config=TeX-AMS-MML_SVG\"></script><script type=\"text/javascript\">if (window.MathJax && window.MathJax.Hub && window.MathJax.Hub.Config) {window.MathJax.Hub.Config({SVG: {font: \"STIX-Web\"}});}</script>                <script type=\"text/javascript\">window.PlotlyConfig = {MathJaxConfig: 'local'};</script>\n",
              "        <script charset=\"utf-8\" src=\"https://cdn.plot.ly/plotly-2.24.1.min.js\"></script>                <div id=\"43ae2769-1e78-47bf-b553-c0d39baeb649\" class=\"plotly-graph-div\" style=\"height:525px; width:100%;\"></div>            <script type=\"text/javascript\">                                    window.PLOTLYENV=window.PLOTLYENV || {};                                    if (document.getElementById(\"43ae2769-1e78-47bf-b553-c0d39baeb649\")) {                    Plotly.newPlot(                        \"43ae2769-1e78-47bf-b553-c0d39baeb649\",                        [{\"hovertemplate\":\"Precio=%{x}\\u003cbr\\u003eMetros cuadrados=%{y}\\u003cextra\\u003e\\u003c\\u002fextra\\u003e\",\"legendgroup\":\"\",\"marker\":{\"color\":\"purple\",\"symbol\":\"circle\"},\"mode\":\"markers\",\"name\":\"\",\"orientation\":\"v\",\"showlegend\":false,\"x\":[79.0,93.0,100.0,123.0,135.0,140.0,145.0,160.0,160.0,175.0,47.0,53.0,70.0,70.0,72.0,75.0,80.0,90.0,90.0,90.0,90.0,90.0,95.0,105.0,110.0,115.0,115.0,120.0,121.0,128.0,130.0,130.0,140.0,140.0,143.0,145.0,145.0,145.0,148.0,150.0,152.0,155.0,155.0,160.0,160.0,170.0,180.0,180.0,185.0,190.0,190.0,190.0,190.0,190.0,190.0,195.0,198.0,200.0,200.0,200.0,200.0,210.0,210.0,210.0,210.0,210.0,215.0,220.0,220.0,220.0,230.0,245.0,245.0,250.0,250.0,260.0,270.0,270.0,320.0,235.0,140.0,155.0,160.0,165.0,166.0,170.0,170.0,170.0,185.0,185.0,190.0,195.0,205.0,210.0,210.0,220.0,220.0,225.0,228.0,230.0,230.0,230.0,235.0,235.0,235.0,238.0,240.0,240.0,250.0,250.0,250.0,260.0,260.0,260.0,260.0,260.0,260.0,260.0,270.0,276.0,280.0,280.0,285.0,290.0,290.0,290.0,290.0,290.0,290.0,295.0,295.0,295.0,300.0,300.0,300.0,300.0,300.0,300.0,305.0,310.0,310.0,310.0,312.0,315.0,320.0,320.0,320.0,320.0,320.0,325.0,325.0,330.0,330.0,330.0,330.0,335.0,335.0,340.0,340.0,340.0,340.0,340.0,345.0,350.0,350.0,350.0,350.0,350.0,350.0,350.0,350.0,355.0,355.0,360.0,360.0,360.0,360.0,360.0,360.0,360.0,370.0,370.0,370.0,375.0,375.0,378.0,380.0,380.0,380.0,380.0,380.0,380.0,380.0,380.0,380.0,389.0,390.0,390.0,390.0,390.0,390.0,390.0,399.141,400.0,400.0,400.0,400.0,400.0,400.0,400.0,410.0,410.0,410.0,420.0,420.0,420.0,420.0,425.0,428.0,430.0,430.0,430.0,430.0,435.0,435.0,435.0,440.0,440.0,440.0,440.0,440.0,440.0,445.0,445.0,448.5,450.0,460.0,460.0,460.0,460.0,460.0,460.0,460.0,460.0,465.0,465.0,465.0,470.0,470.0,480.0,480.0,480.0,480.0,480.0,480.0,480.0,480.0,481.0,483.0,485.0,490.0,495.0,498.0,500.0,500.0,510.0,520.0,540.0,550.0,550.0,560.0,570.0,570.0,580.0,588.0,595.0,600.0,600.0,600.0,600.0,620.0,620.0,630.0,650.0,650.0,650.0,650.0,650.0,650.0,680.0,680.0,680.0,690.0,690.0,695.0,700.0,710.0,720.0,720.0,730.0,735.0,745.0,750.0,750.0,750.0,790.0,790.0,800.0,800.0,830.0,850.0,850.0,850.0,860.0,865.0,875.0,880.0,890.0,900.0,900.0,900.0,900.0,920.0,950.0,950.0,980.0,980.0,990.0,995.0,1100.0,1100.0,1100.0,1100.0,1200.0,1200.0,1200.0,1300.0,1300.0,1300.0,1350.0,1350.0,1400.0,1430.0,1450.0,1450.0,1490.0,1700.0,45.0,63.0,82.0,83.0,84.0,85.0,90.0,90.0,90.0,90.0,97.0,100.0,111.0,112.0,115.0,120.0,120.0,120.0,120.0,120.0,124.0,125.0,125.0,130.0,130.0,130.0,130.0,130.0,130.0,130.0,132.0,132.0,135.0,135.0,135.0,135.0,135.0,138.0,140.0,140.0,140.0,140.0,140.0,140.0,143.0,145.0,145.0,145.0,145.0,145.0,148.0,150.0,150.0,150.0,150.0,153.0,155.0,155.0,155.0,158.0,160.0,160.0,160.0,160.0,165.0,165.0,165.0,169.7,170.0,170.0,170.0,175.0,175.0,175.0,178.0,178.0,179.0,180.0,180.0,180.0,185.0,185.0,185.0,185.0,185.0,185.0,188.0,190.0,190.0,190.0,190.0,195.0,198.0,200.0,200.0,200.0,200.0,200.0,200.0,205.0,210.0,210.0,210.0,216.0,219.0,220.0,220.0,220.0,220.0,220.0,220.0,220.0,220.0,225.0,230.0,230.0,230.0,235.0,237.0,238.0,238.0,238.0,240.0,245.0,245.0,247.0,250.0,250.0,250.0,255.0,255.0,255.0,255.0,260.0,260.0,260.0,260.0,260.0,260.0,260.0,265.0,265.0,265.0,265.0,270.0,270.0,275.0,280.0,280.0,280.0,280.0,280.0,285.0,285.0,287.0,290.0,290.0,290.0,295.0,300.0,300.0,300.0,310.0,315.0,315.0,320.0,320.0,330.0,330.0,75.0,75.0,80.0,85.0,86.0,90.0,95.0,98.0,103.0,108.0,115.0,118.0,120.0,120.0,130.0,130.0,140.0,140.0,142.0,145.0,145.0,145.0,150.0,150.0,150.0,155.0,155.0,155.0,155.0,155.0,156.0,160.0,160.0,165.0,165.0,165.0,170.0,180.0,180.0,183.0,185.0,185.0,190.0,190.0,190.0,195.0,200.0,205.0,210.0,210.0,210.0,210.0,220.0,220.0,220.0,220.0,225.0,230.0,230.0,230.0,235.0,240.0,240.0,250.0,255.0,260.0,265.0,67.0,70.0,70.0,78.0,78.0,80.0,80.0,84.0,85.0,86.0,90.0,100.0,100.0,100.0,102.0,110.0,115.0,125.0,128.0,128.0,128.0,130.0,130.0,130.0,135.0,135.0,140.0,147.0,150.0,165.0,165.0,200.0,210.0,210.0,210.0,220.0,230.0,260.0,135.0,140.0,165.0,170.0,180.0,190.0,190.0,205.0,210.0,210.0,220.0,220.0,225.0,228.0,230.0,230.0,235.0,235.0,240.0,240.0,250.0,250.0,250.0,25.0,250.0,255.0,255.0,255.0,260.0,265.0,265.0,270.0,275.0,280.0,280.0,285.0,290.0,310.0,315.0,320.0,320.0,320.0,325.0,330.0,330.0,330.0,340.0,340.0,343.0,350.0,350.0,350.0,360.0,360.0,370.0,370.0,370.0,370.0,375.0,380.0,400.0,400.0,400.0,410.0,450.0,450.0,450.0,470.0,498.0,508.0,550.0,630.0,1350.0],\"xaxis\":\"x\",\"y\":[43.16,56.92,66.4,61.85,89.8,71.0,54.83,69.0,93.0,60.88,43.0,37.56,46.0,42.0,51.7,44.81,45.35,100.0,50.0,40.0,48.0,107.0,51.0,42.0,53.0,48.0,40.0,57.0,57.41,56.0,54.0,78.0,79.0,62.5,56.0,84.0,55.0,80.0,76.0,62.0,58.0,94.1,74.0,70.0,58.0,85.0,66.0,100.0,64.9,99.0,70.0,73.0,86.0,91.0,120.0,70.0,108.0,83.0,74.0,75.2,130.0,97.0,82.0,130.0,87.0,88.81,101.0,114.0,96.31,74.0,112.0,120.0,120.0,135.0,79.81,110.0,174.0,160.0,101.0,85.0,60.0,64.05,64.5,50.0,56.0,88.61,92.0,85.0,76.0,76.0,85.0,74.0,77.14,85.0,75.0,94.0,77.0,78.4,85.0,96.0,88.0,88.4,72.32,93.0,85.0,70.0,120.0,85.0,103.0,83.0,98.0,158.0,75.0,99.0,98.0,86.0,71.0,74.0,105.0,78.0,98.0,115.0,85.6,165.0,147.0,63.0,87.0,83.0,71.0,180.0,115.0,140.0,250.0,100.0,80.0,107.0,79.5,135.0,106.0,170.0,79.0,89.0,138.0,127.0,115.3,110.0,175.64,127.0,207.0,130.0,110.0,99.72,90.0,109.0,127.0,94.39,164.0,95.0,116.0,139.0,81.0,120.0,90.0,208.0,115.0,188.0,200.0,108.0,125.0,120.0,90.0,110.0,136.0,101.0,100.0,180.0,126.0,130.0,158.0,98.0,140.0,100.14,132.0,137.0,99.0,132.0,105.0,164.0,156.0,130.0,158.0,165.0,130.0,125.0,180.0,137.0,137.0,210.0,160.0,120.0,171.0,108.0,72.0,149.0,155.8,147.0,100.0,153.0,94.0,137.0,220.0,168.5,132.98,197.0,163.0,100.0,151.0,183.0,193.0,178.0,136.0,105.0,108.0,118.0,157.44,118.12,151.34,192.0,202.0,176.0,106.0,149.0,129.63,95.57,108.0,141.0,231.02,113.0,124.0,145.02,140.0,134.0,175.21,146.9,167.75,187.0,160.0,195.0,230.0,264.0,113.0,213.0,133.0,173.0,104.0,123.0,150.0,185.0,138.0,121.0,226.0,210.0,253.0,210.0,189.96,255.3,132.0,189.0,418.0,250.0,155.0,155.0,189.0,258.0,167.8,153.0,156.0,290.0,169.0,248.0,324.0,171.0,294.0,418.0,180.0,233.0,180.0,240.0,233.86,159.0,190.0,210.0,162.0,271.0,320.0,185.0,196.0,181.0,311.0,209.0,325.0,326.05,350.0,325.0,151.66,186.0,355.0,245.0,320.0,284.0,324.0,230.0,300.0,238.0,196.0,324.0,215.0,260.0,260.0,248.0,219.9,234.0,350.0,250.0,284.0,251.0,268.0,267.0,272.0,500.0,305.0,360.0,300.0,309.0,272.0,324.0,396.0,342.0,262.0,248.0,500.0,373.0,291.0,318.0,238.19,445.0,399.0,53.0,43.0,58.0,52.0,60.0,78.0,35.0,56.0,53.0,64.0,56.0,60.0,54.0,44.0,55.0,60.0,58.0,60.0,80.0,60.0,55.0,62.0,70.0,64.0,75.0,74.0,62.0,72.0,70.0,60.0,55.0,58.0,71.0,60.0,72.0,55.0,58.0,62.0,60.0,80.0,58.0,63.0,99.0,63.0,66.0,60.0,60.0,68.0,120.0,57.0,68.0,95.0,100.0,78.0,67.0,63.0,126.0,59.0,104.0,64.0,64.0,112.0,68.0,68.0,60.0,53.0,68.0,100.0,60.0,63.0,63.0,80.0,65.0,60.0,92.0,56.0,60.0,66.0,67.0,66.0,66.0,66.0,63.0,66.0,70.0,64.0,70.0,67.0,76.0,93.0,68.0,72.0,95.0,76.0,69.0,98.0,70.0,78.0,70.0,70.0,88.0,76.0,64.0,77.0,90.0,117.0,72.0,86.0,71.0,69.0,72.0,73.0,89.0,100.0,86.0,86.0,89.0,87.0,85.0,74.0,84.0,85.0,69.0,90.0,72.0,85.0,110.0,81.0,99.0,143.0,85.0,100.0,124.0,88.0,75.0,87.0,82.0,88.0,67.0,93.0,81.0,74.0,72.0,72.0,89.0,107.0,90.0,90.0,112.0,127.0,87.0,112.0,98.0,100.0,96.0,92.0,114.0,92.0,110.0,114.0,112.0,107.0,87.0,120.0,95.0,117.0,97.0,104.0,157.0,54.0,46.0,72.0,64.0,45.0,55.0,50.0,45.0,55.0,56.0,61.0,57.0,58.0,117.0,92.0,56.0,106.0,58.0,92.0,62.0,60.0,70.0,57.0,95.0,81.0,123.0,69.0,80.0,86.0,78.0,114.0,97.0,90.0,64.0,62.0,72.0,80.0,118.0,110.0,71.0,84.0,84.0,73.0,81.0,90.0,84.0,83.0,87.0,106.0,87.0,111.0,109.0,95.0,122.0,123.0,102.0,77.0,68.0,104.0,81.0,82.0,84.0,75.0,129.0,80.0,137.0,104.0,41.0,26.0,30.0,38.0,46.0,48.0,55.0,54.0,43.0,62.0,49.0,40.0,45.0,80.0,54.0,40.0,52.0,53.0,50.0,60.0,55.0,127.0,115.0,66.0,70.0,74.0,150.0,62.0,74.0,86.0,58.0,210.0,210.0,178.0,192.0,185.0,255.0,226.0,66.0,65.0,44.0,93.0,91.0,112.0,114.0,85.0,80.0,86.0,85.0,102.0,116.0,104.0,89.0,89.0,87.0,135.0,123.0,120.0,129.0,75.0,113.0,118.0,130.0,123.0,110.0,95.0,106.0,128.0,103.0,261.0,97.0,133.0,100.0,151.0,154.0,115.0,170.0,160.0,123.0,96.0,120.0,155.0,150.0,254.0,132.0,140.0,132.0,119.0,142.0,116.0,305.0,140.0,210.0,101.0,100.0,137.0,170.0,140.0,168.0,165.0,130.0,141.0,181.0,123.0,204.0,248.0,180.0,209.0,149.0,179.0,494.0],\"yaxis\":\"y\",\"type\":\"scatter\"},{\"hovertemplate\":\"\\u003cb\\u003eOLS trendline\\u003c\\u002fb\\u003e\\u003cbr\\u003ey = 0.258902 * x + 38.6744\\u003cbr\\u003eR\\u003csup\\u003e2\\u003c\\u002fsup\\u003e=0.736608\\u003cbr\\u003e\\u003cbr\\u003ePrecio=%{x}\\u003cbr\\u003eMetros cuadrados=%{y} \\u003cb\\u003e(trend)\\u003c\\u002fb\\u003e\\u003cextra\\u003e\\u003c\\u002fextra\\u003e\",\"legendgroup\":\"\",\"line\":{\"color\":\"blue\"},\"marker\":{\"color\":\"purple\",\"symbol\":\"circle\"},\"mode\":\"lines\",\"name\":\"\",\"showlegend\":false,\"x\":[25.0,45.0,47.0,53.0,63.0,67.0,70.0,70.0,70.0,70.0,72.0,75.0,75.0,75.0,78.0,78.0,79.0,80.0,80.0,80.0,80.0,82.0,83.0,84.0,84.0,85.0,85.0,85.0,86.0,86.0,90.0,90.0,90.0,90.0,90.0,90.0,90.0,90.0,90.0,90.0,90.0,93.0,95.0,95.0,97.0,98.0,100.0,100.0,100.0,100.0,100.0,102.0,103.0,105.0,108.0,110.0,110.0,111.0,112.0,115.0,115.0,115.0,115.0,115.0,118.0,120.0,120.0,120.0,120.0,120.0,120.0,120.0,120.0,121.0,123.0,124.0,125.0,125.0,125.0,128.0,128.0,128.0,128.0,130.0,130.0,130.0,130.0,130.0,130.0,130.0,130.0,130.0,130.0,130.0,130.0,130.0,130.0,132.0,132.0,135.0,135.0,135.0,135.0,135.0,135.0,135.0,135.0,135.0,138.0,140.0,140.0,140.0,140.0,140.0,140.0,140.0,140.0,140.0,140.0,140.0,140.0,140.0,140.0,142.0,143.0,143.0,145.0,145.0,145.0,145.0,145.0,145.0,145.0,145.0,145.0,145.0,145.0,145.0,147.0,148.0,148.0,150.0,150.0,150.0,150.0,150.0,150.0,150.0,150.0,150.0,152.0,153.0,155.0,155.0,155.0,155.0,155.0,155.0,155.0,155.0,155.0,155.0,155.0,156.0,158.0,160.0,160.0,160.0,160.0,160.0,160.0,160.0,160.0,160.0,160.0,160.0,165.0,165.0,165.0,165.0,165.0,165.0,165.0,165.0,165.0,165.0,166.0,169.7,170.0,170.0,170.0,170.0,170.0,170.0,170.0,170.0,170.0,175.0,175.0,175.0,175.0,178.0,178.0,179.0,180.0,180.0,180.0,180.0,180.0,180.0,180.0,180.0,183.0,185.0,185.0,185.0,185.0,185.0,185.0,185.0,185.0,185.0,185.0,185.0,188.0,190.0,190.0,190.0,190.0,190.0,190.0,190.0,190.0,190.0,190.0,190.0,190.0,190.0,190.0,190.0,190.0,195.0,195.0,195.0,195.0,198.0,198.0,200.0,200.0,200.0,200.0,200.0,200.0,200.0,200.0,200.0,200.0,200.0,200.0,205.0,205.0,205.0,205.0,210.0,210.0,210.0,210.0,210.0,210.0,210.0,210.0,210.0,210.0,210.0,210.0,210.0,210.0,210.0,210.0,210.0,210.0,210.0,215.0,216.0,219.0,220.0,220.0,220.0,220.0,220.0,220.0,220.0,220.0,220.0,220.0,220.0,220.0,220.0,220.0,220.0,220.0,220.0,220.0,220.0,220.0,225.0,225.0,225.0,225.0,228.0,228.0,230.0,230.0,230.0,230.0,230.0,230.0,230.0,230.0,230.0,230.0,230.0,230.0,230.0,235.0,235.0,235.0,235.0,235.0,235.0,235.0,235.0,237.0,238.0,238.0,238.0,238.0,240.0,240.0,240.0,240.0,240.0,240.0,240.0,245.0,245.0,245.0,245.0,247.0,250.0,250.0,250.0,250.0,250.0,250.0,250.0,250.0,250.0,250.0,250.0,250.0,250.0,255.0,255.0,255.0,255.0,255.0,255.0,255.0,255.0,260.0,260.0,260.0,260.0,260.0,260.0,260.0,260.0,260.0,260.0,260.0,260.0,260.0,260.0,260.0,260.0,260.0,260.0,265.0,265.0,265.0,265.0,265.0,265.0,265.0,270.0,270.0,270.0,270.0,270.0,270.0,275.0,275.0,276.0,280.0,280.0,280.0,280.0,280.0,280.0,280.0,280.0,280.0,285.0,285.0,285.0,285.0,287.0,290.0,290.0,290.0,290.0,290.0,290.0,290.0,290.0,290.0,290.0,295.0,295.0,295.0,295.0,300.0,300.0,300.0,300.0,300.0,300.0,300.0,300.0,300.0,305.0,310.0,310.0,310.0,310.0,310.0,312.0,315.0,315.0,315.0,315.0,320.0,320.0,320.0,320.0,320.0,320.0,320.0,320.0,320.0,320.0,320.0,325.0,325.0,325.0,330.0,330.0,330.0,330.0,330.0,330.0,330.0,330.0,330.0,335.0,335.0,340.0,340.0,340.0,340.0,340.0,340.0,340.0,343.0,345.0,350.0,350.0,350.0,350.0,350.0,350.0,350.0,350.0,350.0,350.0,350.0,355.0,355.0,360.0,360.0,360.0,360.0,360.0,360.0,360.0,360.0,360.0,370.0,370.0,370.0,370.0,370.0,370.0,370.0,375.0,375.0,375.0,378.0,380.0,380.0,380.0,380.0,380.0,380.0,380.0,380.0,380.0,380.0,389.0,390.0,390.0,390.0,390.0,390.0,390.0,399.141,400.0,400.0,400.0,400.0,400.0,400.0,400.0,400.0,400.0,400.0,410.0,410.0,410.0,410.0,420.0,420.0,420.0,420.0,425.0,428.0,430.0,430.0,430.0,430.0,435.0,435.0,435.0,440.0,440.0,440.0,440.0,440.0,440.0,445.0,445.0,448.5,450.0,450.0,450.0,450.0,460.0,460.0,460.0,460.0,460.0,460.0,460.0,460.0,465.0,465.0,465.0,470.0,470.0,470.0,480.0,480.0,480.0,480.0,480.0,480.0,480.0,480.0,481.0,483.0,485.0,490.0,495.0,498.0,498.0,500.0,500.0,508.0,510.0,520.0,540.0,550.0,550.0,550.0,560.0,570.0,570.0,580.0,588.0,595.0,600.0,600.0,600.0,600.0,620.0,620.0,630.0,630.0,650.0,650.0,650.0,650.0,650.0,650.0,680.0,680.0,680.0,690.0,690.0,695.0,700.0,710.0,720.0,720.0,730.0,735.0,745.0,750.0,750.0,750.0,790.0,790.0,800.0,800.0,830.0,850.0,850.0,850.0,860.0,865.0,875.0,880.0,890.0,900.0,900.0,900.0,900.0,920.0,950.0,950.0,980.0,980.0,990.0,995.0,1100.0,1100.0,1100.0,1100.0,1200.0,1200.0,1200.0,1300.0,1300.0,1300.0,1350.0,1350.0,1350.0,1400.0,1430.0,1450.0,1450.0,1490.0,1700.0],\"xaxis\":\"x\",\"y\":[45.14690911187341,50.32495257060337,50.84275691647637,52.396169954095356,54.985191683460336,56.02080037520633,56.797506894015825,56.797506894015825,56.797506894015825,56.797506894015825,57.315311239888814,58.09201775869831,58.09201775869831,58.09201775869831,58.86872427750781,58.86872427750781,59.1276264504443,59.3865286233808,59.3865286233808,59.3865286233808,59.3865286233808,59.9043329692538,60.163235142190295,60.42213731512679,60.42213731512679,60.68103948806329,60.68103948806329,60.68103948806329,60.93994166099979,60.93994166099979,61.975550352745785,61.975550352745785,61.975550352745785,61.975550352745785,61.975550352745785,61.975550352745785,61.975550352745785,61.975550352745785,61.975550352745785,61.975550352745785,61.975550352745785,62.752256871555275,63.27006121742827,63.27006121742827,63.78786556330127,64.04676773623777,64.56457208211077,64.56457208211077,64.56457208211077,64.56457208211077,64.56457208211077,65.08237642798376,65.34127860092026,65.85908294679325,66.63578946560276,67.15359381147574,67.15359381147574,67.41249598441225,67.67139815734873,68.44810467615824,68.44810467615824,68.44810467615824,68.44810467615824,68.44810467615824,69.22481119496773,69.74261554084072,69.74261554084072,69.74261554084072,69.74261554084072,69.74261554084072,69.74261554084072,69.74261554084072,69.74261554084072,70.00151771377722,70.51932205965022,70.77822423258672,71.03712640552321,71.03712640552321,71.03712640552321,71.8138329243327,71.8138329243327,71.8138329243327,71.8138329243327,72.3316372702057,72.3316372702057,72.3316372702057,72.3316372702057,72.3316372702057,72.3316372702057,72.3316372702057,72.3316372702057,72.3316372702057,72.3316372702057,72.3316372702057,72.3316372702057,72.3316372702057,72.3316372702057,72.8494416160787,72.8494416160787,73.6261481348882,73.6261481348882,73.6261481348882,73.6261481348882,73.6261481348882,73.6261481348882,73.6261481348882,73.6261481348882,73.6261481348882,74.40285465369769,74.92065899957069,74.92065899957069,74.92065899957069,74.92065899957069,74.92065899957069,74.92065899957069,74.92065899957069,74.92065899957069,74.92065899957069,74.92065899957069,74.92065899957069,74.92065899957069,74.92065899957069,74.92065899957069,75.43846334544368,75.69736551838018,75.69736551838018,76.21516986425317,76.21516986425317,76.21516986425317,76.21516986425317,76.21516986425317,76.21516986425317,76.21516986425317,76.21516986425317,76.21516986425317,76.21516986425317,76.21516986425317,76.21516986425317,76.73297421012617,76.99187638306267,76.99187638306267,77.50968072893566,77.50968072893566,77.50968072893566,77.50968072893566,77.50968072893566,77.50968072893566,77.50968072893566,77.50968072893566,77.50968072893566,78.02748507480865,78.28638724774515,78.80419159361816,78.80419159361816,78.80419159361816,78.80419159361816,78.80419159361816,78.80419159361816,78.80419159361816,78.80419159361816,78.80419159361816,78.80419159361816,78.80419159361816,79.06309376655466,79.58089811242765,80.09870245830064,80.09870245830064,80.09870245830064,80.09870245830064,80.09870245830064,80.09870245830064,80.09870245830064,80.09870245830064,80.09870245830064,80.09870245830064,80.09870245830064,81.39321332298314,81.39321332298314,81.39321332298314,81.39321332298314,81.39321332298314,81.39321332298314,81.39321332298314,81.39321332298314,81.39321332298314,81.39321332298314,81.65211549591963,82.61005353578467,82.68772418766562,82.68772418766562,82.68772418766562,82.68772418766562,82.68772418766562,82.68772418766562,82.68772418766562,82.68772418766562,82.68772418766562,83.98223505234812,83.98223505234812,83.98223505234812,83.98223505234812,84.7589415711576,84.7589415711576,85.01784374409411,85.27674591703061,85.27674591703061,85.27674591703061,85.27674591703061,85.27674591703061,85.27674591703061,85.27674591703061,85.27674591703061,86.0534524358401,86.57125678171309,86.57125678171309,86.57125678171309,86.57125678171309,86.57125678171309,86.57125678171309,86.57125678171309,86.57125678171309,86.57125678171309,86.57125678171309,86.57125678171309,87.3479633005226,87.86576764639558,87.86576764639558,87.86576764639558,87.86576764639558,87.86576764639558,87.86576764639558,87.86576764639558,87.86576764639558,87.86576764639558,87.86576764639558,87.86576764639558,87.86576764639558,87.86576764639558,87.86576764639558,87.86576764639558,87.86576764639558,89.16027851107808,89.16027851107808,89.16027851107808,89.16027851107808,89.93698502988758,89.93698502988758,90.45478937576057,90.45478937576057,90.45478937576057,90.45478937576057,90.45478937576057,90.45478937576057,90.45478937576057,90.45478937576057,90.45478937576057,90.45478937576057,90.45478937576057,90.45478937576057,91.74930024044306,91.74930024044306,91.74930024044306,91.74930024044306,93.04381110512554,93.04381110512554,93.04381110512554,93.04381110512554,93.04381110512554,93.04381110512554,93.04381110512554,93.04381110512554,93.04381110512554,93.04381110512554,93.04381110512554,93.04381110512554,93.04381110512554,93.04381110512554,93.04381110512554,93.04381110512554,93.04381110512554,93.04381110512554,93.04381110512554,94.33832196980804,94.59722414274454,95.37393066155403,95.63283283449053,95.63283283449053,95.63283283449053,95.63283283449053,95.63283283449053,95.63283283449053,95.63283283449053,95.63283283449053,95.63283283449053,95.63283283449053,95.63283283449053,95.63283283449053,95.63283283449053,95.63283283449053,95.63283283449053,95.63283283449053,95.63283283449053,95.63283283449053,95.63283283449053,95.63283283449053,96.92734369917301,96.92734369917301,96.92734369917301,96.92734369917301,97.70405021798251,97.70405021798251,98.22185456385552,98.22185456385552,98.22185456385552,98.22185456385552,98.22185456385552,98.22185456385552,98.22185456385552,98.22185456385552,98.22185456385552,98.22185456385552,98.22185456385552,98.22185456385552,98.22185456385552,99.516365428538,99.516365428538,99.516365428538,99.516365428538,99.516365428538,99.516365428538,99.516365428538,99.516365428538,100.034169774411,100.2930719473475,100.2930719473475,100.2930719473475,100.2930719473475,100.81087629322049,100.81087629322049,100.81087629322049,100.81087629322049,100.81087629322049,100.81087629322049,100.81087629322049,102.10538715790298,102.10538715790298,102.10538715790298,102.10538715790298,102.62319150377597,103.39989802258546,103.39989802258546,103.39989802258546,103.39989802258546,103.39989802258546,103.39989802258546,103.39989802258546,103.39989802258546,103.39989802258546,103.39989802258546,103.39989802258546,103.39989802258546,103.39989802258546,104.69440888726795,104.69440888726795,104.69440888726795,104.69440888726795,104.69440888726795,104.69440888726795,104.69440888726795,104.69440888726795,105.98891975195045,105.98891975195045,105.98891975195045,105.98891975195045,105.98891975195045,105.98891975195045,105.98891975195045,105.98891975195045,105.98891975195045,105.98891975195045,105.98891975195045,105.98891975195045,105.98891975195045,105.98891975195045,105.98891975195045,105.98891975195045,105.98891975195045,105.98891975195045,107.28343061663294,107.28343061663294,107.28343061663294,107.28343061663294,107.28343061663294,107.28343061663294,107.28343061663294,108.57794148131543,108.57794148131543,108.57794148131543,108.57794148131543,108.57794148131543,108.57794148131543,109.87245234599791,109.87245234599791,110.13135451893442,111.16696321068041,111.16696321068041,111.16696321068041,111.16696321068041,111.16696321068041,111.16696321068041,111.16696321068041,111.16696321068041,111.16696321068041,112.4614740753629,112.4614740753629,112.4614740753629,112.4614740753629,112.97927842123589,113.7559849400454,113.7559849400454,113.7559849400454,113.7559849400454,113.7559849400454,113.7559849400454,113.7559849400454,113.7559849400454,113.7559849400454,113.7559849400454,115.05049580472787,115.05049580472787,115.05049580472787,115.05049580472787,116.34500666941037,116.34500666941037,116.34500666941037,116.34500666941037,116.34500666941037,116.34500666941037,116.34500666941037,116.34500666941037,116.34500666941037,117.63951753409286,118.93402839877535,118.93402839877535,118.93402839877535,118.93402839877535,118.93402839877535,119.45183274464834,120.22853926345783,120.22853926345783,120.22853926345783,120.22853926345783,121.52305012814033,121.52305012814033,121.52305012814033,121.52305012814033,121.52305012814033,121.52305012814033,121.52305012814033,121.52305012814033,121.52305012814033,121.52305012814033,121.52305012814033,122.81756099282282,122.81756099282282,122.81756099282282,124.11207185750531,124.11207185750531,124.11207185750531,124.11207185750531,124.11207185750531,124.11207185750531,124.11207185750531,124.11207185750531,124.11207185750531,125.4065827221878,125.4065827221878,126.70109358687029,126.70109358687029,126.70109358687029,126.70109358687029,126.70109358687029,126.70109358687029,126.70109358687029,127.47780010567979,127.99560445155278,129.29011531623527,129.29011531623527,129.29011531623527,129.29011531623527,129.29011531623527,129.29011531623527,129.29011531623527,129.29011531623527,129.29011531623527,129.29011531623527,129.29011531623527,130.58462618091778,130.58462618091778,131.87913704560026,131.87913704560026,131.87913704560026,131.87913704560026,131.87913704560026,131.87913704560026,131.87913704560026,131.87913704560026,131.87913704560026,134.46815877496522,134.46815877496522,134.46815877496522,134.46815877496522,134.46815877496522,134.46815877496522,134.46815877496522,135.76266963964773,135.76266963964773,135.76266963964773,136.53937615845723,137.0571805043302,137.0571805043302,137.0571805043302,137.0571805043302,137.0571805043302,137.0571805043302,137.0571805043302,137.0571805043302,137.0571805043302,137.0571805043302,139.3873000607587,139.6462022336952,139.6462022336952,139.6462022336952,139.6462022336952,139.6462022336952,139.6462022336952,142.01282699650773,142.23522396306018,142.23522396306018,142.23522396306018,142.23522396306018,142.23522396306018,142.23522396306018,142.23522396306018,142.23522396306018,142.23522396306018,142.23522396306018,144.82424569242517,144.82424569242517,144.82424569242517,144.82424569242517,147.41326742179012,147.41326742179012,147.41326742179012,147.41326742179012,148.7077782864726,149.48448480528214,150.0022891511551,150.0022891511551,150.0022891511551,150.0022891511551,151.29680001583762,151.29680001583762,151.29680001583762,152.5913108805201,152.5913108805201,152.5913108805201,152.5913108805201,152.5913108805201,152.5913108805201,153.88582174520258,153.88582174520258,154.79197935048035,155.18033260988506,155.18033260988506,155.18033260988506,155.18033260988506,157.76935433925007,157.76935433925007,157.76935433925007,157.76935433925007,157.76935433925007,157.76935433925007,157.76935433925007,157.76935433925007,159.06386520393255,159.06386520393255,159.06386520393255,160.35837606861503,160.35837606861503,160.35837606861503,162.94739779798002,162.94739779798002,162.94739779798002,162.94739779798002,162.94739779798002,162.94739779798002,162.94739779798002,162.94739779798002,163.20629997091652,163.72410431678952,164.24190866266252,165.536419527345,166.83093039202748,167.607636910837,167.607636910837,168.12544125670996,168.12544125670996,170.19665864020195,170.71446298607495,173.30348471543994,178.4815281741699,181.07054990353487,181.07054990353487,181.07054990353487,183.65957163289985,186.24859336226484,186.24859336226484,188.83761509162983,190.9088324751218,192.7211476856773,194.01565855035977,194.01565855035977,194.01565855035977,194.01565855035977,199.19370200908975,199.19370200908975,201.7827237384547,201.7827237384547,206.96076719718468,206.96076719718468,206.96076719718468,206.96076719718468,206.96076719718468,206.96076719718468,214.7278323852796,214.7278323852796,214.7278323852796,217.3168541146446,217.3168541146446,218.61136497932708,219.90587584400959,222.49489757337457,225.08391930273953,225.08391930273953,227.67294103210452,228.96745189678703,231.55647362615198,232.8509844908345,232.8509844908345,232.8509844908345,243.2070714082944,243.2070714082944,245.7960931376594,245.7960931376594,253.56315832575433,258.74120178448425,258.74120178448425,258.74120178448425,261.33022351384926,262.6247343785318,265.21375610789676,266.50826697257924,269.0972887019442,271.68631043130915,271.68631043130915,271.68631043130915,271.68631043130915,276.8643538900392,284.63141907813406,284.63141907813406,292.39848426622905,292.39848426622905,294.987505995594,296.2820168602765,323.4667450186088,323.4667450186088,323.4667450186088,323.4667450186088,349.3569623122586,349.3569623122586,349.3569623122586,375.2471796059084,375.2471796059084,375.2471796059084,388.1922882527333,388.1922882527333,388.1922882527333,401.1373968995582,408.90446208765314,414.0825055463831,414.0825055463831,424.438592463843,478.8080487805076],\"yaxis\":\"y\",\"type\":\"scatter\"}],                        {\"template\":{\"data\":{\"histogram2dcontour\":[{\"type\":\"histogram2dcontour\",\"colorbar\":{\"outlinewidth\":0,\"ticks\":\"\"},\"colorscale\":[[0.0,\"#0d0887\"],[0.1111111111111111,\"#46039f\"],[0.2222222222222222,\"#7201a8\"],[0.3333333333333333,\"#9c179e\"],[0.4444444444444444,\"#bd3786\"],[0.5555555555555556,\"#d8576b\"],[0.6666666666666666,\"#ed7953\"],[0.7777777777777778,\"#fb9f3a\"],[0.8888888888888888,\"#fdca26\"],[1.0,\"#f0f921\"]]}],\"choropleth\":[{\"type\":\"choropleth\",\"colorbar\":{\"outlinewidth\":0,\"ticks\":\"\"}}],\"histogram2d\":[{\"type\":\"histogram2d\",\"colorbar\":{\"outlinewidth\":0,\"ticks\":\"\"},\"colorscale\":[[0.0,\"#0d0887\"],[0.1111111111111111,\"#46039f\"],[0.2222222222222222,\"#7201a8\"],[0.3333333333333333,\"#9c179e\"],[0.4444444444444444,\"#bd3786\"],[0.5555555555555556,\"#d8576b\"],[0.6666666666666666,\"#ed7953\"],[0.7777777777777778,\"#fb9f3a\"],[0.8888888888888888,\"#fdca26\"],[1.0,\"#f0f921\"]]}],\"heatmap\":[{\"type\":\"heatmap\",\"colorbar\":{\"outlinewidth\":0,\"ticks\":\"\"},\"colorscale\":[[0.0,\"#0d0887\"],[0.1111111111111111,\"#46039f\"],[0.2222222222222222,\"#7201a8\"],[0.3333333333333333,\"#9c179e\"],[0.4444444444444444,\"#bd3786\"],[0.5555555555555556,\"#d8576b\"],[0.6666666666666666,\"#ed7953\"],[0.7777777777777778,\"#fb9f3a\"],[0.8888888888888888,\"#fdca26\"],[1.0,\"#f0f921\"]]}],\"heatmapgl\":[{\"type\":\"heatmapgl\",\"colorbar\":{\"outlinewidth\":0,\"ticks\":\"\"},\"colorscale\":[[0.0,\"#0d0887\"],[0.1111111111111111,\"#46039f\"],[0.2222222222222222,\"#7201a8\"],[0.3333333333333333,\"#9c179e\"],[0.4444444444444444,\"#bd3786\"],[0.5555555555555556,\"#d8576b\"],[0.6666666666666666,\"#ed7953\"],[0.7777777777777778,\"#fb9f3a\"],[0.8888888888888888,\"#fdca26\"],[1.0,\"#f0f921\"]]}],\"contourcarpet\":[{\"type\":\"contourcarpet\",\"colorbar\":{\"outlinewidth\":0,\"ticks\":\"\"}}],\"contour\":[{\"type\":\"contour\",\"colorbar\":{\"outlinewidth\":0,\"ticks\":\"\"},\"colorscale\":[[0.0,\"#0d0887\"],[0.1111111111111111,\"#46039f\"],[0.2222222222222222,\"#7201a8\"],[0.3333333333333333,\"#9c179e\"],[0.4444444444444444,\"#bd3786\"],[0.5555555555555556,\"#d8576b\"],[0.6666666666666666,\"#ed7953\"],[0.7777777777777778,\"#fb9f3a\"],[0.8888888888888888,\"#fdca26\"],[1.0,\"#f0f921\"]]}],\"surface\":[{\"type\":\"surface\",\"colorbar\":{\"outlinewidth\":0,\"ticks\":\"\"},\"colorscale\":[[0.0,\"#0d0887\"],[0.1111111111111111,\"#46039f\"],[0.2222222222222222,\"#7201a8\"],[0.3333333333333333,\"#9c179e\"],[0.4444444444444444,\"#bd3786\"],[0.5555555555555556,\"#d8576b\"],[0.6666666666666666,\"#ed7953\"],[0.7777777777777778,\"#fb9f3a\"],[0.8888888888888888,\"#fdca26\"],[1.0,\"#f0f921\"]]}],\"mesh3d\":[{\"type\":\"mesh3d\",\"colorbar\":{\"outlinewidth\":0,\"ticks\":\"\"}}],\"scatter\":[{\"fillpattern\":{\"fillmode\":\"overlay\",\"size\":10,\"solidity\":0.2},\"type\":\"scatter\"}],\"parcoords\":[{\"type\":\"parcoords\",\"line\":{\"colorbar\":{\"outlinewidth\":0,\"ticks\":\"\"}}}],\"scatterpolargl\":[{\"type\":\"scatterpolargl\",\"marker\":{\"colorbar\":{\"outlinewidth\":0,\"ticks\":\"\"}}}],\"bar\":[{\"error_x\":{\"color\":\"#2a3f5f\"},\"error_y\":{\"color\":\"#2a3f5f\"},\"marker\":{\"line\":{\"color\":\"#E5ECF6\",\"width\":0.5},\"pattern\":{\"fillmode\":\"overlay\",\"size\":10,\"solidity\":0.2}},\"type\":\"bar\"}],\"scattergeo\":[{\"type\":\"scattergeo\",\"marker\":{\"colorbar\":{\"outlinewidth\":0,\"ticks\":\"\"}}}],\"scatterpolar\":[{\"type\":\"scatterpolar\",\"marker\":{\"colorbar\":{\"outlinewidth\":0,\"ticks\":\"\"}}}],\"histogram\":[{\"marker\":{\"pattern\":{\"fillmode\":\"overlay\",\"size\":10,\"solidity\":0.2}},\"type\":\"histogram\"}],\"scattergl\":[{\"type\":\"scattergl\",\"marker\":{\"colorbar\":{\"outlinewidth\":0,\"ticks\":\"\"}}}],\"scatter3d\":[{\"type\":\"scatter3d\",\"line\":{\"colorbar\":{\"outlinewidth\":0,\"ticks\":\"\"}},\"marker\":{\"colorbar\":{\"outlinewidth\":0,\"ticks\":\"\"}}}],\"scattermapbox\":[{\"type\":\"scattermapbox\",\"marker\":{\"colorbar\":{\"outlinewidth\":0,\"ticks\":\"\"}}}],\"scatterternary\":[{\"type\":\"scatterternary\",\"marker\":{\"colorbar\":{\"outlinewidth\":0,\"ticks\":\"\"}}}],\"scattercarpet\":[{\"type\":\"scattercarpet\",\"marker\":{\"colorbar\":{\"outlinewidth\":0,\"ticks\":\"\"}}}],\"carpet\":[{\"aaxis\":{\"endlinecolor\":\"#2a3f5f\",\"gridcolor\":\"white\",\"linecolor\":\"white\",\"minorgridcolor\":\"white\",\"startlinecolor\":\"#2a3f5f\"},\"baxis\":{\"endlinecolor\":\"#2a3f5f\",\"gridcolor\":\"white\",\"linecolor\":\"white\",\"minorgridcolor\":\"white\",\"startlinecolor\":\"#2a3f5f\"},\"type\":\"carpet\"}],\"table\":[{\"cells\":{\"fill\":{\"color\":\"#EBF0F8\"},\"line\":{\"color\":\"white\"}},\"header\":{\"fill\":{\"color\":\"#C8D4E3\"},\"line\":{\"color\":\"white\"}},\"type\":\"table\"}],\"barpolar\":[{\"marker\":{\"line\":{\"color\":\"#E5ECF6\",\"width\":0.5},\"pattern\":{\"fillmode\":\"overlay\",\"size\":10,\"solidity\":0.2}},\"type\":\"barpolar\"}],\"pie\":[{\"automargin\":true,\"type\":\"pie\"}]},\"layout\":{\"autotypenumbers\":\"strict\",\"colorway\":[\"#636efa\",\"#EF553B\",\"#00cc96\",\"#ab63fa\",\"#FFA15A\",\"#19d3f3\",\"#FF6692\",\"#B6E880\",\"#FF97FF\",\"#FECB52\"],\"font\":{\"color\":\"#2a3f5f\"},\"hovermode\":\"closest\",\"hoverlabel\":{\"align\":\"left\"},\"paper_bgcolor\":\"white\",\"plot_bgcolor\":\"#E5ECF6\",\"polar\":{\"bgcolor\":\"#E5ECF6\",\"angularaxis\":{\"gridcolor\":\"white\",\"linecolor\":\"white\",\"ticks\":\"\"},\"radialaxis\":{\"gridcolor\":\"white\",\"linecolor\":\"white\",\"ticks\":\"\"}},\"ternary\":{\"bgcolor\":\"#E5ECF6\",\"aaxis\":{\"gridcolor\":\"white\",\"linecolor\":\"white\",\"ticks\":\"\"},\"baxis\":{\"gridcolor\":\"white\",\"linecolor\":\"white\",\"ticks\":\"\"},\"caxis\":{\"gridcolor\":\"white\",\"linecolor\":\"white\",\"ticks\":\"\"}},\"coloraxis\":{\"colorbar\":{\"outlinewidth\":0,\"ticks\":\"\"}},\"colorscale\":{\"sequential\":[[0.0,\"#0d0887\"],[0.1111111111111111,\"#46039f\"],[0.2222222222222222,\"#7201a8\"],[0.3333333333333333,\"#9c179e\"],[0.4444444444444444,\"#bd3786\"],[0.5555555555555556,\"#d8576b\"],[0.6666666666666666,\"#ed7953\"],[0.7777777777777778,\"#fb9f3a\"],[0.8888888888888888,\"#fdca26\"],[1.0,\"#f0f921\"]],\"sequentialminus\":[[0.0,\"#0d0887\"],[0.1111111111111111,\"#46039f\"],[0.2222222222222222,\"#7201a8\"],[0.3333333333333333,\"#9c179e\"],[0.4444444444444444,\"#bd3786\"],[0.5555555555555556,\"#d8576b\"],[0.6666666666666666,\"#ed7953\"],[0.7777777777777778,\"#fb9f3a\"],[0.8888888888888888,\"#fdca26\"],[1.0,\"#f0f921\"]],\"diverging\":[[0,\"#8e0152\"],[0.1,\"#c51b7d\"],[0.2,\"#de77ae\"],[0.3,\"#f1b6da\"],[0.4,\"#fde0ef\"],[0.5,\"#f7f7f7\"],[0.6,\"#e6f5d0\"],[0.7,\"#b8e186\"],[0.8,\"#7fbc41\"],[0.9,\"#4d9221\"],[1,\"#276419\"]]},\"xaxis\":{\"gridcolor\":\"white\",\"linecolor\":\"white\",\"ticks\":\"\",\"title\":{\"standoff\":15},\"zerolinecolor\":\"white\",\"automargin\":true,\"zerolinewidth\":2},\"yaxis\":{\"gridcolor\":\"white\",\"linecolor\":\"white\",\"ticks\":\"\",\"title\":{\"standoff\":15},\"zerolinecolor\":\"white\",\"automargin\":true,\"zerolinewidth\":2},\"scene\":{\"xaxis\":{\"backgroundcolor\":\"#E5ECF6\",\"gridcolor\":\"white\",\"linecolor\":\"white\",\"showbackground\":true,\"ticks\":\"\",\"zerolinecolor\":\"white\",\"gridwidth\":2},\"yaxis\":{\"backgroundcolor\":\"#E5ECF6\",\"gridcolor\":\"white\",\"linecolor\":\"white\",\"showbackground\":true,\"ticks\":\"\",\"zerolinecolor\":\"white\",\"gridwidth\":2},\"zaxis\":{\"backgroundcolor\":\"#E5ECF6\",\"gridcolor\":\"white\",\"linecolor\":\"white\",\"showbackground\":true,\"ticks\":\"\",\"zerolinecolor\":\"white\",\"gridwidth\":2}},\"shapedefaults\":{\"line\":{\"color\":\"#2a3f5f\"}},\"annotationdefaults\":{\"arrowcolor\":\"#2a3f5f\",\"arrowhead\":0,\"arrowwidth\":1},\"geo\":{\"bgcolor\":\"white\",\"landcolor\":\"#E5ECF6\",\"subunitcolor\":\"white\",\"showland\":true,\"showlakes\":true,\"lakecolor\":\"white\"},\"title\":{\"x\":0.05},\"mapbox\":{\"style\":\"light\"}}},\"xaxis\":{\"anchor\":\"y\",\"domain\":[0.0,1.0],\"title\":{\"text\":\"Precio\"}},\"yaxis\":{\"anchor\":\"x\",\"domain\":[0.0,1.0],\"title\":{\"text\":\"Metros cuadrados\"}},\"legend\":{\"tracegroupgap\":0},\"title\":{\"text\":\"Diagrama de dispersi\\u00f3n con l\\u00ednea de regresi\\u00f3n\"}},                        {\"responsive\": true}                    ).then(function(){\n",
              "                            \n",
              "var gd = document.getElementById('43ae2769-1e78-47bf-b553-c0d39baeb649');\n",
              "var x = new MutationObserver(function (mutations, observer) {{\n",
              "        var display = window.getComputedStyle(gd).display;\n",
              "        if (!display || display === 'none') {{\n",
              "            console.log([gd, 'removed!']);\n",
              "            Plotly.purge(gd);\n",
              "            observer.disconnect();\n",
              "        }}\n",
              "}});\n",
              "\n",
              "// Listen for the removal of the full notebook cells\n",
              "var notebookContainer = gd.closest('#notebook-container');\n",
              "if (notebookContainer) {{\n",
              "    x.observe(notebookContainer, {childList: true});\n",
              "}}\n",
              "\n",
              "// Listen for the clearing of the current output cell\n",
              "var outputEl = gd.closest('.output');\n",
              "if (outputEl) {{\n",
              "    x.observe(outputEl, {childList: true});\n",
              "}}\n",
              "\n",
              "                        })                };                            </script>        </div>\n",
              "</body>\n",
              "</html>"
            ]
          },
          "metadata": {}
        }
      ],
      "source": [
        "px.scatter(x=aptos.precio,\n",
        "           y= aptos.mt2,\n",
        "           color_discrete_sequence = [\"purple\"],\n",
        "           trendline = \"ols\",  # ols : ordinary least squares- mínimos cuadrados regresión lineal.\n",
        "           trendline_color_override = \"blue\",\n",
        "           title = \"Diagrama de dispersión con línea de regresión\", # color de la recta de regresión\n",
        "           labels = {\"x\" : \"Precio\", \"y\" : \"Metros cuadrados\"})"
      ]
    },
    {
      "cell_type": "markdown",
      "metadata": {
        "id": "JAi9esjnUuX1"
      },
      "source": [
        "También se puede hacer con la librería *seaborn*"
      ]
    },
    {
      "cell_type": "code",
      "execution_count": null,
      "metadata": {
        "colab": {
          "base_uri": "https://localhost:8080/",
          "height": 466
        },
        "id": "fxi3mN2IUxVJ",
        "outputId": "4dbba372-7fb6-45e9-b083-b114c3418edc"
      },
      "outputs": [
        {
          "output_type": "execute_result",
          "data": {
            "text/plain": [
              "<Axes: xlabel='precio', ylabel='mt2'>"
            ]
          },
          "metadata": {},
          "execution_count": 24
        },
        {
          "output_type": "display_data",
          "data": {
            "text/plain": [
              "<Figure size 640x480 with 1 Axes>"
            ],
            "image/png": "[encoded data removed]"
          },
          "metadata": {}
        }
      ],
      "source": [
        "sns.regplot(x = aptos.precio, y = aptos.mt2,\n",
        "            scatter_kws = {\"color\": \"black\", \"alpha\": 0.5},\n",
        "            line_kws = {\"color\": \"red\"})"
      ]
    },
    {
      "cell_type": "markdown",
      "metadata": {
        "id": "24HtXX9xQird"
      },
      "source": [
        "Revisemos los nombres de las columnas del data.frame"
      ]
    },
    {
      "cell_type": "code",
      "execution_count": null,
      "metadata": {
        "colab": {
          "base_uri": "https://localhost:8080/"
        },
        "id": "8kWelTm7QiZ2",
        "outputId": "e5a0e2a3-0380-47cf-c7ff-431da626b3a9"
      },
      "outputs": [
        {
          "output_type": "execute_result",
          "data": {
            "text/plain": [
              "Index(['precio', 'mt2', 'ubicacion', 'estrato', 'alcobas', 'banos', 'balcon',\n",
              "       'parqueadero', 'administracion', 'avaluo', 'terminado'],\n",
              "      dtype='object')"
            ]
          },
          "metadata": {},
          "execution_count": 25
        }
      ],
      "source": [
        "aptos.columns"
      ]
    },
    {
      "cell_type": "markdown",
      "metadata": {
        "id": "VnJHiwtrTMoJ"
      },
      "source": [
        "Para hacer el modelo, vamos a dividir los datos en variable de respuesta."
      ]
    },
    {
      "cell_type": "code",
      "execution_count": null,
      "metadata": {
        "id": "9RCIkicRCDxA"
      },
      "outputs": [],
      "source": [
        "# variables predictoras y variable objetivo\n",
        "X = pd.Series.to_frame(aptos.mt2)\n",
        "y = pd.Series.to_frame(aptos.precio)"
      ]
    },
    {
      "cell_type": "code",
      "execution_count": null,
      "metadata": {
        "id": "YO7u5Jg9Q1jg"
      },
      "outputs": [],
      "source": [
        "# conjunto de entrenamiento y prueba\n",
        "X_train, X_test, y_train, y_test = train_test_split(X,\n",
        "                                                    y,\n",
        "                                                    random_state = 42,\n",
        "                                                    test_size = 0.2)"
      ]
    },
    {
      "cell_type": "markdown",
      "metadata": {
        "id": "gYHG5TnXkypI"
      },
      "source": [
        "Generamos el modelo"
      ]
    },
    {
      "cell_type": "code",
      "execution_count": null,
      "metadata": {
        "id": "kBihB01tFXZd"
      },
      "outputs": [],
      "source": [
        "# modelo de regresión\n",
        "lr = linear_model.LinearRegression()"
      ]
    },
    {
      "cell_type": "code",
      "execution_count": null,
      "metadata": {
        "colab": {
          "base_uri": "https://localhost:8080/",
          "height": 75
        },
        "id": "j1m48pGTFeC8",
        "outputId": "574f5d19-b1ab-4ea2-b09d-a24c34b1b68d"
      },
      "outputs": [
        {
          "output_type": "execute_result",
          "data": {
            "text/plain": [
              "LinearRegression()"
            ],
            "text/html": [
              "<style>#sk-container-id-1 {color: black;background-color: white;}#sk-container-id-1 pre{padding: 0;}#sk-container-id-1 div.sk-toggleable {background-color: white;}#sk-container-id-1 label.sk-toggleable__label {cursor: pointer;display: block;width: 100%;margin-bottom: 0;padding: 0.3em;box-sizing: border-box;text-align: center;}#sk-container-id-1 label.sk-toggleable__label-arrow:before {content: \"▸\";float: left;margin-right: 0.25em;color: #696969;}#sk-container-id-1 label.sk-toggleable__label-arrow:hover:before {color: black;}#sk-container-id-1 div.sk-estimator:hover label.sk-toggleable__label-arrow:before {color: black;}#sk-container-id-1 div.sk-toggleable__content {max-height: 0;max-width: 0;overflow: hidden;text-align: left;background-color: #f0f8ff;}#sk-container-id-1 div.sk-toggleable__content pre {margin: 0.2em;color: black;border-radius: 0.25em;background-color: #f0f8ff;}#sk-container-id-1 input.sk-toggleable__control:checked~div.sk-toggleable__content {max-height: 200px;max-width: 100%;overflow: auto;}#sk-container-id-1 input.sk-toggleable__control:checked~label.sk-toggleable__label-arrow:before {content: \"▾\";}#sk-container-id-1 div.sk-estimator input.sk-toggleable__control:checked~label.sk-toggleable__label {background-color: #d4ebff;}#sk-container-id-1 div.sk-label input.sk-toggleable__control:checked~label.sk-toggleable__label {background-color: #d4ebff;}#sk-container-id-1 input.sk-hidden--visually {border: 0;clip: rect(1px 1px 1px 1px);clip: rect(1px, 1px, 1px, 1px);height: 1px;margin: -1px;overflow: hidden;padding: 0;position: absolute;width: 1px;}#sk-container-id-1 div.sk-estimator {font-family: monospace;background-color: #f0f8ff;border: 1px dotted black;border-radius: 0.25em;box-sizing: border-box;margin-bottom: 0.5em;}#sk-container-id-1 div.sk-estimator:hover {background-color: #d4ebff;}#sk-container-id-1 div.sk-parallel-item::after {content: \"\";width: 100%;border-bottom: 1px solid gray;flex-grow: 1;}#sk-container-id-1 div.sk-label:hover label.sk-toggleable__label {background-color: #d4ebff;}#sk-container-id-1 div.sk-serial::before {content: \"\";position: absolute;border-left: 1px solid gray;box-sizing: border-box;top: 0;bottom: 0;left: 50%;z-index: 0;}#sk-container-id-1 div.sk-serial {display: flex;flex-direction: column;align-items: center;background-color: white;padding-right: 0.2em;padding-left: 0.2em;position: relative;}#sk-container-id-1 div.sk-item {position: relative;z-index: 1;}#sk-container-id-1 div.sk-parallel {display: flex;align-items: stretch;justify-content: center;background-color: white;position: relative;}#sk-container-id-1 div.sk-item::before, #sk-container-id-1 div.sk-parallel-item::before {content: \"\";position: absolute;border-left: 1px solid gray;box-sizing: border-box;top: 0;bottom: 0;left: 50%;z-index: -1;}#sk-container-id-1 div.sk-parallel-item {display: flex;flex-direction: column;z-index: 1;position: relative;background-color: white;}#sk-container-id-1 div.sk-parallel-item:first-child::after {align-self: flex-end;width: 50%;}#sk-container-id-1 div.sk-parallel-item:last-child::after {align-self: flex-start;width: 50%;}#sk-container-id-1 div.sk-parallel-item:only-child::after {width: 0;}#sk-container-id-1 div.sk-dashed-wrapped {border: 1px dashed gray;margin: 0 0.4em 0.5em 0.4em;box-sizing: border-box;padding-bottom: 0.4em;background-color: white;}#sk-container-id-1 div.sk-label label {font-family: monospace;font-weight: bold;display: inline-block;line-height: 1.2em;}#sk-container-id-1 div.sk-label-container {text-align: center;}#sk-container-id-1 div.sk-container {/* jupyter's `normalize.less` sets `[hidden] { display: none; }` but bootstrap.min.css set `[hidden] { display: none !important; }` so we also need the `!important` here to be able to override the default hidden behavior on the sphinx rendered scikit-learn.org. See: https://github.com/scikit-learn/scikit-learn/issues/21755 */display: inline-block !important;position: relative;}#sk-container-id-1 div.sk-text-repr-fallback {display: none;}</style><div id=\"sk-container-id-1\" class=\"sk-top-container\"><div class=\"sk-text-repr-fallback\"><pre>LinearRegression()</pre><b>In a Jupyter environment, please rerun this cell to show the HTML representation or trust the notebook. <br />On GitHub, the HTML representation is unable to render, please try loading this page with nbviewer.org.</b></div><div class=\"sk-container\" hidden><div class=\"sk-item\"><div class=\"sk-estimator sk-toggleable\"><input class=\"sk-toggleable__control sk-hidden--visually\" id=\"sk-estimator-id-1\" type=\"checkbox\" checked><label for=\"sk-estimator-id-1\" class=\"sk-toggleable__label sk-toggleable__label-arrow\">LinearRegression</label><div class=\"sk-toggleable__content\"><pre>LinearRegression()</pre></div></div></div></div></div>"
            ]
          },
          "metadata": {},
          "execution_count": 29
        }
      ],
      "source": [
        "# entrenamos el modelo\n",
        "lr.fit(X_train, y_train)"
      ]
    },
    {
      "cell_type": "code",
      "execution_count": null,
      "metadata": {
        "colab": {
          "base_uri": "https://localhost:8080/"
        },
        "id": "7s_0uyGkLCIo",
        "outputId": "74147df1-f8e0-406f-e523-82413fc7a3cf"
      },
      "outputs": [
        {
          "output_type": "stream",
          "name": "stdout",
          "text": [
            "[[2.91202106]]\n",
            "[-31.73264389]\n"
          ]
        }
      ],
      "source": [
        "# revisamos los coeficientes\n",
        "print(lr.coef_)\n",
        "print(lr.intercept_)"
      ]
    },
    {
      "cell_type": "code",
      "execution_count": null,
      "metadata": {
        "colab": {
          "base_uri": "https://localhost:8080/"
        },
        "id": "aQ35dakALO-D",
        "outputId": "5c45baab-b30e-44b1-e4aa-9793707fec50"
      },
      "outputs": [
        {
          "output_type": "stream",
          "name": "stdout",
          "text": [
            "0.7503603618113431\n"
          ]
        }
      ],
      "source": [
        "print(lr.score(X_train, y_train))"
      ]
    },
    {
      "cell_type": "code",
      "source": [
        "print(lr.score(X_test, y_test))"
      ],
      "metadata": {
        "colab": {
          "base_uri": "https://localhost:8080/"
        },
        "id": "2fE11f2vsNKV",
        "outputId": "09c19fe3-f207-4f40-edef-d5f690019ee1"
      },
      "execution_count": null,
      "outputs": [
        {
          "output_type": "stream",
          "name": "stdout",
          "text": [
            "0.6648398911134308\n"
          ]
        }
      ]
    },
    {
      "cell_type": "markdown",
      "metadata": {
        "id": "nWRo8jVJ1a1T"
      },
      "source": [
        "# <FONT SIZE=5 COLOR=\"purple\"> 4. Evaluación de un modelo de regresión </FONT>\n",
        "\n",
        "En esta sección revisaremos la forma en que se evalúa un modelo de regresión.\n",
        "\n",
        "***MSE : Error cuadrático medio***\n",
        "\n",
        "Matemáticamente, el $MSE$ se puede calcular como la suma promedio de la diferencia al cuadrado entre el valor real y el valor previsto o estimado representado por el modelo de regresión (línea o plano). En otras palabras es la función costo de la que se hablaba en el descenso del gradiente.\n",
        "\n",
        "$$MSE = \\dfrac{1}{n} \\sum \\limits_{i=1}^{n} (y_i - \\hat{y_1})^2 $$\n",
        "\n",
        "<center><img src=\"https://github.com/Fabian830348/cursos/blob/f8b630f3ce112dc8d05c828d9b5d3ac328c9544f/Imagen/reg1.png?raw=true\" alt=\"centered image\" width=\"500\" height=\"300\"></center>\n",
        "\n",
        "***$R^2$ coeficiente de determinación***\n",
        "\n",
        "$R^2$ es la relación entre la regresión de suma de cuadrados (SSR) y la suma de cuadrados total (SST).\n",
        "\n",
        "$$R^2 = \\dfrac{SSR}{SST}= \\dfrac{\\sum \\limits_{i=1}^{n} (\\hat{y_i}-\\overline{y_i})^2}{\\sum \\limits_{i=1}^{n} (y_i - \\overline{y_i})^2}$$\n",
        "\n",
        "<center><img src=\"https://github.com/Fabian830348/cursos/blob/f8b630f3ce112dc8d05c828d9b5d3ac328c9544f/Imagen/reg2.png?raw=true\" alt=\"centered image\" width=\"500\" height=\"300\"></center>\n",
        "\n",
        "La regresión de suma de cuadrados (SSR) representa la variación total de todos los valores pronosticados encontrados en la línea o plano de regresión del valor medio de todos los valores de las variables de respuesta. La suma de los cuadrados totales $SST$ representa la variación total de los valores reales del valor medio de todos los valores de las variables de respuesta.\n",
        "\n",
        "El valor $R^2$ se utiliza para medir la bondad de ajuste o la línea de mejor se ajusta. Cuanto mayor sea el valor de $R^2$, mejor será el modelo de regresión, ya que la mayor parte de la variación de los valores reales a partir del valor medio queda explicada por el modelo de regresión.\n",
        "\n",
        "**NOTA**\n",
        "\n",
        "En regresión lineal se recomienda utilizar $R^2$ para evaluar el rendimiento del modelo de los modelos de regresión. Esto se debe principalmente a que $R^2$  captura la fracción de varianza de los valores reales capturados por el modelo de regresión y tiende a brindar una mejor imagen de la calidad del modelo de regresión. Además, los valores de $MSE$ difieren en función de si los valores de la variable de respuesta están escalados o no. Una mejor medida en lugar de MSE es el error cuadrático medio (RMSE) que se ocupa del hecho relacionado con si los valores de la variable de respuesta están escalados o no.\n",
        "\n",
        "**CONCLUSIONES**\n",
        "\n",
        "- $MSE$ representa el error residual que no es más que la suma de la diferencia al cuadrado entre los valores reales y los valores previstos/estimados divididos por el número total de registros.\n",
        "\n",
        "- $R^2$ representa la fracción de varianza capturada por el modelo de regresión.\n",
        "\n",
        "- La desventaja de usar $MSE$ es que este valor varía en función de si los valores de la variable de respuesta están escalados o no. Si está escalado, el MSE será más bajo que los valores no escalados."
      ]
    },
    {
      "cell_type": "markdown",
      "metadata": {
        "id": "nAV9O2Y_l2WX"
      },
      "source": [
        "Vamos a calcular estos dos valores con el ejemplo anterior."
      ]
    },
    {
      "cell_type": "code",
      "execution_count": null,
      "metadata": {
        "colab": {
          "base_uri": "https://localhost:8080/"
        },
        "id": "uR6uxiPUMDwL",
        "outputId": "63473b9e-a82c-4687-bc5c-5a2c0435c9ec"
      },
      "outputs": [
        {
          "output_type": "stream",
          "name": "stdout",
          "text": [
            "R2 entrenamiento 75.0 %\n",
            "R2 prueba 66.0 %\n"
          ]
        }
      ],
      "source": [
        "# entrenamiento\n",
        "y_pred_train=lr.predict(X_train)\n",
        "# prueba\n",
        "y_pred_test=lr.predict(X_test)\n",
        "print(\"R2 entrenamiento\",np.round(r2_score(y_train, y_pred_train),2)*100, \"%\")\n",
        "print(\"R2 prueba\",np.round(r2_score(y_test, y_pred_test),2)*100, \"%\")"
      ]
    },
    {
      "cell_type": "markdown",
      "metadata": {
        "id": "9r7PqrtE4rDK"
      },
      "source": [
        "Veamos el $R^2$ y el $MSE$"
      ]
    },
    {
      "cell_type": "code",
      "execution_count": null,
      "metadata": {
        "colab": {
          "base_uri": "https://localhost:8080/"
        },
        "id": "mnBrZxmX4oh_",
        "outputId": "36bb28c6-3535-4340-a4a9-28e1cf8841e2"
      },
      "outputs": [
        {
          "name": "stdout",
          "output_type": "stream",
          "text": [
            "MSE train: 15799.433, test: 17591.434\n",
            "R^2 train: 0.750, test: 0.665\n"
          ]
        }
      ],
      "source": [
        "print('MSE train: %.3f, test: %.3f' % (mean_squared_error(y_train, y_pred_train),\n",
        "                mean_squared_error(y_test, y_pred_test)))\n",
        "print('R^2 train: %.3f, test: %.3f' % (r2_score(y_train, y_pred_train),\n",
        "                r2_score(y_test, y_pred_test)))"
      ]
    },
    {
      "cell_type": "markdown",
      "metadata": {
        "id": "hh7JcMP1wDuV"
      },
      "source": [
        "# <FONT SIZE=5 COLOR=\"purple\"> 5. Ejemplo 2. Modelo de Regresión Lineal Múltiple</FONT>\n",
        "\n",
        "Vamos a considerar los siguientes datos relacionados con la inversión en publicidad en diferentes medios y las ventas."
      ]
    },
    {
      "cell_type": "code",
      "execution_count": null,
      "metadata": {
        "colab": {
          "base_uri": "https://localhost:8080/",
          "height": 424
        },
        "id": "CODIpWUCwDRD",
        "outputId": "b44924b0-2062-4add-cfad-e83c703fba21"
      },
      "outputs": [
        {
          "data": {
            "text/html": [
              "\n",
              "  <div id=\"df-0812d8f3-cf37-44b1-87af-e4f29e2c5732\" class=\"colab-df-container\">\n",
              "    <div>\n",
              "<style scoped>\n",
              "    .dataframe tbody tr th:only-of-type {\n",
              "        vertical-align: middle;\n",
              "    }\n",
              "\n",
              "    .dataframe tbody tr th {\n",
              "        vertical-align: top;\n",
              "    }\n",
              "\n",
              "    .dataframe thead th {\n",
              "        text-align: right;\n",
              "    }\n",
              "</style>\n",
              "<table border=\"1\" class=\"dataframe\">\n",
              "  <thead>\n",
              "    <tr style=\"text-align: right;\">\n",
              "      <th></th>\n",
              "      <th>Unnamed: 0</th>\n",
              "      <th>X</th>\n",
              "      <th>TV</th>\n",
              "      <th>Radio</th>\n",
              "      <th>Newspaper</th>\n",
              "      <th>Web</th>\n",
              "      <th>Sales</th>\n",
              "    </tr>\n",
              "  </thead>\n",
              "  <tbody>\n",
              "    <tr>\n",
              "      <th>0</th>\n",
              "      <td>1</td>\n",
              "      <td>1</td>\n",
              "      <td>230.1</td>\n",
              "      <td>37.8</td>\n",
              "      <td>69.2</td>\n",
              "      <td>306.634752</td>\n",
              "      <td>22.1</td>\n",
              "    </tr>\n",
              "    <tr>\n",
              "      <th>1</th>\n",
              "      <td>2</td>\n",
              "      <td>2</td>\n",
              "      <td>44.5</td>\n",
              "      <td>39.3</td>\n",
              "      <td>45.1</td>\n",
              "      <td>302.653070</td>\n",
              "      <td>10.4</td>\n",
              "    </tr>\n",
              "    <tr>\n",
              "      <th>2</th>\n",
              "      <td>3</td>\n",
              "      <td>3</td>\n",
              "      <td>17.2</td>\n",
              "      <td>45.9</td>\n",
              "      <td>69.3</td>\n",
              "      <td>49.498908</td>\n",
              "      <td>9.3</td>\n",
              "    </tr>\n",
              "    <tr>\n",
              "      <th>3</th>\n",
              "      <td>4</td>\n",
              "      <td>4</td>\n",
              "      <td>151.5</td>\n",
              "      <td>41.3</td>\n",
              "      <td>58.5</td>\n",
              "      <td>257.816893</td>\n",
              "      <td>18.5</td>\n",
              "    </tr>\n",
              "    <tr>\n",
              "      <th>4</th>\n",
              "      <td>5</td>\n",
              "      <td>5</td>\n",
              "      <td>180.8</td>\n",
              "      <td>10.8</td>\n",
              "      <td>58.4</td>\n",
              "      <td>195.660076</td>\n",
              "      <td>12.9</td>\n",
              "    </tr>\n",
              "    <tr>\n",
              "      <th>...</th>\n",
              "      <td>...</td>\n",
              "      <td>...</td>\n",
              "      <td>...</td>\n",
              "      <td>...</td>\n",
              "      <td>...</td>\n",
              "      <td>...</td>\n",
              "      <td>...</td>\n",
              "    </tr>\n",
              "    <tr>\n",
              "      <th>195</th>\n",
              "      <td>196</td>\n",
              "      <td>196</td>\n",
              "      <td>38.2</td>\n",
              "      <td>3.7</td>\n",
              "      <td>13.8</td>\n",
              "      <td>248.841073</td>\n",
              "      <td>7.6</td>\n",
              "    </tr>\n",
              "    <tr>\n",
              "      <th>196</th>\n",
              "      <td>197</td>\n",
              "      <td>197</td>\n",
              "      <td>94.2</td>\n",
              "      <td>4.9</td>\n",
              "      <td>8.1</td>\n",
              "      <td>118.041856</td>\n",
              "      <td>9.7</td>\n",
              "    </tr>\n",
              "    <tr>\n",
              "      <th>197</th>\n",
              "      <td>198</td>\n",
              "      <td>198</td>\n",
              "      <td>177.0</td>\n",
              "      <td>9.3</td>\n",
              "      <td>6.4</td>\n",
              "      <td>213.274671</td>\n",
              "      <td>12.8</td>\n",
              "    </tr>\n",
              "    <tr>\n",
              "      <th>198</th>\n",
              "      <td>199</td>\n",
              "      <td>199</td>\n",
              "      <td>283.6</td>\n",
              "      <td>42.0</td>\n",
              "      <td>66.2</td>\n",
              "      <td>237.498063</td>\n",
              "      <td>25.5</td>\n",
              "    </tr>\n",
              "    <tr>\n",
              "      <th>199</th>\n",
              "      <td>200</td>\n",
              "      <td>200</td>\n",
              "      <td>232.1</td>\n",
              "      <td>8.6</td>\n",
              "      <td>8.7</td>\n",
              "      <td>151.990733</td>\n",
              "      <td>13.4</td>\n",
              "    </tr>\n",
              "  </tbody>\n",
              "</table>\n",
              "<p>200 rows × 7 columns</p>\n",
              "</div>\n",
              "    <div class=\"colab-df-buttons\">\n",
              "\n",
              "  <div class=\"colab-df-container\">\n",
              "    <button class=\"colab-df-convert\" onclick=\"convertToInteractive('df-0812d8f3-cf37-44b1-87af-e4f29e2c5732')\"\n",
              "            title=\"Convert this dataframe to an interactive table.\"\n",
              "            style=\"display:none;\">\n",
              "\n",
              "  <svg xmlns=\"http://www.w3.org/2000/svg\" height=\"24px\" viewBox=\"0 -960 960 960\">\n",
              "    <path d=\"M120-120v-720h720v720H120Zm60-500h600v-160H180v160Zm220 220h160v-160H400v160Zm0 220h160v-160H400v160ZM180-400h160v-160H180v160Zm440 0h160v-160H620v160ZM180-180h160v-160H180v160Zm440 0h160v-160H620v160Z\"/>\n",
              "  </svg>\n",
              "    </button>\n",
              "\n",
              "  <style>\n",
              "    .colab-df-container {\n",
              "      display:flex;\n",
              "      gap: 12px;\n",
              "    }\n",
              "\n",
              "    .colab-df-convert {\n",
              "      background-color: #E8F0FE;\n",
              "      border: none;\n",
              "      border-radius: 50%;\n",
              "      cursor: pointer;\n",
              "      display: none;\n",
              "      fill: #1967D2;\n",
              "      height: 32px;\n",
              "      padding: 0 0 0 0;\n",
              "      width: 32px;\n",
              "    }\n",
              "\n",
              "    .colab-df-convert:hover {\n",
              "      background-color: #E2EBFA;\n",
              "      box-shadow: 0px 1px 2px rgba(60, 64, 67, 0.3), 0px 1px 3px 1px rgba(60, 64, 67, 0.15);\n",
              "      fill: #174EA6;\n",
              "    }\n",
              "\n",
              "    .colab-df-buttons div {\n",
              "      margin-bottom: 4px;\n",
              "    }\n",
              "\n",
              "    [theme=dark] .colab-df-convert {\n",
              "      background-color: #3B4455;\n",
              "      fill: #D2E3FC;\n",
              "    }\n",
              "\n",
              "    [theme=dark] .colab-df-convert:hover {\n",
              "      background-color: #434B5C;\n",
              "      box-shadow: 0px 1px 3px 1px rgba(0, 0, 0, 0.15);\n",
              "      filter: drop-shadow(0px 1px 2px rgba(0, 0, 0, 0.3));\n",
              "      fill: #FFFFFF;\n",
              "    }\n",
              "  </style>\n",
              "\n",
              "    <script>\n",
              "      const buttonEl =\n",
              "        document.querySelector('#df-0812d8f3-cf37-44b1-87af-e4f29e2c5732 button.colab-df-convert');\n",
              "      buttonEl.style.display =\n",
              "        google.colab.kernel.accessAllowed ? 'block' : 'none';\n",
              "\n",
              "      async function convertToInteractive(key) {\n",
              "        const element = document.querySelector('#df-0812d8f3-cf37-44b1-87af-e4f29e2c5732');\n",
              "        const dataTable =\n",
              "          await google.colab.kernel.invokeFunction('convertToInteractive',\n",
              "                                                    [key], {});\n",
              "        if (!dataTable) return;\n",
              "\n",
              "        const docLinkHtml = 'Like what you see? Visit the ' +\n",
              "          '<a target=\"_blank\" href=https://colab.research.google.com/notebooks/data_table.ipynb>data table notebook</a>'\n",
              "          + ' to learn more about interactive tables.';\n",
              "        element.innerHTML = '';\n",
              "        dataTable['output_type'] = 'display_data';\n",
              "        await google.colab.output.renderOutput(dataTable, element);\n",
              "        const docLink = document.createElement('div');\n",
              "        docLink.innerHTML = docLinkHtml;\n",
              "        element.appendChild(docLink);\n",
              "      }\n",
              "    </script>\n",
              "  </div>\n",
              "\n",
              "\n",
              "<div id=\"df-611d74e6-d3bc-4691-b80e-c7de5acd5040\">\n",
              "  <button class=\"colab-df-quickchart\" onclick=\"quickchart('df-611d74e6-d3bc-4691-b80e-c7de5acd5040')\"\n",
              "            title=\"Suggest charts.\"\n",
              "            style=\"display:none;\">\n",
              "\n",
              "<svg xmlns=\"http://www.w3.org/2000/svg\" height=\"24px\"viewBox=\"0 0 24 24\"\n",
              "     width=\"24px\">\n",
              "    <g>\n",
              "        <path d=\"M19 3H5c-1.1 0-2 .9-2 2v14c0 1.1.9 2 2 2h14c1.1 0 2-.9 2-2V5c0-1.1-.9-2-2-2zM9 17H7v-7h2v7zm4 0h-2V7h2v10zm4 0h-2v-4h2v4z\"/>\n",
              "    </g>\n",
              "</svg>\n",
              "  </button>\n",
              "\n",
              "<style>\n",
              "  .colab-df-quickchart {\n",
              "      --bg-color: #E8F0FE;\n",
              "      --fill-color: #1967D2;\n",
              "      --hover-bg-color: #E2EBFA;\n",
              "      --hover-fill-color: #174EA6;\n",
              "      --disabled-fill-color: #AAA;\n",
              "      --disabled-bg-color: #DDD;\n",
              "  }\n",
              "\n",
              "  [theme=dark] .colab-df-quickchart {\n",
              "      --bg-color: #3B4455;\n",
              "      --fill-color: #D2E3FC;\n",
              "      --hover-bg-color: #434B5C;\n",
              "      --hover-fill-color: #FFFFFF;\n",
              "      --disabled-bg-color: #3B4455;\n",
              "      --disabled-fill-color: #666;\n",
              "  }\n",
              "\n",
              "  .colab-df-quickchart {\n",
              "    background-color: var(--bg-color);\n",
              "    border: none;\n",
              "    border-radius: 50%;\n",
              "    cursor: pointer;\n",
              "    display: none;\n",
              "    fill: var(--fill-color);\n",
              "    height: 32px;\n",
              "    padding: 0;\n",
              "    width: 32px;\n",
              "  }\n",
              "\n",
              "  .colab-df-quickchart:hover {\n",
              "    background-color: var(--hover-bg-color);\n",
              "    box-shadow: 0 1px 2px rgba(60, 64, 67, 0.3), 0 1px 3px 1px rgba(60, 64, 67, 0.15);\n",
              "    fill: var(--button-hover-fill-color);\n",
              "  }\n",
              "\n",
              "  .colab-df-quickchart-complete:disabled,\n",
              "  .colab-df-quickchart-complete:disabled:hover {\n",
              "    background-color: var(--disabled-bg-color);\n",
              "    fill: var(--disabled-fill-color);\n",
              "    box-shadow: none;\n",
              "  }\n",
              "\n",
              "  .colab-df-spinner {\n",
              "    border: 2px solid var(--fill-color);\n",
              "    border-color: transparent;\n",
              "    border-bottom-color: var(--fill-color);\n",
              "    animation:\n",
              "      spin 1s steps(1) infinite;\n",
              "  }\n",
              "\n",
              "  @keyframes spin {\n",
              "    0% {\n",
              "      border-color: transparent;\n",
              "      border-bottom-color: var(--fill-color);\n",
              "      border-left-color: var(--fill-color);\n",
              "    }\n",
              "    20% {\n",
              "      border-color: transparent;\n",
              "      border-left-color: var(--fill-color);\n",
              "      border-top-color: var(--fill-color);\n",
              "    }\n",
              "    30% {\n",
              "      border-color: transparent;\n",
              "      border-left-color: var(--fill-color);\n",
              "      border-top-color: var(--fill-color);\n",
              "      border-right-color: var(--fill-color);\n",
              "    }\n",
              "    40% {\n",
              "      border-color: transparent;\n",
              "      border-right-color: var(--fill-color);\n",
              "      border-top-color: var(--fill-color);\n",
              "    }\n",
              "    60% {\n",
              "      border-color: transparent;\n",
              "      border-right-color: var(--fill-color);\n",
              "    }\n",
              "    80% {\n",
              "      border-color: transparent;\n",
              "      border-right-color: var(--fill-color);\n",
              "      border-bottom-color: var(--fill-color);\n",
              "    }\n",
              "    90% {\n",
              "      border-color: transparent;\n",
              "      border-bottom-color: var(--fill-color);\n",
              "    }\n",
              "  }\n",
              "</style>\n",
              "\n",
              "  <script>\n",
              "    async function quickchart(key) {\n",
              "      const quickchartButtonEl =\n",
              "        document.querySelector('#' + key + ' button');\n",
              "      quickchartButtonEl.disabled = true;  // To prevent multiple clicks.\n",
              "      quickchartButtonEl.classList.add('colab-df-spinner');\n",
              "      try {\n",
              "        const charts = await google.colab.kernel.invokeFunction(\n",
              "            'suggestCharts', [key], {});\n",
              "      } catch (error) {\n",
              "        console.error('Error during call to suggestCharts:', error);\n",
              "      }\n",
              "      quickchartButtonEl.classList.remove('colab-df-spinner');\n",
              "      quickchartButtonEl.classList.add('colab-df-quickchart-complete');\n",
              "    }\n",
              "    (() => {\n",
              "      let quickchartButtonEl =\n",
              "        document.querySelector('#df-611d74e6-d3bc-4691-b80e-c7de5acd5040 button');\n",
              "      quickchartButtonEl.style.display =\n",
              "        google.colab.kernel.accessAllowed ? 'block' : 'none';\n",
              "    })();\n",
              "  </script>\n",
              "</div>\n",
              "    </div>\n",
              "  </div>\n"
            ],
            "text/plain": [
              "     Unnamed: 0    X     TV  Radio  Newspaper         Web  Sales\n",
              "0             1    1  230.1   37.8       69.2  306.634752   22.1\n",
              "1             2    2   44.5   39.3       45.1  302.653070   10.4\n",
              "2             3    3   17.2   45.9       69.3   49.498908    9.3\n",
              "3             4    4  151.5   41.3       58.5  257.816893   18.5\n",
              "4             5    5  180.8   10.8       58.4  195.660076   12.9\n",
              "..          ...  ...    ...    ...        ...         ...    ...\n",
              "195         196  196   38.2    3.7       13.8  248.841073    7.6\n",
              "196         197  197   94.2    4.9        8.1  118.041856    9.7\n",
              "197         198  198  177.0    9.3        6.4  213.274671   12.8\n",
              "198         199  199  283.6   42.0       66.2  237.498063   25.5\n",
              "199         200  200  232.1    8.6        8.7  151.990733   13.4\n",
              "\n",
              "[200 rows x 7 columns]"
            ]
          },
          "execution_count": 3,
          "metadata": {},
          "output_type": "execute_result"
        }
      ],
      "source": [
        "datos = pd.read_csv(\"https://raw.githubusercontent.com/rpizarrog/Analisis-Inteligente-de-datos/main/datos/Advertising_Web.csv\")\n",
        "datos"
      ]
    },
    {
      "cell_type": "markdown",
      "metadata": {
        "id": "9RXfaXQCwZjN"
      },
      "source": [
        "Exploramos las variables"
      ]
    },
    {
      "cell_type": "code",
      "execution_count": null,
      "metadata": {
        "id": "2zBvU-IXwbPV"
      },
      "outputs": [],
      "source": [
        "datos.dtypes"
      ]
    },
    {
      "cell_type": "markdown",
      "metadata": {
        "id": "hIDT-KrPweSX"
      },
      "source": [
        "Se describen las variables independientes: TV, Radio Newpaper y la variable dependiente Sales.\n",
        "\n",
        "Valor de etiqueta o variable objetivo dependiente(ventas): que significa el volumen de ventas del producto correspondiente\n",
        "\n",
        "Las variables independientes: (TV, Radio, Periódico, WEB):\n",
        "\n",
        "TV: para un solo producto en un mercado determinado, el costo de la publicidad en TV (en miles) Radio: costos de publicidad invertidos en medios de difusión Periódico: costos publicitarios para medios periodísticos."
      ]
    },
    {
      "cell_type": "markdown",
      "metadata": {
        "id": "iagybUn9wju7"
      },
      "source": [
        "Veamos algunos elementos de los datos"
      ]
    },
    {
      "cell_type": "code",
      "execution_count": null,
      "metadata": {
        "id": "OSqhLEOPwmbe"
      },
      "outputs": [],
      "source": [
        "# descripción estadística de las siguientes variables\n",
        "datos[['TV','Radio', 'Newspaper', 'Web', 'Sales', ]].describe()"
      ]
    },
    {
      "cell_type": "markdown",
      "metadata": {
        "id": "lt5cV58Twsmi"
      },
      "source": [
        "Luego, diagramas de dispersión"
      ]
    },
    {
      "cell_type": "code",
      "execution_count": null,
      "metadata": {
        "id": "-Y-GYwTvwvRG"
      },
      "outputs": [],
      "source": [
        "sns.pairplot(datos,\n",
        "             x_vars=['TV','Radio','Newspaper', 'Web'],\n",
        "             y_vars='Sales',\n",
        "             size=7,\n",
        "             aspect=0.8,\n",
        "             kind = 'reg')"
      ]
    },
    {
      "cell_type": "code",
      "execution_count": null,
      "metadata": {
        "id": "3T8oTVayyiSE"
      },
      "outputs": [],
      "source": [
        "corr = datos[['TV','Radio', 'Newspaper', 'Web', 'Sales', ]].corr()\n",
        "corr"
      ]
    },
    {
      "cell_type": "code",
      "execution_count": null,
      "metadata": {
        "id": "_pgwvK-qyd1J"
      },
      "outputs": [],
      "source": [
        "# matriz de correlación\n",
        "sns.heatmap(corr, annot = True, yticklabels=corr.columns, xticklabels=corr.columns)"
      ]
    },
    {
      "cell_type": "markdown",
      "metadata": {
        "id": "BYtbbYijyJBO"
      },
      "source": [
        "Podemos guardar el gráfico"
      ]
    },
    {
      "cell_type": "code",
      "execution_count": null,
      "metadata": {
        "id": "M_BgMsJdyK1h"
      },
      "outputs": [],
      "source": [
        "plt.savefig(\"pairplot.jpg\")\n",
        "plt.show()"
      ]
    },
    {
      "cell_type": "markdown",
      "metadata": {
        "id": "ofILJ33fyN0H"
      },
      "source": [
        "De los gráficos de dispersión y la matriz de correlación se puede identificar cuáles variables guardan una mayor relación con las ventas. Por ejemplo, *newspaper* tal vez tenga poco impacto en las ventas esto por la alta dispersión de los datos. Pero *TV* tiene un fuerte incidencia."
      ]
    },
    {
      "cell_type": "markdown",
      "metadata": {
        "id": "Fm-2M7D4zKl9"
      },
      "source": [
        "\n",
        "Hacemos la selección de las variables"
      ]
    },
    {
      "cell_type": "code",
      "execution_count": null,
      "metadata": {
        "id": "AZKgr4IWyMeA"
      },
      "outputs": [],
      "source": [
        "X = datos.iloc[:,2:6]\n",
        "X.head(5)"
      ]
    },
    {
      "cell_type": "code",
      "execution_count": null,
      "metadata": {
        "id": "8M3M5aKuzSkG"
      },
      "outputs": [],
      "source": [
        "y = datos.iloc[:, 6:7]\n",
        "y.head(5)"
      ]
    },
    {
      "cell_type": "markdown",
      "metadata": {
        "id": "Gf1Y46FczX1Q"
      },
      "source": [
        "Seleccionamos conjunto de entrenamiento y prueba"
      ]
    },
    {
      "cell_type": "code",
      "execution_count": null,
      "metadata": {
        "id": "qofYoHc1zar_"
      },
      "outputs": [],
      "source": [
        "# conjunto de entrenamiento y prueba\n",
        "X_train,X_test,y_train,y_test=train_test_split(X,\n",
        "                                                y,\n",
        "                                                train_size=.70,\n",
        "                                                random_state=1280)"
      ]
    },
    {
      "cell_type": "markdown",
      "metadata": {
        "id": "EYix78hIzpTw"
      },
      "source": [
        "Ahora, generamos el modelo"
      ]
    },
    {
      "cell_type": "code",
      "execution_count": null,
      "metadata": {
        "id": "86mZ65eFzl-A"
      },
      "outputs": [],
      "source": [
        "# definimos el modelo\n",
        "modelo_rm = LinearRegression()\n",
        "# entrenamo el modelo\n",
        "modelo_rm.fit(X_train,y_train)"
      ]
    },
    {
      "cell_type": "markdown",
      "metadata": {
        "id": "RbBCDLLFz2bF"
      },
      "source": [
        "Luego, podemos imprimir los coeficientes"
      ]
    },
    {
      "cell_type": "code",
      "execution_count": null,
      "metadata": {
        "id": "8aKFlEQYz5pV"
      },
      "outputs": [],
      "source": [
        "b0 = modelo_rm.intercept_\n",
        "b1 = modelo_rm.coef_[0, 0:1]\n",
        "b2 = modelo_rm.coef_[0, 1:2]\n",
        "b3 = modelo_rm.coef_[0, 2:3]\n",
        "b4 = modelo_rm.coef_[0, 3:4]\n",
        "print (b0, b1, b2, b3, b4)\n"
      ]
    },
    {
      "cell_type": "markdown",
      "metadata": {
        "id": "OwvFFGC80CeS"
      },
      "source": [
        "Revisamos el rendimiento del modelo en el conjunto de entrenamiento"
      ]
    },
    {
      "cell_type": "code",
      "execution_count": null,
      "metadata": {
        "id": "ZvtxcYjv0FBY"
      },
      "outputs": [],
      "source": [
        "print(modelo_rm.score(X_train, y_train))"
      ]
    },
    {
      "cell_type": "markdown",
      "metadata": {
        "id": "8ae4ZIRH0O1j"
      },
      "source": [
        "Vamos a evaluar el modelo"
      ]
    },
    {
      "cell_type": "code",
      "execution_count": null,
      "metadata": {
        "id": "lweI2x760OO5"
      },
      "outputs": [],
      "source": [
        "y_pred = modelo_rm.predict(X_test)\n",
        "print(y_pred[:-1][0:10])"
      ]
    },
    {
      "cell_type": "markdown",
      "metadata": {
        "id": "-4QKOsui0nYG"
      },
      "source": [
        "Para evaluar predicciones vamos a:\n",
        "\n",
        "Crear un data.frame llamado comparaciones a partir de la creación de un diccionario con los valores reales del conjunto de entrenamiento y las predicciones calculadas.\n",
        "\n",
        "Se usa el *type()* para conocer el tipo de estructura de datos.\n",
        "\n",
        "Se usa el *assign()* para agregar columnas data.frame de comparaciones.\n",
        "\n",
        "Se usa *flatten().tolist()* para convertir a una lista de una dimensión.\n",
        "\n",
        "Al final se tiene un data.frame llamado comparaciones en donde las últimas columnas tienen los valores reales de *Sales* y las predicciones en la variable *Predicción*."
      ]
    },
    {
      "cell_type": "code",
      "execution_count": null,
      "metadata": {
        "id": "ZQAx1wny0jPa"
      },
      "outputs": [],
      "source": [
        "comparaciones = pd.DataFrame(X_test)\n",
        "comparaciones = comparaciones.assign(Sales_Real = y_test)\n",
        "comparaciones = comparaciones.assign(Predicción = y_pred.flatten().tolist())\n",
        "comparaciones.head()"
      ]
    },
    {
      "cell_type": "code",
      "execution_count": null,
      "metadata": {
        "id": "enehPO8x1bXA"
      },
      "outputs": [],
      "source": [
        "print('Mean Squared Error: MSE', mean_squared_error(y_test, y_pred))\n",
        "print('Root Mean Squared Error RMSE:', np.sqrt(mean_squared_error(Y_valida, predicciones)))\n",
        "print('R2 score', r2_score(y_test, y_pred))"
      ]
    },
    {
      "cell_type": "markdown",
      "metadata": {
        "id": "S2gDdIS914tZ"
      },
      "source": [
        "($R^2$) El porcentaje del valor es cerca del $91\\%$, esto significa que las variables independientes explican aproximadamente el $91\\%$ del valor de la variable dependiente (Sales).\n",
        "\n",
        "($RMSE$) Esta es una cantidad que se refiere a la diferencia que puede haber entre los datos reales y los datos predichos a través del modelo en cuestión."
      ]
    },
    {
      "cell_type": "markdown",
      "metadata": {
        "id": "6BHmKwDwDorx"
      },
      "source": [
        "# <FONT SIZE=5 COLOR=\"purple\"> 6. Ejemplo 3. Modelo de Regresión Lineal Simple </FONT>\n",
        "\n",
        "Importamos la base de los pingüinos"
      ]
    },
    {
      "cell_type": "code",
      "execution_count": null,
      "metadata": {
        "id": "tjQtl82KEUMW"
      },
      "outputs": [],
      "source": [
        "df = sns.load_dataset(\"penguins\")\n",
        "df"
      ]
    },
    {
      "cell_type": "markdown",
      "metadata": {
        "id": "Vl5475EXEev1"
      },
      "source": [
        "Revisamos si hay datos nulos"
      ]
    },
    {
      "cell_type": "code",
      "execution_count": null,
      "metadata": {
        "id": "vHpKhDeoEeeU"
      },
      "outputs": [],
      "source": [
        "df.isnull().sum()\n"
      ]
    },
    {
      "cell_type": "markdown",
      "metadata": {
        "id": "93plU-R4Ecf_"
      },
      "source": [
        "Los eliminamos"
      ]
    },
    {
      "cell_type": "code",
      "execution_count": null,
      "metadata": {
        "id": "5SGHe6X3Ej4t"
      },
      "outputs": [],
      "source": [
        "df.dropna(inplace=True)"
      ]
    },
    {
      "cell_type": "markdown",
      "metadata": {
        "id": "Ulc6L3n1HhN3"
      },
      "source": [
        "**Revisamos relaciones lineales**\n",
        "\n",
        "Con la función pairplot podemos rápidamente visualizar la distribución de nuestros datos y cruzar datos en gráficos de dispersión.\n",
        "\n",
        "Los parámetros son:\n",
        "\n",
        "- ***hue***: con el cual podemos dividir los datapoints según etiquetas (en este caso especies de pingüinos).\n",
        "\n",
        "- ***markers***: que son una leyenda para identificar más fácilmente nuestros puntos en la gráfica."
      ]
    },
    {
      "cell_type": "code",
      "execution_count": null,
      "metadata": {
        "id": "r0W_gcOzHh37"
      },
      "outputs": [],
      "source": [
        "sns.pairplot(df, hue=\"species\", markers=[\"o\", \"s\", \"D\"])"
      ]
    },
    {
      "cell_type": "markdown",
      "metadata": {
        "id": "7HdItxrZEoyQ"
      },
      "source": [
        "Revisamos la correlación"
      ]
    },
    {
      "cell_type": "code",
      "execution_count": null,
      "metadata": {
        "id": "SOI0FvWGE3Si"
      },
      "outputs": [],
      "source": [
        "corr = df.corr()\n",
        "corr"
      ]
    },
    {
      "cell_type": "code",
      "execution_count": null,
      "metadata": {
        "id": "SPzcMJEpHniT"
      },
      "outputs": [],
      "source": [
        "# matriz de correlación\n",
        "sns.heatmap(corr, annot = True, yticklabels=corr.columns, xticklabels=corr.columns)"
      ]
    },
    {
      "cell_type": "markdown",
      "metadata": {
        "id": "RP16V5YjE7Yj"
      },
      "source": [
        "Hacemos un gráfico de correlación lineal.\n",
        "\n",
        "En este caso suponemos que existe una relación entre la masa corporal de los pingüinos y el tamaño de sus alas."
      ]
    },
    {
      "cell_type": "code",
      "execution_count": null,
      "metadata": {
        "id": "WG7-iJPjE_pk"
      },
      "outputs": [],
      "source": [
        "sns.regplot(x=df[\"body_mass_g\"],\n",
        "            y=df[\"flipper_length_mm\"],\n",
        "            color = \"blue\")"
      ]
    },
    {
      "cell_type": "markdown",
      "metadata": {
        "id": "qOh_xBF-FIr0"
      },
      "source": [
        "**Definimos el modelo**\n",
        "\n",
        "- A partir de la correlación linear anterior, entrenaremos un modelo simple de regresión lineal.\n",
        "\n",
        "Lo primero es crear dos vectores. En este caso usamos la masa corporal como nuestro vector X (predictor) y el tamaño de las alas como el vector y (valor por predecirse).\n",
        "\n",
        "La función **train_test_split**  nos divide nuestro data sets en datos de entrenamiento y prueba. Los datos de prueba nos servirán para medir el desempeño de nuestro modelo.\n",
        "\n",
        "Las funciones *values* y *reshape* nos permiten crear un arreglo artificial en 2D que nos permitirá entrenar nuestro modelo.\n",
        "\n",
        "Para entrenar al modelo, solo tenemos que invocar a Linear Regression y luego entrenar al modelo con la función fit."
      ]
    },
    {
      "cell_type": "code",
      "execution_count": null,
      "metadata": {
        "id": "zBDG9N12FLGZ"
      },
      "outputs": [],
      "source": [
        "X = df[\"body_mass_g\"].values.reshape(-1,1)\n",
        "y = df[\"flipper_length_mm\"]\n",
        "\n",
        "X_train, X_test, y_train, y_test = train_test_split(X, y, test_size = 0.20, random_state = 0)"
      ]
    },
    {
      "cell_type": "code",
      "execution_count": null,
      "metadata": {
        "id": "hjtUPyvpFbe8"
      },
      "outputs": [],
      "source": [
        "reglin = LinearRegression()\n",
        "reglin.fit(X_train, y_train)"
      ]
    },
    {
      "cell_type": "markdown",
      "metadata": {
        "id": "oZpWy_QsFhl8"
      },
      "source": [
        "**Suma de Errores Cuadráticos**\n",
        "\n",
        "En este modelo tenemos ya un modelo entrenado y listo para ser medido.\n",
        "\n",
        "Lo que tenemos es una vector llamado y_test (datos reales) que utiliza a X_test para generar una predicción. Lo que hacemos con una sola línea de código es sumar todos los vectores al cuadrado."
      ]
    },
    {
      "cell_type": "code",
      "execution_count": null,
      "metadata": {
        "id": "ShB0AvDEF8Zl"
      },
      "outputs": [],
      "source": [
        "sec = np.sum((y_test - reglin.predict(X_test))**2)\n",
        "sec"
      ]
    },
    {
      "cell_type": "markdown",
      "metadata": {
        "id": "4uqSaC-zGjzB"
      },
      "source": [
        "Si vemos el promedio"
      ]
    },
    {
      "cell_type": "code",
      "execution_count": null,
      "metadata": {
        "id": "tPg6OHhGGmeX"
      },
      "outputs": [],
      "source": [
        "((y_test - reglin.predict(X_test))**2).mean()"
      ]
    },
    {
      "cell_type": "markdown",
      "metadata": {
        "id": "AR0x16iUGBq1"
      },
      "source": [
        "**Evaluación del modelo**\n",
        "\n",
        "En este caso usamos dos métricas adicionales que vienen preconstruidas en Scikit Learn.\n",
        "\n",
        "Por un lado tenemos al promedio de los errores cuadráticos (mean_squared_error). Como su nombre lo indica, hace un promedio de los errores cuadráticos en vez de sumarlos.\n",
        "\n",
        "Una métrica que se usa popularmente en regresión linear son los mínimos cuadrados ordinarios $R^2$. Este genera un rango de 0 a 1 para medir la varianza capturada por el modelo."
      ]
    },
    {
      "cell_type": "code",
      "execution_count": null,
      "metadata": {
        "id": "EBPv_QgSGMHt"
      },
      "outputs": [],
      "source": [
        "y_test_predict = reglin.predict(X_test)\n",
        "\n",
        "rmse = mean_squared_error(y_test, y_test_predict)\n",
        "r2 = r2_score(y_test, y_test_predict)\n",
        "\n",
        "print(rmse)\n",
        "print(r2)"
      ]
    },
    {
      "cell_type": "markdown",
      "metadata": {
        "id": "T5itNSAfH4We"
      },
      "source": [
        "# Observación Gráfica en tres dimensiones\n",
        "\n",
        "Cuando trabajamos con tres dimensiones, podemos visualizar nuestros datos usando un cubo. Para esto, importaremos las siguientes librerías y módulos\n",
        "\n",
        "***mplot3d*** y ***Axes3D*** de *mpl_toolkits*: con los que podemos hacer gráficas en tres dimensiones.\n",
        "\n",
        "\n"
      ]
    },
    {
      "cell_type": "code",
      "execution_count": null,
      "metadata": {
        "id": "SnPCOY_GIGkM"
      },
      "outputs": [],
      "source": [
        "data = np.array(df[[\"bill_length_mm\",\"flipper_length_mm\", \"body_mass_g\"]])\n",
        "print(data.shape)"
      ]
    },
    {
      "cell_type": "markdown",
      "metadata": {
        "id": "0ilNZBwDIMeK"
      },
      "source": [
        "Visualizar en **3D**"
      ]
    },
    {
      "cell_type": "code",
      "execution_count": null,
      "metadata": {
        "id": "Uq7un-OgJxeD"
      },
      "outputs": [],
      "source": [
        "# Import libraries\n",
        "from mpl_toolkits import mplot3d\n",
        "import numpy as np\n",
        "import matplotlib.pyplot as plt\n",
        "import scipy.linalg\n",
        "\n",
        "\n",
        "# Variables\n",
        "z = df[\"bill_length_mm\"]\n",
        "x = df[\"flipper_length_mm\"]\n",
        "y = df[\"body_mass_g\"]\n",
        "\n",
        "# Creando la figura\n",
        "fig = plt.figure(figsize = (10, 7))\n",
        "ax = plt.axes(projection =\"3d\")\n",
        "\n",
        "# Creando el gráfico\n",
        "ax.scatter3D(x, y, z, color = \"red\")\n",
        "plt.title(\"simple 3D scatter plot\")\n",
        "\n",
        "# Mostrar la gráfica\n",
        "plt.show()"
      ]
    },
    {
      "cell_type": "code",
      "execution_count": null,
      "metadata": {
        "id": "QgdbKYruKM1f"
      },
      "outputs": [],
      "source": [
        "z = df[\"bill_length_mm\"]\n",
        "x = df[\"flipper_length_mm\"]\n",
        "y = df[\"body_mass_g\"]\n",
        "fig = px.scatter_3d(df, x, y, z, color = \"species\" )\n",
        "fig.show()"
      ]
    },
    {
      "cell_type": "markdown",
      "metadata": {
        "id": "TxGqR25lNPHq"
      },
      "source": [
        "# Limitaciones de la regresión Lineal\n",
        "\n",
        "Nos enfocaremos en dos de las limitantes más importantes de regresión lineal: outliers y heterocedasticidad."
      ]
    },
    {
      "cell_type": "code",
      "execution_count": null,
      "metadata": {
        "id": "kjBAayCdNXwG"
      },
      "outputs": [],
      "source": [
        "prop = sns.load_dataset(\"tips\")\n",
        "prop"
      ]
    },
    {
      "cell_type": "markdown",
      "metadata": {
        "id": "LZd6_mUdNcpW"
      },
      "source": [
        "No usaremos variables categóricas"
      ]
    },
    {
      "cell_type": "code",
      "execution_count": null,
      "metadata": {
        "id": "xxy5qjpqNcRT"
      },
      "outputs": [],
      "source": [
        "prop.drop([\"sex\", \"smoker\", \"day\", \"time\"], axis=1, inplace=True)"
      ]
    },
    {
      "cell_type": "markdown",
      "metadata": {
        "id": "K9RAZEMiNmDi"
      },
      "source": [
        "Las columnas restantes son:\n",
        "\n",
        "total_bill: el total de la cuenta\n",
        "tip: propinas\n",
        "size: número de comensales"
      ]
    },
    {
      "cell_type": "markdown",
      "metadata": {
        "id": "SK5ypiW4NnSr"
      },
      "source": [
        "## Outliers\n",
        "\n",
        "Poder identificar a los outliers es muy sencillo. Todo lo que tenemos que hacer es utilizar la función boxplot dentro de seaborn para generar un diagrama de caja."
      ]
    },
    {
      "cell_type": "code",
      "execution_count": null,
      "metadata": {
        "id": "an0gEXr5NmzW"
      },
      "outputs": [],
      "source": [
        "%matplotlib inline\n",
        "plt.rcParams['figure.figsize'] = (20, 10)\n",
        "plt.style.use('ggplot')\n",
        "\n",
        "ax = sns.boxplot(x=prop[\"total_bill\"])"
      ]
    },
    {
      "cell_type": "markdown",
      "metadata": {
        "id": "y0V2UgvmN-YX"
      },
      "source": [
        "Lo que podemos apreciar es el\n",
        "\n",
        "- Mínimo y máximo no atípico, representados por las líneas en los extremos.\n",
        "\n",
        "- El rango intercuartílico, representado por la caja en rojo. En este caso, tenemos un rango que va del cuartil 1 (Q1) al cuartil 3 (Q3). Dentro de este encontramos a la mayoría de nuestros puntos.\n",
        "\n",
        "- La línea dentro de la caja roja que representa a la mediana.\n",
        "\n",
        "- Los puntos fuera del máximo no atípico, que son los outliers o valores atípicos.\n",
        "\n",
        "- En este caso podemos ver que tenemos 8 valores atípicos que podría afectar a nuestro modelo."
      ]
    },
    {
      "cell_type": "markdown",
      "metadata": {
        "id": "4v0WSBr2N9Xf"
      },
      "source": [
        "## Heterocedasticidad\n",
        "\n",
        "Para evaluar la heterocedasticidad, solo tenemos que correr de nuevo la función regplot dentro de Seaborn.\n",
        "\n",
        "En este caso evaluaremos la correlación entre el total de la cuenta y las propinas."
      ]
    },
    {
      "cell_type": "code",
      "execution_count": null,
      "metadata": {
        "id": "cnL0WZMpOMxa"
      },
      "outputs": [],
      "source": [
        "sns.regplot(x=prop[\"total_bill\"], y=prop[\"tip\"])"
      ]
    },
    {
      "cell_type": "markdown",
      "metadata": {
        "id": "ZSwDLT3POWaq"
      },
      "source": [
        "- En este caso podemos ver hay más homocedasticidad (lo contrario de heterocedasticidad) al principio de la línea, pero que la varianza aumenta al avanzar la línea.\n",
        "\n",
        "- Es decir, las propinas suelen ser similares cuando la cuenta es pequeña. Sin embargo, varía más a medida que la cuenta se vuelve más grande."
      ]
    },
    {
      "cell_type": "code",
      "execution_count": null,
      "metadata": {
        "id": "jliSTGbYOmyf"
      },
      "outputs": [],
      "source": [
        "from sklearn.linear_model import LinearRegression, Ridge, Lasso"
      ]
    },
    {
      "cell_type": "code",
      "execution_count": null,
      "metadata": {
        "id": "Fh4Tl1DFOu0H"
      },
      "outputs": [],
      "source": [
        "prop.dropna(inplace=True)"
      ]
    },
    {
      "cell_type": "code",
      "execution_count": null,
      "metadata": {
        "id": "sDvBz9SDOxov"
      },
      "outputs": [],
      "source": [
        "X = prop[\"total_bill\"].values.reshape(-1,1)\n",
        "y = prop[\"tip\"]"
      ]
    },
    {
      "cell_type": "code",
      "execution_count": null,
      "metadata": {
        "id": "ZmvARrf1O2YQ"
      },
      "outputs": [],
      "source": [
        "X_train, X_test, y_train, y_test = train_test_split(X, y, test_size = 0.20, random_state = 42)"
      ]
    },
    {
      "cell_type": "markdown",
      "metadata": {
        "id": "5GzCVdV0O5sM"
      },
      "source": [
        "# Lineal vs Ridge vs Lasso\n",
        "\n",
        "En esta parte solo haremos el entrenamiento de estas tres regresiones."
      ]
    },
    {
      "cell_type": "markdown",
      "metadata": {
        "id": "4E0Mx5mHQtXe"
      },
      "source": [
        "Los métodos de subset selection descritos anteriormente emplean mínimos cuadrados ordinarios (OLS) para ajustar un modelo lineal que contiene únicamente un subconjunto de predictores. Otra alternativa, conocida como regularización o shrinkage, consiste en ajustar el modelo incluyendo todos los predictores pero aplicando una penalización que fuerce a que las estimaciones de los coeficientes de regresión tiendan a cero. Con esto se intenta evitar overfitting, reducir varianza, atenuar el efecto de la correlación entre predictores y minimizar la influencia en el modelo de los predictores menos relevantes. Por lo general, aplicando regularización se consigue modelos con mayor poder predictivo (generalización). Tres de los métodos de regularización más empleados son Ridge, Lasso y Elastic net.\n",
        "\n",
        "Dado que estos métodos de regularización actúan sobre la magnitud de los coeficientes del modelo, todos deben de estár en la misma escala, por esta razón es necesario estandarizar o normalizar los predictores antes de entrenar el modelo. Ls métodos están especialmente indicados para situaciones en las que hay un mayor número de predictores que de observaciones."
      ]
    },
    {
      "cell_type": "markdown",
      "metadata": {
        "id": "bmewyjs4RM5W"
      },
      "source": [
        "## Ridge\n",
        "\n",
        "- Penaliza la suma de los coeficientes elevados al cuadrado\n",
        "\n",
        "$$\\|\\beta\\|^2 = \\sum \\limits_{j=1}^{p} \\beta_j^2$$\n",
        "\n",
        "$$\\text{Suma residuos cuadrado} + \\lambda \\sum_{j=1}^p \\beta_j ^2$$\n",
        "\n",
        "- La principal ventaja de aplicar ridge frente al ajuste por mínimos cuadrados ordinarios (OLS) es la reducción de varianza.\n",
        "\n",
        "- Desventaja es que tiene en cuenta todos los predictores\n",
        "\n",
        "## Lasso\n",
        "\n",
        "- - Penaliza la suma de los coeficientes elevados al cuadrado\n",
        "\n",
        "$$\\|\\beta\\|_1 = \\sum \\limits_{j=1}^{p} |\\beta_j|$$\n",
        "\n",
        "$$\\text{Suma residuos cuadrado} + \\lambda \\sum \\limits_{j=1}^{p} |\\beta_j|$$\n",
        "\n",
        "- La principal ventaja de aplicar lasso es que consigue excluir los predictores menos relevantes.\n",
        "\n",
        "- Lasso es inestable si los predictores están altamente correlacionados. Es decir, si cambio los datos de entrenamientos existen cambios significativos.\n",
        "\n"
      ]
    },
    {
      "cell_type": "code",
      "execution_count": null,
      "metadata": {
        "id": "VYcHpRFBO5Wo"
      },
      "outputs": [],
      "source": [
        "reg = LinearRegression()\n",
        "reg.fit(X_train, y_train)"
      ]
    },
    {
      "cell_type": "code",
      "execution_count": null,
      "metadata": {
        "id": "La5gUewkO-aQ"
      },
      "outputs": [],
      "source": [
        "lasso = Lasso()\n",
        "lasso.fit(X_train, y_train)"
      ]
    },
    {
      "cell_type": "code",
      "execution_count": null,
      "metadata": {
        "id": "faYIUUN3O_uI"
      },
      "outputs": [],
      "source": [
        "ridge = Ridge()\n",
        "ridge.fit(X_train,y_train)"
      ]
    },
    {
      "cell_type": "code",
      "execution_count": null,
      "metadata": {
        "id": "zXo4Ha2LPCkl"
      },
      "outputs": [],
      "source": [
        "plt.plot(X_test, reg.predict(X_test))\n",
        "plt.plot(X_test, lasso.predict(X_test))\n",
        "plt.plot(X_test, ridge.predict(X_test))\n",
        "plt.legend([\"Linear\", \"Lasso\", \"Ridge\"])\n",
        "plt.xlabel(\"Total Cuenta\")\n",
        "plt.ylabel(\"Propina\")\n",
        "\n",
        "plt.show()"
      ]
    },
    {
      "cell_type": "markdown",
      "metadata": {
        "id": "msYP3PFvPLgB"
      },
      "source": [
        "# Evaluación de Modelos\n",
        "\n",
        "Cuando trabajamos con mahcine learning, algo común es entrenar varios modelos y luego medir sus desempeños para decidir cual de ellos usar.\n",
        "\n",
        "En este caso solo mediremos el desempeño de la regresión linear y lasso, usando el promedio de errores cuadrados y $R^2$ (coeficiente de determinación)"
      ]
    },
    {
      "cell_type": "code",
      "execution_count": null,
      "metadata": {
        "id": "RmiVUioAPSMR"
      },
      "outputs": [],
      "source": [
        "y_reg_predict = reg.predict(X_test)\n",
        "y_lasso_predict = lasso.predict(X_test)"
      ]
    },
    {
      "cell_type": "code",
      "execution_count": null,
      "metadata": {
        "id": "NlGAkDyZPUMQ"
      },
      "outputs": [],
      "source": [
        "rmse = mean_squared_error(y_test, y_reg_predict)\n",
        "r2 = r2_score(y_test, y_reg_predict)\n",
        "\n",
        "print(rmse)\n",
        "print(r2)"
      ]
    },
    {
      "cell_type": "code",
      "execution_count": null,
      "metadata": {
        "id": "WeTCJWgKPXHp"
      },
      "outputs": [],
      "source": [
        "rmse = mean_squared_error(y_test, y_lasso_predict)\n",
        "r2 = r2_score(y_test, y_lasso_predict)\n",
        "\n",
        "print(rmse)\n",
        "print(r2)"
      ]
    },
    {
      "cell_type": "markdown",
      "metadata": {
        "id": "QBuReCRkPiPp"
      },
      "source": [
        "Podemos graficar los errores residuales"
      ]
    },
    {
      "cell_type": "code",
      "execution_count": null,
      "metadata": {
        "id": "JjriLQ7iPphd"
      },
      "outputs": [],
      "source": [
        "plt.style.use('fivethirtyeight')\n",
        "plt.scatter(reg.predict(X_train), reg.predict(X_train) - y_train,\n",
        "            color = \"red\", s = 10, label = 'Datos de Entrenamiento')\n",
        "plt.scatter(reg.predict(X_test), reg.predict(X_test) - y_test,\n",
        "            color = \"blue\", s = 10, label = 'Datos de Prueba')\n",
        "plt.hlines(y = 0, xmin = 0, xmax = 7, linewidth = 2)\n",
        "plt.legend(loc = 'upper right')\n",
        "plt.title(\"Errores Residuales de Regresión Lineal\")\n",
        "\n",
        "plt.show()"
      ]
    },
    {
      "cell_type": "code",
      "execution_count": null,
      "metadata": {
        "id": "Vk9J6YFFP2pq"
      },
      "outputs": [],
      "source": [
        "plt.style.use('fivethirtyeight')\n",
        "plt.scatter(lasso.predict(X_train), lasso.predict(X_train) - y_train,\n",
        "            color = \"red\", s = 10, label = 'Datos de Entrenamiento')\n",
        "plt.scatter(lasso.predict(X_test), lasso.predict(X_test) - y_test,\n",
        "            color = \"blue\", s = 10, label = 'Datos de Testeo')\n",
        "plt.hlines(y = 0, xmin = 0, xmax = 7, linewidth = 2)\n",
        "plt.legend(loc = 'upper right')\n",
        "plt.title(\"Errores Residuales de Regresión Lasso\")\n",
        "\n",
        "plt.show()"
      ]
    }
  ],
  "metadata": {
    "colab": {
      "provenance": []
    },
    "kernelspec": {
      "display_name": "Python 3",
      "name": "python3"
    },
    "language_info": {
      "name": "python",
      "version": "3.10.12"
    }
  },
  "nbformat": 4,
  "nbformat_minor": 0
}